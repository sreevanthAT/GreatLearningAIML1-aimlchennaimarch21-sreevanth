{
  "cells": [
    {
      "cell_type": "markdown",
      "metadata": {
        "id": "zUZjPnVXGz0Z"
      },
      "source": [
        "# The Iris Dataset\n",
        "The data set consists of 50 samples from each of three species of Iris (Iris setosa, Iris virginica and Iris versicolor). Four features were measured from each sample: the length and the width of the sepals and petals, in centimeters.\n",
        "\n",
        "The dataset contains a set of 150 records under five attributes - petal length, petal width, sepal length, sepal width and species."
      ]
    },
    {
      "cell_type": "markdown",
      "metadata": {
        "id": "RMbmpriavLE9"
      },
      "source": [
        "### Specifying the TensorFlow version\n",
        "Running `import tensorflow` will import the default version (currently 1.x). You can use 2.x by running a cell with the `tensorflow_version` magic **before** you run `import tensorflow`."
      ]
    },
    {
      "cell_type": "code",
      "execution_count": 37,
      "metadata": {
        "id": "fu8bUU__oa7h"
      },
      "outputs": [],
      "source": [
        "%tensorflow_version 2.x"
      ]
    },
    {
      "cell_type": "markdown",
      "metadata": {
        "id": "bLz1Ckvfvn6D"
      },
      "source": [
        "### Import TensorFlow\n",
        "Once you have specified a version via this magic, you can run `import tensorflow` as normal and verify which version was imported as follows:"
      ]
    },
    {
      "cell_type": "code",
      "execution_count": 38,
      "metadata": {
        "colab": {
          "base_uri": "https://localhost:8080/"
        },
        "id": "CWrzVTLOvn6M",
        "outputId": "f44fe151-127b-4b53-e9ca-0d90c418f948"
      },
      "outputs": [
        {
          "output_type": "stream",
          "name": "stdout",
          "text": [
            "2.7.0\n"
          ]
        }
      ],
      "source": [
        "import tensorflow as tf\n",
        "print(tf.__version__)"
      ]
    },
    {
      "cell_type": "markdown",
      "metadata": {
        "id": "_uYeJgkNuXNC"
      },
      "source": [
        "### Set random seed"
      ]
    },
    {
      "cell_type": "code",
      "execution_count": 39,
      "metadata": {
        "id": "lcASNsewsfQX"
      },
      "outputs": [],
      "source": [
        "tf.random.set_seed(42)"
      ]
    },
    {
      "cell_type": "markdown",
      "metadata": {
        "id": "5-vVQBBqg7DI"
      },
      "source": [
        "## Question 1"
      ]
    },
    {
      "cell_type": "markdown",
      "metadata": {
        "id": "kE0EDKvQhEIe"
      },
      "source": [
        "### Import dataset\n",
        "- Import iris dataset\n",
        "- Import the dataset using sklearn library"
      ]
    },
    {
      "cell_type": "code",
      "execution_count": 40,
      "metadata": {
        "id": "IOOWpD26Haq3"
      },
      "outputs": [],
      "source": [
        "from sklearn.datasets import load_iris\n",
        "iris = load_iris()\n",
        "import pandas as pd"
      ]
    },
    {
      "cell_type": "markdown",
      "metadata": {
        "id": "ta8YqInTh5v5"
      },
      "source": [
        "## Question 2"
      ]
    },
    {
      "cell_type": "markdown",
      "metadata": {
        "id": "HERt3drbhX0i"
      },
      "source": [
        "### Get features and label from the dataset in separate variable\n",
        "- you can get the features using .data method\n",
        "- you can get the features using .target method"
      ]
    },
    {
      "cell_type": "code",
      "execution_count": 41,
      "metadata": {
        "id": "0cV-_qHAHyvE"
      },
      "outputs": [],
      "source": [
        "X = iris.data\n",
        "y = iris.target"
      ]
    },
    {
      "cell_type": "markdown",
      "metadata": {
        "id": "Qg1A2lkUjFak"
      },
      "source": [
        "## Question 3"
      ]
    },
    {
      "cell_type": "markdown",
      "metadata": {
        "id": "3YErwYLCH0N_"
      },
      "source": [
        "### Create train and test data\n",
        "- use train_test_split to get train and test set\n",
        "- set a random_state\n",
        "- test_size: 0.25"
      ]
    },
    {
      "cell_type": "code",
      "execution_count": 42,
      "metadata": {
        "id": "TYKNJL85h7pQ"
      },
      "outputs": [],
      "source": [
        "from sklearn.model_selection import train_test_split\n",
        "\n",
        "X_train, X_test, y_train, y_test = train_test_split(X, y, test_size=0.25, random_state=42)"
      ]
    },
    {
      "cell_type": "markdown",
      "metadata": {
        "id": "g0KVP17Ozaix"
      },
      "source": [
        "## Question 4"
      ]
    },
    {
      "cell_type": "markdown",
      "metadata": {
        "id": "SIjqxbhWv1zv"
      },
      "source": [
        "### One-hot encode the labels\n",
        "- convert class vectors (integers) to binary class matrix\n",
        "- convert labels\n",
        "- number of classes: 3\n",
        "- we are doing this to use categorical_crossentropy as loss"
      ]
    },
    {
      "cell_type": "code",
      "execution_count": 43,
      "metadata": {
        "id": "R9vv-_gpyLY9"
      },
      "outputs": [],
      "source": [
        "# Input the array to binary class matrix.\n",
        "\"\"\"Understand categorical_crossentropy\"\"\"\n",
        "\n",
        "from tensorflow.keras.utils import to_categorical\n",
        "\n",
        "y_train = to_categorical(y_train, num_classes = 3)\n",
        "y_test = to_categorical(y_test, num_classes = 3)"
      ]
    },
    {
      "cell_type": "markdown",
      "metadata": {
        "id": "ovjLyYzWkO9s"
      },
      "source": [
        "## Question 5"
      ]
    },
    {
      "cell_type": "markdown",
      "metadata": {
        "id": "hbIFzoPNSyYo"
      },
      "source": [
        "### Initialize a sequential model\n",
        "- Define a sequential model"
      ]
    },
    {
      "cell_type": "code",
      "execution_count": 44,
      "metadata": {
        "id": "4FvSbf1UjHtl"
      },
      "outputs": [],
      "source": [
        "model = tf.keras.models.Sequential()"
      ]
    },
    {
      "cell_type": "markdown",
      "metadata": {
        "id": "dGMy999vlacX"
      },
      "source": [
        "## Question 6"
      ]
    },
    {
      "cell_type": "markdown",
      "metadata": {
        "id": "72ibK5Jxm8iL"
      },
      "source": [
        "### Add a layer\n",
        "- Use Dense Layer  with input shape of 4 (according to the feature set) and number of outputs set to 3\n",
        "- Apply Softmax on Dense Layer outputs"
      ]
    },
    {
      "cell_type": "code",
      "execution_count": 45,
      "metadata": {
        "id": "uZKrBNSRm_o9"
      },
      "outputs": [],
      "source": [
        "model.add(tf.keras.layers.Dense(3, input_shape = (4,), activation=\"softmax\"))\n"
      ]
    },
    {
      "cell_type": "markdown",
      "metadata": {
        "id": "i4uiTH8plmNX"
      },
      "source": [
        "## Question 7"
      ]
    },
    {
      "cell_type": "markdown",
      "metadata": {
        "id": "yJL8n8vcSyYz"
      },
      "source": [
        "### Compile the model\n",
        "- Use SGD as Optimizer\n",
        "- Use categorical_crossentropy as loss function\n",
        "- Use accuracy as metrics"
      ]
    },
    {
      "cell_type": "code",
      "execution_count": 46,
      "metadata": {
        "id": "Tc_-fjIEk1ve"
      },
      "outputs": [],
      "source": [
        "model.compile(optimizer = \"sgd\", loss = \"categorical_crossentropy\", metrics = ['accuracy'])"
      ]
    },
    {
      "cell_type": "markdown",
      "metadata": {
        "id": "sihIGbRll_jT"
      },
      "source": [
        "## Question 8"
      ]
    },
    {
      "cell_type": "markdown",
      "metadata": {
        "id": "54ZZCfNGlu0i"
      },
      "source": [
        "### Summarize the model\n",
        "- Check model layers\n",
        "- Understand number of trainable parameters"
      ]
    },
    {
      "cell_type": "code",
      "execution_count": 47,
      "metadata": {
        "colab": {
          "base_uri": "https://localhost:8080/",
          "height": 226
        },
        "id": "elER3F_4ln8n",
        "outputId": "da1ea8b4-e0c9-4596-c0d5-041bd1529cb8"
      },
      "outputs": [
        {
          "output_type": "stream",
          "name": "stdout",
          "text": [
            "Model: \"sequential_1\"\n",
            "_________________________________________________________________\n",
            " Layer (type)                Output Shape              Param #   \n",
            "=================================================================\n",
            " dense_1 (Dense)             (None, 3)                 15        \n",
            "                                                                 \n",
            "=================================================================\n",
            "Total params: 15\n",
            "Trainable params: 15\n",
            "Non-trainable params: 0\n",
            "_________________________________________________________________\n"
          ]
        },
        {
          "output_type": "execute_result",
          "data": {
            "application/vnd.google.colaboratory.intrinsic+json": {
              "type": "string"
            },
            "text/plain": [
              "'Understand the trainable parameters'"
            ]
          },
          "metadata": {},
          "execution_count": 47
        }
      ],
      "source": [
        "model.summary()\n",
        "\n",
        "# Number of trainable parameters are 15. \n",
        "\"\"\"Understand the trainable parameters\"\"\"\n",
        "# Non trainable pareameters are "
      ]
    },
    {
      "cell_type": "markdown",
      "metadata": {
        "id": "2PiP7j3Vmj4p"
      },
      "source": [
        "## Question 9"
      ]
    },
    {
      "cell_type": "markdown",
      "metadata": {
        "id": "rWdbfFCXmCHt"
      },
      "source": [
        "### Fit the model\n",
        "- Give train data as training features and labels\n",
        "- Epochs: 100\n",
        "- Give validation data as testing features and labels"
      ]
    },
    {
      "cell_type": "code",
      "execution_count": 48,
      "metadata": {
        "colab": {
          "base_uri": "https://localhost:8080/"
        },
        "id": "cO1c-5tjmBVZ",
        "outputId": "8692f9c3-2849-4753-ba30-62a14b08714b"
      },
      "outputs": [
        {
          "output_type": "stream",
          "name": "stdout",
          "text": [
            "Epoch 1/100\n",
            "4/4 [==============================] - 0s 53ms/step - loss: 2.7144 - accuracy: 0.3125 - val_loss: 1.6986 - val_accuracy: 0.3947\n",
            "Epoch 2/100\n",
            "4/4 [==============================] - 0s 11ms/step - loss: 1.6284 - accuracy: 0.3125 - val_loss: 1.3498 - val_accuracy: 0.2368\n",
            "Epoch 3/100\n",
            "4/4 [==============================] - 0s 11ms/step - loss: 1.3343 - accuracy: 0.1607 - val_loss: 1.2413 - val_accuracy: 0.1579\n",
            "Epoch 4/100\n",
            "4/4 [==============================] - 0s 11ms/step - loss: 1.2222 - accuracy: 0.2589 - val_loss: 1.1918 - val_accuracy: 0.2105\n",
            "Epoch 5/100\n",
            "4/4 [==============================] - 0s 11ms/step - loss: 1.1709 - accuracy: 0.2679 - val_loss: 1.1588 - val_accuracy: 0.2105\n",
            "Epoch 6/100\n",
            "4/4 [==============================] - 0s 12ms/step - loss: 1.1444 - accuracy: 0.2321 - val_loss: 1.1268 - val_accuracy: 0.2368\n",
            "Epoch 7/100\n",
            "4/4 [==============================] - 0s 17ms/step - loss: 1.1098 - accuracy: 0.2321 - val_loss: 1.1025 - val_accuracy: 0.2105\n",
            "Epoch 8/100\n",
            "4/4 [==============================] - 0s 12ms/step - loss: 1.0781 - accuracy: 0.2500 - val_loss: 1.0580 - val_accuracy: 0.2368\n",
            "Epoch 9/100\n",
            "4/4 [==============================] - 0s 12ms/step - loss: 1.0474 - accuracy: 0.2589 - val_loss: 1.0272 - val_accuracy: 0.2368\n",
            "Epoch 10/100\n",
            "4/4 [==============================] - 0s 11ms/step - loss: 1.0215 - accuracy: 0.2768 - val_loss: 0.9966 - val_accuracy: 0.2368\n",
            "Epoch 11/100\n",
            "4/4 [==============================] - 0s 12ms/step - loss: 0.9989 - accuracy: 0.2679 - val_loss: 0.9752 - val_accuracy: 0.3158\n",
            "Epoch 12/100\n",
            "4/4 [==============================] - 0s 20ms/step - loss: 0.9787 - accuracy: 0.2946 - val_loss: 0.9506 - val_accuracy: 0.4211\n",
            "Epoch 13/100\n",
            "4/4 [==============================] - 0s 14ms/step - loss: 0.9533 - accuracy: 0.4643 - val_loss: 0.9211 - val_accuracy: 0.3684\n",
            "Epoch 14/100\n",
            "4/4 [==============================] - 0s 12ms/step - loss: 0.9303 - accuracy: 0.3750 - val_loss: 0.8945 - val_accuracy: 0.5000\n",
            "Epoch 15/100\n",
            "4/4 [==============================] - 0s 18ms/step - loss: 0.9149 - accuracy: 0.5268 - val_loss: 0.8725 - val_accuracy: 0.5263\n",
            "Epoch 16/100\n",
            "4/4 [==============================] - 0s 13ms/step - loss: 0.8958 - accuracy: 0.5268 - val_loss: 0.8561 - val_accuracy: 0.6579\n",
            "Epoch 17/100\n",
            "4/4 [==============================] - 0s 15ms/step - loss: 0.8761 - accuracy: 0.6518 - val_loss: 0.8370 - val_accuracy: 0.6053\n",
            "Epoch 18/100\n",
            "4/4 [==============================] - 0s 16ms/step - loss: 0.8628 - accuracy: 0.6071 - val_loss: 0.8190 - val_accuracy: 0.6579\n",
            "Epoch 19/100\n",
            "4/4 [==============================] - 0s 14ms/step - loss: 0.8409 - accuracy: 0.5982 - val_loss: 0.8015 - val_accuracy: 0.6579\n",
            "Epoch 20/100\n",
            "4/4 [==============================] - 0s 14ms/step - loss: 0.8305 - accuracy: 0.6161 - val_loss: 0.7842 - val_accuracy: 0.6579\n",
            "Epoch 21/100\n",
            "4/4 [==============================] - 0s 12ms/step - loss: 0.8180 - accuracy: 0.6607 - val_loss: 0.7739 - val_accuracy: 0.7368\n",
            "Epoch 22/100\n",
            "4/4 [==============================] - 0s 12ms/step - loss: 0.8012 - accuracy: 0.6250 - val_loss: 0.7615 - val_accuracy: 0.6842\n",
            "Epoch 23/100\n",
            "4/4 [==============================] - 0s 11ms/step - loss: 0.7889 - accuracy: 0.6250 - val_loss: 0.7471 - val_accuracy: 0.6842\n",
            "Epoch 24/100\n",
            "4/4 [==============================] - 0s 11ms/step - loss: 0.7749 - accuracy: 0.6429 - val_loss: 0.7328 - val_accuracy: 0.7105\n",
            "Epoch 25/100\n",
            "4/4 [==============================] - 0s 12ms/step - loss: 0.7725 - accuracy: 0.6250 - val_loss: 0.7211 - val_accuracy: 0.7105\n",
            "Epoch 26/100\n",
            "4/4 [==============================] - 0s 18ms/step - loss: 0.7553 - accuracy: 0.6339 - val_loss: 0.7124 - val_accuracy: 0.6842\n",
            "Epoch 27/100\n",
            "4/4 [==============================] - 0s 12ms/step - loss: 0.7465 - accuracy: 0.7054 - val_loss: 0.6996 - val_accuracy: 0.7105\n",
            "Epoch 28/100\n",
            "4/4 [==============================] - 0s 20ms/step - loss: 0.7417 - accuracy: 0.6429 - val_loss: 0.6911 - val_accuracy: 0.7105\n",
            "Epoch 29/100\n",
            "4/4 [==============================] - 0s 14ms/step - loss: 0.7269 - accuracy: 0.7411 - val_loss: 0.6790 - val_accuracy: 0.7632\n",
            "Epoch 30/100\n",
            "4/4 [==============================] - 0s 17ms/step - loss: 0.7166 - accuracy: 0.6875 - val_loss: 0.6695 - val_accuracy: 0.7632\n",
            "Epoch 31/100\n",
            "4/4 [==============================] - 0s 12ms/step - loss: 0.7108 - accuracy: 0.6786 - val_loss: 0.6596 - val_accuracy: 0.7632\n",
            "Epoch 32/100\n",
            "4/4 [==============================] - 0s 12ms/step - loss: 0.7098 - accuracy: 0.6607 - val_loss: 0.6618 - val_accuracy: 0.6842\n",
            "Epoch 33/100\n",
            "4/4 [==============================] - 0s 18ms/step - loss: 0.7016 - accuracy: 0.6429 - val_loss: 0.6436 - val_accuracy: 0.7632\n",
            "Epoch 34/100\n",
            "4/4 [==============================] - 0s 15ms/step - loss: 0.6872 - accuracy: 0.6696 - val_loss: 0.6384 - val_accuracy: 0.7632\n",
            "Epoch 35/100\n",
            "4/4 [==============================] - 0s 12ms/step - loss: 0.6850 - accuracy: 0.7054 - val_loss: 0.6299 - val_accuracy: 0.7368\n",
            "Epoch 36/100\n",
            "4/4 [==============================] - 0s 12ms/step - loss: 0.6714 - accuracy: 0.7321 - val_loss: 0.6237 - val_accuracy: 0.7632\n",
            "Epoch 37/100\n",
            "4/4 [==============================] - 0s 12ms/step - loss: 0.6659 - accuracy: 0.7411 - val_loss: 0.6174 - val_accuracy: 0.7632\n",
            "Epoch 38/100\n",
            "4/4 [==============================] - 0s 13ms/step - loss: 0.6583 - accuracy: 0.7500 - val_loss: 0.6085 - val_accuracy: 0.7632\n",
            "Epoch 39/100\n",
            "4/4 [==============================] - 0s 12ms/step - loss: 0.6553 - accuracy: 0.7232 - val_loss: 0.6017 - val_accuracy: 0.7632\n",
            "Epoch 40/100\n",
            "4/4 [==============================] - 0s 13ms/step - loss: 0.6525 - accuracy: 0.6875 - val_loss: 0.5959 - val_accuracy: 0.7632\n",
            "Epoch 41/100\n",
            "4/4 [==============================] - 0s 12ms/step - loss: 0.6410 - accuracy: 0.6964 - val_loss: 0.5900 - val_accuracy: 0.7895\n",
            "Epoch 42/100\n",
            "4/4 [==============================] - 0s 13ms/step - loss: 0.6359 - accuracy: 0.7321 - val_loss: 0.5843 - val_accuracy: 0.7895\n",
            "Epoch 43/100\n",
            "4/4 [==============================] - 0s 14ms/step - loss: 0.6323 - accuracy: 0.7232 - val_loss: 0.5776 - val_accuracy: 0.7895\n",
            "Epoch 44/100\n",
            "4/4 [==============================] - 0s 12ms/step - loss: 0.6262 - accuracy: 0.7321 - val_loss: 0.5767 - val_accuracy: 0.7895\n",
            "Epoch 45/100\n",
            "4/4 [==============================] - 0s 12ms/step - loss: 0.6225 - accuracy: 0.7679 - val_loss: 0.5697 - val_accuracy: 0.7895\n",
            "Epoch 46/100\n",
            "4/4 [==============================] - 0s 14ms/step - loss: 0.6162 - accuracy: 0.7679 - val_loss: 0.5659 - val_accuracy: 0.7895\n",
            "Epoch 47/100\n",
            "4/4 [==============================] - 0s 15ms/step - loss: 0.6113 - accuracy: 0.7857 - val_loss: 0.5591 - val_accuracy: 0.7632\n",
            "Epoch 48/100\n",
            "4/4 [==============================] - 0s 12ms/step - loss: 0.6092 - accuracy: 0.7679 - val_loss: 0.5561 - val_accuracy: 0.7632\n",
            "Epoch 49/100\n",
            "4/4 [==============================] - 0s 11ms/step - loss: 0.6063 - accuracy: 0.6875 - val_loss: 0.5492 - val_accuracy: 0.8158\n",
            "Epoch 50/100\n",
            "4/4 [==============================] - 0s 12ms/step - loss: 0.6030 - accuracy: 0.7411 - val_loss: 0.5454 - val_accuracy: 0.8421\n",
            "Epoch 51/100\n",
            "4/4 [==============================] - 0s 14ms/step - loss: 0.5986 - accuracy: 0.7679 - val_loss: 0.5403 - val_accuracy: 0.8158\n",
            "Epoch 52/100\n",
            "4/4 [==============================] - 0s 13ms/step - loss: 0.5908 - accuracy: 0.7500 - val_loss: 0.5373 - val_accuracy: 0.8158\n",
            "Epoch 53/100\n",
            "4/4 [==============================] - 0s 13ms/step - loss: 0.5877 - accuracy: 0.7857 - val_loss: 0.5330 - val_accuracy: 0.7632\n",
            "Epoch 54/100\n",
            "4/4 [==============================] - 0s 17ms/step - loss: 0.5882 - accuracy: 0.7232 - val_loss: 0.5311 - val_accuracy: 0.8158\n",
            "Epoch 55/100\n",
            "4/4 [==============================] - 0s 15ms/step - loss: 0.5875 - accuracy: 0.7143 - val_loss: 0.5358 - val_accuracy: 0.8421\n",
            "Epoch 56/100\n",
            "4/4 [==============================] - 0s 14ms/step - loss: 0.5831 - accuracy: 0.7857 - val_loss: 0.5299 - val_accuracy: 0.8158\n",
            "Epoch 57/100\n",
            "4/4 [==============================] - 0s 13ms/step - loss: 0.5789 - accuracy: 0.7946 - val_loss: 0.5199 - val_accuracy: 0.8421\n",
            "Epoch 58/100\n",
            "4/4 [==============================] - 0s 12ms/step - loss: 0.5710 - accuracy: 0.8036 - val_loss: 0.5161 - val_accuracy: 0.7895\n",
            "Epoch 59/100\n",
            "4/4 [==============================] - 0s 13ms/step - loss: 0.5670 - accuracy: 0.7321 - val_loss: 0.5135 - val_accuracy: 0.8421\n",
            "Epoch 60/100\n",
            "4/4 [==============================] - 0s 12ms/step - loss: 0.5639 - accuracy: 0.7946 - val_loss: 0.5100 - val_accuracy: 0.8421\n",
            "Epoch 61/100\n",
            "4/4 [==============================] - 0s 12ms/step - loss: 0.5605 - accuracy: 0.8036 - val_loss: 0.5070 - val_accuracy: 0.8421\n",
            "Epoch 62/100\n",
            "4/4 [==============================] - 0s 11ms/step - loss: 0.5629 - accuracy: 0.7232 - val_loss: 0.5171 - val_accuracy: 0.8421\n",
            "Epoch 63/100\n",
            "4/4 [==============================] - 0s 12ms/step - loss: 0.5613 - accuracy: 0.7857 - val_loss: 0.5058 - val_accuracy: 0.8158\n",
            "Epoch 64/100\n",
            "4/4 [==============================] - 0s 15ms/step - loss: 0.5536 - accuracy: 0.7946 - val_loss: 0.4975 - val_accuracy: 0.7632\n",
            "Epoch 65/100\n",
            "4/4 [==============================] - 0s 12ms/step - loss: 0.5567 - accuracy: 0.7589 - val_loss: 0.4943 - val_accuracy: 0.8421\n",
            "Epoch 66/100\n",
            "4/4 [==============================] - 0s 12ms/step - loss: 0.5470 - accuracy: 0.8214 - val_loss: 0.4909 - val_accuracy: 0.8158\n",
            "Epoch 67/100\n",
            "4/4 [==============================] - 0s 13ms/step - loss: 0.5453 - accuracy: 0.7321 - val_loss: 0.4903 - val_accuracy: 0.8421\n",
            "Epoch 68/100\n",
            "4/4 [==============================] - 0s 13ms/step - loss: 0.5406 - accuracy: 0.8393 - val_loss: 0.4877 - val_accuracy: 0.8421\n",
            "Epoch 69/100\n",
            "4/4 [==============================] - 0s 13ms/step - loss: 0.5452 - accuracy: 0.7946 - val_loss: 0.4841 - val_accuracy: 0.8421\n",
            "Epoch 70/100\n",
            "4/4 [==============================] - 0s 12ms/step - loss: 0.5363 - accuracy: 0.8125 - val_loss: 0.4817 - val_accuracy: 0.8421\n",
            "Epoch 71/100\n",
            "4/4 [==============================] - 0s 12ms/step - loss: 0.5336 - accuracy: 0.7946 - val_loss: 0.4806 - val_accuracy: 0.8421\n",
            "Epoch 72/100\n",
            "4/4 [==============================] - 0s 11ms/step - loss: 0.5344 - accuracy: 0.7946 - val_loss: 0.4772 - val_accuracy: 0.8421\n",
            "Epoch 73/100\n",
            "4/4 [==============================] - 0s 11ms/step - loss: 0.5352 - accuracy: 0.7946 - val_loss: 0.4752 - val_accuracy: 0.8421\n",
            "Epoch 74/100\n",
            "4/4 [==============================] - 0s 14ms/step - loss: 0.5281 - accuracy: 0.7946 - val_loss: 0.4727 - val_accuracy: 0.8421\n",
            "Epoch 75/100\n",
            "4/4 [==============================] - 0s 12ms/step - loss: 0.5251 - accuracy: 0.8125 - val_loss: 0.4705 - val_accuracy: 0.8421\n",
            "Epoch 76/100\n",
            "4/4 [==============================] - 0s 13ms/step - loss: 0.5227 - accuracy: 0.8214 - val_loss: 0.4685 - val_accuracy: 0.8421\n",
            "Epoch 77/100\n",
            "4/4 [==============================] - 0s 12ms/step - loss: 0.5204 - accuracy: 0.8393 - val_loss: 0.4652 - val_accuracy: 0.8158\n",
            "Epoch 78/100\n",
            "4/4 [==============================] - 0s 12ms/step - loss: 0.5181 - accuracy: 0.7857 - val_loss: 0.4631 - val_accuracy: 0.8421\n",
            "Epoch 79/100\n",
            "4/4 [==============================] - 0s 12ms/step - loss: 0.5162 - accuracy: 0.7946 - val_loss: 0.4619 - val_accuracy: 0.8421\n",
            "Epoch 80/100\n",
            "4/4 [==============================] - 0s 11ms/step - loss: 0.5143 - accuracy: 0.8036 - val_loss: 0.4621 - val_accuracy: 0.8421\n",
            "Epoch 81/100\n",
            "4/4 [==============================] - 0s 13ms/step - loss: 0.5125 - accuracy: 0.8571 - val_loss: 0.4572 - val_accuracy: 0.8421\n",
            "Epoch 82/100\n",
            "4/4 [==============================] - 0s 12ms/step - loss: 0.5109 - accuracy: 0.8125 - val_loss: 0.4561 - val_accuracy: 0.8421\n",
            "Epoch 83/100\n",
            "4/4 [==============================] - 0s 17ms/step - loss: 0.5114 - accuracy: 0.8125 - val_loss: 0.4531 - val_accuracy: 0.8158\n",
            "Epoch 84/100\n",
            "4/4 [==============================] - 0s 13ms/step - loss: 0.5076 - accuracy: 0.7768 - val_loss: 0.4507 - val_accuracy: 0.8158\n",
            "Epoch 85/100\n",
            "4/4 [==============================] - 0s 12ms/step - loss: 0.5081 - accuracy: 0.8304 - val_loss: 0.4497 - val_accuracy: 0.8421\n",
            "Epoch 86/100\n",
            "4/4 [==============================] - 0s 13ms/step - loss: 0.5044 - accuracy: 0.7857 - val_loss: 0.4480 - val_accuracy: 0.8421\n",
            "Epoch 87/100\n",
            "4/4 [==============================] - 0s 14ms/step - loss: 0.5025 - accuracy: 0.8482 - val_loss: 0.4454 - val_accuracy: 0.8421\n",
            "Epoch 88/100\n",
            "4/4 [==============================] - 0s 13ms/step - loss: 0.5025 - accuracy: 0.8214 - val_loss: 0.4437 - val_accuracy: 0.8158\n",
            "Epoch 89/100\n",
            "4/4 [==============================] - 0s 14ms/step - loss: 0.4992 - accuracy: 0.8036 - val_loss: 0.4416 - val_accuracy: 0.8421\n",
            "Epoch 90/100\n",
            "4/4 [==============================] - 0s 13ms/step - loss: 0.5045 - accuracy: 0.8125 - val_loss: 0.4401 - val_accuracy: 0.8421\n",
            "Epoch 91/100\n",
            "4/4 [==============================] - 0s 13ms/step - loss: 0.4959 - accuracy: 0.8393 - val_loss: 0.4387 - val_accuracy: 0.8421\n",
            "Epoch 92/100\n",
            "4/4 [==============================] - 0s 12ms/step - loss: 0.4944 - accuracy: 0.7946 - val_loss: 0.4370 - val_accuracy: 0.8421\n",
            "Epoch 93/100\n",
            "4/4 [==============================] - 0s 12ms/step - loss: 0.4938 - accuracy: 0.8393 - val_loss: 0.4356 - val_accuracy: 0.8421\n",
            "Epoch 94/100\n",
            "4/4 [==============================] - 0s 15ms/step - loss: 0.4902 - accuracy: 0.7946 - val_loss: 0.4336 - val_accuracy: 0.8421\n",
            "Epoch 95/100\n",
            "4/4 [==============================] - 0s 13ms/step - loss: 0.4900 - accuracy: 0.8214 - val_loss: 0.4319 - val_accuracy: 0.8421\n",
            "Epoch 96/100\n",
            "4/4 [==============================] - 0s 12ms/step - loss: 0.4875 - accuracy: 0.8482 - val_loss: 0.4299 - val_accuracy: 0.8421\n",
            "Epoch 97/100\n",
            "4/4 [==============================] - 0s 19ms/step - loss: 0.4875 - accuracy: 0.8393 - val_loss: 0.4285 - val_accuracy: 0.8684\n",
            "Epoch 98/100\n",
            "4/4 [==============================] - 0s 13ms/step - loss: 0.4847 - accuracy: 0.8304 - val_loss: 0.4274 - val_accuracy: 0.8421\n",
            "Epoch 99/100\n",
            "4/4 [==============================] - 0s 15ms/step - loss: 0.4852 - accuracy: 0.8482 - val_loss: 0.4256 - val_accuracy: 0.8421\n",
            "Epoch 100/100\n",
            "4/4 [==============================] - 0s 12ms/step - loss: 0.4839 - accuracy: 0.8393 - val_loss: 0.4238 - val_accuracy: 0.8421\n"
          ]
        },
        {
          "output_type": "execute_result",
          "data": {
            "text/plain": [
              "<keras.callbacks.History at 0x7f1dc37da1d0>"
            ]
          },
          "metadata": {},
          "execution_count": 48
        }
      ],
      "source": [
        "model.fit(X_train, y_train, epochs = 100, validation_data=(X_test, y_test))"
      ]
    },
    {
      "cell_type": "markdown",
      "metadata": {
        "id": "re9ItAR3yS3J"
      },
      "source": [
        "## Question 10"
      ]
    },
    {
      "cell_type": "markdown",
      "metadata": {
        "id": "liw0IFf9yVqH"
      },
      "source": [
        "### Make predictions\n",
        "- Predict labels on one row"
      ]
    },
    {
      "cell_type": "code",
      "execution_count": 49,
      "metadata": {
        "colab": {
          "base_uri": "https://localhost:8080/"
        },
        "id": "AAjQGUDHJbOQ",
        "outputId": "0778696f-7a5d-475b-b88f-0de02aba15c3"
      },
      "outputs": [
        {
          "output_type": "execute_result",
          "data": {
            "text/plain": [
              "array([[1., 0., 0.],\n",
              "       [1., 0., 0.],\n",
              "       [0., 0., 1.],\n",
              "       [0., 1., 0.],\n",
              "       [0., 1., 0.],\n",
              "       [1., 0., 0.],\n",
              "       [1., 0., 0.],\n",
              "       [0., 1., 0.],\n",
              "       [0., 0., 1.],\n",
              "       [0., 0., 1.],\n",
              "       [0., 1., 0.],\n",
              "       [0., 0., 1.],\n",
              "       [0., 1., 0.],\n",
              "       [0., 0., 1.],\n",
              "       [0., 1., 0.],\n",
              "       [1., 0., 0.],\n",
              "       [0., 0., 1.],\n",
              "       [0., 1., 0.],\n",
              "       [1., 0., 0.],\n",
              "       [1., 0., 0.],\n",
              "       [1., 0., 0.],\n",
              "       [0., 1., 0.],\n",
              "       [0., 0., 1.],\n",
              "       [1., 0., 0.],\n",
              "       [1., 0., 0.],\n",
              "       [1., 0., 0.],\n",
              "       [0., 1., 0.],\n",
              "       [1., 0., 0.],\n",
              "       [0., 1., 0.],\n",
              "       [0., 0., 1.],\n",
              "       [1., 0., 0.],\n",
              "       [0., 1., 0.],\n",
              "       [0., 0., 1.],\n",
              "       [1., 0., 0.],\n",
              "       [0., 0., 1.],\n",
              "       [0., 0., 1.],\n",
              "       [0., 1., 0.],\n",
              "       [0., 1., 0.],\n",
              "       [0., 0., 1.],\n",
              "       [0., 1., 0.],\n",
              "       [1., 0., 0.],\n",
              "       [0., 1., 0.],\n",
              "       [0., 0., 1.],\n",
              "       [1., 0., 0.],\n",
              "       [1., 0., 0.],\n",
              "       [0., 1., 0.],\n",
              "       [0., 1., 0.],\n",
              "       [1., 0., 0.],\n",
              "       [0., 0., 1.],\n",
              "       [1., 0., 0.],\n",
              "       [1., 0., 0.],\n",
              "       [0., 1., 0.],\n",
              "       [0., 1., 0.],\n",
              "       [0., 0., 1.],\n",
              "       [0., 1., 0.],\n",
              "       [0., 0., 1.],\n",
              "       [0., 0., 1.],\n",
              "       [0., 1., 0.],\n",
              "       [1., 0., 0.],\n",
              "       [1., 0., 0.],\n",
              "       [0., 0., 1.],\n",
              "       [0., 0., 1.],\n",
              "       [1., 0., 0.],\n",
              "       [1., 0., 0.],\n",
              "       [1., 0., 0.],\n",
              "       [0., 1., 0.],\n",
              "       [0., 0., 1.],\n",
              "       [1., 0., 0.],\n",
              "       [0., 0., 1.],\n",
              "       [0., 0., 1.],\n",
              "       [1., 0., 0.],\n",
              "       [0., 1., 0.],\n",
              "       [0., 1., 0.],\n",
              "       [0., 0., 1.],\n",
              "       [0., 1., 0.],\n",
              "       [0., 0., 1.],\n",
              "       [1., 0., 0.],\n",
              "       [0., 0., 1.],\n",
              "       [0., 1., 0.],\n",
              "       [0., 0., 1.],\n",
              "       [0., 1., 0.],\n",
              "       [0., 1., 0.],\n",
              "       [0., 1., 0.],\n",
              "       [1., 0., 0.],\n",
              "       [0., 1., 0.],\n",
              "       [0., 1., 0.],\n",
              "       [1., 0., 0.],\n",
              "       [0., 1., 0.],\n",
              "       [0., 0., 1.],\n",
              "       [0., 0., 1.],\n",
              "       [1., 0., 0.],\n",
              "       [0., 1., 0.],\n",
              "       [0., 0., 1.],\n",
              "       [0., 0., 1.],\n",
              "       [1., 0., 0.],\n",
              "       [0., 0., 1.],\n",
              "       [1., 0., 0.],\n",
              "       [0., 1., 0.],\n",
              "       [0., 0., 1.],\n",
              "       [0., 0., 1.],\n",
              "       [0., 1., 0.],\n",
              "       [0., 0., 1.],\n",
              "       [0., 1., 0.],\n",
              "       [0., 1., 0.],\n",
              "       [0., 0., 1.],\n",
              "       [0., 0., 1.],\n",
              "       [1., 0., 0.],\n",
              "       [0., 1., 0.],\n",
              "       [0., 0., 1.],\n",
              "       [1., 0., 0.],\n",
              "       [0., 1., 0.],\n",
              "       [0., 0., 1.]], dtype=float32)"
            ]
          },
          "metadata": {},
          "execution_count": 49
        }
      ],
      "source": [
        "y_train"
      ]
    },
    {
      "cell_type": "code",
      "execution_count": 50,
      "metadata": {
        "colab": {
          "base_uri": "https://localhost:8080/"
        },
        "id": "H5sBybi6mlLl",
        "outputId": "0be6818b-f97a-4b9f-e920-9c052c41abac"
      },
      "outputs": [
        {
          "output_type": "execute_result",
          "data": {
            "text/plain": [
              "1"
            ]
          },
          "metadata": {},
          "execution_count": 50
        }
      ],
      "source": [
        "import numpy as np\n",
        "\n",
        "model.predict(X_test[0:1])\n",
        "np.argmax(model.predict(X_test[0:1]))"
      ]
    },
    {
      "cell_type": "markdown",
      "metadata": {
        "id": "hSUgMq3m0bG7"
      },
      "source": [
        "### Compare the prediction with actual label\n",
        "- Print the same row as done in the previous step but of actual labels"
      ]
    },
    {
      "cell_type": "code",
      "execution_count": 51,
      "metadata": {
        "id": "K5WbwVPyz-qQ",
        "colab": {
          "base_uri": "https://localhost:8080/"
        },
        "outputId": "8d604bef-aa4a-4048-e078-45fc314c0fc0"
      },
      "outputs": [
        {
          "output_type": "execute_result",
          "data": {
            "text/plain": [
              "array([0., 1., 0.], dtype=float32)"
            ]
          },
          "metadata": {},
          "execution_count": 51
        }
      ],
      "source": [
        "y_test[0]"
      ]
    },
    {
      "cell_type": "markdown",
      "metadata": {
        "id": "FrTKwbgE7NFT"
      },
      "source": [
        "\n",
        "\n",
        "---\n",
        "\n"
      ]
    },
    {
      "cell_type": "markdown",
      "metadata": {
        "id": "a1UBYPNp5Tn1"
      },
      "source": [
        "# Stock prices dataset\n",
        "The data is of tock exchange's stock listings for each trading day of 2010 to 2016.\n",
        "\n",
        "## Description\n",
        "A brief description of columns.\n",
        "- open: The opening market price of the equity symbol on the date\n",
        "- high: The highest market price of the equity symbol on the date\n",
        "- low: The lowest recorded market price of the equity symbol on the date\n",
        "- close: The closing recorded price of the equity symbol on the date\n",
        "- symbol: Symbol of the listed company\n",
        "- volume: Total traded volume of the equity symbol on the date\n",
        "- date: Date of record"
      ]
    },
    {
      "cell_type": "markdown",
      "metadata": {
        "id": "ctH_ZW5g-M3g"
      },
      "source": [
        "### Specifying the TensorFlow version\n",
        "Running `import tensorflow` will import the default version (currently 1.x). You can use 2.x by running a cell with the `tensorflow_version` magic **before** you run `import tensorflow`."
      ]
    },
    {
      "cell_type": "code",
      "execution_count": 52,
      "metadata": {
        "id": "vQbdODpH-M3r"
      },
      "outputs": [],
      "source": [
        "%tensorflow_version 2.x"
      ]
    },
    {
      "cell_type": "markdown",
      "metadata": {
        "id": "nFQWH1tj-M38"
      },
      "source": [
        "### Import TensorFlow\n",
        "Once you have specified a version via this magic, you can run `import tensorflow` as normal and verify which version was imported as follows:"
      ]
    },
    {
      "cell_type": "code",
      "execution_count": 53,
      "metadata": {
        "colab": {
          "base_uri": "https://localhost:8080/"
        },
        "id": "Ho5n-xhd-M3_",
        "outputId": "3c1e5731-3f2b-489a-bc91-f20c26e37225"
      },
      "outputs": [
        {
          "output_type": "stream",
          "name": "stdout",
          "text": [
            "2.7.0\n"
          ]
        }
      ],
      "source": [
        "import tensorflow as tf\n",
        "print(tf.__version__)"
      ]
    },
    {
      "cell_type": "markdown",
      "metadata": {
        "id": "tgkl0qu6-M4F"
      },
      "source": [
        "### Set random seed"
      ]
    },
    {
      "cell_type": "code",
      "execution_count": 54,
      "metadata": {
        "id": "TKgTyuA3-M4G"
      },
      "outputs": [],
      "source": [
        "tf.random.set_seed(42)"
      ]
    },
    {
      "cell_type": "markdown",
      "metadata": {
        "id": "_88voqAH-O6J"
      },
      "source": [
        "## Question 1"
      ]
    },
    {
      "cell_type": "markdown",
      "metadata": {
        "id": "dRHCeJqP-evf"
      },
      "source": [
        "### Load the data\n",
        "- load the csv file and read it using pandas\n",
        "- file name is prices.csv"
      ]
    },
    {
      "cell_type": "code",
      "execution_count": 55,
      "metadata": {
        "colab": {
          "base_uri": "https://localhost:8080/"
        },
        "id": "cKVH5v7r-RmC",
        "outputId": "13ddc282-dd6d-4fba-84f2-8fe727115340"
      },
      "outputs": [
        {
          "output_type": "stream",
          "name": "stdout",
          "text": [
            "Drive already mounted at /content/gdrive; to attempt to forcibly remount, call drive.mount(\"/content/gdrive\", force_remount=True).\n"
          ]
        }
      ],
      "source": [
        "# run this cell to upload file if you are using google colab\n",
        "from google.colab import drive\n",
        "drive.mount('/content/gdrive')\n",
        "\n",
        "data = pd.read_csv('/content/gdrive/My Drive/Great learning/Intro to NN/Lab/prices.csv')"
      ]
    },
    {
      "cell_type": "code",
      "execution_count": 55,
      "metadata": {
        "id": "-gDC6cSW_FSK"
      },
      "outputs": [],
      "source": [
        ""
      ]
    },
    {
      "cell_type": "markdown",
      "metadata": {
        "id": "HlLKVPVH_BCT"
      },
      "source": [
        "## Question 2"
      ]
    },
    {
      "cell_type": "markdown",
      "metadata": {
        "id": "9J4BlzVA_gZd"
      },
      "source": [
        "### Drop columnns\n",
        "- drop \"date\" and \"symbol\" column from the data"
      ]
    },
    {
      "cell_type": "code",
      "execution_count": 56,
      "metadata": {
        "id": "IKEK8aEE_Csx"
      },
      "outputs": [],
      "source": [
        "df1 = data.copy()\n",
        "df1.drop(['date', 'symbol'], axis = 1, inplace = True)"
      ]
    },
    {
      "cell_type": "markdown",
      "metadata": {
        "id": "cTPhO6v-AiZt"
      },
      "source": [
        "## Question 3"
      ]
    },
    {
      "cell_type": "markdown",
      "metadata": {
        "id": "SsZXmF3NAkna"
      },
      "source": [
        "### Take initial rows\n",
        "- Take first 1000 rows from the data\n",
        "- This step is done to make the execution faster"
      ]
    },
    {
      "cell_type": "code",
      "execution_count": 57,
      "metadata": {
        "id": "aKs04iIHAjxN",
        "colab": {
          "base_uri": "https://localhost:8080/",
          "height": 423
        },
        "outputId": "e91297f1-5e97-4bc6-d9cc-0e966c21617c"
      },
      "outputs": [
        {
          "output_type": "execute_result",
          "data": {
            "text/html": [
              "\n",
              "  <div id=\"df-6e6b9187-ce43-4d58-ab61-0852129a6389\">\n",
              "    <div class=\"colab-df-container\">\n",
              "      <div>\n",
              "<style scoped>\n",
              "    .dataframe tbody tr th:only-of-type {\n",
              "        vertical-align: middle;\n",
              "    }\n",
              "\n",
              "    .dataframe tbody tr th {\n",
              "        vertical-align: top;\n",
              "    }\n",
              "\n",
              "    .dataframe thead th {\n",
              "        text-align: right;\n",
              "    }\n",
              "</style>\n",
              "<table border=\"1\" class=\"dataframe\">\n",
              "  <thead>\n",
              "    <tr style=\"text-align: right;\">\n",
              "      <th></th>\n",
              "      <th>open</th>\n",
              "      <th>close</th>\n",
              "      <th>low</th>\n",
              "      <th>high</th>\n",
              "      <th>volume</th>\n",
              "    </tr>\n",
              "  </thead>\n",
              "  <tbody>\n",
              "    <tr>\n",
              "      <th>0</th>\n",
              "      <td>123.430000</td>\n",
              "      <td>125.839996</td>\n",
              "      <td>122.309998</td>\n",
              "      <td>126.250000</td>\n",
              "      <td>2163600.0</td>\n",
              "    </tr>\n",
              "    <tr>\n",
              "      <th>1</th>\n",
              "      <td>125.239998</td>\n",
              "      <td>119.980003</td>\n",
              "      <td>119.940002</td>\n",
              "      <td>125.540001</td>\n",
              "      <td>2386400.0</td>\n",
              "    </tr>\n",
              "    <tr>\n",
              "      <th>2</th>\n",
              "      <td>116.379997</td>\n",
              "      <td>114.949997</td>\n",
              "      <td>114.930000</td>\n",
              "      <td>119.739998</td>\n",
              "      <td>2489500.0</td>\n",
              "    </tr>\n",
              "    <tr>\n",
              "      <th>3</th>\n",
              "      <td>115.480003</td>\n",
              "      <td>116.620003</td>\n",
              "      <td>113.500000</td>\n",
              "      <td>117.440002</td>\n",
              "      <td>2006300.0</td>\n",
              "    </tr>\n",
              "    <tr>\n",
              "      <th>4</th>\n",
              "      <td>117.010002</td>\n",
              "      <td>114.970001</td>\n",
              "      <td>114.089996</td>\n",
              "      <td>117.330002</td>\n",
              "      <td>1408600.0</td>\n",
              "    </tr>\n",
              "    <tr>\n",
              "      <th>...</th>\n",
              "      <td>...</td>\n",
              "      <td>...</td>\n",
              "      <td>...</td>\n",
              "      <td>...</td>\n",
              "      <td>...</td>\n",
              "    </tr>\n",
              "    <tr>\n",
              "      <th>995</th>\n",
              "      <td>63.310001</td>\n",
              "      <td>63.590000</td>\n",
              "      <td>63.240002</td>\n",
              "      <td>63.639999</td>\n",
              "      <td>2133200.0</td>\n",
              "    </tr>\n",
              "    <tr>\n",
              "      <th>996</th>\n",
              "      <td>27.160000</td>\n",
              "      <td>26.990000</td>\n",
              "      <td>26.680000</td>\n",
              "      <td>27.299999</td>\n",
              "      <td>1982400.0</td>\n",
              "    </tr>\n",
              "    <tr>\n",
              "      <th>997</th>\n",
              "      <td>28.320000</td>\n",
              "      <td>28.770000</td>\n",
              "      <td>28.010000</td>\n",
              "      <td>28.809999</td>\n",
              "      <td>37152800.0</td>\n",
              "    </tr>\n",
              "    <tr>\n",
              "      <th>998</th>\n",
              "      <td>44.000000</td>\n",
              "      <td>44.799999</td>\n",
              "      <td>43.750000</td>\n",
              "      <td>44.810001</td>\n",
              "      <td>6568600.0</td>\n",
              "    </tr>\n",
              "    <tr>\n",
              "      <th>999</th>\n",
              "      <td>36.080002</td>\n",
              "      <td>37.139999</td>\n",
              "      <td>36.009998</td>\n",
              "      <td>37.230000</td>\n",
              "      <td>5604300.0</td>\n",
              "    </tr>\n",
              "  </tbody>\n",
              "</table>\n",
              "<p>1000 rows × 5 columns</p>\n",
              "</div>\n",
              "      <button class=\"colab-df-convert\" onclick=\"convertToInteractive('df-6e6b9187-ce43-4d58-ab61-0852129a6389')\"\n",
              "              title=\"Convert this dataframe to an interactive table.\"\n",
              "              style=\"display:none;\">\n",
              "        \n",
              "  <svg xmlns=\"http://www.w3.org/2000/svg\" height=\"24px\"viewBox=\"0 0 24 24\"\n",
              "       width=\"24px\">\n",
              "    <path d=\"M0 0h24v24H0V0z\" fill=\"none\"/>\n",
              "    <path d=\"M18.56 5.44l.94 2.06.94-2.06 2.06-.94-2.06-.94-.94-2.06-.94 2.06-2.06.94zm-11 1L8.5 8.5l.94-2.06 2.06-.94-2.06-.94L8.5 2.5l-.94 2.06-2.06.94zm10 10l.94 2.06.94-2.06 2.06-.94-2.06-.94-.94-2.06-.94 2.06-2.06.94z\"/><path d=\"M17.41 7.96l-1.37-1.37c-.4-.4-.92-.59-1.43-.59-.52 0-1.04.2-1.43.59L10.3 9.45l-7.72 7.72c-.78.78-.78 2.05 0 2.83L4 21.41c.39.39.9.59 1.41.59.51 0 1.02-.2 1.41-.59l7.78-7.78 2.81-2.81c.8-.78.8-2.07 0-2.86zM5.41 20L4 18.59l7.72-7.72 1.47 1.35L5.41 20z\"/>\n",
              "  </svg>\n",
              "      </button>\n",
              "      \n",
              "  <style>\n",
              "    .colab-df-container {\n",
              "      display:flex;\n",
              "      flex-wrap:wrap;\n",
              "      gap: 12px;\n",
              "    }\n",
              "\n",
              "    .colab-df-convert {\n",
              "      background-color: #E8F0FE;\n",
              "      border: none;\n",
              "      border-radius: 50%;\n",
              "      cursor: pointer;\n",
              "      display: none;\n",
              "      fill: #1967D2;\n",
              "      height: 32px;\n",
              "      padding: 0 0 0 0;\n",
              "      width: 32px;\n",
              "    }\n",
              "\n",
              "    .colab-df-convert:hover {\n",
              "      background-color: #E2EBFA;\n",
              "      box-shadow: 0px 1px 2px rgba(60, 64, 67, 0.3), 0px 1px 3px 1px rgba(60, 64, 67, 0.15);\n",
              "      fill: #174EA6;\n",
              "    }\n",
              "\n",
              "    [theme=dark] .colab-df-convert {\n",
              "      background-color: #3B4455;\n",
              "      fill: #D2E3FC;\n",
              "    }\n",
              "\n",
              "    [theme=dark] .colab-df-convert:hover {\n",
              "      background-color: #434B5C;\n",
              "      box-shadow: 0px 1px 3px 1px rgba(0, 0, 0, 0.15);\n",
              "      filter: drop-shadow(0px 1px 2px rgba(0, 0, 0, 0.3));\n",
              "      fill: #FFFFFF;\n",
              "    }\n",
              "  </style>\n",
              "\n",
              "      <script>\n",
              "        const buttonEl =\n",
              "          document.querySelector('#df-6e6b9187-ce43-4d58-ab61-0852129a6389 button.colab-df-convert');\n",
              "        buttonEl.style.display =\n",
              "          google.colab.kernel.accessAllowed ? 'block' : 'none';\n",
              "\n",
              "        async function convertToInteractive(key) {\n",
              "          const element = document.querySelector('#df-6e6b9187-ce43-4d58-ab61-0852129a6389');\n",
              "          const dataTable =\n",
              "            await google.colab.kernel.invokeFunction('convertToInteractive',\n",
              "                                                     [key], {});\n",
              "          if (!dataTable) return;\n",
              "\n",
              "          const docLinkHtml = 'Like what you see? Visit the ' +\n",
              "            '<a target=\"_blank\" href=https://colab.research.google.com/notebooks/data_table.ipynb>data table notebook</a>'\n",
              "            + ' to learn more about interactive tables.';\n",
              "          element.innerHTML = '';\n",
              "          dataTable['output_type'] = 'display_data';\n",
              "          await google.colab.output.renderOutput(dataTable, element);\n",
              "          const docLink = document.createElement('div');\n",
              "          docLink.innerHTML = docLinkHtml;\n",
              "          element.appendChild(docLink);\n",
              "        }\n",
              "      </script>\n",
              "    </div>\n",
              "  </div>\n",
              "  "
            ],
            "text/plain": [
              "           open       close         low        high      volume\n",
              "0    123.430000  125.839996  122.309998  126.250000   2163600.0\n",
              "1    125.239998  119.980003  119.940002  125.540001   2386400.0\n",
              "2    116.379997  114.949997  114.930000  119.739998   2489500.0\n",
              "3    115.480003  116.620003  113.500000  117.440002   2006300.0\n",
              "4    117.010002  114.970001  114.089996  117.330002   1408600.0\n",
              "..          ...         ...         ...         ...         ...\n",
              "995   63.310001   63.590000   63.240002   63.639999   2133200.0\n",
              "996   27.160000   26.990000   26.680000   27.299999   1982400.0\n",
              "997   28.320000   28.770000   28.010000   28.809999  37152800.0\n",
              "998   44.000000   44.799999   43.750000   44.810001   6568600.0\n",
              "999   36.080002   37.139999   36.009998   37.230000   5604300.0\n",
              "\n",
              "[1000 rows x 5 columns]"
            ]
          },
          "metadata": {},
          "execution_count": 57
        }
      ],
      "source": [
        "df1 = df1[:1000]\n",
        "df1"
      ]
    },
    {
      "cell_type": "markdown",
      "metadata": {
        "id": "6vGtnapgBIJm"
      },
      "source": [
        "## Question 4"
      ]
    },
    {
      "cell_type": "markdown",
      "metadata": {
        "id": "C8u_jlbABTip"
      },
      "source": [
        "### Get features and label from the dataset in separate variable\n",
        "- Take \"open\", \"close\", \"low\", \"high\" columns as features\n",
        "- Take \"volume\" column as label\n",
        "- Normalize label column by dividing it with 1000000"
      ]
    },
    {
      "cell_type": "code",
      "execution_count": 58,
      "metadata": {
        "id": "xQjCMzUXBJbg"
      },
      "outputs": [],
      "source": [
        "X = df1.drop(['volume'], axis = 1)\n",
        "y = df1['volume']/1000000\n"
      ]
    },
    {
      "cell_type": "markdown",
      "metadata": {
        "id": "aTAKzlxZBz0z"
      },
      "source": [
        "## Question 5"
      ]
    },
    {
      "cell_type": "markdown",
      "metadata": {
        "id": "IfY8Km1Zzyt2"
      },
      "source": [
        "### Convert data\n",
        "- Convert features and labels to numpy array\n",
        "- Convert their data type to \"float32\""
      ]
    },
    {
      "cell_type": "code",
      "execution_count": 59,
      "metadata": {
        "id": "Ko7nnQVbYENh"
      },
      "outputs": [],
      "source": [
        "X = np.array(X).astype(\"float32\")\n",
        "Y = np.array(y).astype(\"float32\")"
      ]
    },
    {
      "cell_type": "markdown",
      "metadata": {
        "id": "3TWpN0nVTpUx"
      },
      "source": [
        "## Question 6"
      ]
    },
    {
      "cell_type": "markdown",
      "metadata": {
        "id": "WQ1FKEs-4btX"
      },
      "source": [
        "### Normalize data\n",
        "- Normalize features\n",
        "- Use tf.math.l2_normalize to normalize features\n",
        "- You can read more about it here https://www.tensorflow.org/api_docs/python/tf/math/l2_normalize"
      ]
    },
    {
      "cell_type": "code",
      "execution_count": 60,
      "metadata": {
        "id": "V0Tfe00X78wB",
        "colab": {
          "base_uri": "https://localhost:8080/",
          "height": 35
        },
        "outputId": "5f0a6d48-a3e5-4922-868a-5f89716c08f7"
      },
      "outputs": [
        {
          "output_type": "execute_result",
          "data": {
            "application/vnd.google.colaboratory.intrinsic+json": {
              "type": "string"
            },
            "text/plain": [
              "'Read about this'"
            ]
          },
          "metadata": {},
          "execution_count": 60
        }
      ],
      "source": [
        "X = tf.math.l2_normalize(X)\n",
        "\"\"\"Read about this\"\"\""
      ]
    },
    {
      "cell_type": "markdown",
      "metadata": {
        "id": "wmXUGc2oTspa"
      },
      "source": [
        "## Question 7"
      ]
    },
    {
      "cell_type": "markdown",
      "metadata": {
        "id": "VJelDMpzxs0L"
      },
      "source": [
        "### Define weight and bias\n",
        "- Initialize weight and bias with tf.zeros\n",
        "- tf.zeros is an initializer that generates tensors initialized to 0\n",
        "- Specify the value for shape"
      ]
    },
    {
      "cell_type": "code",
      "execution_count": 61,
      "metadata": {
        "id": "8o9RPWVTxs0O"
      },
      "outputs": [],
      "source": [
        "w = tf.zeros(shape=(4,1)) # Four weight because four features. The values are 0.\n",
        "b = tf.zeros(shape=(1)) # The initial value is 0\n"
      ]
    },
    {
      "cell_type": "markdown",
      "metadata": {
        "id": "8a0wr94aTyjg"
      },
      "source": [
        "## Question 8"
      ]
    },
    {
      "cell_type": "markdown",
      "metadata": {
        "id": "zMXXYdOSxs0Q"
      },
      "source": [
        "### Get prediction\n",
        "- Define a function to get prediction\n",
        "- Approach: prediction = (X * W) + b; here is X is features"
      ]
    },
    {
      "cell_type": "code",
      "execution_count": 62,
      "metadata": {
        "id": "U8Cty1y0xs0S"
      },
      "outputs": [],
      "source": [
        "def predictions(features, w, b,):\n",
        "  y_pred = tf.add(tf.matmul(features, w), b)\n",
        "  return y_pred"
      ]
    },
    {
      "cell_type": "markdown",
      "metadata": {
        "id": "lQmS3Tauxs0V"
      },
      "source": [
        "### Calculate loss\n",
        "- Calculate loss using predictions\n",
        "- Define a function to calculate loss\n",
        "- We are calculating mean squared error"
      ]
    },
    {
      "cell_type": "code",
      "execution_count": 63,
      "metadata": {
        "id": "-FRXmDd5xs0X"
      },
      "outputs": [],
      "source": [
        "def loss(y_actual, y_pred):\n",
        "  mse = tf.reduce_mean(tf.square(y_actual - y_pred))\n",
        "  return mse"
      ]
    },
    {
      "cell_type": "markdown",
      "metadata": {
        "id": "ZbBpnOtfT0wd"
      },
      "source": [
        "## Question 9"
      ]
    },
    {
      "cell_type": "markdown",
      "metadata": {
        "id": "bkOzAUUsTmF_"
      },
      "source": [
        "### Define a function to train the model\n",
        "1.   Record all the mathematical steps to calculate Loss\n",
        "2.   Calculate Gradients of Loss w.r.t weights and bias\n",
        "3.   Update Weights and Bias based on gradients and learning rate to minimize loss"
      ]
    },
    {
      "cell_type": "code",
      "execution_count": 64,
      "metadata": {
        "id": "2R4uieGYLYtM"
      },
      "outputs": [],
      "source": [
        "def train(x, y_actual, w, b, learning_rate=0.01):\n",
        "  with tf.GradientTape() as t:\n",
        "    t.watch([w,b])\n",
        "    current_prediction = predictions(x, w, b) # Loss and predictions are functions coded above.\n",
        "    current_loss = loss(y_actual, current_prediction)\n",
        "\n",
        "  dw, db = t.gradient(current_loss,[w, b])\n",
        "  w = w - learning_rate*dw\n",
        "  b = b - learning_rate*db\n",
        "    \n",
        "  return w, b "
      ]
    },
    {
      "cell_type": "markdown",
      "metadata": {
        "id": "AW4SEP8kT2ls"
      },
      "source": [
        "## Question 10"
      ]
    },
    {
      "cell_type": "markdown",
      "metadata": {
        "id": "yeN0deOvT81N"
      },
      "source": [
        "### Train the model for 100 epochs \n",
        "- Observe the training loss at every iteration"
      ]
    },
    {
      "cell_type": "code",
      "execution_count": 65,
      "metadata": {
        "id": "Jjkn4gUgLevE",
        "colab": {
          "base_uri": "https://localhost:8080/"
        },
        "outputId": "b6f38b15-9ced-49ea-d231-4826cb3ae9d0"
      },
      "outputs": [
        {
          "output_type": "stream",
          "name": "stdout",
          "text": [
            "Current Training loss for iter 0 236.16774\n",
            "Current Training loss for iter 1 235.09312\n",
            "Current Training loss for iter 2 234.06105\n",
            "Current Training loss for iter 3 233.06989\n",
            "Current Training loss for iter 4 232.11801\n",
            "Current Training loss for iter 5 231.20384\n",
            "Current Training loss for iter 6 230.32588\n",
            "Current Training loss for iter 7 229.48273\n",
            "Current Training loss for iter 8 228.67294\n",
            "Current Training loss for iter 9 227.89528\n",
            "Current Training loss for iter 10 227.14842\n",
            "Current Training loss for iter 11 226.43115\n",
            "Current Training loss for iter 12 225.74232\n",
            "Current Training loss for iter 13 225.08076\n",
            "Current Training loss for iter 14 224.4454\n",
            "Current Training loss for iter 15 223.83525\n",
            "Current Training loss for iter 16 223.24927\n",
            "Current Training loss for iter 17 222.68648\n",
            "Current Training loss for iter 18 222.14601\n",
            "Current Training loss for iter 19 221.62694\n",
            "Current Training loss for iter 20 221.12846\n",
            "Current Training loss for iter 21 220.64972\n",
            "Current Training loss for iter 22 220.18993\n",
            "Current Training loss for iter 23 219.74837\n",
            "Current Training loss for iter 24 219.32433\n",
            "Current Training loss for iter 25 218.91705\n",
            "Current Training loss for iter 26 218.52594\n",
            "Current Training loss for iter 27 218.1503\n",
            "Current Training loss for iter 28 217.78955\n",
            "Current Training loss for iter 29 217.44312\n",
            "Current Training loss for iter 30 217.1104\n",
            "Current Training loss for iter 31 216.79088\n",
            "Current Training loss for iter 32 216.48398\n",
            "Current Training loss for iter 33 216.18927\n",
            "Current Training loss for iter 34 215.9062\n",
            "Current Training loss for iter 35 215.63438\n",
            "Current Training loss for iter 36 215.37334\n",
            "Current Training loss for iter 37 215.12262\n",
            "Current Training loss for iter 38 214.88184\n",
            "Current Training loss for iter 39 214.6506\n",
            "Current Training loss for iter 40 214.42853\n",
            "Current Training loss for iter 41 214.21529\n",
            "Current Training loss for iter 42 214.01042\n",
            "Current Training loss for iter 43 213.81372\n",
            "Current Training loss for iter 44 213.62482\n",
            "Current Training loss for iter 45 213.44337\n",
            "Current Training loss for iter 46 213.26912\n",
            "Current Training loss for iter 47 213.10178\n",
            "Current Training loss for iter 48 212.9411\n",
            "Current Training loss for iter 49 212.78674\n",
            "Current Training loss for iter 50 212.63853\n",
            "Current Training loss for iter 51 212.49615\n",
            "Current Training loss for iter 52 212.35945\n",
            "Current Training loss for iter 53 212.22815\n",
            "Current Training loss for iter 54 212.10205\n",
            "Current Training loss for iter 55 211.98096\n",
            "Current Training loss for iter 56 211.86465\n",
            "Current Training loss for iter 57 211.75298\n",
            "Current Training loss for iter 58 211.64569\n",
            "Current Training loss for iter 59 211.5427\n",
            "Current Training loss for iter 60 211.44377\n",
            "Current Training loss for iter 61 211.34874\n",
            "Current Training loss for iter 62 211.25749\n",
            "Current Training loss for iter 63 211.16988\n",
            "Current Training loss for iter 64 211.08571\n",
            "Current Training loss for iter 65 211.00488\n",
            "Current Training loss for iter 66 210.92726\n",
            "Current Training loss for iter 67 210.85272\n",
            "Current Training loss for iter 68 210.7811\n",
            "Current Training loss for iter 69 210.71236\n",
            "Current Training loss for iter 70 210.64632\n",
            "Current Training loss for iter 71 210.5829\n",
            "Current Training loss for iter 72 210.522\n",
            "Current Training loss for iter 73 210.46349\n",
            "Current Training loss for iter 74 210.40732\n",
            "Current Training loss for iter 75 210.3534\n",
            "Current Training loss for iter 76 210.30157\n",
            "Current Training loss for iter 77 210.2518\n",
            "Current Training loss for iter 78 210.20401\n",
            "Current Training loss for iter 79 210.15813\n",
            "Current Training loss for iter 80 210.11406\n",
            "Current Training loss for iter 81 210.07175\n",
            "Current Training loss for iter 82 210.03107\n",
            "Current Training loss for iter 83 209.99203\n",
            "Current Training loss for iter 84 209.95454\n",
            "Current Training loss for iter 85 209.91853\n",
            "Current Training loss for iter 86 209.88396\n",
            "Current Training loss for iter 87 209.85075\n",
            "Current Training loss for iter 88 209.81885\n",
            "Current Training loss for iter 89 209.78822\n",
            "Current Training loss for iter 90 209.75879\n",
            "Current Training loss for iter 91 209.73055\n",
            "Current Training loss for iter 92 209.70341\n",
            "Current Training loss for iter 93 209.67735\n",
            "Current Training loss for iter 94 209.65231\n",
            "Current Training loss for iter 95 209.62831\n",
            "Current Training loss for iter 96 209.60521\n",
            "Current Training loss for iter 97 209.58304\n",
            "Current Training loss for iter 98 209.56177\n",
            "Current Training loss for iter 99 209.5413\n"
          ]
        }
      ],
      "source": [
        "for i in range(100):\n",
        "\n",
        "  w,b = train(X, Y, w, b)\n",
        "  print(\"Current Training loss for iter\", i, loss(Y, predictions(X, w, b)).numpy())"
      ]
    },
    {
      "cell_type": "markdown",
      "metadata": {
        "id": "vanvD93FV0_k"
      },
      "source": [
        "### Observe values of Weight\n",
        "- Print the updated values"
      ]
    },
    {
      "cell_type": "code",
      "execution_count": 66,
      "metadata": {
        "id": "QSqpy4gtWaOD",
        "colab": {
          "base_uri": "https://localhost:8080/"
        },
        "outputId": "47f09aed-cab2-42e8-b29c-54378908f26a"
      },
      "outputs": [
        {
          "output_type": "stream",
          "name": "stdout",
          "text": [
            "Weights:\n",
            " [[0.0547828 ]\n",
            " [0.05488189]\n",
            " [0.05422734]\n",
            " [0.05533116]]\n"
          ]
        }
      ],
      "source": [
        "print('Weights:\\n', w.numpy())"
      ]
    },
    {
      "cell_type": "markdown",
      "metadata": {
        "id": "y9KpRupYUEwy"
      },
      "source": [
        "### Observe values of Bias\n",
        "- Print the updated values"
      ]
    },
    {
      "cell_type": "code",
      "execution_count": 67,
      "metadata": {
        "id": "bhEWkGqHWohg",
        "colab": {
          "base_uri": "https://localhost:8080/"
        },
        "outputId": "4417b40a-44c0-48ae-8973-be752a9c5e25"
      },
      "outputs": [
        {
          "output_type": "stream",
          "name": "stdout",
          "text": [
            "Bias:\n",
            " [4.607657]\n"
          ]
        }
      ],
      "source": [
        "print('Bias:\\n',b.numpy())"
      ]
    }
  ],
  "metadata": {
    "colab": {
      "collapsed_sections": [],
      "name": "R6 INNDL Question.ipynb",
      "provenance": []
    },
    "kernelspec": {
      "display_name": "Python 3",
      "name": "python3"
    },
    "accelerator": "GPU"
  },
  "nbformat": 4,
  "nbformat_minor": 0
}