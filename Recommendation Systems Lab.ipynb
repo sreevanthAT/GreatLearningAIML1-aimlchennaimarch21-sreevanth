{
 "cells": [
  {
   "cell_type": "markdown",
   "metadata": {
    "id": "9TVXldXJxuTF"
   },
   "source": [
    "<img src=\"http://drive.google.com/uc?export=view&id=1tpOCamr9aWz817atPnyXus8w5gJ3mIts\" width=500px>"
   ]
  },
  {
   "cell_type": "markdown",
   "metadata": {
    "id": "kVC7Q1bgxuTO"
   },
   "source": [
    "- - - - - - - - - - - - - - - - - - - - - - - - - - - - - - - - - - - - - - - - - - - - - -\n",
    "\n",
    "#  Top-n list of restaurants on consumer preference\n",
    "\n",
    "### INDUSTRY CASE STUDY - Popularity based + Collborative Filtering Based Recommendation system\n",
    "- - - - - - - - - - - - - - - - - - - - - - - - - - - - - - - - - - - - - - - - - - - - - -"
   ]
  },
  {
   "cell_type": "markdown",
   "metadata": {
    "id": "sA774AvSxuTQ"
   },
   "source": [
    "- - - - - - - - - - - - - - - - - - - - - - - - - - - - - - - - - - - - - - - - - - - - - -\n",
    "\n",
    "## Case study problem statement:\n",
    "\n",
    "### Context:\n",
    "\n",
    "The dataset was obtained from a recommender system prototype. The task was to generate a top-n list of restaurants according to \n",
    "the consumer preferences.\n",
    "\n",
    "\n",
    "### Input data details : https://archive.ics.uci.edu/ml/machine-learning-databases/00232/\n",
    "\n",
    "(In here you will find rating_final.csv inside RCdata folder to be used)\n",
    "\n",
    "### Expected output details: Restaurant recommendation system\n",
    "\n",
    "- - - - - - - - - - - - - - - - - - - - - - - - - - - - - - - - - - - - - - - - - - - - - -"
   ]
  },
  {
   "cell_type": "markdown",
   "metadata": {
    "id": "PG7yaf3UxuTR"
   },
   "source": [
    "### Steps\n",
    "\n",
    "#### 1. Input libraries\n",
    "\n",
    "#### 2. Data Analysis and preparation\n",
    "\n",
    "#### 3. Popularity based Recommendation System\n",
    "\n",
    "#### 4. Collaborative Filtering Recommendation System\n",
    "\n",
    "#### 5. Insights\n",
    "\n",
    "#### 6. Optional"
   ]
  },
  {
   "cell_type": "markdown",
   "metadata": {
    "id": "_HEIM-wvxuTS"
   },
   "source": [
    "### 1. Input libraries"
   ]
  },
  {
   "cell_type": "code",
   "execution_count": 2,
   "metadata": {
    "colab": {
     "base_uri": "https://localhost:8080/"
    },
    "id": "LYoCLSTvyJls",
    "outputId": "5434221c-b4d5-4ef3-8d4c-c49fcd8c0075"
   },
   "outputs": [
    {
     "ename": "ModuleNotFoundError",
     "evalue": "No module named 'google'",
     "output_type": "error",
     "traceback": [
      "\u001b[1;31m---------------------------------------------------------------------------\u001b[0m",
      "\u001b[1;31mModuleNotFoundError\u001b[0m                       Traceback (most recent call last)",
      "\u001b[1;32m~\\AppData\\Local\\Temp/ipykernel_14444/1408506528.py\u001b[0m in \u001b[0;36m<module>\u001b[1;34m\u001b[0m\n\u001b[1;32m----> 1\u001b[1;33m \u001b[1;32mfrom\u001b[0m \u001b[0mgoogle\u001b[0m\u001b[1;33m.\u001b[0m\u001b[0mcolab\u001b[0m \u001b[1;32mimport\u001b[0m \u001b[0mdrive\u001b[0m\u001b[1;33m\u001b[0m\u001b[1;33m\u001b[0m\u001b[0m\n\u001b[0m\u001b[0;32m      2\u001b[0m \u001b[0mdrive\u001b[0m\u001b[1;33m.\u001b[0m\u001b[0mmount\u001b[0m\u001b[1;33m(\u001b[0m\u001b[1;34m'/content/drive'\u001b[0m\u001b[1;33m)\u001b[0m\u001b[1;33m\u001b[0m\u001b[1;33m\u001b[0m\u001b[0m\n",
      "\u001b[1;31mModuleNotFoundError\u001b[0m: No module named 'google'"
     ]
    }
   ],
   "source": [
    "from google.colab import drive\n",
    "drive.mount('/content/drive')"
   ]
  },
  {
   "cell_type": "code",
   "execution_count": 1,
   "metadata": {
    "colab": {
     "base_uri": "https://localhost:8080/"
    },
    "collapsed": true,
    "id": "NfZVcKquycQl",
    "outputId": "b2b5e1de-42e5-4070-c53c-93008d798a60"
   },
   "outputs": [
    {
     "name": "stdout",
     "output_type": "stream",
     "text": [
      "Collecting surprise\n",
      "  Downloading https://files.pythonhosted.org/packages/61/de/e5cba8682201fcf9c3719a6fdda95693468ed061945493dea2dd37c5618b/surprise-0.1-py2.py3-none-any.whl\n",
      "Requirement already satisfied: scikit-surprise in c:\\users\\sreev\\anaconda3\\lib\\site-packages (from surprise) (1.1.1)\n",
      "Requirement already satisfied: joblib>=0.11 in c:\\users\\sreev\\anaconda3\\lib\\site-packages (from scikit-surprise->surprise) (0.13.2)\n",
      "Requirement already satisfied: numpy>=1.11.2 in c:\\users\\sreev\\anaconda3\\lib\\site-packages (from scikit-surprise->surprise) (1.16.5)\n",
      "Requirement already satisfied: scipy>=1.0.0 in c:\\users\\sreev\\anaconda3\\lib\\site-packages (from scikit-surprise->surprise) (1.3.1)\n",
      "Requirement already satisfied: six>=1.10.0 in c:\\users\\sreev\\appdata\\roaming\\python\\python37\\site-packages (from scikit-surprise->surprise) (1.16.0)\n",
      "Installing collected packages: surprise\n",
      "Successfully installed surprise-0.1\n"
     ]
    }
   ],
   "source": [
    "!pip install surprise"
   ]
  },
  {
   "cell_type": "code",
   "execution_count": 39,
   "metadata": {
    "id": "r8jY0TRU6Rf_"
   },
   "outputs": [],
   "source": [
    "import numpy as np\n",
    "import pandas as pd\n",
    "import math\n",
    "import json\n",
    "import time\n",
    "import matplotlib.pyplot as plt\n",
    "import seaborn as sns\n",
    "import warnings; warnings.simplefilter('ignore')\n",
    "%matplotlib inline\n",
    "\n",
    "from surprise import Dataset \n",
    "from surprise import Reader\n",
    "from surprise.model_selection import train_test_split\n",
    "from surprise import accuracy\n",
    "from surprise.model_selection import GridSearchCV,RandomizedSearchCV\n",
    "from sklearn.metrics import confusion_matrix, precision_score, recall_score,classification_report"
   ]
  },
  {
   "cell_type": "code",
   "execution_count": 40,
   "metadata": {},
   "outputs": [],
   "source": [
    "%config Completer.use_jedi = False"
   ]
  },
  {
   "cell_type": "markdown",
   "metadata": {
    "id": "qhaC3BbnxuTV"
   },
   "source": [
    "## 2. Data Analysis and preparation"
   ]
  },
  {
   "cell_type": "markdown",
   "metadata": {
    "id": "c_JKFU2a2-VH"
   },
   "source": [
    "### 2.1 Read the dataset and check info to understand the dataset"
   ]
  },
  {
   "cell_type": "code",
   "execution_count": 41,
   "metadata": {
    "id": "RFpcM7zj3TE2"
   },
   "outputs": [
    {
     "data": {
      "text/html": [
       "<div>\n",
       "<style scoped>\n",
       "    .dataframe tbody tr th:only-of-type {\n",
       "        vertical-align: middle;\n",
       "    }\n",
       "\n",
       "    .dataframe tbody tr th {\n",
       "        vertical-align: top;\n",
       "    }\n",
       "\n",
       "    .dataframe thead th {\n",
       "        text-align: right;\n",
       "    }\n",
       "</style>\n",
       "<table border=\"1\" class=\"dataframe\">\n",
       "  <thead>\n",
       "    <tr style=\"text-align: right;\">\n",
       "      <th></th>\n",
       "      <th>userID</th>\n",
       "      <th>placeID</th>\n",
       "      <th>rating</th>\n",
       "      <th>food_rating</th>\n",
       "      <th>service_rating</th>\n",
       "    </tr>\n",
       "  </thead>\n",
       "  <tbody>\n",
       "    <tr>\n",
       "      <td>0</td>\n",
       "      <td>U1077</td>\n",
       "      <td>135085</td>\n",
       "      <td>2</td>\n",
       "      <td>2</td>\n",
       "      <td>2</td>\n",
       "    </tr>\n",
       "    <tr>\n",
       "      <td>1</td>\n",
       "      <td>U1077</td>\n",
       "      <td>135038</td>\n",
       "      <td>2</td>\n",
       "      <td>2</td>\n",
       "      <td>1</td>\n",
       "    </tr>\n",
       "    <tr>\n",
       "      <td>2</td>\n",
       "      <td>U1077</td>\n",
       "      <td>132825</td>\n",
       "      <td>2</td>\n",
       "      <td>2</td>\n",
       "      <td>2</td>\n",
       "    </tr>\n",
       "    <tr>\n",
       "      <td>3</td>\n",
       "      <td>U1077</td>\n",
       "      <td>135060</td>\n",
       "      <td>1</td>\n",
       "      <td>2</td>\n",
       "      <td>2</td>\n",
       "    </tr>\n",
       "    <tr>\n",
       "      <td>4</td>\n",
       "      <td>U1068</td>\n",
       "      <td>135104</td>\n",
       "      <td>1</td>\n",
       "      <td>1</td>\n",
       "      <td>2</td>\n",
       "    </tr>\n",
       "  </tbody>\n",
       "</table>\n",
       "</div>"
      ],
      "text/plain": [
       "  userID  placeID  rating  food_rating  service_rating\n",
       "0  U1077   135085       2            2               2\n",
       "1  U1077   135038       2            2               1\n",
       "2  U1077   132825       2            2               2\n",
       "3  U1077   135060       1            2               2\n",
       "4  U1068   135104       1            1               2"
      ]
     },
     "execution_count": 41,
     "metadata": {},
     "output_type": "execute_result"
    }
   ],
   "source": [
    "import os\n",
    "os.chdir(r'D:\\D\\AI\\Great learning 2021\\Recommendation system\\Assignment')\n",
    "df = pd.read_csv(\"rating_final.csv\")\n",
    "df.head()"
   ]
  },
  {
   "cell_type": "markdown",
   "metadata": {
    "id": "OCfC2p9d3TSy"
   },
   "source": [
    "### 2.2 Check statistical summary and write your observations"
   ]
  },
  {
   "cell_type": "code",
   "execution_count": 42,
   "metadata": {
    "id": "ttvgrp1q3ZL1"
   },
   "outputs": [
    {
     "data": {
      "text/html": [
       "<div>\n",
       "<style scoped>\n",
       "    .dataframe tbody tr th:only-of-type {\n",
       "        vertical-align: middle;\n",
       "    }\n",
       "\n",
       "    .dataframe tbody tr th {\n",
       "        vertical-align: top;\n",
       "    }\n",
       "\n",
       "    .dataframe thead th {\n",
       "        text-align: right;\n",
       "    }\n",
       "</style>\n",
       "<table border=\"1\" class=\"dataframe\">\n",
       "  <thead>\n",
       "    <tr style=\"text-align: right;\">\n",
       "      <th></th>\n",
       "      <th>placeID</th>\n",
       "      <th>rating</th>\n",
       "      <th>food_rating</th>\n",
       "      <th>service_rating</th>\n",
       "    </tr>\n",
       "  </thead>\n",
       "  <tbody>\n",
       "    <tr>\n",
       "      <td>count</td>\n",
       "      <td>1161.000000</td>\n",
       "      <td>1161.000000</td>\n",
       "      <td>1161.000000</td>\n",
       "      <td>1161.000000</td>\n",
       "    </tr>\n",
       "    <tr>\n",
       "      <td>mean</td>\n",
       "      <td>134192.041344</td>\n",
       "      <td>1.199828</td>\n",
       "      <td>1.215332</td>\n",
       "      <td>1.090439</td>\n",
       "    </tr>\n",
       "    <tr>\n",
       "      <td>std</td>\n",
       "      <td>1100.916275</td>\n",
       "      <td>0.773282</td>\n",
       "      <td>0.792294</td>\n",
       "      <td>0.790844</td>\n",
       "    </tr>\n",
       "    <tr>\n",
       "      <td>min</td>\n",
       "      <td>132560.000000</td>\n",
       "      <td>0.000000</td>\n",
       "      <td>0.000000</td>\n",
       "      <td>0.000000</td>\n",
       "    </tr>\n",
       "    <tr>\n",
       "      <td>25%</td>\n",
       "      <td>132856.000000</td>\n",
       "      <td>1.000000</td>\n",
       "      <td>1.000000</td>\n",
       "      <td>0.000000</td>\n",
       "    </tr>\n",
       "    <tr>\n",
       "      <td>50%</td>\n",
       "      <td>135030.000000</td>\n",
       "      <td>1.000000</td>\n",
       "      <td>1.000000</td>\n",
       "      <td>1.000000</td>\n",
       "    </tr>\n",
       "    <tr>\n",
       "      <td>75%</td>\n",
       "      <td>135059.000000</td>\n",
       "      <td>2.000000</td>\n",
       "      <td>2.000000</td>\n",
       "      <td>2.000000</td>\n",
       "    </tr>\n",
       "    <tr>\n",
       "      <td>max</td>\n",
       "      <td>135109.000000</td>\n",
       "      <td>2.000000</td>\n",
       "      <td>2.000000</td>\n",
       "      <td>2.000000</td>\n",
       "    </tr>\n",
       "  </tbody>\n",
       "</table>\n",
       "</div>"
      ],
      "text/plain": [
       "             placeID       rating  food_rating  service_rating\n",
       "count    1161.000000  1161.000000  1161.000000     1161.000000\n",
       "mean   134192.041344     1.199828     1.215332        1.090439\n",
       "std      1100.916275     0.773282     0.792294        0.790844\n",
       "min    132560.000000     0.000000     0.000000        0.000000\n",
       "25%    132856.000000     1.000000     1.000000        0.000000\n",
       "50%    135030.000000     1.000000     1.000000        1.000000\n",
       "75%    135059.000000     2.000000     2.000000        2.000000\n",
       "max    135109.000000     2.000000     2.000000        2.000000"
      ]
     },
     "execution_count": 42,
     "metadata": {},
     "output_type": "execute_result"
    }
   ],
   "source": [
    "df.describe()\n",
    "\n",
    "# There are only three classes of ratings high, medium and low.\n",
    "# Even there are three classes for food_rating and service_rating"
   ]
  },
  {
   "cell_type": "markdown",
   "metadata": {
    "id": "Ht2vzMvQ3Ze-"
   },
   "source": [
    "### 2.3 Check if there are any missing values"
   ]
  },
  {
   "cell_type": "code",
   "execution_count": 43,
   "metadata": {
    "id": "RgN9G17l3fcx"
   },
   "outputs": [
    {
     "data": {
      "text/plain": [
       "userID            0\n",
       "placeID           0\n",
       "rating            0\n",
       "food_rating       0\n",
       "service_rating    0\n",
       "dtype: int64"
      ]
     },
     "execution_count": 43,
     "metadata": {},
     "output_type": "execute_result"
    }
   ],
   "source": [
    "df.isna().sum()"
   ]
  },
  {
   "cell_type": "markdown",
   "metadata": {
    "id": "2_Xlfy0Y3mO-"
   },
   "source": [
    "### 2.4 Check minimum and maximum values for rating feature. Display its frequency distribution using appropriate graph"
   ]
  },
  {
   "cell_type": "code",
   "execution_count": 44,
   "metadata": {
    "id": "a_DPMHKv36pL"
   },
   "outputs": [
    {
     "name": "stdout",
     "output_type": "stream",
     "text": [
      "The minimum and maximum values are 0 and 2 \n",
      "\n"
     ]
    },
    {
     "data": {
      "image/png": "[encoded data removed]",
      "text/plain": [
       "<Figure size 432x288 with 1 Axes>"
      ]
     },
     "metadata": {},
     "output_type": "display_data"
    }
   ],
   "source": [
    "print(\"The minimum and maximum values are\", df[\"rating\"].min(), \"and\", df[\"rating\"].max(), \"\\n\")\n",
    "\n",
    "%matplotlib inline\n",
    "\n",
    "carrier_count = df[\"rating\"].value_counts()\n",
    "sns.set(style=\"darkgrid\")\n",
    "sns.barplot(carrier_count.index, carrier_count.values, alpha=0.9)\n",
    "plt.title('Frequency Distribution of ratings')\n",
    "plt.ylabel('Number of Occurrences', fontsize=12)\n",
    "plt.xlabel('Values', fontsize=12)\n",
    "plt.show()"
   ]
  },
  {
   "cell_type": "markdown",
   "metadata": {
    "id": "mMRpRkFd363Z"
   },
   "source": [
    "### 2.5 Check number of unique users and items (places) in the data"
   ]
  },
  {
   "cell_type": "code",
   "execution_count": 47,
   "metadata": {
    "id": "dXxMEa8Y4CqD"
   },
   "outputs": [
    {
     "data": {
      "text/plain": [
       "138"
      ]
     },
     "execution_count": 47,
     "metadata": {},
     "output_type": "execute_result"
    }
   ],
   "source": [
    "df[\"userID\"].nunique()"
   ]
  },
  {
   "cell_type": "code",
   "execution_count": 46,
   "metadata": {},
   "outputs": [
    {
     "data": {
      "text/plain": [
       "130"
      ]
     },
     "execution_count": 46,
     "metadata": {},
     "output_type": "execute_result"
    }
   ],
   "source": [
    "df[\"placeID\"].nunique()"
   ]
  },
  {
   "cell_type": "markdown",
   "metadata": {
    "id": "cNjV-jOj4FA7"
   },
   "source": [
    "### 2.6 Sort users by their number of ratings and display top 10 users who have given most number of ratings"
   ]
  },
  {
   "cell_type": "code",
   "execution_count": 48,
   "metadata": {
    "id": "nrAp9Z6N4V1d"
   },
   "outputs": [
    {
     "data": {
      "text/html": [
       "<div>\n",
       "<style scoped>\n",
       "    .dataframe tbody tr th:only-of-type {\n",
       "        vertical-align: middle;\n",
       "    }\n",
       "\n",
       "    .dataframe tbody tr th {\n",
       "        vertical-align: top;\n",
       "    }\n",
       "\n",
       "    .dataframe thead th {\n",
       "        text-align: right;\n",
       "    }\n",
       "</style>\n",
       "<table border=\"1\" class=\"dataframe\">\n",
       "  <thead>\n",
       "    <tr style=\"text-align: right;\">\n",
       "      <th></th>\n",
       "      <th>placeID</th>\n",
       "    </tr>\n",
       "    <tr>\n",
       "      <th>userID</th>\n",
       "      <th></th>\n",
       "    </tr>\n",
       "  </thead>\n",
       "  <tbody>\n",
       "    <tr>\n",
       "      <td>U1001</td>\n",
       "      <td>9</td>\n",
       "    </tr>\n",
       "    <tr>\n",
       "      <td>U1002</td>\n",
       "      <td>10</td>\n",
       "    </tr>\n",
       "    <tr>\n",
       "      <td>U1003</td>\n",
       "      <td>13</td>\n",
       "    </tr>\n",
       "    <tr>\n",
       "      <td>U1004</td>\n",
       "      <td>8</td>\n",
       "    </tr>\n",
       "    <tr>\n",
       "      <td>U1005</td>\n",
       "      <td>9</td>\n",
       "    </tr>\n",
       "    <tr>\n",
       "      <td>...</td>\n",
       "      <td>...</td>\n",
       "    </tr>\n",
       "    <tr>\n",
       "      <td>U1134</td>\n",
       "      <td>16</td>\n",
       "    </tr>\n",
       "    <tr>\n",
       "      <td>U1135</td>\n",
       "      <td>14</td>\n",
       "    </tr>\n",
       "    <tr>\n",
       "      <td>U1136</td>\n",
       "      <td>10</td>\n",
       "    </tr>\n",
       "    <tr>\n",
       "      <td>U1137</td>\n",
       "      <td>14</td>\n",
       "    </tr>\n",
       "    <tr>\n",
       "      <td>U1138</td>\n",
       "      <td>3</td>\n",
       "    </tr>\n",
       "  </tbody>\n",
       "</table>\n",
       "<p>138 rows × 1 columns</p>\n",
       "</div>"
      ],
      "text/plain": [
       "        placeID\n",
       "userID         \n",
       "U1001         9\n",
       "U1002        10\n",
       "U1003        13\n",
       "U1004         8\n",
       "U1005         9\n",
       "...         ...\n",
       "U1134        16\n",
       "U1135        14\n",
       "U1136        10\n",
       "U1137        14\n",
       "U1138         3\n",
       "\n",
       "[138 rows x 1 columns]"
      ]
     },
     "execution_count": 48,
     "metadata": {},
     "output_type": "execute_result"
    }
   ],
   "source": [
    "df.groupby(\"userID\").agg({\"placeID\":\"count\"})"
   ]
  },
  {
   "cell_type": "code",
   "execution_count": 49,
   "metadata": {},
   "outputs": [
    {
     "data": {
      "text/plain": [
       "userID\n",
       "U1061    18\n",
       "U1106    18\n",
       "U1134    16\n",
       "U1024    15\n",
       "U1022    14\n",
       "U1089    14\n",
       "U1137    14\n",
       "U1135    14\n",
       "U1003    13\n",
       "U1016    13\n",
       "dtype: int64"
      ]
     },
     "execution_count": 49,
     "metadata": {},
     "output_type": "execute_result"
    }
   ],
   "source": [
    "df.groupby(\"userID\").size().sort_values(ascending=False).head(10)"
   ]
  },
  {
   "cell_type": "markdown",
   "metadata": {
    "id": "LZT1lvdlxuTg"
   },
   "source": [
    "### 2.7. Take subset of dataset to make it less sparse/more dense. (For example, keep the users only who has given 5 or more number of ratings). Report shape of the final dataset"
   ]
  },
  {
   "cell_type": "code",
   "execution_count": 50,
   "metadata": {
    "id": "iaFZjjbc5Sv1"
   },
   "outputs": [
    {
     "data": {
      "text/plain": [
       "U1061    18\n",
       "U1106    18\n",
       "U1134    16\n",
       "U1024    15\n",
       "U1137    14\n",
       "         ..\n",
       "U1107     3\n",
       "U1138     3\n",
       "U1021     3\n",
       "U1047     3\n",
       "U1074     3\n",
       "Name: userID, Length: 138, dtype: int64"
      ]
     },
     "execution_count": 50,
     "metadata": {},
     "output_type": "execute_result"
    }
   ],
   "source": [
    "counts = df[\"userID\"].value_counts()\n",
    "counts"
   ]
  },
  {
   "cell_type": "code",
   "execution_count": 51,
   "metadata": {
    "id": "03jvk5fD5luu"
   },
   "outputs": [
    {
     "data": {
      "text/plain": [
       "Index(['U1061', 'U1106', 'U1134', 'U1024', 'U1137', 'U1135', 'U1022', 'U1089',\n",
       "       'U1097', 'U1003',\n",
       "       ...\n",
       "       'U1064', 'U1026', 'U1119', 'U1077', 'U1043', 'U1066', 'U1102', 'U1012',\n",
       "       'U1065', 'U1063'],\n",
       "      dtype='object', length=115)"
      ]
     },
     "execution_count": 51,
     "metadata": {},
     "output_type": "execute_result"
    }
   ],
   "source": [
    "counts[counts >= 5].index"
   ]
  },
  {
   "cell_type": "code",
   "execution_count": 52,
   "metadata": {},
   "outputs": [
    {
     "data": {
      "text/html": [
       "<div>\n",
       "<style scoped>\n",
       "    .dataframe tbody tr th:only-of-type {\n",
       "        vertical-align: middle;\n",
       "    }\n",
       "\n",
       "    .dataframe tbody tr th {\n",
       "        vertical-align: top;\n",
       "    }\n",
       "\n",
       "    .dataframe thead th {\n",
       "        text-align: right;\n",
       "    }\n",
       "</style>\n",
       "<table border=\"1\" class=\"dataframe\">\n",
       "  <thead>\n",
       "    <tr style=\"text-align: right;\">\n",
       "      <th></th>\n",
       "      <th>userID</th>\n",
       "      <th>placeID</th>\n",
       "      <th>rating</th>\n",
       "      <th>food_rating</th>\n",
       "      <th>service_rating</th>\n",
       "    </tr>\n",
       "  </thead>\n",
       "  <tbody>\n",
       "    <tr>\n",
       "      <td>0</td>\n",
       "      <td>U1077</td>\n",
       "      <td>135085</td>\n",
       "      <td>2</td>\n",
       "      <td>2</td>\n",
       "      <td>2</td>\n",
       "    </tr>\n",
       "    <tr>\n",
       "      <td>1</td>\n",
       "      <td>U1077</td>\n",
       "      <td>135038</td>\n",
       "      <td>2</td>\n",
       "      <td>2</td>\n",
       "      <td>1</td>\n",
       "    </tr>\n",
       "    <tr>\n",
       "      <td>2</td>\n",
       "      <td>U1077</td>\n",
       "      <td>132825</td>\n",
       "      <td>2</td>\n",
       "      <td>2</td>\n",
       "      <td>2</td>\n",
       "    </tr>\n",
       "    <tr>\n",
       "      <td>3</td>\n",
       "      <td>U1077</td>\n",
       "      <td>135060</td>\n",
       "      <td>1</td>\n",
       "      <td>2</td>\n",
       "      <td>2</td>\n",
       "    </tr>\n",
       "    <tr>\n",
       "      <td>4</td>\n",
       "      <td>U1068</td>\n",
       "      <td>135104</td>\n",
       "      <td>1</td>\n",
       "      <td>1</td>\n",
       "      <td>2</td>\n",
       "    </tr>\n",
       "  </tbody>\n",
       "</table>\n",
       "</div>"
      ],
      "text/plain": [
       "  userID  placeID  rating  food_rating  service_rating\n",
       "0  U1077   135085       2            2               2\n",
       "1  U1077   135038       2            2               1\n",
       "2  U1077   132825       2            2               2\n",
       "3  U1077   135060       1            2               2\n",
       "4  U1068   135104       1            1               2"
      ]
     },
     "execution_count": 52,
     "metadata": {},
     "output_type": "execute_result"
    }
   ],
   "source": [
    "df_final = df[df[\"userID\"].isin(counts[counts>=5].index)]\n",
    "df_final.head()"
   ]
  },
  {
   "cell_type": "markdown",
   "metadata": {
    "id": "8eF2-XTe5m4z"
   },
   "source": [
    "### 2.8 Check number of unique users and items in the dataset"
   ]
  },
  {
   "cell_type": "code",
   "execution_count": 53,
   "metadata": {
    "id": "rNBLWNI15xht"
   },
   "outputs": [
    {
     "data": {
      "text/plain": [
       "115"
      ]
     },
     "execution_count": 53,
     "metadata": {},
     "output_type": "execute_result"
    }
   ],
   "source": [
    "df_final[\"userID\"].nunique()"
   ]
  },
  {
   "cell_type": "code",
   "execution_count": 54,
   "metadata": {},
   "outputs": [
    {
     "data": {
      "text/plain": [
       "129"
      ]
     },
     "execution_count": 54,
     "metadata": {},
     "output_type": "execute_result"
    }
   ],
   "source": [
    "df_final[\"placeID\"].nunique()"
   ]
  },
  {
   "cell_type": "markdown",
   "metadata": {
    "id": "rw8VltehxuTn"
   },
   "source": [
    "## 3. Popularity Recommender model. (Non-personalised)"
   ]
  },
  {
   "cell_type": "markdown",
   "metadata": {
    "id": "Llkxcpnns3kV"
   },
   "source": [
    "### 3.1 Check count of user_id for each unique product and save it as score "
   ]
  },
  {
   "cell_type": "code",
   "execution_count": 55,
   "metadata": {
    "id": "HxmFiPL1tCWn"
   },
   "outputs": [
    {
     "data": {
      "text/html": [
       "<div>\n",
       "<style scoped>\n",
       "    .dataframe tbody tr th:only-of-type {\n",
       "        vertical-align: middle;\n",
       "    }\n",
       "\n",
       "    .dataframe tbody tr th {\n",
       "        vertical-align: top;\n",
       "    }\n",
       "\n",
       "    .dataframe thead th {\n",
       "        text-align: right;\n",
       "    }\n",
       "</style>\n",
       "<table border=\"1\" class=\"dataframe\">\n",
       "  <thead>\n",
       "    <tr style=\"text-align: right;\">\n",
       "      <th></th>\n",
       "      <th>placeID</th>\n",
       "      <th>userID</th>\n",
       "    </tr>\n",
       "  </thead>\n",
       "  <tbody>\n",
       "    <tr>\n",
       "      <td>0</td>\n",
       "      <td>132560</td>\n",
       "      <td>4</td>\n",
       "    </tr>\n",
       "    <tr>\n",
       "      <td>1</td>\n",
       "      <td>132561</td>\n",
       "      <td>2</td>\n",
       "    </tr>\n",
       "    <tr>\n",
       "      <td>2</td>\n",
       "      <td>132564</td>\n",
       "      <td>1</td>\n",
       "    </tr>\n",
       "    <tr>\n",
       "      <td>3</td>\n",
       "      <td>132572</td>\n",
       "      <td>15</td>\n",
       "    </tr>\n",
       "    <tr>\n",
       "      <td>4</td>\n",
       "      <td>132583</td>\n",
       "      <td>4</td>\n",
       "    </tr>\n",
       "  </tbody>\n",
       "</table>\n",
       "</div>"
      ],
      "text/plain": [
       "   placeID  userID\n",
       "0   132560       4\n",
       "1   132561       2\n",
       "2   132564       1\n",
       "3   132572      15\n",
       "4   132583       4"
      ]
     },
     "execution_count": 55,
     "metadata": {},
     "output_type": "execute_result"
    }
   ],
   "source": [
    "data = df_final.groupby(\"placeID\").agg({\"userID\" : \"count\"}).reset_index()\n",
    "data.head()"
   ]
  },
  {
   "cell_type": "code",
   "execution_count": 56,
   "metadata": {
    "id": "2GjuebyotlqV"
   },
   "outputs": [],
   "source": [
    "data.rename(columns={\"userID\" : \"score\"}, inplace = True)"
   ]
  },
  {
   "cell_type": "code",
   "execution_count": 57,
   "metadata": {},
   "outputs": [
    {
     "data": {
      "text/html": [
       "<div>\n",
       "<style scoped>\n",
       "    .dataframe tbody tr th:only-of-type {\n",
       "        vertical-align: middle;\n",
       "    }\n",
       "\n",
       "    .dataframe tbody tr th {\n",
       "        vertical-align: top;\n",
       "    }\n",
       "\n",
       "    .dataframe thead th {\n",
       "        text-align: right;\n",
       "    }\n",
       "</style>\n",
       "<table border=\"1\" class=\"dataframe\">\n",
       "  <thead>\n",
       "    <tr style=\"text-align: right;\">\n",
       "      <th></th>\n",
       "      <th>placeID</th>\n",
       "      <th>score</th>\n",
       "    </tr>\n",
       "  </thead>\n",
       "  <tbody>\n",
       "    <tr>\n",
       "      <td>0</td>\n",
       "      <td>132560</td>\n",
       "      <td>4</td>\n",
       "    </tr>\n",
       "    <tr>\n",
       "      <td>1</td>\n",
       "      <td>132561</td>\n",
       "      <td>2</td>\n",
       "    </tr>\n",
       "    <tr>\n",
       "      <td>2</td>\n",
       "      <td>132564</td>\n",
       "      <td>1</td>\n",
       "    </tr>\n",
       "    <tr>\n",
       "      <td>3</td>\n",
       "      <td>132572</td>\n",
       "      <td>15</td>\n",
       "    </tr>\n",
       "    <tr>\n",
       "      <td>4</td>\n",
       "      <td>132583</td>\n",
       "      <td>4</td>\n",
       "    </tr>\n",
       "  </tbody>\n",
       "</table>\n",
       "</div>"
      ],
      "text/plain": [
       "   placeID  score\n",
       "0   132560      4\n",
       "1   132561      2\n",
       "2   132564      1\n",
       "3   132572     15\n",
       "4   132583      4"
      ]
     },
     "execution_count": 57,
     "metadata": {},
     "output_type": "execute_result"
    }
   ],
   "source": [
    "data.head()"
   ]
  },
  {
   "cell_type": "markdown",
   "metadata": {
    "id": "hDQooX-qtMaT"
   },
   "source": [
    "### 3.2 Sort the products based on the score (calculated above)"
   ]
  },
  {
   "cell_type": "code",
   "execution_count": 58,
   "metadata": {},
   "outputs": [],
   "source": [
    "data_sorted = data.sort_values([\"score\"], ascending=False).reset_index()"
   ]
  },
  {
   "cell_type": "code",
   "execution_count": 59,
   "metadata": {},
   "outputs": [
    {
     "data": {
      "text/html": [
       "<div>\n",
       "<style scoped>\n",
       "    .dataframe tbody tr th:only-of-type {\n",
       "        vertical-align: middle;\n",
       "    }\n",
       "\n",
       "    .dataframe tbody tr th {\n",
       "        vertical-align: top;\n",
       "    }\n",
       "\n",
       "    .dataframe thead th {\n",
       "        text-align: right;\n",
       "    }\n",
       "</style>\n",
       "<table border=\"1\" class=\"dataframe\">\n",
       "  <thead>\n",
       "    <tr style=\"text-align: right;\">\n",
       "      <th></th>\n",
       "      <th>index</th>\n",
       "      <th>placeID</th>\n",
       "      <th>score</th>\n",
       "    </tr>\n",
       "  </thead>\n",
       "  <tbody>\n",
       "    <tr>\n",
       "      <td>0</td>\n",
       "      <td>122</td>\n",
       "      <td>135085</td>\n",
       "      <td>36</td>\n",
       "    </tr>\n",
       "    <tr>\n",
       "      <td>1</td>\n",
       "      <td>30</td>\n",
       "      <td>132825</td>\n",
       "      <td>32</td>\n",
       "    </tr>\n",
       "    <tr>\n",
       "      <td>2</td>\n",
       "      <td>79</td>\n",
       "      <td>135032</td>\n",
       "      <td>28</td>\n",
       "    </tr>\n",
       "    <tr>\n",
       "      <td>3</td>\n",
       "      <td>32</td>\n",
       "      <td>132834</td>\n",
       "      <td>25</td>\n",
       "    </tr>\n",
       "    <tr>\n",
       "      <td>4</td>\n",
       "      <td>97</td>\n",
       "      <td>135052</td>\n",
       "      <td>25</td>\n",
       "    </tr>\n",
       "    <tr>\n",
       "      <td>...</td>\n",
       "      <td>...</td>\n",
       "      <td>...</td>\n",
       "      <td>...</td>\n",
       "    </tr>\n",
       "    <tr>\n",
       "      <td>124</td>\n",
       "      <td>62</td>\n",
       "      <td>134987</td>\n",
       "      <td>2</td>\n",
       "    </tr>\n",
       "    <tr>\n",
       "      <td>125</td>\n",
       "      <td>17</td>\n",
       "      <td>132668</td>\n",
       "      <td>1</td>\n",
       "    </tr>\n",
       "    <tr>\n",
       "      <td>126</td>\n",
       "      <td>19</td>\n",
       "      <td>132715</td>\n",
       "      <td>1</td>\n",
       "    </tr>\n",
       "    <tr>\n",
       "      <td>127</td>\n",
       "      <td>2</td>\n",
       "      <td>132564</td>\n",
       "      <td>1</td>\n",
       "    </tr>\n",
       "    <tr>\n",
       "      <td>128</td>\n",
       "      <td>58</td>\n",
       "      <td>134975</td>\n",
       "      <td>1</td>\n",
       "    </tr>\n",
       "  </tbody>\n",
       "</table>\n",
       "<p>129 rows × 3 columns</p>\n",
       "</div>"
      ],
      "text/plain": [
       "     index  placeID  score\n",
       "0      122   135085     36\n",
       "1       30   132825     32\n",
       "2       79   135032     28\n",
       "3       32   132834     25\n",
       "4       97   135052     25\n",
       "..     ...      ...    ...\n",
       "124     62   134987      2\n",
       "125     17   132668      1\n",
       "126     19   132715      1\n",
       "127      2   132564      1\n",
       "128     58   134975      1\n",
       "\n",
       "[129 rows x 3 columns]"
      ]
     },
     "execution_count": 59,
     "metadata": {},
     "output_type": "execute_result"
    }
   ],
   "source": [
    "data_sorted"
   ]
  },
  {
   "cell_type": "code",
   "execution_count": 60,
   "metadata": {},
   "outputs": [
    {
     "data": {
      "text/html": [
       "<div>\n",
       "<style scoped>\n",
       "    .dataframe tbody tr th:only-of-type {\n",
       "        vertical-align: middle;\n",
       "    }\n",
       "\n",
       "    .dataframe tbody tr th {\n",
       "        vertical-align: top;\n",
       "    }\n",
       "\n",
       "    .dataframe thead th {\n",
       "        text-align: right;\n",
       "    }\n",
       "</style>\n",
       "<table border=\"1\" class=\"dataframe\">\n",
       "  <thead>\n",
       "    <tr style=\"text-align: right;\">\n",
       "      <th></th>\n",
       "      <th>placeID</th>\n",
       "      <th>score</th>\n",
       "    </tr>\n",
       "  </thead>\n",
       "  <tbody>\n",
       "    <tr>\n",
       "      <td>0</td>\n",
       "      <td>135085</td>\n",
       "      <td>36</td>\n",
       "    </tr>\n",
       "    <tr>\n",
       "      <td>1</td>\n",
       "      <td>132825</td>\n",
       "      <td>32</td>\n",
       "    </tr>\n",
       "    <tr>\n",
       "      <td>2</td>\n",
       "      <td>135032</td>\n",
       "      <td>28</td>\n",
       "    </tr>\n",
       "    <tr>\n",
       "      <td>3</td>\n",
       "      <td>132834</td>\n",
       "      <td>25</td>\n",
       "    </tr>\n",
       "    <tr>\n",
       "      <td>4</td>\n",
       "      <td>135052</td>\n",
       "      <td>25</td>\n",
       "    </tr>\n",
       "  </tbody>\n",
       "</table>\n",
       "</div>"
      ],
      "text/plain": [
       "   placeID  score\n",
       "0   135085     36\n",
       "1   132825     32\n",
       "2   135032     28\n",
       "3   132834     25\n",
       "4   135052     25"
      ]
     },
     "execution_count": 60,
     "metadata": {},
     "output_type": "execute_result"
    }
   ],
   "source": [
    "data_sorted = data_sorted.drop([\"index\"], axis = 1)\n",
    "data_sorted.head()"
   ]
  },
  {
   "cell_type": "markdown",
   "metadata": {
    "id": "x3dVCrnStmEI"
   },
   "source": [
    "### 3.3 Create a new column called 'Rank' having the ascending recommendation rank based upon score "
   ]
  },
  {
   "cell_type": "code",
   "execution_count": 61,
   "metadata": {
    "id": "129MZyWnt5pD"
   },
   "outputs": [],
   "source": [
    "data_sorted[\"Rank\"] = data_sorted[\"score\"].rank(ascending=0, method=\"dense\")"
   ]
  },
  {
   "cell_type": "code",
   "execution_count": 62,
   "metadata": {},
   "outputs": [
    {
     "data": {
      "text/html": [
       "<div>\n",
       "<style scoped>\n",
       "    .dataframe tbody tr th:only-of-type {\n",
       "        vertical-align: middle;\n",
       "    }\n",
       "\n",
       "    .dataframe tbody tr th {\n",
       "        vertical-align: top;\n",
       "    }\n",
       "\n",
       "    .dataframe thead th {\n",
       "        text-align: right;\n",
       "    }\n",
       "</style>\n",
       "<table border=\"1\" class=\"dataframe\">\n",
       "  <thead>\n",
       "    <tr style=\"text-align: right;\">\n",
       "      <th></th>\n",
       "      <th>placeID</th>\n",
       "      <th>score</th>\n",
       "      <th>Rank</th>\n",
       "    </tr>\n",
       "  </thead>\n",
       "  <tbody>\n",
       "    <tr>\n",
       "      <td>0</td>\n",
       "      <td>135085</td>\n",
       "      <td>36</td>\n",
       "      <td>1.0</td>\n",
       "    </tr>\n",
       "    <tr>\n",
       "      <td>1</td>\n",
       "      <td>132825</td>\n",
       "      <td>32</td>\n",
       "      <td>2.0</td>\n",
       "    </tr>\n",
       "    <tr>\n",
       "      <td>2</td>\n",
       "      <td>135032</td>\n",
       "      <td>28</td>\n",
       "      <td>3.0</td>\n",
       "    </tr>\n",
       "    <tr>\n",
       "      <td>3</td>\n",
       "      <td>132834</td>\n",
       "      <td>25</td>\n",
       "      <td>4.0</td>\n",
       "    </tr>\n",
       "    <tr>\n",
       "      <td>4</td>\n",
       "      <td>135052</td>\n",
       "      <td>25</td>\n",
       "      <td>4.0</td>\n",
       "    </tr>\n",
       "  </tbody>\n",
       "</table>\n",
       "</div>"
      ],
      "text/plain": [
       "   placeID  score  Rank\n",
       "0   135085     36   1.0\n",
       "1   132825     32   2.0\n",
       "2   135032     28   3.0\n",
       "3   132834     25   4.0\n",
       "4   135052     25   4.0"
      ]
     },
     "execution_count": 62,
     "metadata": {},
     "output_type": "execute_result"
    }
   ],
   "source": [
    "data_sorted.head()"
   ]
  },
  {
   "cell_type": "markdown",
   "metadata": {
    "id": "MrDoFdIat57_"
   },
   "source": [
    "### 3.4 Get the top 10 recommendation based on their rank"
   ]
  },
  {
   "cell_type": "code",
   "execution_count": 63,
   "metadata": {
    "id": "zMcHByKGuGi9"
   },
   "outputs": [
    {
     "name": "stdout",
     "output_type": "stream",
     "text": [
      "Enter no of recommendations needed5\n"
     ]
    }
   ],
   "source": [
    "top_x = input(\"Enter no of recommendations needed\")\n",
    "top_x = int(top_x)"
   ]
  },
  {
   "cell_type": "code",
   "execution_count": 64,
   "metadata": {},
   "outputs": [],
   "source": [
    "recommendations = data_sorted[\"placeID\"].head(top_x)"
   ]
  },
  {
   "cell_type": "code",
   "execution_count": 65,
   "metadata": {},
   "outputs": [
    {
     "data": {
      "text/plain": [
       "0    135085\n",
       "1    132825\n",
       "2    135032\n",
       "3    132834\n",
       "4    135052\n",
       "Name: placeID, dtype: int64"
      ]
     },
     "execution_count": 65,
     "metadata": {},
     "output_type": "execute_result"
    }
   ],
   "source": [
    "recommendations"
   ]
  },
  {
   "cell_type": "markdown",
   "metadata": {
    "id": "LBcn_Y6t72US"
   },
   "source": [
    "## 4. Collaborative Filtering model"
   ]
  },
  {
   "cell_type": "markdown",
   "metadata": {
    "id": "KxZCf2mZJlBY"
   },
   "source": [
    "### 4.1 Define rating scale and convert dataframe into surprise dataset"
   ]
  },
  {
   "cell_type": "code",
   "execution_count": 69,
   "metadata": {
    "id": "pvYVjXXJ723m"
   },
   "outputs": [
    {
     "data": {
      "text/plain": [
       "<surprise.dataset.DatasetAutoFolds at 0x20eb7841d08>"
      ]
     },
     "execution_count": 69,
     "metadata": {},
     "output_type": "execute_result"
    }
   ],
   "source": [
    "from surprise import Dataset,Reader\n",
    "\n",
    "reader = Reader(rating_scale = (0,2))\n",
    "data = Dataset.load_from_df(df_final[[\"userID\", \"placeID\", \"rating\"]], reader)\n",
    "data"
   ]
  },
  {
   "cell_type": "markdown",
   "metadata": {
    "id": "oeo9NKqAJs3n"
   },
   "source": [
    "### 4.2 Split the above surprise dataset into train and test set using surprise split function"
   ]
  },
  {
   "cell_type": "code",
   "execution_count": 70,
   "metadata": {
    "id": "ezjRaZ4eJ2hT"
   },
   "outputs": [],
   "source": [
    "from surprise.model_selection import train_test_split\n",
    "trainset, testset = train_test_split(data, test_size=0.25, random_state=1)"
   ]
  },
  {
   "cell_type": "markdown",
   "metadata": {
    "id": "AXU_HB_DJ3BC"
   },
   "source": [
    "### 4.3 Print size of train and test set"
   ]
  },
  {
   "cell_type": "code",
   "execution_count": 74,
   "metadata": {
    "id": "WhWC3AhoJ6oC"
   },
   "outputs": [
    {
     "data": {
      "text/html": [
       "<div>\n",
       "<style scoped>\n",
       "    .dataframe tbody tr th:only-of-type {\n",
       "        vertical-align: middle;\n",
       "    }\n",
       "\n",
       "    .dataframe tbody tr th {\n",
       "        vertical-align: top;\n",
       "    }\n",
       "\n",
       "    .dataframe thead th {\n",
       "        text-align: right;\n",
       "    }\n",
       "</style>\n",
       "<table border=\"1\" class=\"dataframe\">\n",
       "  <thead>\n",
       "    <tr style=\"text-align: right;\">\n",
       "      <th></th>\n",
       "      <th>userID</th>\n",
       "      <th>placeID</th>\n",
       "      <th>rating</th>\n",
       "    </tr>\n",
       "  </thead>\n",
       "  <tbody>\n",
       "    <tr>\n",
       "      <td>0</td>\n",
       "      <td>U1069</td>\n",
       "      <td>132847</td>\n",
       "      <td>0.0</td>\n",
       "    </tr>\n",
       "    <tr>\n",
       "      <td>1</td>\n",
       "      <td>U1069</td>\n",
       "      <td>135082</td>\n",
       "      <td>0.0</td>\n",
       "    </tr>\n",
       "    <tr>\n",
       "      <td>2</td>\n",
       "      <td>U1069</td>\n",
       "      <td>135108</td>\n",
       "      <td>0.0</td>\n",
       "    </tr>\n",
       "    <tr>\n",
       "      <td>3</td>\n",
       "      <td>U1069</td>\n",
       "      <td>132845</td>\n",
       "      <td>0.0</td>\n",
       "    </tr>\n",
       "    <tr>\n",
       "      <td>4</td>\n",
       "      <td>U1069</td>\n",
       "      <td>135069</td>\n",
       "      <td>0.0</td>\n",
       "    </tr>\n",
       "    <tr>\n",
       "      <td>...</td>\n",
       "      <td>...</td>\n",
       "      <td>...</td>\n",
       "      <td>...</td>\n",
       "    </tr>\n",
       "    <tr>\n",
       "      <td>804</td>\n",
       "      <td>U1007</td>\n",
       "      <td>135058</td>\n",
       "      <td>1.0</td>\n",
       "    </tr>\n",
       "    <tr>\n",
       "      <td>805</td>\n",
       "      <td>U1007</td>\n",
       "      <td>135108</td>\n",
       "      <td>1.0</td>\n",
       "    </tr>\n",
       "    <tr>\n",
       "      <td>806</td>\n",
       "      <td>U1065</td>\n",
       "      <td>132654</td>\n",
       "      <td>1.0</td>\n",
       "    </tr>\n",
       "    <tr>\n",
       "      <td>807</td>\n",
       "      <td>U1065</td>\n",
       "      <td>132706</td>\n",
       "      <td>2.0</td>\n",
       "    </tr>\n",
       "    <tr>\n",
       "      <td>808</td>\n",
       "      <td>U1065</td>\n",
       "      <td>132665</td>\n",
       "      <td>1.0</td>\n",
       "    </tr>\n",
       "  </tbody>\n",
       "</table>\n",
       "<p>809 rows × 3 columns</p>\n",
       "</div>"
      ],
      "text/plain": [
       "    userID  placeID  rating\n",
       "0    U1069   132847     0.0\n",
       "1    U1069   135082     0.0\n",
       "2    U1069   135108     0.0\n",
       "3    U1069   132845     0.0\n",
       "4    U1069   135069     0.0\n",
       "..     ...      ...     ...\n",
       "804  U1007   135058     1.0\n",
       "805  U1007   135108     1.0\n",
       "806  U1065   132654     1.0\n",
       "807  U1065   132706     2.0\n",
       "808  U1065   132665     1.0\n",
       "\n",
       "[809 rows x 3 columns]"
      ]
     },
     "execution_count": 74,
     "metadata": {},
     "output_type": "execute_result"
    }
   ],
   "source": [
    "userID = []\n",
    "placeID = []\n",
    "ratings = []\n",
    "\n",
    "for (uid, iid, rating) in trainset.all_ratings():\n",
    "    userID.append(trainset.to_raw_uid(uid))\n",
    "    placeID.append(trainset.to_raw_iid(iid))\n",
    "    ratings.append(rating)\n",
    "dict = {\"userID\" : userID, \"placeID\" : placeID, \"rating\" :ratings}\n",
    "training_df = pd.DataFrame(dict)\n",
    "training_df"
   ]
  },
  {
   "cell_type": "code",
   "execution_count": 78,
   "metadata": {},
   "outputs": [
    {
     "data": {
      "text/plain": [
       "809"
      ]
     },
     "execution_count": 78,
     "metadata": {},
     "output_type": "execute_result"
    }
   ],
   "source": [
    "trainset.n_ratings"
   ]
  },
  {
   "cell_type": "code",
   "execution_count": 76,
   "metadata": {},
   "outputs": [
    {
     "data": {
      "text/plain": [
       "[('U1062', 135085, 0.0),\n",
       " ('U1112', 135026, 1.0),\n",
       " ('U1113', 135046, 2.0),\n",
       " ('U1081', 135043, 0.0),\n",
       " ('U1064', 135052, 2.0),\n",
       " ('U1053', 132825, 1.0),\n",
       " ('U1056', 135085, 2.0),\n",
       " ('U1045', 132834, 1.0),\n",
       " ('U1088', 135082, 2.0),\n",
       " ('U1075', 135066, 2.0),\n",
       " ('U1048', 135034, 2.0),\n",
       " ('U1006', 132572, 1.0),\n",
       " ('U1033', 135045, 2.0),\n",
       " ('U1050', 132560, 0.0),\n",
       " ('U1043', 132613, 1.0),\n",
       " ('U1058', 135076, 2.0),\n",
       " ('U1019', 132834, 0.0),\n",
       " ('U1049', 135085, 0.0),\n",
       " ('U1100', 134976, 2.0),\n",
       " ('U1013', 135085, 1.0),\n",
       " ('U1066', 135019, 2.0),\n",
       " ('U1059', 132754, 2.0),\n",
       " ('U1085', 132872, 0.0),\n",
       " ('U1064', 135060, 1.0),\n",
       " ('U1049', 135042, 0.0),\n",
       " ('U1126', 135057, 2.0),\n",
       " ('U1098', 132825, 1.0),\n",
       " ('U1013', 132951, 2.0),\n",
       " ('U1112', 132572, 0.0),\n",
       " ('U1086', 135063, 1.0),\n",
       " ('U1033', 132572, 1.0),\n",
       " ('U1026', 132654, 0.0),\n",
       " ('U1022', 135081, 0.0),\n",
       " ('U1003', 132862, 1.0),\n",
       " ('U1084', 132723, 1.0),\n",
       " ('U1050', 132609, 0.0),\n",
       " ('U1108', 132723, 2.0),\n",
       " ('U1033', 132951, 2.0),\n",
       " ('U1120', 132846, 2.0),\n",
       " ('U1100', 132768, 2.0),\n",
       " ('U1068', 132594, 1.0),\n",
       " ('U1092', 135085, 0.0),\n",
       " ('U1018', 135043, 0.0),\n",
       " ('U1027', 135085, 1.0),\n",
       " ('U1045', 135032, 0.0),\n",
       " ('U1104', 132834, 1.0),\n",
       " ('U1092', 132572, 1.0),\n",
       " ('U1018', 135066, 1.0),\n",
       " ('U1083', 132723, 1.0),\n",
       " ('U1027', 135042, 1.0),\n",
       " ('U1082', 132732, 0.0),\n",
       " ('U1044', 132583, 1.0),\n",
       " ('U1134', 135026, 0.0),\n",
       " ('U1101', 135038, 2.0),\n",
       " ('U1114', 132951, 0.0),\n",
       " ('U1081', 135032, 0.0),\n",
       " ('U1111', 135071, 2.0),\n",
       " ('U1068', 132660, 0.0),\n",
       " ('U1111', 132851, 2.0),\n",
       " ('U1016', 132856, 2.0),\n",
       " ('U1015', 135071, 0.0),\n",
       " ('U1015', 132877, 1.0),\n",
       " ('U1063', 135104, 1.0),\n",
       " ('U1083', 135074, 2.0),\n",
       " ('U1075', 132834, 1.0),\n",
       " ('U1134', 135075, 2.0),\n",
       " ('U1082', 132608, 0.0),\n",
       " ('U1022', 135060, 1.0),\n",
       " ('U1098', 135085, 1.0),\n",
       " ('U1108', 135058, 1.0),\n",
       " ('U1087', 132560, 1.0),\n",
       " ('U1136', 135046, 2.0),\n",
       " ('U1022', 135052, 2.0),\n",
       " ('U1137', 132723, 2.0),\n",
       " ('U1108', 135074, 2.0),\n",
       " ('U1028', 132663, 0.0),\n",
       " ('U1065', 132626, 1.0),\n",
       " ('U1135', 132834, 0.0),\n",
       " ('U1007', 135032, 1.0),\n",
       " ('U1106', 132754, 2.0),\n",
       " ('U1007', 132572, 1.0),\n",
       " ('U1061', 135075, 2.0),\n",
       " ('U1093', 134999, 2.0),\n",
       " ('U1036', 132754, 2.0),\n",
       " ('U1004', 135060, 1.0),\n",
       " ('U1094', 135108, 0.0),\n",
       " ('U1105', 135052, 0.0),\n",
       " ('U1057', 135043, 1.0),\n",
       " ('U1069', 135070, 0.0),\n",
       " ('U1057', 132825, 1.0),\n",
       " ('U1126', 135052, 2.0),\n",
       " ('U1048', 135026, 2.0),\n",
       " ('U1046', 132572, 1.0),\n",
       " ('U1099', 132872, 1.0),\n",
       " ('U1113', 135085, 1.0),\n",
       " ('U1071', 135060, 1.0),\n",
       " ('U1136', 135048, 1.0),\n",
       " ('U1094', 135069, 0.0),\n",
       " ('U1132', 135027, 2.0),\n",
       " ('U1109', 135032, 2.0),\n",
       " ('U1134', 135055, 2.0),\n",
       " ('U1096', 135026, 2.0),\n",
       " ('U1094', 135054, 0.0),\n",
       " ('U1103', 132663, 1.0),\n",
       " ('U1089', 132834, 1.0),\n",
       " ('U1059', 135064, 1.0),\n",
       " ('U1038', 132862, 2.0),\n",
       " ('U1075', 135050, 2.0),\n",
       " ('U1137', 132825, 2.0),\n",
       " ('U1014', 135082, 0.0),\n",
       " ('U1019', 132856, 0.0),\n",
       " ('U1083', 132755, 2.0),\n",
       " ('U1095', 132723, 2.0),\n",
       " ('U1057', 135075, 0.0),\n",
       " ('U1109', 132872, 1.0),\n",
       " ('U1122', 135085, 2.0),\n",
       " ('U1135', 135058, 0.0),\n",
       " ('U1137', 132951, 2.0),\n",
       " ('U1001', 135033, 1.0),\n",
       " ('U1134', 135044, 1.0),\n",
       " ('U1028', 132613, 2.0),\n",
       " ('U1057', 132862, 1.0),\n",
       " ('U1102', 132847, 2.0),\n",
       " ('U1102', 132854, 2.0),\n",
       " ('U1009', 132754, 1.0),\n",
       " ('U1128', 132921, 0.0),\n",
       " ('U1106', 135028, 2.0),\n",
       " ('U1036', 135064, 2.0),\n",
       " ('U1098', 132862, 1.0),\n",
       " ('U1008', 135054, 1.0),\n",
       " ('U1105', 132830, 0.0),\n",
       " ('U1014', 135081, 2.0),\n",
       " ('U1002', 135062, 1.0),\n",
       " ('U1058', 135066, 1.0),\n",
       " ('U1046', 135065, 2.0),\n",
       " ('U1109', 135058, 2.0),\n",
       " ('U1015', 132869, 2.0),\n",
       " ('U1001', 135039, 1.0),\n",
       " ('U1090', 132925, 2.0),\n",
       " ('U1106', 135039, 2.0),\n",
       " ('U1076', 135038, 1.0),\n",
       " ('U1128', 132951, 0.0),\n",
       " ('U1001', 135051, 1.0),\n",
       " ('U1103', 135104, 1.0),\n",
       " ('U1081', 135028, 1.0),\n",
       " ('U1035', 135000, 2.0),\n",
       " ('U1112', 132834, 1.0),\n",
       " ('U1010', 135042, 2.0),\n",
       " ('U1099', 135045, 1.0),\n",
       " ('U1001', 132825, 2.0),\n",
       " ('U1075', 135076, 2.0),\n",
       " ('U1098', 135060, 2.0),\n",
       " ('U1014', 132830, 2.0),\n",
       " ('U1104', 135085, 2.0),\n",
       " ('U1061', 135058, 1.0),\n",
       " ('U1073', 132862, 0.0),\n",
       " ('U1041', 135109, 1.0),\n",
       " ('U1109', 135085, 2.0),\n",
       " ('U1125', 135060, 1.0),\n",
       " ('U1004', 132955, 2.0),\n",
       " ('U1101', 135027, 2.0),\n",
       " ('U1034', 135055, 0.0),\n",
       " ('U1106', 135079, 2.0),\n",
       " ('U1055', 135028, 2.0),\n",
       " ('U1004', 132954, 2.0),\n",
       " ('U1102', 132870, 2.0),\n",
       " ('U1115', 135082, 2.0),\n",
       " ('U1058', 135043, 1.0),\n",
       " ('U1106', 135062, 2.0),\n",
       " ('U1042', 134996, 2.0),\n",
       " ('U1015', 132866, 0.0),\n",
       " ('U1088', 135070, 2.0),\n",
       " ('U1055', 135047, 2.0),\n",
       " ('U1038', 132854, 1.0),\n",
       " ('U1048', 132755, 2.0),\n",
       " ('U1106', 135106, 0.0),\n",
       " ('U1122', 132754, 2.0),\n",
       " ('U1035', 132583, 1.0),\n",
       " ('U1112', 135048, 0.0),\n",
       " ('U1112', 132862, 1.0),\n",
       " ('U1061', 132572, 1.0),\n",
       " ('U1061', 132955, 2.0),\n",
       " ('U1076', 135027, 0.0),\n",
       " ('U1067', 132733, 1.0),\n",
       " ('U1018', 135081, 1.0),\n",
       " ('U1133', 135019, 1.0),\n",
       " ('U1134', 135047, 1.0),\n",
       " ('U1065', 132561, 1.0),\n",
       " ('U1089', 132754, 1.0),\n",
       " ('U1099', 135042, 1.0),\n",
       " ('U1013', 135060, 1.0),\n",
       " ('U1019', 135086, 0.0),\n",
       " ('U1027', 135066, 0.0),\n",
       " ('U1059', 135028, 1.0),\n",
       " ('U1007', 135038, 1.0),\n",
       " ('U1028', 132733, 1.0),\n",
       " ('U1034', 135086, 1.0),\n",
       " ('U1083', 135034, 2.0),\n",
       " ('U1075', 132830, 1.0),\n",
       " ('U1030', 135109, 0.0),\n",
       " ('U1122', 135058, 2.0),\n",
       " ('U1066', 135011, 1.0),\n",
       " ('U1119', 132583, 2.0),\n",
       " ('U1043', 132630, 1.0),\n",
       " ('U1053', 135042, 2.0),\n",
       " ('U1058', 135058, 2.0),\n",
       " ('U1042', 134986, 2.0),\n",
       " ('U1009', 135063, 0.0),\n",
       " ('U1069', 132858, 0.0),\n",
       " ('U1104', 132825, 1.0),\n",
       " ('U1099', 135038, 0.0),\n",
       " ('U1003', 135079, 2.0),\n",
       " ('U1113', 135057, 2.0),\n",
       " ('U1125', 135081, 0.0),\n",
       " ('U1136', 135055, 2.0),\n",
       " ('U1090', 135085, 2.0),\n",
       " ('U1109', 135038, 2.0),\n",
       " ('U1059', 132955, 2.0),\n",
       " ('U1054', 135032, 1.0),\n",
       " ('U1124', 135032, 1.0),\n",
       " ('U1003', 132825, 2.0),\n",
       " ('U1135', 135063, 0.0),\n",
       " ('U1037', 135071, 1.0),\n",
       " ('U1116', 135030, 1.0),\n",
       " ('U1128', 135053, 0.0),\n",
       " ('U1053', 135038, 2.0),\n",
       " ('U1096', 132875, 2.0),\n",
       " ('U1082', 132630, 1.0),\n",
       " ('U1088', 135081, 1.0),\n",
       " ('U1103', 132584, 1.0),\n",
       " ('U1112', 132954, 0.0),\n",
       " ('U1101', 135051, 2.0),\n",
       " ('U1045', 132856, 1.0),\n",
       " ('U1029', 132937, 1.0),\n",
       " ('U1131', 135082, 0.0),\n",
       " ('U1009', 135079, 1.0),\n",
       " ('U1095', 135035, 2.0),\n",
       " ('U1069', 132846, 0.0),\n",
       " ('U1135', 135052, 0.0),\n",
       " ('U1071', 135028, 2.0),\n",
       " ('U1001', 135045, 1.0),\n",
       " ('U1098', 135046, 1.0),\n",
       " ('U1056', 135051, 2.0),\n",
       " ('U1105', 135069, 0.0),\n",
       " ('U1009', 135052, 2.0),\n",
       " ('U1114', 135065, 0.0),\n",
       " ('U1105', 135033, 0.0),\n",
       " ('U1010', 135079, 0.0),\n",
       " ('U1055', 132754, 2.0),\n",
       " ('U1003', 135075, 2.0),\n",
       " ('U1002', 135041, 2.0),\n",
       " ('U1054', 135052, 2.0),\n",
       " ('U1099', 135066, 1.0),\n",
       " ('U1037', 135108, 2.0),\n",
       " ('U1092', 135046, 0.0),\n",
       " ('U1125', 135043, 1.0),\n",
       " ('U1057', 135046, 1.0),\n",
       " ('U1104', 135039, 0.0),\n",
       " ('U1025', 135071, 2.0),\n",
       " ('U1024', 135038, 1.0),\n",
       " ('U1009', 135059, 2.0),\n",
       " ('U1003', 135064, 0.0),\n",
       " ('U1055', 132572, 2.0),\n",
       " ('U1053', 135032, 2.0),\n",
       " ('U1006', 132884, 2.0),\n",
       " ('U1013', 135075, 2.0),\n",
       " ('U1122', 135079, 2.0),\n",
       " ('U1025', 132877, 1.0),\n",
       " ('U1126', 135041, 2.0),\n",
       " ('U1087', 132732, 2.0)]"
      ]
     },
     "execution_count": 76,
     "metadata": {},
     "output_type": "execute_result"
    }
   ],
   "source": [
    "testset"
   ]
  },
  {
   "cell_type": "markdown",
   "metadata": {
    "id": "CQMRPmkhJ7FE"
   },
   "source": [
    "### 4.4 Build a default SVd model using train set"
   ]
  },
  {
   "cell_type": "code",
   "execution_count": null,
   "metadata": {},
   "outputs": [],
   "source": []
  },
  {
   "cell_type": "code",
   "execution_count": 80,
   "metadata": {
    "id": "u2ih14bsKEDJ"
   },
   "outputs": [
    {
     "data": {
      "text/plain": [
       "<surprise.prediction_algorithms.matrix_factorization.SVD at 0x20eb78b2388>"
      ]
     },
     "execution_count": 80,
     "metadata": {},
     "output_type": "execute_result"
    }
   ],
   "source": [
    "from surprise import SVD\n",
    "svd_model = SVD(random_state=1)\n",
    "svd_model.fit(trainset)"
   ]
  },
  {
   "cell_type": "markdown",
   "metadata": {
    "id": "jPECI2QpKFjv"
   },
   "source": [
    "### 4.5 Make prediction for test set and convert test prediction into a dataframe"
   ]
  },
  {
   "cell_type": "code",
   "execution_count": 81,
   "metadata": {
    "id": "pjzZ5nX-KO8F"
   },
   "outputs": [],
   "source": [
    "train_pred = svd_model.test(trainset.build_testset())\n",
    "test_pred = svd_model.test(testset)"
   ]
  },
  {
   "cell_type": "code",
   "execution_count": 82,
   "metadata": {},
   "outputs": [
    {
     "data": {
      "text/html": [
       "<div>\n",
       "<style scoped>\n",
       "    .dataframe tbody tr th:only-of-type {\n",
       "        vertical-align: middle;\n",
       "    }\n",
       "\n",
       "    .dataframe tbody tr th {\n",
       "        vertical-align: top;\n",
       "    }\n",
       "\n",
       "    .dataframe thead th {\n",
       "        text-align: right;\n",
       "    }\n",
       "</style>\n",
       "<table border=\"1\" class=\"dataframe\">\n",
       "  <thead>\n",
       "    <tr style=\"text-align: right;\">\n",
       "      <th></th>\n",
       "      <th>uid</th>\n",
       "      <th>iid</th>\n",
       "      <th>r_ui</th>\n",
       "      <th>est</th>\n",
       "      <th>details</th>\n",
       "    </tr>\n",
       "  </thead>\n",
       "  <tbody>\n",
       "    <tr>\n",
       "      <td>0</td>\n",
       "      <td>U1062</td>\n",
       "      <td>135085</td>\n",
       "      <td>0.0</td>\n",
       "      <td>0.819938</td>\n",
       "      <td>{'was_impossible': False}</td>\n",
       "    </tr>\n",
       "    <tr>\n",
       "      <td>1</td>\n",
       "      <td>U1112</td>\n",
       "      <td>135026</td>\n",
       "      <td>1.0</td>\n",
       "      <td>0.891964</td>\n",
       "      <td>{'was_impossible': False}</td>\n",
       "    </tr>\n",
       "    <tr>\n",
       "      <td>2</td>\n",
       "      <td>U1113</td>\n",
       "      <td>135046</td>\n",
       "      <td>2.0</td>\n",
       "      <td>0.888664</td>\n",
       "      <td>{'was_impossible': False}</td>\n",
       "    </tr>\n",
       "    <tr>\n",
       "      <td>3</td>\n",
       "      <td>U1081</td>\n",
       "      <td>135043</td>\n",
       "      <td>0.0</td>\n",
       "      <td>0.787662</td>\n",
       "      <td>{'was_impossible': False}</td>\n",
       "    </tr>\n",
       "    <tr>\n",
       "      <td>4</td>\n",
       "      <td>U1064</td>\n",
       "      <td>135052</td>\n",
       "      <td>2.0</td>\n",
       "      <td>1.111542</td>\n",
       "      <td>{'was_impossible': False}</td>\n",
       "    </tr>\n",
       "  </tbody>\n",
       "</table>\n",
       "</div>"
      ],
      "text/plain": [
       "     uid     iid  r_ui       est                    details\n",
       "0  U1062  135085   0.0  0.819938  {'was_impossible': False}\n",
       "1  U1112  135026   1.0  0.891964  {'was_impossible': False}\n",
       "2  U1113  135046   2.0  0.888664  {'was_impossible': False}\n",
       "3  U1081  135043   0.0  0.787662  {'was_impossible': False}\n",
       "4  U1064  135052   2.0  1.111542  {'was_impossible': False}"
      ]
     },
     "execution_count": 82,
     "metadata": {},
     "output_type": "execute_result"
    }
   ],
   "source": [
    "pred_df = pd.DataFrame(test_pred)\n",
    "pred_df.head()"
   ]
  },
  {
   "cell_type": "code",
   "execution_count": 83,
   "metadata": {},
   "outputs": [
    {
     "data": {
      "text/html": [
       "<div>\n",
       "<style scoped>\n",
       "    .dataframe tbody tr th:only-of-type {\n",
       "        vertical-align: middle;\n",
       "    }\n",
       "\n",
       "    .dataframe tbody tr th {\n",
       "        vertical-align: top;\n",
       "    }\n",
       "\n",
       "    .dataframe thead th {\n",
       "        text-align: right;\n",
       "    }\n",
       "</style>\n",
       "<table border=\"1\" class=\"dataframe\">\n",
       "  <thead>\n",
       "    <tr style=\"text-align: right;\">\n",
       "      <th></th>\n",
       "      <th>uid</th>\n",
       "      <th>iid</th>\n",
       "      <th>r_ui</th>\n",
       "      <th>est</th>\n",
       "      <th>details</th>\n",
       "    </tr>\n",
       "  </thead>\n",
       "  <tbody>\n",
       "    <tr>\n",
       "      <td>0</td>\n",
       "      <td>U1069</td>\n",
       "      <td>132847</td>\n",
       "      <td>0.0</td>\n",
       "      <td>0.562865</td>\n",
       "      <td>{'was_impossible': False}</td>\n",
       "    </tr>\n",
       "    <tr>\n",
       "      <td>1</td>\n",
       "      <td>U1069</td>\n",
       "      <td>135082</td>\n",
       "      <td>0.0</td>\n",
       "      <td>0.574818</td>\n",
       "      <td>{'was_impossible': False}</td>\n",
       "    </tr>\n",
       "    <tr>\n",
       "      <td>2</td>\n",
       "      <td>U1069</td>\n",
       "      <td>135108</td>\n",
       "      <td>0.0</td>\n",
       "      <td>0.566819</td>\n",
       "      <td>{'was_impossible': False}</td>\n",
       "    </tr>\n",
       "    <tr>\n",
       "      <td>3</td>\n",
       "      <td>U1069</td>\n",
       "      <td>132845</td>\n",
       "      <td>0.0</td>\n",
       "      <td>0.620233</td>\n",
       "      <td>{'was_impossible': False}</td>\n",
       "    </tr>\n",
       "    <tr>\n",
       "      <td>4</td>\n",
       "      <td>U1069</td>\n",
       "      <td>135069</td>\n",
       "      <td>0.0</td>\n",
       "      <td>0.479389</td>\n",
       "      <td>{'was_impossible': False}</td>\n",
       "    </tr>\n",
       "  </tbody>\n",
       "</table>\n",
       "</div>"
      ],
      "text/plain": [
       "     uid     iid  r_ui       est                    details\n",
       "0  U1069  132847   0.0  0.562865  {'was_impossible': False}\n",
       "1  U1069  135082   0.0  0.574818  {'was_impossible': False}\n",
       "2  U1069  135108   0.0  0.566819  {'was_impossible': False}\n",
       "3  U1069  132845   0.0  0.620233  {'was_impossible': False}\n",
       "4  U1069  135069   0.0  0.479389  {'was_impossible': False}"
      ]
     },
     "execution_count": 83,
     "metadata": {},
     "output_type": "execute_result"
    }
   ],
   "source": [
    "train_pred_df = pd.DataFrame(train_pred)\n",
    "train_pred_df.head()"
   ]
  },
  {
   "cell_type": "code",
   "execution_count": 85,
   "metadata": {},
   "outputs": [
    {
     "data": {
      "text/html": [
       "<div>\n",
       "<style scoped>\n",
       "    .dataframe tbody tr th:only-of-type {\n",
       "        vertical-align: middle;\n",
       "    }\n",
       "\n",
       "    .dataframe tbody tr th {\n",
       "        vertical-align: top;\n",
       "    }\n",
       "\n",
       "    .dataframe thead th {\n",
       "        text-align: right;\n",
       "    }\n",
       "</style>\n",
       "<table border=\"1\" class=\"dataframe\">\n",
       "  <thead>\n",
       "    <tr style=\"text-align: right;\">\n",
       "      <th></th>\n",
       "      <th>uid</th>\n",
       "      <th>iid</th>\n",
       "      <th>r_ui</th>\n",
       "      <th>est</th>\n",
       "      <th>details</th>\n",
       "    </tr>\n",
       "  </thead>\n",
       "  <tbody>\n",
       "    <tr>\n",
       "      <td>0</td>\n",
       "      <td>U1069</td>\n",
       "      <td>132847</td>\n",
       "      <td>0.0</td>\n",
       "      <td>0.562865</td>\n",
       "      <td>{'was_impossible': False}</td>\n",
       "    </tr>\n",
       "    <tr>\n",
       "      <td>1</td>\n",
       "      <td>U1069</td>\n",
       "      <td>135082</td>\n",
       "      <td>0.0</td>\n",
       "      <td>0.574818</td>\n",
       "      <td>{'was_impossible': False}</td>\n",
       "    </tr>\n",
       "    <tr>\n",
       "      <td>2</td>\n",
       "      <td>U1069</td>\n",
       "      <td>135108</td>\n",
       "      <td>0.0</td>\n",
       "      <td>0.566819</td>\n",
       "      <td>{'was_impossible': False}</td>\n",
       "    </tr>\n",
       "    <tr>\n",
       "      <td>3</td>\n",
       "      <td>U1069</td>\n",
       "      <td>132845</td>\n",
       "      <td>0.0</td>\n",
       "      <td>0.620233</td>\n",
       "      <td>{'was_impossible': False}</td>\n",
       "    </tr>\n",
       "    <tr>\n",
       "      <td>4</td>\n",
       "      <td>U1069</td>\n",
       "      <td>135069</td>\n",
       "      <td>0.0</td>\n",
       "      <td>0.479389</td>\n",
       "      <td>{'was_impossible': False}</td>\n",
       "    </tr>\n",
       "  </tbody>\n",
       "</table>\n",
       "</div>"
      ],
      "text/plain": [
       "     uid     iid  r_ui       est                    details\n",
       "0  U1069  132847   0.0  0.562865  {'was_impossible': False}\n",
       "1  U1069  135082   0.0  0.574818  {'was_impossible': False}\n",
       "2  U1069  135108   0.0  0.566819  {'was_impossible': False}\n",
       "3  U1069  132845   0.0  0.620233  {'was_impossible': False}\n",
       "4  U1069  135069   0.0  0.479389  {'was_impossible': False}"
      ]
     },
     "execution_count": 85,
     "metadata": {},
     "output_type": "execute_result"
    }
   ],
   "source": [
    "train_pred_df.head(5)"
   ]
  },
  {
   "cell_type": "markdown",
   "metadata": {
    "id": "EPuLqMMvK0i-"
   },
   "source": [
    "### 4.6 Check RMSe and MAE of train and test predictions"
   ]
  },
  {
   "cell_type": "code",
   "execution_count": 86,
   "metadata": {
    "id": "WMD2jIFQK8Nv"
   },
   "outputs": [
    {
     "name": "stdout",
     "output_type": "stream",
     "text": [
      "RMSE: 0.4701\n",
      "Train RMSE:  0.47013627654207774\n",
      "RMSE: 0.6720\n",
      "Test RMSE:  0.671985990727099\n"
     ]
    }
   ],
   "source": [
    "print(\"Train RMSE: \", accuracy.rmse(train_pred))\n",
    "print(\"Test RMSE: \", accuracy.rmse(test_pred))"
   ]
  },
  {
   "cell_type": "code",
   "execution_count": 87,
   "metadata": {},
   "outputs": [
    {
     "name": "stdout",
     "output_type": "stream",
     "text": [
      "MAE:  0.3930\n",
      "Train MAE:  0.3930241461673168\n",
      "MAE:  0.5744\n",
      "Test MAE:  0.574449128052681\n"
     ]
    }
   ],
   "source": [
    "print(\"Train MAE: \", accuracy.mae(train_pred))\n",
    "print(\"Test MAE: \", accuracy.mae(test_pred))"
   ]
  },
  {
   "cell_type": "markdown",
   "metadata": {
    "id": "jdmpLp9AKPd2"
   },
   "source": [
    "### 4.7 Write a function to make top n recommendation to a user. The function should take a userID, data, and n as input arguments"
   ]
  },
  {
   "cell_type": "code",
   "execution_count": 88,
   "metadata": {
    "id": "r_hXx9JHKbkJ"
   },
   "outputs": [
    {
     "data": {
      "text/html": [
       "<div>\n",
       "<style scoped>\n",
       "    .dataframe tbody tr th:only-of-type {\n",
       "        vertical-align: middle;\n",
       "    }\n",
       "\n",
       "    .dataframe tbody tr th {\n",
       "        vertical-align: top;\n",
       "    }\n",
       "\n",
       "    .dataframe thead th {\n",
       "        text-align: right;\n",
       "    }\n",
       "</style>\n",
       "<table border=\"1\" class=\"dataframe\">\n",
       "  <thead>\n",
       "    <tr style=\"text-align: right;\">\n",
       "      <th></th>\n",
       "      <th>uid</th>\n",
       "      <th>iid</th>\n",
       "      <th>r_ui</th>\n",
       "      <th>est</th>\n",
       "      <th>details</th>\n",
       "    </tr>\n",
       "  </thead>\n",
       "  <tbody>\n",
       "    <tr>\n",
       "      <td>0</td>\n",
       "      <td>U1062</td>\n",
       "      <td>135085</td>\n",
       "      <td>0.0</td>\n",
       "      <td>0.819938</td>\n",
       "      <td>{'was_impossible': False}</td>\n",
       "    </tr>\n",
       "    <tr>\n",
       "      <td>1</td>\n",
       "      <td>U1112</td>\n",
       "      <td>135026</td>\n",
       "      <td>1.0</td>\n",
       "      <td>0.891964</td>\n",
       "      <td>{'was_impossible': False}</td>\n",
       "    </tr>\n",
       "    <tr>\n",
       "      <td>2</td>\n",
       "      <td>U1113</td>\n",
       "      <td>135046</td>\n",
       "      <td>2.0</td>\n",
       "      <td>0.888664</td>\n",
       "      <td>{'was_impossible': False}</td>\n",
       "    </tr>\n",
       "    <tr>\n",
       "      <td>3</td>\n",
       "      <td>U1081</td>\n",
       "      <td>135043</td>\n",
       "      <td>0.0</td>\n",
       "      <td>0.787662</td>\n",
       "      <td>{'was_impossible': False}</td>\n",
       "    </tr>\n",
       "    <tr>\n",
       "      <td>4</td>\n",
       "      <td>U1064</td>\n",
       "      <td>135052</td>\n",
       "      <td>2.0</td>\n",
       "      <td>1.111542</td>\n",
       "      <td>{'was_impossible': False}</td>\n",
       "    </tr>\n",
       "  </tbody>\n",
       "</table>\n",
       "</div>"
      ],
      "text/plain": [
       "     uid     iid  r_ui       est                    details\n",
       "0  U1062  135085   0.0  0.819938  {'was_impossible': False}\n",
       "1  U1112  135026   1.0  0.891964  {'was_impossible': False}\n",
       "2  U1113  135046   2.0  0.888664  {'was_impossible': False}\n",
       "3  U1081  135043   0.0  0.787662  {'was_impossible': False}\n",
       "4  U1064  135052   2.0  1.111542  {'was_impossible': False}"
      ]
     },
     "execution_count": 88,
     "metadata": {},
     "output_type": "execute_result"
    }
   ],
   "source": [
    "pred_df.head()"
   ]
  },
  {
   "cell_type": "code",
   "execution_count": 89,
   "metadata": {},
   "outputs": [],
   "source": [
    "from collections import defaultdict\n",
    "\n",
    "def get_top_n(preds, userid, n):\n",
    "    \n",
    "    top_n = defaultdict(list)\n",
    "    \n",
    "    for uid, iid, r_ui, est, details in preds:\n",
    "        top_n[uid].append((iid, est))\n",
    "        \n",
    "    for uid, user_ratings in top_n.items():\n",
    "        user_ratings.sort(key = lambda x:x[1], reverse = True)\n",
    "        top_n[uid] = user_ratings[:n]\n",
    "        \n",
    "    return top_n[userid]\n",
    "        \n",
    "        "
   ]
  },
  {
   "cell_type": "markdown",
   "metadata": {
    "id": "BvEbu68EKeQl"
   },
   "source": [
    "### 4.8 Check top 3 recommendations for userID:- 'U1028'"
   ]
  },
  {
   "cell_type": "code",
   "execution_count": 98,
   "metadata": {
    "id": "z56DRUedKivh"
   },
   "outputs": [
    {
     "data": {
      "text/plain": [
       "[(132733, 1.2203125720284387),\n",
       " (132613, 1.0673744682337087),\n",
       " (132663, 0.9067560954429552)]"
      ]
     },
     "execution_count": 98,
     "metadata": {},
     "output_type": "execute_result"
    }
   ],
   "source": [
    "get_top_n(test_pred, \"U1028\", 3)"
   ]
  },
  {
   "cell_type": "markdown",
   "metadata": {
    "id": "5DtGo7B_KlfA"
   },
   "source": [
    "## 5. Summarize your insights"
   ]
  },
  {
   "cell_type": "code",
   "execution_count": null,
   "metadata": {
    "id": "jGBGH3AwKoJG"
   },
   "outputs": [],
   "source": [
    "# It seems that for user U1028 the estimation are arounf 0.9 to 1.22 are the top ones."
   ]
  },
  {
   "cell_type": "markdown",
   "metadata": {
    "id": "csb4HP2hKoxO"
   },
   "source": [
    "## Optional\n",
    "### Use GridSearch CV to get the best parameters for SVD model"
   ]
  },
  {
   "cell_type": "code",
   "execution_count": 93,
   "metadata": {
    "id": "Qf59BdwiKzY8"
   },
   "outputs": [],
   "source": [
    "param = {\"n_factors\" : list(range(20, 200))}\n",
    "tuner = GridSearchCV(SVD, param, measures = [\"rmse\"], cv = 5)\n",
    "tuner.fit(data)"
   ]
  },
  {
   "cell_type": "code",
   "execution_count": 95,
   "metadata": {},
   "outputs": [
    {
     "data": {
      "text/plain": [
       "{'n_factors': 33}"
      ]
     },
     "execution_count": 95,
     "metadata": {},
     "output_type": "execute_result"
    }
   ],
   "source": [
    "tuner.best_params[\"rmse\"]"
   ]
  },
  {
   "cell_type": "code",
   "execution_count": 96,
   "metadata": {},
   "outputs": [
    {
     "data": {
      "text/plain": [
       "0.6538105713223048"
      ]
     },
     "execution_count": 96,
     "metadata": {},
     "output_type": "execute_result"
    }
   ],
   "source": [
    "tuner.best_score[\"rmse\"]"
   ]
  },
  {
   "cell_type": "code",
   "execution_count": null,
   "metadata": {},
   "outputs": [],
   "source": []
  }
 ],
 "metadata": {
  "colab": {
   "collapsed_sections": [
    "qhaC3BbnxuTV"
   ],
   "name": "R5 -  Question Notebook .ipynb",
   "provenance": []
  },
  "kernelspec": {
   "display_name": "Python 3 (ipykernel)",
   "language": "python",
   "name": "python3"
  },
  "language_info": {
   "codemirror_mode": {
    "name": "ipython",
    "version": 3
   },
   "file_extension": ".py",
   "mimetype": "text/x-python",
   "name": "python",
   "nbconvert_exporter": "python",
   "pygments_lexer": "ipython3",
   "version": "3.7.4"
  }
 },
 "nbformat": 4,
 "nbformat_minor": 1
}
