{
 "cells": [
  {
   "cell_type": "markdown",
   "metadata": {
    "id": "dCcFX1wnYe5j"
   },
   "source": [
    "<img src=\"http://drive.google.com/uc?export=view&id=1tpOCamr9aWz817atPnyXus8w5gJ3mIts\" width=500px>"
   ]
  },
  {
   "cell_type": "markdown",
   "metadata": {
    "id": "iiMV9joVUzC8"
   },
   "source": [
    "# Google Store App Rating Prediction"
   ]
  },
  {
   "cell_type": "markdown",
   "metadata": {
    "id": "4myIa-iGVMYR"
   },
   "source": [
    "## Problem statement"
   ]
  },
  {
   "cell_type": "markdown",
   "metadata": {
    "id": "afCwwcpjj6oV"
   },
   "source": [
    "The Play Store apps data has enormous potential to drive app-making businesses to success. However, many apps are being developed every single day and only a few of them become profitable.  It is important for developers to be able to predict the success of their app and incorporate features which makes an app successful.\n",
    "We can collect app data and user ratings from the app stores and use it to extract insightful information.\n",
    "A machine learning model can be used to predict rating for a given app, which can be used to estimate success and scope of improvement. \n",
    "\n",
    "\n",
    "As part of this exercise we will try to predict rating for an app given features like size, number of downloads, etc.\n",
    "\n"
   ]
  },
  {
   "cell_type": "markdown",
   "metadata": {
    "id": "DW1MreAmVGtm"
   },
   "source": [
    "## Data Set Information"
   ]
  },
  {
   "cell_type": "markdown",
   "metadata": {
    "id": "xKDxI9nOkDn4"
   },
   "source": [
    "Shape - 10841 entries and 13 columns\n",
    "\n",
    "Attributes - \n",
    "\n",
    "App: Application name\n",
    "\n",
    "Category: Category the app belongs to\n",
    "\n",
    "Rating: Overall user rating of the app \n",
    "\n",
    "Reviews: Number of user reviews for the app\n",
    "\n",
    "Size: Size of the app \n",
    "\n",
    "Installs: Number of user downloads/installs for the app \n",
    "\n",
    "Type: Paid or Free\n",
    "\n",
    "Price: Price of the app \n",
    "\n",
    "Content Rating: Age group the app is targeted at - Children / Mature 21+ / Adult\n",
    "\n",
    "Genres: An app can belong to multiple genres (apart from its main category). For eg, a musical family game will belong to Music, Game, Family genres.\n",
    "\n",
    "Last Updated: Date when the app was last updated on Play Store \n",
    "\n",
    "Current Ver: Current version of the app available on Play Store \n",
    "\n",
    "Android Ver: Min required Android version \n"
   ]
  },
  {
   "cell_type": "markdown",
   "metadata": {
    "id": "vPN4lw2tDUct"
   },
   "source": [
    "Mount Drive (if using Colab)"
   ]
  },
  {
   "cell_type": "code",
   "execution_count": 268,
   "metadata": {
    "id": "O17-dUz9Qllv"
   },
   "outputs": [],
   "source": [
    "# from google.colab import drive"
   ]
  },
  {
   "cell_type": "code",
   "execution_count": 269,
   "metadata": {
    "colab": {
     "base_uri": "https://localhost:8080/",
     "height": 34
    },
    "executionInfo": {
     "elapsed": 747,
     "status": "ok",
     "timestamp": 1588247972039,
     "user": {
      "displayName": "Garima Rahangdale",
      "photoUrl": "",
      "userId": "12135158262547382026"
     },
     "user_tz": -330
    },
    "id": "YfQ3r7aBRJM3",
    "outputId": "d4f128b9-a52c-4969-fa2a-f8e4d7ad1012"
   },
   "outputs": [],
   "source": [
    "# drive.mount('/content/gdrive')"
   ]
  },
  {
   "cell_type": "code",
   "execution_count": 574,
   "metadata": {},
   "outputs": [],
   "source": [
    "import os\n",
    "import numpy as np\n",
    "import matplotlib.pyplot as plt\n",
    "import seaborn as sns\n",
    "\n",
    "os.chdir(r'D:\\D\\AI\\Great learning 2021\\Ensemble techniques\\Assignments')"
   ]
  },
  {
   "cell_type": "markdown",
   "metadata": {
    "id": "px7EEjCcZ_6N"
   },
   "source": [
    "## 1.Import Pandas and Read the Dataset"
   ]
  },
  {
   "cell_type": "code",
   "execution_count": 575,
   "metadata": {
    "id": "F_mPGADjT6ak"
   },
   "outputs": [
    {
     "data": {
      "text/html": [
       "<div>\n",
       "<style scoped>\n",
       "    .dataframe tbody tr th:only-of-type {\n",
       "        vertical-align: middle;\n",
       "    }\n",
       "\n",
       "    .dataframe tbody tr th {\n",
       "        vertical-align: top;\n",
       "    }\n",
       "\n",
       "    .dataframe thead th {\n",
       "        text-align: right;\n",
       "    }\n",
       "</style>\n",
       "<table border=\"1\" class=\"dataframe\">\n",
       "  <thead>\n",
       "    <tr style=\"text-align: right;\">\n",
       "      <th></th>\n",
       "      <th>App</th>\n",
       "      <th>Category</th>\n",
       "      <th>Rating</th>\n",
       "      <th>Reviews</th>\n",
       "      <th>Size</th>\n",
       "      <th>Installs</th>\n",
       "      <th>Type</th>\n",
       "      <th>Price</th>\n",
       "      <th>Content Rating</th>\n",
       "      <th>Genres</th>\n",
       "      <th>Last Updated</th>\n",
       "      <th>Current Ver</th>\n",
       "      <th>Android Ver</th>\n",
       "    </tr>\n",
       "  </thead>\n",
       "  <tbody>\n",
       "    <tr>\n",
       "      <td>0</td>\n",
       "      <td>Photo Editor &amp; Candy Camera &amp; Grid &amp; ScrapBook</td>\n",
       "      <td>ART_AND_DESIGN</td>\n",
       "      <td>4.1</td>\n",
       "      <td>159</td>\n",
       "      <td>19M</td>\n",
       "      <td>10,000+</td>\n",
       "      <td>Free</td>\n",
       "      <td>0</td>\n",
       "      <td>Everyone</td>\n",
       "      <td>Art &amp; Design</td>\n",
       "      <td>January 7, 2018</td>\n",
       "      <td>1.0.0</td>\n",
       "      <td>4.0.3 and up</td>\n",
       "    </tr>\n",
       "    <tr>\n",
       "      <td>1</td>\n",
       "      <td>Coloring book moana</td>\n",
       "      <td>ART_AND_DESIGN</td>\n",
       "      <td>3.9</td>\n",
       "      <td>967</td>\n",
       "      <td>14M</td>\n",
       "      <td>500,000+</td>\n",
       "      <td>Free</td>\n",
       "      <td>0</td>\n",
       "      <td>Everyone</td>\n",
       "      <td>Art &amp; Design;Pretend Play</td>\n",
       "      <td>January 15, 2018</td>\n",
       "      <td>2.0.0</td>\n",
       "      <td>4.0.3 and up</td>\n",
       "    </tr>\n",
       "    <tr>\n",
       "      <td>2</td>\n",
       "      <td>U Launcher Lite – FREE Live Cool Themes, Hide ...</td>\n",
       "      <td>ART_AND_DESIGN</td>\n",
       "      <td>4.7</td>\n",
       "      <td>87510</td>\n",
       "      <td>8.7M</td>\n",
       "      <td>5,000,000+</td>\n",
       "      <td>Free</td>\n",
       "      <td>0</td>\n",
       "      <td>Everyone</td>\n",
       "      <td>Art &amp; Design</td>\n",
       "      <td>August 1, 2018</td>\n",
       "      <td>1.2.4</td>\n",
       "      <td>4.0.3 and up</td>\n",
       "    </tr>\n",
       "    <tr>\n",
       "      <td>3</td>\n",
       "      <td>Sketch - Draw &amp; Paint</td>\n",
       "      <td>ART_AND_DESIGN</td>\n",
       "      <td>4.5</td>\n",
       "      <td>215644</td>\n",
       "      <td>25M</td>\n",
       "      <td>50,000,000+</td>\n",
       "      <td>Free</td>\n",
       "      <td>0</td>\n",
       "      <td>Teen</td>\n",
       "      <td>Art &amp; Design</td>\n",
       "      <td>June 8, 2018</td>\n",
       "      <td>Varies with device</td>\n",
       "      <td>4.2 and up</td>\n",
       "    </tr>\n",
       "    <tr>\n",
       "      <td>4</td>\n",
       "      <td>Pixel Draw - Number Art Coloring Book</td>\n",
       "      <td>ART_AND_DESIGN</td>\n",
       "      <td>4.3</td>\n",
       "      <td>967</td>\n",
       "      <td>2.8M</td>\n",
       "      <td>100,000+</td>\n",
       "      <td>Free</td>\n",
       "      <td>0</td>\n",
       "      <td>Everyone</td>\n",
       "      <td>Art &amp; Design;Creativity</td>\n",
       "      <td>June 20, 2018</td>\n",
       "      <td>1.1</td>\n",
       "      <td>4.4 and up</td>\n",
       "    </tr>\n",
       "  </tbody>\n",
       "</table>\n",
       "</div>"
      ],
      "text/plain": [
       "                                                 App        Category  Rating  \\\n",
       "0     Photo Editor & Candy Camera & Grid & ScrapBook  ART_AND_DESIGN     4.1   \n",
       "1                                Coloring book moana  ART_AND_DESIGN     3.9   \n",
       "2  U Launcher Lite – FREE Live Cool Themes, Hide ...  ART_AND_DESIGN     4.7   \n",
       "3                              Sketch - Draw & Paint  ART_AND_DESIGN     4.5   \n",
       "4              Pixel Draw - Number Art Coloring Book  ART_AND_DESIGN     4.3   \n",
       "\n",
       "  Reviews  Size     Installs  Type Price Content Rating  \\\n",
       "0     159   19M      10,000+  Free     0       Everyone   \n",
       "1     967   14M     500,000+  Free     0       Everyone   \n",
       "2   87510  8.7M   5,000,000+  Free     0       Everyone   \n",
       "3  215644   25M  50,000,000+  Free     0           Teen   \n",
       "4     967  2.8M     100,000+  Free     0       Everyone   \n",
       "\n",
       "                      Genres      Last Updated         Current Ver  \\\n",
       "0               Art & Design   January 7, 2018               1.0.0   \n",
       "1  Art & Design;Pretend Play  January 15, 2018               2.0.0   \n",
       "2               Art & Design    August 1, 2018               1.2.4   \n",
       "3               Art & Design      June 8, 2018  Varies with device   \n",
       "4    Art & Design;Creativity     June 20, 2018                 1.1   \n",
       "\n",
       "    Android Ver  \n",
       "0  4.0.3 and up  \n",
       "1  4.0.3 and up  \n",
       "2  4.0.3 and up  \n",
       "3    4.2 and up  \n",
       "4    4.4 and up  "
      ]
     },
     "execution_count": 575,
     "metadata": {},
     "output_type": "execute_result"
    }
   ],
   "source": [
    "import pandas as pd\n",
    "df = pd.read_csv(\"Apps_data+(1).csv\")\n",
    "df.head(5)\n"
   ]
  },
  {
   "cell_type": "code",
   "execution_count": 576,
   "metadata": {},
   "outputs": [
    {
     "data": {
      "text/plain": [
       "(10841, 13)"
      ]
     },
     "execution_count": 576,
     "metadata": {},
     "output_type": "execute_result"
    }
   ],
   "source": [
    "df.shape"
   ]
  },
  {
   "cell_type": "code",
   "execution_count": 577,
   "metadata": {},
   "outputs": [
    {
     "name": "stdout",
     "output_type": "stream",
     "text": [
      "<class 'pandas.core.frame.DataFrame'>\n",
      "RangeIndex: 10841 entries, 0 to 10840\n",
      "Data columns (total 13 columns):\n",
      "App               10841 non-null object\n",
      "Category          10841 non-null object\n",
      "Rating            9367 non-null float64\n",
      "Reviews           10841 non-null object\n",
      "Size              10841 non-null object\n",
      "Installs          10841 non-null object\n",
      "Type              10840 non-null object\n",
      "Price             10841 non-null object\n",
      "Content Rating    10840 non-null object\n",
      "Genres            10841 non-null object\n",
      "Last Updated      10841 non-null object\n",
      "Current Ver       10833 non-null object\n",
      "Android Ver       10838 non-null object\n",
      "dtypes: float64(1), object(12)\n",
      "memory usage: 1.1+ MB\n"
     ]
    }
   ],
   "source": [
    "df.info()"
   ]
  },
  {
   "cell_type": "markdown",
   "metadata": {
    "id": "moX2DYvCVVjj"
   },
   "source": [
    "## 2. EDA and Preprocessing"
   ]
  },
  {
   "cell_type": "code",
   "execution_count": null,
   "metadata": {
    "id": "cNXNQz4XT7D5"
   },
   "outputs": [],
   "source": []
  },
  {
   "cell_type": "markdown",
   "metadata": {
    "id": "ZUhd1WCYo2bP"
   },
   "source": [
    "### 2.1 Check info and summary statistics of the dataset. List out the columns that need to be worked upon for model building"
   ]
  },
  {
   "cell_type": "code",
   "execution_count": 578,
   "metadata": {
    "id": "0Jd_VpjBT_Oa"
   },
   "outputs": [
    {
     "name": "stdout",
     "output_type": "stream",
     "text": [
      "<class 'pandas.core.frame.DataFrame'>\n",
      "RangeIndex: 10841 entries, 0 to 10840\n",
      "Data columns (total 13 columns):\n",
      "App               10841 non-null object\n",
      "Category          10841 non-null object\n",
      "Rating            9367 non-null float64\n",
      "Reviews           10841 non-null object\n",
      "Size              10841 non-null object\n",
      "Installs          10841 non-null object\n",
      "Type              10840 non-null object\n",
      "Price             10841 non-null object\n",
      "Content Rating    10840 non-null object\n",
      "Genres            10841 non-null object\n",
      "Last Updated      10841 non-null object\n",
      "Current Ver       10833 non-null object\n",
      "Android Ver       10838 non-null object\n",
      "dtypes: float64(1), object(12)\n",
      "memory usage: 1.1+ MB\n"
     ]
    }
   ],
   "source": [
    "df.info()"
   ]
  },
  {
   "cell_type": "code",
   "execution_count": null,
   "metadata": {
    "id": "29N7plGmT_R_"
   },
   "outputs": [],
   "source": []
  },
  {
   "cell_type": "markdown",
   "metadata": {
    "id": "ZLsAGtB1DwfH"
   },
   "source": [
    "Sample 5 examples from the Rating column"
   ]
  },
  {
   "cell_type": "code",
   "execution_count": 579,
   "metadata": {
    "id": "ISK-u3QOUAoc"
   },
   "outputs": [
    {
     "data": {
      "text/plain": [
       "10167    4.6\n",
       "9159     4.2\n",
       "5622     4.3\n",
       "5361     4.6\n",
       "9488     4.3\n",
       "Name: Rating, dtype: float64"
      ]
     },
     "execution_count": 579,
     "metadata": {},
     "output_type": "execute_result"
    }
   ],
   "source": [
    "df.Rating.sample(5)"
   ]
  },
  {
   "cell_type": "markdown",
   "metadata": {
    "id": "pr1mNr2tD8NW"
   },
   "source": [
    "Check for NaN values"
   ]
  },
  {
   "cell_type": "code",
   "execution_count": 580,
   "metadata": {
    "id": "dTyAF_JzUCfW"
   },
   "outputs": [
    {
     "data": {
      "text/plain": [
       "App                  0\n",
       "Category             0\n",
       "Rating            1474\n",
       "Reviews              0\n",
       "Size                 0\n",
       "Installs             0\n",
       "Type                 1\n",
       "Price                0\n",
       "Content Rating       1\n",
       "Genres               0\n",
       "Last Updated         0\n",
       "Current Ver          8\n",
       "Android Ver          3\n",
       "dtype: int64"
      ]
     },
     "execution_count": 580,
     "metadata": {},
     "output_type": "execute_result"
    }
   ],
   "source": [
    "df.isnull().sum()"
   ]
  },
  {
   "cell_type": "markdown",
   "metadata": {
    "id": "QehFHGRlEGjN"
   },
   "source": [
    "Check summary statistics of the numerical columns in the dataframe"
   ]
  },
  {
   "cell_type": "code",
   "execution_count": 581,
   "metadata": {
    "id": "UZvwZWJnUEhs"
   },
   "outputs": [
    {
     "data": {
      "text/html": [
       "<div>\n",
       "<style scoped>\n",
       "    .dataframe tbody tr th:only-of-type {\n",
       "        vertical-align: middle;\n",
       "    }\n",
       "\n",
       "    .dataframe tbody tr th {\n",
       "        vertical-align: top;\n",
       "    }\n",
       "\n",
       "    .dataframe thead th {\n",
       "        text-align: right;\n",
       "    }\n",
       "</style>\n",
       "<table border=\"1\" class=\"dataframe\">\n",
       "  <thead>\n",
       "    <tr style=\"text-align: right;\">\n",
       "      <th></th>\n",
       "      <th>count</th>\n",
       "      <th>unique</th>\n",
       "      <th>top</th>\n",
       "      <th>freq</th>\n",
       "      <th>mean</th>\n",
       "      <th>std</th>\n",
       "      <th>min</th>\n",
       "      <th>25%</th>\n",
       "      <th>50%</th>\n",
       "      <th>75%</th>\n",
       "      <th>max</th>\n",
       "    </tr>\n",
       "  </thead>\n",
       "  <tbody>\n",
       "    <tr>\n",
       "      <td>App</td>\n",
       "      <td>10841</td>\n",
       "      <td>9660</td>\n",
       "      <td>ROBLOX</td>\n",
       "      <td>9</td>\n",
       "      <td>NaN</td>\n",
       "      <td>NaN</td>\n",
       "      <td>NaN</td>\n",
       "      <td>NaN</td>\n",
       "      <td>NaN</td>\n",
       "      <td>NaN</td>\n",
       "      <td>NaN</td>\n",
       "    </tr>\n",
       "    <tr>\n",
       "      <td>Category</td>\n",
       "      <td>10841</td>\n",
       "      <td>34</td>\n",
       "      <td>FAMILY</td>\n",
       "      <td>1972</td>\n",
       "      <td>NaN</td>\n",
       "      <td>NaN</td>\n",
       "      <td>NaN</td>\n",
       "      <td>NaN</td>\n",
       "      <td>NaN</td>\n",
       "      <td>NaN</td>\n",
       "      <td>NaN</td>\n",
       "    </tr>\n",
       "    <tr>\n",
       "      <td>Rating</td>\n",
       "      <td>9367</td>\n",
       "      <td>NaN</td>\n",
       "      <td>NaN</td>\n",
       "      <td>NaN</td>\n",
       "      <td>4.19334</td>\n",
       "      <td>0.537431</td>\n",
       "      <td>1</td>\n",
       "      <td>4</td>\n",
       "      <td>4.3</td>\n",
       "      <td>4.5</td>\n",
       "      <td>19</td>\n",
       "    </tr>\n",
       "    <tr>\n",
       "      <td>Reviews</td>\n",
       "      <td>10841</td>\n",
       "      <td>6002</td>\n",
       "      <td>0</td>\n",
       "      <td>596</td>\n",
       "      <td>NaN</td>\n",
       "      <td>NaN</td>\n",
       "      <td>NaN</td>\n",
       "      <td>NaN</td>\n",
       "      <td>NaN</td>\n",
       "      <td>NaN</td>\n",
       "      <td>NaN</td>\n",
       "    </tr>\n",
       "    <tr>\n",
       "      <td>Size</td>\n",
       "      <td>10841</td>\n",
       "      <td>462</td>\n",
       "      <td>Varies with device</td>\n",
       "      <td>1695</td>\n",
       "      <td>NaN</td>\n",
       "      <td>NaN</td>\n",
       "      <td>NaN</td>\n",
       "      <td>NaN</td>\n",
       "      <td>NaN</td>\n",
       "      <td>NaN</td>\n",
       "      <td>NaN</td>\n",
       "    </tr>\n",
       "    <tr>\n",
       "      <td>Installs</td>\n",
       "      <td>10841</td>\n",
       "      <td>22</td>\n",
       "      <td>1,000,000+</td>\n",
       "      <td>1579</td>\n",
       "      <td>NaN</td>\n",
       "      <td>NaN</td>\n",
       "      <td>NaN</td>\n",
       "      <td>NaN</td>\n",
       "      <td>NaN</td>\n",
       "      <td>NaN</td>\n",
       "      <td>NaN</td>\n",
       "    </tr>\n",
       "    <tr>\n",
       "      <td>Type</td>\n",
       "      <td>10840</td>\n",
       "      <td>3</td>\n",
       "      <td>Free</td>\n",
       "      <td>10039</td>\n",
       "      <td>NaN</td>\n",
       "      <td>NaN</td>\n",
       "      <td>NaN</td>\n",
       "      <td>NaN</td>\n",
       "      <td>NaN</td>\n",
       "      <td>NaN</td>\n",
       "      <td>NaN</td>\n",
       "    </tr>\n",
       "    <tr>\n",
       "      <td>Price</td>\n",
       "      <td>10841</td>\n",
       "      <td>93</td>\n",
       "      <td>0</td>\n",
       "      <td>10040</td>\n",
       "      <td>NaN</td>\n",
       "      <td>NaN</td>\n",
       "      <td>NaN</td>\n",
       "      <td>NaN</td>\n",
       "      <td>NaN</td>\n",
       "      <td>NaN</td>\n",
       "      <td>NaN</td>\n",
       "    </tr>\n",
       "    <tr>\n",
       "      <td>Content Rating</td>\n",
       "      <td>10840</td>\n",
       "      <td>6</td>\n",
       "      <td>Everyone</td>\n",
       "      <td>8714</td>\n",
       "      <td>NaN</td>\n",
       "      <td>NaN</td>\n",
       "      <td>NaN</td>\n",
       "      <td>NaN</td>\n",
       "      <td>NaN</td>\n",
       "      <td>NaN</td>\n",
       "      <td>NaN</td>\n",
       "    </tr>\n",
       "    <tr>\n",
       "      <td>Genres</td>\n",
       "      <td>10841</td>\n",
       "      <td>120</td>\n",
       "      <td>Tools</td>\n",
       "      <td>842</td>\n",
       "      <td>NaN</td>\n",
       "      <td>NaN</td>\n",
       "      <td>NaN</td>\n",
       "      <td>NaN</td>\n",
       "      <td>NaN</td>\n",
       "      <td>NaN</td>\n",
       "      <td>NaN</td>\n",
       "    </tr>\n",
       "    <tr>\n",
       "      <td>Last Updated</td>\n",
       "      <td>10841</td>\n",
       "      <td>1378</td>\n",
       "      <td>August 3, 2018</td>\n",
       "      <td>326</td>\n",
       "      <td>NaN</td>\n",
       "      <td>NaN</td>\n",
       "      <td>NaN</td>\n",
       "      <td>NaN</td>\n",
       "      <td>NaN</td>\n",
       "      <td>NaN</td>\n",
       "      <td>NaN</td>\n",
       "    </tr>\n",
       "    <tr>\n",
       "      <td>Current Ver</td>\n",
       "      <td>10833</td>\n",
       "      <td>2832</td>\n",
       "      <td>Varies with device</td>\n",
       "      <td>1459</td>\n",
       "      <td>NaN</td>\n",
       "      <td>NaN</td>\n",
       "      <td>NaN</td>\n",
       "      <td>NaN</td>\n",
       "      <td>NaN</td>\n",
       "      <td>NaN</td>\n",
       "      <td>NaN</td>\n",
       "    </tr>\n",
       "    <tr>\n",
       "      <td>Android Ver</td>\n",
       "      <td>10838</td>\n",
       "      <td>33</td>\n",
       "      <td>4.1 and up</td>\n",
       "      <td>2451</td>\n",
       "      <td>NaN</td>\n",
       "      <td>NaN</td>\n",
       "      <td>NaN</td>\n",
       "      <td>NaN</td>\n",
       "      <td>NaN</td>\n",
       "      <td>NaN</td>\n",
       "      <td>NaN</td>\n",
       "    </tr>\n",
       "  </tbody>\n",
       "</table>\n",
       "</div>"
      ],
      "text/plain": [
       "                count unique                 top   freq     mean       std  \\\n",
       "App             10841   9660              ROBLOX      9      NaN       NaN   \n",
       "Category        10841     34              FAMILY   1972      NaN       NaN   \n",
       "Rating           9367    NaN                 NaN    NaN  4.19334  0.537431   \n",
       "Reviews         10841   6002                   0    596      NaN       NaN   \n",
       "Size            10841    462  Varies with device   1695      NaN       NaN   \n",
       "Installs        10841     22          1,000,000+   1579      NaN       NaN   \n",
       "Type            10840      3                Free  10039      NaN       NaN   \n",
       "Price           10841     93                   0  10040      NaN       NaN   \n",
       "Content Rating  10840      6            Everyone   8714      NaN       NaN   \n",
       "Genres          10841    120               Tools    842      NaN       NaN   \n",
       "Last Updated    10841   1378      August 3, 2018    326      NaN       NaN   \n",
       "Current Ver     10833   2832  Varies with device   1459      NaN       NaN   \n",
       "Android Ver     10838     33          4.1 and up   2451      NaN       NaN   \n",
       "\n",
       "                min  25%  50%  75%  max  \n",
       "App             NaN  NaN  NaN  NaN  NaN  \n",
       "Category        NaN  NaN  NaN  NaN  NaN  \n",
       "Rating            1    4  4.3  4.5   19  \n",
       "Reviews         NaN  NaN  NaN  NaN  NaN  \n",
       "Size            NaN  NaN  NaN  NaN  NaN  \n",
       "Installs        NaN  NaN  NaN  NaN  NaN  \n",
       "Type            NaN  NaN  NaN  NaN  NaN  \n",
       "Price           NaN  NaN  NaN  NaN  NaN  \n",
       "Content Rating  NaN  NaN  NaN  NaN  NaN  \n",
       "Genres          NaN  NaN  NaN  NaN  NaN  \n",
       "Last Updated    NaN  NaN  NaN  NaN  NaN  \n",
       "Current Ver     NaN  NaN  NaN  NaN  NaN  \n",
       "Android Ver     NaN  NaN  NaN  NaN  NaN  "
      ]
     },
     "execution_count": 581,
     "metadata": {},
     "output_type": "execute_result"
    }
   ],
   "source": [
    "df.describe(include = \"all\").T\n",
    "\n",
    "# App:9660 unique values are there, so there could be duplicate entries.\n",
    "# Category: There are 34 unique categories & 120 Genres \n",
    "# Rating: Rating range from 1 to 19 (Having few missing values).\n",
    "# Price: Majority apps are free.\n",
    "# Content Rating: Most of the apps are for everyone\n",
    "# Android Ver: Most apps are having 4.1 and up."
   ]
  },
  {
   "cell_type": "markdown",
   "metadata": {
    "id": "42DUw6DebBXk"
   },
   "source": [
    "### 2.2 App Column"
   ]
  },
  {
   "cell_type": "markdown",
   "metadata": {
    "id": "TU2K7zTTEQEW"
   },
   "source": [
    "Let's look closely at the apps in the data "
   ]
  },
  {
   "cell_type": "code",
   "execution_count": 582,
   "metadata": {
    "id": "xCIyxuMaUG7A"
   },
   "outputs": [
    {
     "data": {
      "text/plain": [
       "2494                                          MoodSpace\n",
       "6819                                 BU Questrom Launch\n",
       "4928                      AC - Tips & News for Android™\n",
       "8752                      Dulquer Salmaan HD Wallpapers\n",
       "8978    DW Learn German - A1, A2, B1 and placement test\n",
       "Name: App, dtype: object"
      ]
     },
     "execution_count": 582,
     "metadata": {},
     "output_type": "execute_result"
    }
   ],
   "source": [
    "df.App.sample(5)"
   ]
  },
  {
   "cell_type": "code",
   "execution_count": 583,
   "metadata": {},
   "outputs": [
    {
     "data": {
      "text/html": [
       "<div>\n",
       "<style scoped>\n",
       "    .dataframe tbody tr th:only-of-type {\n",
       "        vertical-align: middle;\n",
       "    }\n",
       "\n",
       "    .dataframe tbody tr th {\n",
       "        vertical-align: top;\n",
       "    }\n",
       "\n",
       "    .dataframe thead th {\n",
       "        text-align: right;\n",
       "    }\n",
       "</style>\n",
       "<table border=\"1\" class=\"dataframe\">\n",
       "  <thead>\n",
       "    <tr style=\"text-align: right;\">\n",
       "      <th></th>\n",
       "      <th>index</th>\n",
       "      <th>count</th>\n",
       "    </tr>\n",
       "  </thead>\n",
       "  <tbody>\n",
       "    <tr>\n",
       "      <td>0</td>\n",
       "      <td>ROBLOX</td>\n",
       "      <td>9</td>\n",
       "    </tr>\n",
       "    <tr>\n",
       "      <td>1</td>\n",
       "      <td>CBS Sports App - Scores, News, Stats &amp; Watch Live</td>\n",
       "      <td>8</td>\n",
       "    </tr>\n",
       "    <tr>\n",
       "      <td>2</td>\n",
       "      <td>8 Ball Pool</td>\n",
       "      <td>7</td>\n",
       "    </tr>\n",
       "    <tr>\n",
       "      <td>3</td>\n",
       "      <td>Duolingo: Learn Languages Free</td>\n",
       "      <td>7</td>\n",
       "    </tr>\n",
       "    <tr>\n",
       "      <td>4</td>\n",
       "      <td>Candy Crush Saga</td>\n",
       "      <td>7</td>\n",
       "    </tr>\n",
       "    <tr>\n",
       "      <td>...</td>\n",
       "      <td>...</td>\n",
       "      <td>...</td>\n",
       "    </tr>\n",
       "    <tr>\n",
       "      <td>793</td>\n",
       "      <td>Diabetes &amp; Diet Tracker</td>\n",
       "      <td>2</td>\n",
       "    </tr>\n",
       "    <tr>\n",
       "      <td>794</td>\n",
       "      <td>Wheretoget: Shop in style</td>\n",
       "      <td>2</td>\n",
       "    </tr>\n",
       "    <tr>\n",
       "      <td>795</td>\n",
       "      <td>FlirtChat - ♥Free Dating/Flirting App♥</td>\n",
       "      <td>2</td>\n",
       "    </tr>\n",
       "    <tr>\n",
       "      <td>796</td>\n",
       "      <td>Mango Languages: Lovable Language Courses</td>\n",
       "      <td>2</td>\n",
       "    </tr>\n",
       "    <tr>\n",
       "      <td>797</td>\n",
       "      <td>Microsoft Edge</td>\n",
       "      <td>2</td>\n",
       "    </tr>\n",
       "  </tbody>\n",
       "</table>\n",
       "<p>798 rows × 2 columns</p>\n",
       "</div>"
      ],
      "text/plain": [
       "                                                 index  count\n",
       "0                                               ROBLOX      9\n",
       "1    CBS Sports App - Scores, News, Stats & Watch Live      8\n",
       "2                                          8 Ball Pool      7\n",
       "3                       Duolingo: Learn Languages Free      7\n",
       "4                                     Candy Crush Saga      7\n",
       "..                                                 ...    ...\n",
       "793                            Diabetes & Diet Tracker      2\n",
       "794                          Wheretoget: Shop in style      2\n",
       "795             FlirtChat - ♥Free Dating/Flirting App♥      2\n",
       "796          Mango Languages: Lovable Language Courses      2\n",
       "797                                     Microsoft Edge      2\n",
       "\n",
       "[798 rows x 2 columns]"
      ]
     },
     "execution_count": 583,
     "metadata": {},
     "output_type": "execute_result"
    }
   ],
   "source": [
    "df['App'].value_counts().loc[lambda x: x > 1].reset_index(name='count')\n"
   ]
  },
  {
   "cell_type": "markdown",
   "metadata": {
    "id": "GubUMuckEUcu"
   },
   "source": [
    "Take 3 sample Apps for exploration (for eg: 'ROBLOX', 'ESPN','Nick')"
   ]
  },
  {
   "cell_type": "code",
   "execution_count": 584,
   "metadata": {
    "id": "FQizUHrlUHj7"
   },
   "outputs": [
    {
     "data": {
      "text/html": [
       "<div>\n",
       "<style scoped>\n",
       "    .dataframe tbody tr th:only-of-type {\n",
       "        vertical-align: middle;\n",
       "    }\n",
       "\n",
       "    .dataframe tbody tr th {\n",
       "        vertical-align: top;\n",
       "    }\n",
       "\n",
       "    .dataframe thead th {\n",
       "        text-align: right;\n",
       "    }\n",
       "</style>\n",
       "<table border=\"1\" class=\"dataframe\">\n",
       "  <thead>\n",
       "    <tr style=\"text-align: right;\">\n",
       "      <th></th>\n",
       "      <th>App</th>\n",
       "      <th>Category</th>\n",
       "      <th>Rating</th>\n",
       "      <th>Reviews</th>\n",
       "      <th>Size</th>\n",
       "      <th>Installs</th>\n",
       "      <th>Type</th>\n",
       "      <th>Price</th>\n",
       "      <th>Content Rating</th>\n",
       "      <th>Genres</th>\n",
       "      <th>Last Updated</th>\n",
       "      <th>Current Ver</th>\n",
       "      <th>Android Ver</th>\n",
       "    </tr>\n",
       "  </thead>\n",
       "  <tbody>\n",
       "    <tr>\n",
       "      <td>2959</td>\n",
       "      <td>ESPN</td>\n",
       "      <td>SPORTS</td>\n",
       "      <td>4.2</td>\n",
       "      <td>521138</td>\n",
       "      <td>Varies with device</td>\n",
       "      <td>10,000,000+</td>\n",
       "      <td>Free</td>\n",
       "      <td>0</td>\n",
       "      <td>Everyone 10+</td>\n",
       "      <td>Sports</td>\n",
       "      <td>July 19, 2018</td>\n",
       "      <td>Varies with device</td>\n",
       "      <td>5.0 and up</td>\n",
       "    </tr>\n",
       "    <tr>\n",
       "      <td>3010</td>\n",
       "      <td>ESPN</td>\n",
       "      <td>SPORTS</td>\n",
       "      <td>4.2</td>\n",
       "      <td>521138</td>\n",
       "      <td>Varies with device</td>\n",
       "      <td>10,000,000+</td>\n",
       "      <td>Free</td>\n",
       "      <td>0</td>\n",
       "      <td>Everyone 10+</td>\n",
       "      <td>Sports</td>\n",
       "      <td>July 19, 2018</td>\n",
       "      <td>Varies with device</td>\n",
       "      <td>5.0 and up</td>\n",
       "    </tr>\n",
       "    <tr>\n",
       "      <td>3018</td>\n",
       "      <td>ESPN</td>\n",
       "      <td>SPORTS</td>\n",
       "      <td>4.2</td>\n",
       "      <td>521138</td>\n",
       "      <td>Varies with device</td>\n",
       "      <td>10,000,000+</td>\n",
       "      <td>Free</td>\n",
       "      <td>0</td>\n",
       "      <td>Everyone 10+</td>\n",
       "      <td>Sports</td>\n",
       "      <td>July 19, 2018</td>\n",
       "      <td>Varies with device</td>\n",
       "      <td>5.0 and up</td>\n",
       "    </tr>\n",
       "    <tr>\n",
       "      <td>3048</td>\n",
       "      <td>ESPN</td>\n",
       "      <td>SPORTS</td>\n",
       "      <td>4.2</td>\n",
       "      <td>521140</td>\n",
       "      <td>Varies with device</td>\n",
       "      <td>10,000,000+</td>\n",
       "      <td>Free</td>\n",
       "      <td>0</td>\n",
       "      <td>Everyone 10+</td>\n",
       "      <td>Sports</td>\n",
       "      <td>July 19, 2018</td>\n",
       "      <td>Varies with device</td>\n",
       "      <td>5.0 and up</td>\n",
       "    </tr>\n",
       "    <tr>\n",
       "      <td>3060</td>\n",
       "      <td>ESPN</td>\n",
       "      <td>SPORTS</td>\n",
       "      <td>4.2</td>\n",
       "      <td>521140</td>\n",
       "      <td>Varies with device</td>\n",
       "      <td>10,000,000+</td>\n",
       "      <td>Free</td>\n",
       "      <td>0</td>\n",
       "      <td>Everyone 10+</td>\n",
       "      <td>Sports</td>\n",
       "      <td>July 19, 2018</td>\n",
       "      <td>Varies with device</td>\n",
       "      <td>5.0 and up</td>\n",
       "    </tr>\n",
       "    <tr>\n",
       "      <td>3072</td>\n",
       "      <td>ESPN</td>\n",
       "      <td>SPORTS</td>\n",
       "      <td>4.2</td>\n",
       "      <td>521140</td>\n",
       "      <td>Varies with device</td>\n",
       "      <td>10,000,000+</td>\n",
       "      <td>Free</td>\n",
       "      <td>0</td>\n",
       "      <td>Everyone 10+</td>\n",
       "      <td>Sports</td>\n",
       "      <td>July 19, 2018</td>\n",
       "      <td>Varies with device</td>\n",
       "      <td>5.0 and up</td>\n",
       "    </tr>\n",
       "    <tr>\n",
       "      <td>4069</td>\n",
       "      <td>ESPN</td>\n",
       "      <td>SPORTS</td>\n",
       "      <td>4.2</td>\n",
       "      <td>521081</td>\n",
       "      <td>Varies with device</td>\n",
       "      <td>10,000,000+</td>\n",
       "      <td>Free</td>\n",
       "      <td>0</td>\n",
       "      <td>Everyone 10+</td>\n",
       "      <td>Sports</td>\n",
       "      <td>July 19, 2018</td>\n",
       "      <td>Varies with device</td>\n",
       "      <td>5.0 and up</td>\n",
       "    </tr>\n",
       "  </tbody>\n",
       "</table>\n",
       "</div>"
      ],
      "text/plain": [
       "       App Category  Rating Reviews                Size     Installs  Type  \\\n",
       "2959  ESPN   SPORTS     4.2  521138  Varies with device  10,000,000+  Free   \n",
       "3010  ESPN   SPORTS     4.2  521138  Varies with device  10,000,000+  Free   \n",
       "3018  ESPN   SPORTS     4.2  521138  Varies with device  10,000,000+  Free   \n",
       "3048  ESPN   SPORTS     4.2  521140  Varies with device  10,000,000+  Free   \n",
       "3060  ESPN   SPORTS     4.2  521140  Varies with device  10,000,000+  Free   \n",
       "3072  ESPN   SPORTS     4.2  521140  Varies with device  10,000,000+  Free   \n",
       "4069  ESPN   SPORTS     4.2  521081  Varies with device  10,000,000+  Free   \n",
       "\n",
       "     Price Content Rating  Genres   Last Updated         Current Ver  \\\n",
       "2959     0   Everyone 10+  Sports  July 19, 2018  Varies with device   \n",
       "3010     0   Everyone 10+  Sports  July 19, 2018  Varies with device   \n",
       "3018     0   Everyone 10+  Sports  July 19, 2018  Varies with device   \n",
       "3048     0   Everyone 10+  Sports  July 19, 2018  Varies with device   \n",
       "3060     0   Everyone 10+  Sports  July 19, 2018  Varies with device   \n",
       "3072     0   Everyone 10+  Sports  July 19, 2018  Varies with device   \n",
       "4069     0   Everyone 10+  Sports  July 19, 2018  Varies with device   \n",
       "\n",
       "     Android Ver  \n",
       "2959  5.0 and up  \n",
       "3010  5.0 and up  \n",
       "3018  5.0 and up  \n",
       "3048  5.0 and up  \n",
       "3060  5.0 and up  \n",
       "3072  5.0 and up  \n",
       "4069  5.0 and up  "
      ]
     },
     "execution_count": 584,
     "metadata": {},
     "output_type": "execute_result"
    }
   ],
   "source": [
    "df[df[\"App\"].isin([\"ROBOLOX\", \"ESPN\", \"NICK\"])].sort_values(by = \"App\")"
   ]
  },
  {
   "cell_type": "code",
   "execution_count": 585,
   "metadata": {},
   "outputs": [],
   "source": [
    "df.sort_values(by = \"Reviews\",inplace=True)"
   ]
  },
  {
   "cell_type": "markdown",
   "metadata": {
    "id": "FshyMVvEEfUF"
   },
   "source": [
    "Drops other duplicate entries keeping the App with the highest reviews"
   ]
  },
  {
   "cell_type": "code",
   "execution_count": 586,
   "metadata": {
    "id": "ehOI5_B0UJKh"
   },
   "outputs": [],
   "source": [
    "df.drop_duplicates('App',inplace=True)"
   ]
  },
  {
   "cell_type": "code",
   "execution_count": 587,
   "metadata": {},
   "outputs": [
    {
     "data": {
      "text/plain": [
       "Mobi Calculator free & AD free!                       1\n",
       "CI Stream                                             1\n",
       "Photo Frames                                          1\n",
       "Tomb of the Mask                                      1\n",
       "Number Therapy                                        1\n",
       "                                                     ..\n",
       "EU VAT Checker                                        1\n",
       "EZ-GUI Ground Station                                 1\n",
       "Jungle Marble Blast                                   1\n",
       "iFORA BP                                              1\n",
       "Virtual Mother Surgery Doctor : Emergency Hospital    1\n",
       "Name: App, Length: 9660, dtype: int64"
      ]
     },
     "execution_count": 587,
     "metadata": {},
     "output_type": "execute_result"
    }
   ],
   "source": [
    "df.App.value_counts()\n"
   ]
  },
  {
   "cell_type": "code",
   "execution_count": 588,
   "metadata": {},
   "outputs": [
    {
     "data": {
      "text/plain": [
       "(9660, 13)"
      ]
     },
     "execution_count": 588,
     "metadata": {},
     "output_type": "execute_result"
    }
   ],
   "source": [
    "df.shape"
   ]
  },
  {
   "cell_type": "markdown",
   "metadata": {
    "id": "nOCqg3aAEnZ8"
   },
   "source": [
    "Verify that duplicates has been removed"
   ]
  },
  {
   "cell_type": "code",
   "execution_count": null,
   "metadata": {
    "id": "qJp1Qbw7ULG2"
   },
   "outputs": [],
   "source": []
  },
  {
   "cell_type": "markdown",
   "metadata": {
    "id": "HkdrTxEFEpVz"
   },
   "source": [
    "Check shape of the dataframe"
   ]
  },
  {
   "cell_type": "markdown",
   "metadata": {
    "id": "46oLXzYDbIi1"
   },
   "source": [
    "### 2.2 Category Column"
   ]
  },
  {
   "cell_type": "markdown",
   "metadata": {
    "id": "TOn2F-P7EvOu"
   },
   "source": [
    "Check out the App categories"
   ]
  },
  {
   "cell_type": "code",
   "execution_count": 589,
   "metadata": {
    "id": "PQTTBgYwUOdB"
   },
   "outputs": [
    {
     "data": {
      "text/plain": [
       "FAMILY                 1862\n",
       "GAME                    940\n",
       "TOOLS                   828\n",
       "BUSINESS                419\n",
       "MEDICAL                 396\n",
       "PERSONALIZATION         376\n",
       "PRODUCTIVITY            374\n",
       "LIFESTYLE               369\n",
       "FINANCE                 345\n",
       "SPORTS                  327\n",
       "COMMUNICATION           316\n",
       "HEALTH_AND_FITNESS      287\n",
       "PHOTOGRAPHY             281\n",
       "NEWS_AND_MAGAZINES      254\n",
       "SOCIAL                  239\n",
       "BOOKS_AND_REFERENCE     222\n",
       "TRAVEL_AND_LOCAL        219\n",
       "SHOPPING                202\n",
       "DATING                  170\n",
       "VIDEO_PLAYERS           163\n",
       "MAPS_AND_NAVIGATION     131\n",
       "EDUCATION               115\n",
       "FOOD_AND_DRINK          112\n",
       "ENTERTAINMENT            93\n",
       "AUTO_AND_VEHICLES        85\n",
       "LIBRARIES_AND_DEMO       84\n",
       "WEATHER                  79\n",
       "HOUSE_AND_HOME           74\n",
       "ART_AND_DESIGN           64\n",
       "EVENTS                   64\n",
       "PARENTING                60\n",
       "COMICS                   56\n",
       "BEAUTY                   53\n",
       "1.9                       1\n",
       "Name: Category, dtype: int64"
      ]
     },
     "execution_count": 589,
     "metadata": {},
     "output_type": "execute_result"
    }
   ],
   "source": [
    "df[\"Category\"].value_counts()"
   ]
  },
  {
   "cell_type": "markdown",
   "metadata": {
    "id": "JoqG9uNFEyZf"
   },
   "source": [
    "Drop the category named 1.9, unknown category and invalid category"
   ]
  },
  {
   "cell_type": "code",
   "execution_count": 590,
   "metadata": {
    "id": "RHFmHQtLUOg3"
   },
   "outputs": [],
   "source": [
    "df = df[df['Category'] != '1.9']"
   ]
  },
  {
   "cell_type": "code",
   "execution_count": 591,
   "metadata": {},
   "outputs": [
    {
     "data": {
      "text/plain": [
       "FAMILY                 1862\n",
       "GAME                    940\n",
       "TOOLS                   828\n",
       "BUSINESS                419\n",
       "MEDICAL                 396\n",
       "PERSONALIZATION         376\n",
       "PRODUCTIVITY            374\n",
       "LIFESTYLE               369\n",
       "FINANCE                 345\n",
       "SPORTS                  327\n",
       "COMMUNICATION           316\n",
       "HEALTH_AND_FITNESS      287\n",
       "PHOTOGRAPHY             281\n",
       "NEWS_AND_MAGAZINES      254\n",
       "SOCIAL                  239\n",
       "BOOKS_AND_REFERENCE     222\n",
       "TRAVEL_AND_LOCAL        219\n",
       "SHOPPING                202\n",
       "DATING                  170\n",
       "VIDEO_PLAYERS           163\n",
       "MAPS_AND_NAVIGATION     131\n",
       "EDUCATION               115\n",
       "FOOD_AND_DRINK          112\n",
       "ENTERTAINMENT            93\n",
       "AUTO_AND_VEHICLES        85\n",
       "LIBRARIES_AND_DEMO       84\n",
       "WEATHER                  79\n",
       "HOUSE_AND_HOME           74\n",
       "EVENTS                   64\n",
       "ART_AND_DESIGN           64\n",
       "PARENTING                60\n",
       "COMICS                   56\n",
       "BEAUTY                   53\n",
       "Name: Category, dtype: int64"
      ]
     },
     "execution_count": 591,
     "metadata": {},
     "output_type": "execute_result"
    }
   ],
   "source": [
    "df[\"Category\"].value_counts()"
   ]
  },
  {
   "cell_type": "markdown",
   "metadata": {
    "id": "OTPN55hAE6Vr"
   },
   "source": [
    "Visualize App category column"
   ]
  },
  {
   "cell_type": "code",
   "execution_count": 592,
   "metadata": {
    "id": "21waDixWUOjU"
   },
   "outputs": [
    {
     "name": "stderr",
     "output_type": "stream",
     "text": [
      "C:\\Users\\sreev\\Anaconda3\\lib\\site-packages\\seaborn\\_decorators.py:43: FutureWarning: Pass the following variable as a keyword arg: x. From version 0.12, the only valid positional argument will be `data`, and passing other arguments without an explicit keyword will result in an error or misinterpretation.\n",
      "  FutureWarning\n"
     ]
    },
    {
     "data": {
      "image/png": "[encoded data removed]",
      "text/plain": [
       "<Figure size 864x576 with 1 Axes>"
      ]
     },
     "metadata": {
      "needs_background": "light"
     },
     "output_type": "display_data"
    }
   ],
   "source": [
    "plt.figure(figsize=(12, 8))\n",
    "sns.countplot(df['Category']);\n",
    "plt.xticks(rotation='vertical');"
   ]
  },
  {
   "cell_type": "markdown",
   "metadata": {
    "id": "_Wsw6q0cbPSb"
   },
   "source": [
    "### 2.3 Rating Column"
   ]
  },
  {
   "cell_type": "markdown",
   "metadata": {
    "id": "rf4IyOpWFLxL"
   },
   "source": [
    "Check summary statistics of Rating column"
   ]
  },
  {
   "cell_type": "code",
   "execution_count": 593,
   "metadata": {
    "id": "Xg9HoXdeUOmO"
   },
   "outputs": [
    {
     "data": {
      "text/plain": [
       "count    8195.000000\n",
       "mean        4.173362\n",
       "std         0.536397\n",
       "min         1.000000\n",
       "25%         4.000000\n",
       "50%         4.300000\n",
       "75%         4.500000\n",
       "max         5.000000\n",
       "Name: Rating, dtype: float64"
      ]
     },
     "execution_count": 593,
     "metadata": {},
     "output_type": "execute_result"
    }
   ],
   "source": [
    "df['Rating'].describe()"
   ]
  },
  {
   "cell_type": "markdown",
   "metadata": {
    "id": "_c0Zjl26FP23"
   },
   "source": [
    "Check the rating distribution"
   ]
  },
  {
   "cell_type": "code",
   "execution_count": 594,
   "metadata": {
    "id": "KnvqwlFKUOpJ"
   },
   "outputs": [
    {
     "data": {
      "text/plain": [
       "array([[<matplotlib.axes._subplots.AxesSubplot object at 0x000001E5057016C8>]],\n",
       "      dtype=object)"
      ]
     },
     "execution_count": 594,
     "metadata": {},
     "output_type": "execute_result"
    },
    {
     "data": {
      "image/png": "[encoded data removed]",
      "text/plain": [
       "<Figure size 432x288 with 1 Axes>"
      ]
     },
     "metadata": {
      "needs_background": "light"
     },
     "output_type": "display_data"
    }
   ],
   "source": [
    "df.hist(column=\"Rating\")"
   ]
  },
  {
   "cell_type": "markdown",
   "metadata": {
    "id": "i5A621dBFT7s"
   },
   "source": [
    "Check the rating dataframe shape"
   ]
  },
  {
   "cell_type": "code",
   "execution_count": 595,
   "metadata": {
    "id": "Almg6RJIUrJr"
   },
   "outputs": [
    {
     "data": {
      "text/plain": [
       "(9659,)"
      ]
     },
     "execution_count": 595,
     "metadata": {},
     "output_type": "execute_result"
    }
   ],
   "source": [
    "df[\"Rating\"].shape"
   ]
  },
  {
   "cell_type": "markdown",
   "metadata": {
    "id": "e5nBKpnXFWmF"
   },
   "source": [
    "Check for null values in the rating dataframe"
   ]
  },
  {
   "cell_type": "code",
   "execution_count": 596,
   "metadata": {
    "id": "lADQ2CmrUry4"
   },
   "outputs": [
    {
     "data": {
      "text/plain": [
       "App                  0\n",
       "Category             0\n",
       "Rating            1464\n",
       "Reviews              0\n",
       "Size                 0\n",
       "Installs             0\n",
       "Type                 1\n",
       "Price                0\n",
       "Content Rating       0\n",
       "Genres               0\n",
       "Last Updated         0\n",
       "Current Ver          8\n",
       "Android Ver          2\n",
       "dtype: int64"
      ]
     },
     "execution_count": 596,
     "metadata": {},
     "output_type": "execute_result"
    }
   ],
   "source": [
    "df.isnull().sum()"
   ]
  },
  {
   "cell_type": "markdown",
   "metadata": {
    "id": "gTwAUzpOFaA0"
   },
   "source": [
    "Drop the NaN values"
   ]
  },
  {
   "cell_type": "code",
   "execution_count": 597,
   "metadata": {
    "id": "SSVH98RTUvVD"
   },
   "outputs": [],
   "source": [
    "df = df.dropna()"
   ]
  },
  {
   "cell_type": "markdown",
   "metadata": {
    "id": "EWIHrH4YFduj"
   },
   "source": [
    "Convert ratings to high and low categories(>3.5 is high rest low)"
   ]
  },
  {
   "cell_type": "code",
   "execution_count": 598,
   "metadata": {
    "id": "0i0d4tTwVPU5"
   },
   "outputs": [],
   "source": [
    "df['Rating_cat'] = df.Rating.apply(lambda x : \"High\" if x > 3.5 else \"Low\")\n"
   ]
  },
  {
   "cell_type": "code",
   "execution_count": 599,
   "metadata": {},
   "outputs": [
    {
     "data": {
      "text/html": [
       "<div>\n",
       "<style scoped>\n",
       "    .dataframe tbody tr th:only-of-type {\n",
       "        vertical-align: middle;\n",
       "    }\n",
       "\n",
       "    .dataframe tbody tr th {\n",
       "        vertical-align: top;\n",
       "    }\n",
       "\n",
       "    .dataframe thead th {\n",
       "        text-align: right;\n",
       "    }\n",
       "</style>\n",
       "<table border=\"1\" class=\"dataframe\">\n",
       "  <thead>\n",
       "    <tr style=\"text-align: right;\">\n",
       "      <th></th>\n",
       "      <th>App</th>\n",
       "      <th>Category</th>\n",
       "      <th>Rating</th>\n",
       "      <th>Reviews</th>\n",
       "      <th>Size</th>\n",
       "      <th>Installs</th>\n",
       "      <th>Type</th>\n",
       "      <th>Price</th>\n",
       "      <th>Content Rating</th>\n",
       "      <th>Genres</th>\n",
       "      <th>Last Updated</th>\n",
       "      <th>Current Ver</th>\n",
       "      <th>Android Ver</th>\n",
       "      <th>Rating_cat</th>\n",
       "    </tr>\n",
       "  </thead>\n",
       "  <tbody>\n",
       "    <tr>\n",
       "      <td>7139</td>\n",
       "      <td>CB Register</td>\n",
       "      <td>FAMILY</td>\n",
       "      <td>5.0</td>\n",
       "      <td>1</td>\n",
       "      <td>5.6M</td>\n",
       "      <td>10+</td>\n",
       "      <td>Free</td>\n",
       "      <td>0</td>\n",
       "      <td>Everyone</td>\n",
       "      <td>Entertainment</td>\n",
       "      <td>June 27, 2018</td>\n",
       "      <td>1.0</td>\n",
       "      <td>4.1 and up</td>\n",
       "      <td>High</td>\n",
       "    </tr>\n",
       "    <tr>\n",
       "      <td>8391</td>\n",
       "      <td>DG OFF - 100% Free Coupons &amp; Deals</td>\n",
       "      <td>SHOPPING</td>\n",
       "      <td>5.0</td>\n",
       "      <td>1</td>\n",
       "      <td>1.1M</td>\n",
       "      <td>10+</td>\n",
       "      <td>Free</td>\n",
       "      <td>0</td>\n",
       "      <td>Everyone</td>\n",
       "      <td>Shopping</td>\n",
       "      <td>July 11, 2018</td>\n",
       "      <td>1.0</td>\n",
       "      <td>4.0 and up</td>\n",
       "      <td>High</td>\n",
       "    </tr>\n",
       "    <tr>\n",
       "      <td>5151</td>\n",
       "      <td>Clarksburg AH</td>\n",
       "      <td>MEDICAL</td>\n",
       "      <td>1.0</td>\n",
       "      <td>1</td>\n",
       "      <td>28M</td>\n",
       "      <td>50+</td>\n",
       "      <td>Free</td>\n",
       "      <td>0</td>\n",
       "      <td>Everyone</td>\n",
       "      <td>Medical</td>\n",
       "      <td>May 1, 2017</td>\n",
       "      <td>300000.0.81</td>\n",
       "      <td>4.0.3 and up</td>\n",
       "      <td>Low</td>\n",
       "    </tr>\n",
       "    <tr>\n",
       "      <td>2459</td>\n",
       "      <td>Anatomy &amp; Physiology Vocabulary Exam Review App</td>\n",
       "      <td>MEDICAL</td>\n",
       "      <td>5.0</td>\n",
       "      <td>1</td>\n",
       "      <td>4.6M</td>\n",
       "      <td>5+</td>\n",
       "      <td>Free</td>\n",
       "      <td>0</td>\n",
       "      <td>Everyone</td>\n",
       "      <td>Medical</td>\n",
       "      <td>August 2, 2018</td>\n",
       "      <td>2.0</td>\n",
       "      <td>4.0 and up</td>\n",
       "      <td>High</td>\n",
       "    </tr>\n",
       "    <tr>\n",
       "      <td>6319</td>\n",
       "      <td>BJ Bridge Standard American 2018</td>\n",
       "      <td>GAME</td>\n",
       "      <td>1.0</td>\n",
       "      <td>1</td>\n",
       "      <td>4.9M</td>\n",
       "      <td>1,000+</td>\n",
       "      <td>Free</td>\n",
       "      <td>0</td>\n",
       "      <td>Everyone</td>\n",
       "      <td>Card</td>\n",
       "      <td>May 21, 2018</td>\n",
       "      <td>6.2-sayc</td>\n",
       "      <td>4.0 and up</td>\n",
       "      <td>Low</td>\n",
       "    </tr>\n",
       "  </tbody>\n",
       "</table>\n",
       "</div>"
      ],
      "text/plain": [
       "                                                  App  Category  Rating  \\\n",
       "7139                                      CB Register    FAMILY     5.0   \n",
       "8391               DG OFF - 100% Free Coupons & Deals  SHOPPING     5.0   \n",
       "5151                                    Clarksburg AH   MEDICAL     1.0   \n",
       "2459  Anatomy & Physiology Vocabulary Exam Review App   MEDICAL     5.0   \n",
       "6319                 BJ Bridge Standard American 2018      GAME     1.0   \n",
       "\n",
       "     Reviews  Size Installs  Type Price Content Rating         Genres  \\\n",
       "7139       1  5.6M      10+  Free     0       Everyone  Entertainment   \n",
       "8391       1  1.1M      10+  Free     0       Everyone       Shopping   \n",
       "5151       1   28M      50+  Free     0       Everyone        Medical   \n",
       "2459       1  4.6M       5+  Free     0       Everyone        Medical   \n",
       "6319       1  4.9M   1,000+  Free     0       Everyone           Card   \n",
       "\n",
       "        Last Updated  Current Ver   Android Ver Rating_cat  \n",
       "7139   June 27, 2018          1.0    4.1 and up       High  \n",
       "8391   July 11, 2018          1.0    4.0 and up       High  \n",
       "5151     May 1, 2017  300000.0.81  4.0.3 and up        Low  \n",
       "2459  August 2, 2018          2.0    4.0 and up       High  \n",
       "6319    May 21, 2018     6.2-sayc    4.0 and up        Low  "
      ]
     },
     "execution_count": 599,
     "metadata": {},
     "output_type": "execute_result"
    }
   ],
   "source": [
    "df.head()"
   ]
  },
  {
   "cell_type": "markdown",
   "metadata": {
    "id": "up-gowcHFpTU"
   },
   "source": [
    "Add the categorical column to the data "
   ]
  },
  {
   "cell_type": "code",
   "execution_count": null,
   "metadata": {
    "id": "_QuDvl2iVTx2"
   },
   "outputs": [],
   "source": []
  },
  {
   "cell_type": "markdown",
   "metadata": {
    "id": "f3vjzHZNFrTa"
   },
   "source": [
    "Check shape of the newly created dataframe"
   ]
  },
  {
   "cell_type": "code",
   "execution_count": 600,
   "metadata": {
    "id": "AUVpLE4lVUV-"
   },
   "outputs": [
    {
     "data": {
      "text/plain": [
       "(8189,)"
      ]
     },
     "execution_count": 600,
     "metadata": {},
     "output_type": "execute_result"
    }
   ],
   "source": [
    "df.Rating_cat.shape"
   ]
  },
  {
   "cell_type": "markdown",
   "metadata": {
    "id": "C6XZ_e7TFvpW"
   },
   "source": [
    "Check for null columns"
   ]
  },
  {
   "cell_type": "code",
   "execution_count": 601,
   "metadata": {
    "id": "RlmJh1UqVVGg"
   },
   "outputs": [
    {
     "data": {
      "text/plain": [
       "App               0\n",
       "Category          0\n",
       "Rating            0\n",
       "Reviews           0\n",
       "Size              0\n",
       "Installs          0\n",
       "Type              0\n",
       "Price             0\n",
       "Content Rating    0\n",
       "Genres            0\n",
       "Last Updated      0\n",
       "Current Ver       0\n",
       "Android Ver       0\n",
       "Rating_cat        0\n",
       "dtype: int64"
      ]
     },
     "execution_count": 601,
     "metadata": {},
     "output_type": "execute_result"
    }
   ],
   "source": [
    "df.isnull().sum()"
   ]
  },
  {
   "cell_type": "markdown",
   "metadata": {
    "id": "ZA9M7eo4Fyzj"
   },
   "source": [
    "Check count of high and low ratings"
   ]
  },
  {
   "cell_type": "code",
   "execution_count": 602,
   "metadata": {
    "id": "9KZJBrQRVVue"
   },
   "outputs": [
    {
     "data": {
      "text/plain": [
       "High    7317\n",
       "Low      872\n",
       "Name: Rating_cat, dtype: int64"
      ]
     },
     "execution_count": 602,
     "metadata": {},
     "output_type": "execute_result"
    }
   ],
   "source": [
    "df[\"Rating_cat\"].value_counts()"
   ]
  },
  {
   "cell_type": "markdown",
   "metadata": {
    "id": "3fJdhl6uF3Da"
   },
   "source": [
    "Plot the same"
   ]
  },
  {
   "cell_type": "code",
   "execution_count": 603,
   "metadata": {
    "id": "W20PIt7zVYqq"
   },
   "outputs": [
    {
     "data": {
      "text/plain": [
       "<matplotlib.axes._subplots.AxesSubplot at 0x1e50581aac8>"
      ]
     },
     "execution_count": 603,
     "metadata": {},
     "output_type": "execute_result"
    },
    {
     "data": {
      "image/png": "[encoded data removed]",
      "text/plain": [
       "<Figure size 432x288 with 1 Axes>"
      ]
     },
     "metadata": {
      "needs_background": "light"
     },
     "output_type": "display_data"
    }
   ],
   "source": [
    "df[\"Rating_cat\"].value_counts().plot(kind = \"bar\")"
   ]
  },
  {
   "cell_type": "markdown",
   "metadata": {
    "id": "ww3QhrQqc9ml"
   },
   "source": [
    "### 2.4 Review Column"
   ]
  },
  {
   "cell_type": "markdown",
   "metadata": {
    "id": "RG7byQ87F8qv"
   },
   "source": [
    "Convert Reviews to numeric"
   ]
  },
  {
   "cell_type": "code",
   "execution_count": 604,
   "metadata": {
    "id": "3PfX6t3WWO2O"
   },
   "outputs": [],
   "source": [
    "df['Reviews'] = pd.to_numeric(df[\"Reviews\"], errors = \"coerce\")"
   ]
  },
  {
   "cell_type": "markdown",
   "metadata": {
    "id": "hFNLE1BbF_EX"
   },
   "source": [
    "Check info"
   ]
  },
  {
   "cell_type": "code",
   "execution_count": 605,
   "metadata": {
    "id": "7cHQnDiGWQC6"
   },
   "outputs": [
    {
     "name": "stdout",
     "output_type": "stream",
     "text": [
      "<class 'pandas.core.frame.DataFrame'>\n",
      "Int64Index: 8189 entries, 7139 to 2989\n",
      "Data columns (total 14 columns):\n",
      "App               8189 non-null object\n",
      "Category          8189 non-null object\n",
      "Rating            8189 non-null float64\n",
      "Reviews           8189 non-null int64\n",
      "Size              8189 non-null object\n",
      "Installs          8189 non-null object\n",
      "Type              8189 non-null object\n",
      "Price             8189 non-null object\n",
      "Content Rating    8189 non-null object\n",
      "Genres            8189 non-null object\n",
      "Last Updated      8189 non-null object\n",
      "Current Ver       8189 non-null object\n",
      "Android Ver       8189 non-null object\n",
      "Rating_cat        8189 non-null object\n",
      "dtypes: float64(1), int64(1), object(12)\n",
      "memory usage: 959.6+ KB\n"
     ]
    }
   ],
   "source": [
    "df.info()"
   ]
  },
  {
   "cell_type": "code",
   "execution_count": 606,
   "metadata": {},
   "outputs": [
    {
     "name": "stderr",
     "output_type": "stream",
     "text": [
      "C:\\Users\\sreev\\Anaconda3\\lib\\site-packages\\seaborn\\distributions.py:2557: FutureWarning: `distplot` is a deprecated function and will be removed in a future version. Please adapt your code to use either `displot` (a figure-level function with similar flexibility) or `histplot` (an axes-level function for histograms).\n",
      "  warnings.warn(msg, FutureWarning)\n"
     ]
    },
    {
     "data": {
      "text/plain": [
       "<matplotlib.axes._subplots.AxesSubplot at 0x1e505865348>"
      ]
     },
     "execution_count": 606,
     "metadata": {},
     "output_type": "execute_result"
    },
    {
     "data": {
      "image/png": "[encoded data removed]",
      "text/plain": [
       "<Figure size 432x288 with 1 Axes>"
      ]
     },
     "metadata": {
      "needs_background": "light"
     },
     "output_type": "display_data"
    }
   ],
   "source": [
    "sns.distplot(df[\"Reviews\"])"
   ]
  },
  {
   "cell_type": "markdown",
   "metadata": {
    "id": "9pmvH2lhGK6F"
   },
   "source": [
    "Convert Reviews to numeric"
   ]
  },
  {
   "cell_type": "markdown",
   "metadata": {
    "id": "MCTQfUeQGByz"
   },
   "source": [
    " Review distibution "
   ]
  },
  {
   "cell_type": "code",
   "execution_count": null,
   "metadata": {
    "id": "mSpLkXlxWSLo"
   },
   "outputs": [],
   "source": []
  },
  {
   "cell_type": "code",
   "execution_count": null,
   "metadata": {
    "id": "t_EqGi3cGNxF"
   },
   "outputs": [],
   "source": []
  },
  {
   "cell_type": "markdown",
   "metadata": {
    "id": "0adY2cPpbS8U"
   },
   "source": [
    "### 2.5 Size Column"
   ]
  },
  {
   "cell_type": "markdown",
   "metadata": {
    "id": "Z5O9Zr76anRP"
   },
   "source": [
    "Working on Size column\n",
    "\n",
    "The column currently contail alphanumeric values. "
   ]
  },
  {
   "cell_type": "markdown",
   "metadata": {
    "id": "4sYHHy2GGXoN"
   },
   "source": [
    "Check count"
   ]
  },
  {
   "cell_type": "code",
   "execution_count": 607,
   "metadata": {
    "id": "lZc_rc3qWWXv"
   },
   "outputs": [
    {
     "data": {
      "text/plain": [
       "Varies with device    1169\n",
       "14M                    148\n",
       "12M                    147\n",
       "11M                    143\n",
       "13M                    143\n",
       "                      ... \n",
       "93k                      1\n",
       "500k                     1\n",
       "963k                     1\n",
       "444k                     1\n",
       "48k                      1\n",
       "Name: Size, Length: 413, dtype: int64"
      ]
     },
     "execution_count": 607,
     "metadata": {},
     "output_type": "execute_result"
    }
   ],
   "source": [
    "df[\"Size\"].value_counts()"
   ]
  },
  {
   "cell_type": "markdown",
   "metadata": {
    "id": "VG-0so-IGa8W"
   },
   "source": [
    "Replace M with 1 million and k with 1 thousand"
   ]
  },
  {
   "cell_type": "code",
   "execution_count": 608,
   "metadata": {
    "id": "JVXN4RlgWW8n"
   },
   "outputs": [],
   "source": [
    "def convert(x):\n",
    "    if 'M' in x:\n",
    "        return float(x.split('M')[0]) * 1000000\n",
    "    elif 'k' in x:\n",
    "        return float(x.split('k')[0]) * 1000\n",
    "        \n",
    "df['Size_num'] = df['Size'].apply(lambda x : convert(x))\n"
   ]
  },
  {
   "cell_type": "code",
   "execution_count": 609,
   "metadata": {},
   "outputs": [
    {
     "data": {
      "text/html": [
       "<div>\n",
       "<style scoped>\n",
       "    .dataframe tbody tr th:only-of-type {\n",
       "        vertical-align: middle;\n",
       "    }\n",
       "\n",
       "    .dataframe tbody tr th {\n",
       "        vertical-align: top;\n",
       "    }\n",
       "\n",
       "    .dataframe thead th {\n",
       "        text-align: right;\n",
       "    }\n",
       "</style>\n",
       "<table border=\"1\" class=\"dataframe\">\n",
       "  <thead>\n",
       "    <tr style=\"text-align: right;\">\n",
       "      <th></th>\n",
       "      <th>Size</th>\n",
       "      <th>Size_num</th>\n",
       "    </tr>\n",
       "  </thead>\n",
       "  <tbody>\n",
       "    <tr>\n",
       "      <td>7139</td>\n",
       "      <td>5.6M</td>\n",
       "      <td>5600000.0</td>\n",
       "    </tr>\n",
       "    <tr>\n",
       "      <td>8391</td>\n",
       "      <td>1.1M</td>\n",
       "      <td>1100000.0</td>\n",
       "    </tr>\n",
       "    <tr>\n",
       "      <td>5151</td>\n",
       "      <td>28M</td>\n",
       "      <td>28000000.0</td>\n",
       "    </tr>\n",
       "    <tr>\n",
       "      <td>2459</td>\n",
       "      <td>4.6M</td>\n",
       "      <td>4600000.0</td>\n",
       "    </tr>\n",
       "    <tr>\n",
       "      <td>6319</td>\n",
       "      <td>4.9M</td>\n",
       "      <td>4900000.0</td>\n",
       "    </tr>\n",
       "    <tr>\n",
       "      <td>...</td>\n",
       "      <td>...</td>\n",
       "      <td>...</td>\n",
       "    </tr>\n",
       "    <tr>\n",
       "      <td>3079</td>\n",
       "      <td>33M</td>\n",
       "      <td>33000000.0</td>\n",
       "    </tr>\n",
       "    <tr>\n",
       "      <td>3229</td>\n",
       "      <td>22M</td>\n",
       "      <td>22000000.0</td>\n",
       "    </tr>\n",
       "    <tr>\n",
       "      <td>2723</td>\n",
       "      <td>18M</td>\n",
       "      <td>18000000.0</td>\n",
       "    </tr>\n",
       "    <tr>\n",
       "      <td>4970</td>\n",
       "      <td>91k</td>\n",
       "      <td>91000.0</td>\n",
       "    </tr>\n",
       "    <tr>\n",
       "      <td>2989</td>\n",
       "      <td>31M</td>\n",
       "      <td>31000000.0</td>\n",
       "    </tr>\n",
       "  </tbody>\n",
       "</table>\n",
       "<p>8189 rows × 2 columns</p>\n",
       "</div>"
      ],
      "text/plain": [
       "      Size    Size_num\n",
       "7139  5.6M   5600000.0\n",
       "8391  1.1M   1100000.0\n",
       "5151   28M  28000000.0\n",
       "2459  4.6M   4600000.0\n",
       "6319  4.9M   4900000.0\n",
       "...    ...         ...\n",
       "3079   33M  33000000.0\n",
       "3229   22M  22000000.0\n",
       "2723   18M  18000000.0\n",
       "4970   91k     91000.0\n",
       "2989   31M  31000000.0\n",
       "\n",
       "[8189 rows x 2 columns]"
      ]
     },
     "execution_count": 609,
     "metadata": {},
     "output_type": "execute_result"
    }
   ],
   "source": [
    "df[[\"Size\", \"Size_num\"]]"
   ]
  },
  {
   "cell_type": "markdown",
   "metadata": {
    "id": "5ySy_pdtGczs"
   },
   "source": [
    "Check Size values counts"
   ]
  },
  {
   "cell_type": "code",
   "execution_count": 611,
   "metadata": {
    "id": "8blmG1utWZbY"
   },
   "outputs": [
    {
     "data": {
      "text/plain": [
       "Varies with device    1169\n",
       "14M                    148\n",
       "12M                    147\n",
       "11M                    143\n",
       "13M                    143\n",
       "                      ... \n",
       "93k                      1\n",
       "500k                     1\n",
       "963k                     1\n",
       "444k                     1\n",
       "48k                      1\n",
       "Name: Size, Length: 413, dtype: int64"
      ]
     },
     "execution_count": 611,
     "metadata": {},
     "output_type": "execute_result"
    }
   ],
   "source": [
    "df[\"Size\"].value_counts()"
   ]
  },
  {
   "cell_type": "code",
   "execution_count": 612,
   "metadata": {},
   "outputs": [
    {
     "data": {
      "text/plain": [
       "14000000.0    148\n",
       "12000000.0    147\n",
       "11000000.0    143\n",
       "13000000.0    143\n",
       "15000000.0    139\n",
       "             ... \n",
       "251000.0        1\n",
       "420000.0        1\n",
       "210000.0        1\n",
       "293000.0        1\n",
       "930000.0        1\n",
       "Name: Size_num, Length: 411, dtype: int64"
      ]
     },
     "execution_count": 612,
     "metadata": {},
     "output_type": "execute_result"
    }
   ],
   "source": [
    "df[\"Size_num\"].value_counts()"
   ]
  },
  {
   "cell_type": "markdown",
   "metadata": {
    "id": "-DjFQjf_Giuv"
   },
   "source": [
    "convert column to numeric, dropping non numeric values\n",
    "\n",
    "\n",
    "\n"
   ]
  },
  {
   "cell_type": "code",
   "execution_count": null,
   "metadata": {
    "id": "U79QJ29wWbQu"
   },
   "outputs": [],
   "source": []
  },
  {
   "cell_type": "markdown",
   "metadata": {
    "id": "n84ftbg9GnBc"
   },
   "source": [
    "Check info"
   ]
  },
  {
   "cell_type": "code",
   "execution_count": 613,
   "metadata": {
    "id": "hXZx2qknGoZB"
   },
   "outputs": [
    {
     "name": "stdout",
     "output_type": "stream",
     "text": [
      "<class 'pandas.core.frame.DataFrame'>\n",
      "Int64Index: 8189 entries, 7139 to 2989\n",
      "Data columns (total 15 columns):\n",
      "App               8189 non-null object\n",
      "Category          8189 non-null object\n",
      "Rating            8189 non-null float64\n",
      "Reviews           8189 non-null int64\n",
      "Size              8189 non-null object\n",
      "Installs          8189 non-null object\n",
      "Type              8189 non-null object\n",
      "Price             8189 non-null object\n",
      "Content Rating    8189 non-null object\n",
      "Genres            8189 non-null object\n",
      "Last Updated      8189 non-null object\n",
      "Current Ver       8189 non-null object\n",
      "Android Ver       8189 non-null object\n",
      "Rating_cat        8189 non-null object\n",
      "Size_num          7020 non-null float64\n",
      "dtypes: float64(2), int64(1), object(12)\n",
      "memory usage: 1023.6+ KB\n"
     ]
    }
   ],
   "source": [
    "df.info()"
   ]
  },
  {
   "cell_type": "markdown",
   "metadata": {
    "id": "ONvAvbFhGoyP"
   },
   "source": [
    "Check for NaN values"
   ]
  },
  {
   "cell_type": "code",
   "execution_count": 614,
   "metadata": {
    "id": "TT5iaHLAWKzc"
   },
   "outputs": [
    {
     "data": {
      "text/plain": [
       "1169"
      ]
     },
     "execution_count": 614,
     "metadata": {},
     "output_type": "execute_result"
    }
   ],
   "source": [
    "df[\"Size_num\"].isna().sum()\n",
    "# It should be 1169"
   ]
  },
  {
   "cell_type": "markdown",
   "metadata": {
    "id": "1agvI7ZEGrIU"
   },
   "source": [
    "Impute the null values in \"Size\" column "
   ]
  },
  {
   "cell_type": "code",
   "execution_count": null,
   "metadata": {},
   "outputs": [],
   "source": [
    "df[\"Size_num\"].mode()"
   ]
  },
  {
   "cell_type": "code",
   "execution_count": 617,
   "metadata": {
    "id": "lwnoXUB8WJoV"
   },
   "outputs": [],
   "source": [
    "df[\"Size_num\"].fillna(df[\"Size_num\"].mode()[0], inplace = True)"
   ]
  },
  {
   "cell_type": "code",
   "execution_count": 618,
   "metadata": {},
   "outputs": [
    {
     "name": "stdout",
     "output_type": "stream",
     "text": [
      "<class 'pandas.core.frame.DataFrame'>\n",
      "Int64Index: 8189 entries, 7139 to 2989\n",
      "Data columns (total 15 columns):\n",
      "App               8189 non-null object\n",
      "Category          8189 non-null object\n",
      "Rating            8189 non-null float64\n",
      "Reviews           8189 non-null int64\n",
      "Size              8189 non-null object\n",
      "Installs          8189 non-null object\n",
      "Type              8189 non-null object\n",
      "Price             8189 non-null object\n",
      "Content Rating    8189 non-null object\n",
      "Genres            8189 non-null object\n",
      "Last Updated      8189 non-null object\n",
      "Current Ver       8189 non-null object\n",
      "Android Ver       8189 non-null object\n",
      "Rating_cat        8189 non-null object\n",
      "Size_num          8189 non-null float64\n",
      "dtypes: float64(2), int64(1), object(12)\n",
      "memory usage: 1023.6+ KB\n"
     ]
    }
   ],
   "source": [
    "df.info()"
   ]
  },
  {
   "cell_type": "code",
   "execution_count": 619,
   "metadata": {},
   "outputs": [
    {
     "data": {
      "text/plain": [
       "0"
      ]
     },
     "execution_count": 619,
     "metadata": {},
     "output_type": "execute_result"
    }
   ],
   "source": [
    "df[\"Size_num\"].isna().sum()"
   ]
  },
  {
   "cell_type": "code",
   "execution_count": 620,
   "metadata": {},
   "outputs": [
    {
     "data": {
      "text/plain": [
       "<matplotlib.axes._subplots.AxesSubplot at 0x1e505965ec8>"
      ]
     },
     "execution_count": 620,
     "metadata": {},
     "output_type": "execute_result"
    },
    {
     "data": {
      "image/png": "[encoded data removed]",
      "text/plain": [
       "<Figure size 432x288 with 1 Axes>"
      ]
     },
     "metadata": {
      "needs_background": "light"
     },
     "output_type": "display_data"
    }
   ],
   "source": [
    "df[\"Size_num\"].plot(kind = \"kde\")"
   ]
  },
  {
   "cell_type": "markdown",
   "metadata": {
    "id": "rCRHLDFXdGRA"
   },
   "source": [
    "### 2.6 Install Column"
   ]
  },
  {
   "cell_type": "markdown",
   "metadata": {
    "id": "twxX_WjOJFaA"
   },
   "source": [
    "Check value counts"
   ]
  },
  {
   "cell_type": "code",
   "execution_count": 621,
   "metadata": {
    "id": "Oyh2pUrXWGcm"
   },
   "outputs": [
    {
     "data": {
      "text/plain": [
       "<bound method IndexOpsMixin.value_counts of 7139           10+\n",
       "8391           10+\n",
       "5151           50+\n",
       "2459            5+\n",
       "6319        1,000+\n",
       "           ...    \n",
       "3079    1,000,000+\n",
       "3229      500,000+\n",
       "2723    1,000,000+\n",
       "4970      100,000+\n",
       "2989    1,000,000+\n",
       "Name: Installs, Length: 8189, dtype: object>"
      ]
     },
     "execution_count": 621,
     "metadata": {},
     "output_type": "execute_result"
    }
   ],
   "source": [
    "df[\"Installs\"].value_counts"
   ]
  },
  {
   "cell_type": "markdown",
   "metadata": {
    "id": "MF6UqMgaJIYi"
   },
   "source": [
    "Replace , and + with space"
   ]
  },
  {
   "cell_type": "code",
   "execution_count": 622,
   "metadata": {
    "id": "Jo9DXSi2WDlr"
   },
   "outputs": [],
   "source": [
    "df['Installs'] = df['Installs'].str.replace(\",\", \"\").str.replace(\"+\",'')\n"
   ]
  },
  {
   "cell_type": "markdown",
   "metadata": {
    "id": "uoEECo4YJM9I"
   },
   "source": [
    "Convert to numeric type"
   ]
  },
  {
   "cell_type": "code",
   "execution_count": 623,
   "metadata": {
    "id": "_Av-WNdhWEMg"
   },
   "outputs": [],
   "source": [
    "df['Installs'] = pd.to_numeric(df[\"Installs\"])"
   ]
  },
  {
   "cell_type": "markdown",
   "metadata": {
    "id": "kd5DMN66JQiG"
   },
   "source": [
    "Check value counts"
   ]
  },
  {
   "cell_type": "code",
   "execution_count": 624,
   "metadata": {
    "id": "iat8MekXWAfc"
   },
   "outputs": [
    {
     "data": {
      "text/plain": [
       "1000000       1415\n",
       "100000        1095\n",
       "10000          987\n",
       "10000000       936\n",
       "1000           695\n",
       "5000000        605\n",
       "500000         502\n",
       "50000          456\n",
       "5000           424\n",
       "100            302\n",
       "50000000       203\n",
       "500            199\n",
       "100000000      189\n",
       "10              69\n",
       "50              56\n",
       "500000000       24\n",
       "1000000000      20\n",
       "5                9\n",
       "1                3\n",
       "Name: Installs, dtype: int64"
      ]
     },
     "execution_count": 624,
     "metadata": {},
     "output_type": "execute_result"
    }
   ],
   "source": [
    "df['Installs'].value_counts()"
   ]
  },
  {
   "cell_type": "markdown",
   "metadata": {
    "id": "JOF3qdunJUrE"
   },
   "source": [
    "Check info"
   ]
  },
  {
   "cell_type": "code",
   "execution_count": 625,
   "metadata": {
    "id": "0C2eUGubV_9v"
   },
   "outputs": [
    {
     "name": "stdout",
     "output_type": "stream",
     "text": [
      "<class 'pandas.core.frame.DataFrame'>\n",
      "Int64Index: 8189 entries, 7139 to 2989\n",
      "Data columns (total 15 columns):\n",
      "App               8189 non-null object\n",
      "Category          8189 non-null object\n",
      "Rating            8189 non-null float64\n",
      "Reviews           8189 non-null int64\n",
      "Size              8189 non-null object\n",
      "Installs          8189 non-null int64\n",
      "Type              8189 non-null object\n",
      "Price             8189 non-null object\n",
      "Content Rating    8189 non-null object\n",
      "Genres            8189 non-null object\n",
      "Last Updated      8189 non-null object\n",
      "Current Ver       8189 non-null object\n",
      "Android Ver       8189 non-null object\n",
      "Rating_cat        8189 non-null object\n",
      "Size_num          8189 non-null float64\n",
      "dtypes: float64(2), int64(2), object(11)\n",
      "memory usage: 1023.6+ KB\n"
     ]
    }
   ],
   "source": [
    "df.info()"
   ]
  },
  {
   "cell_type": "markdown",
   "metadata": {
    "id": "Bepa_eIxJXkx"
   },
   "source": [
    "Get the bin levels"
   ]
  },
  {
   "cell_type": "code",
   "execution_count": 626,
   "metadata": {
    "id": "Lc5uvzp-V8rz"
   },
   "outputs": [],
   "source": [
    "bin_levels = df[\"Installs\"].sort_values().unique()"
   ]
  },
  {
   "cell_type": "markdown",
   "metadata": {
    "id": "OrfH8RulJaTI"
   },
   "source": [
    "Create bins for Installs"
   ]
  },
  {
   "cell_type": "code",
   "execution_count": 627,
   "metadata": {
    "id": "ji59AUPIV5pj"
   },
   "outputs": [],
   "source": [
    "df[\"Install_cat\"] = df[\"Installs\"].replace(bin_levels, range(0, len(bin_levels)))"
   ]
  },
  {
   "cell_type": "code",
   "execution_count": 628,
   "metadata": {},
   "outputs": [
    {
     "data": {
      "text/html": [
       "<div>\n",
       "<style scoped>\n",
       "    .dataframe tbody tr th:only-of-type {\n",
       "        vertical-align: middle;\n",
       "    }\n",
       "\n",
       "    .dataframe tbody tr th {\n",
       "        vertical-align: top;\n",
       "    }\n",
       "\n",
       "    .dataframe thead th {\n",
       "        text-align: right;\n",
       "    }\n",
       "</style>\n",
       "<table border=\"1\" class=\"dataframe\">\n",
       "  <thead>\n",
       "    <tr style=\"text-align: right;\">\n",
       "      <th></th>\n",
       "      <th>App</th>\n",
       "      <th>Category</th>\n",
       "      <th>Rating</th>\n",
       "      <th>Reviews</th>\n",
       "      <th>Size</th>\n",
       "      <th>Installs</th>\n",
       "      <th>Type</th>\n",
       "      <th>Price</th>\n",
       "      <th>Content Rating</th>\n",
       "      <th>Genres</th>\n",
       "      <th>Last Updated</th>\n",
       "      <th>Current Ver</th>\n",
       "      <th>Android Ver</th>\n",
       "      <th>Rating_cat</th>\n",
       "      <th>Size_num</th>\n",
       "      <th>Install_cat</th>\n",
       "    </tr>\n",
       "  </thead>\n",
       "  <tbody>\n",
       "    <tr>\n",
       "      <td>7139</td>\n",
       "      <td>CB Register</td>\n",
       "      <td>FAMILY</td>\n",
       "      <td>5.0</td>\n",
       "      <td>1</td>\n",
       "      <td>5.6M</td>\n",
       "      <td>10</td>\n",
       "      <td>Free</td>\n",
       "      <td>0</td>\n",
       "      <td>Everyone</td>\n",
       "      <td>Entertainment</td>\n",
       "      <td>June 27, 2018</td>\n",
       "      <td>1.0</td>\n",
       "      <td>4.1 and up</td>\n",
       "      <td>High</td>\n",
       "      <td>5600000.0</td>\n",
       "      <td>2</td>\n",
       "    </tr>\n",
       "    <tr>\n",
       "      <td>8391</td>\n",
       "      <td>DG OFF - 100% Free Coupons &amp; Deals</td>\n",
       "      <td>SHOPPING</td>\n",
       "      <td>5.0</td>\n",
       "      <td>1</td>\n",
       "      <td>1.1M</td>\n",
       "      <td>10</td>\n",
       "      <td>Free</td>\n",
       "      <td>0</td>\n",
       "      <td>Everyone</td>\n",
       "      <td>Shopping</td>\n",
       "      <td>July 11, 2018</td>\n",
       "      <td>1.0</td>\n",
       "      <td>4.0 and up</td>\n",
       "      <td>High</td>\n",
       "      <td>1100000.0</td>\n",
       "      <td>2</td>\n",
       "    </tr>\n",
       "    <tr>\n",
       "      <td>5151</td>\n",
       "      <td>Clarksburg AH</td>\n",
       "      <td>MEDICAL</td>\n",
       "      <td>1.0</td>\n",
       "      <td>1</td>\n",
       "      <td>28M</td>\n",
       "      <td>50</td>\n",
       "      <td>Free</td>\n",
       "      <td>0</td>\n",
       "      <td>Everyone</td>\n",
       "      <td>Medical</td>\n",
       "      <td>May 1, 2017</td>\n",
       "      <td>300000.0.81</td>\n",
       "      <td>4.0.3 and up</td>\n",
       "      <td>Low</td>\n",
       "      <td>28000000.0</td>\n",
       "      <td>3</td>\n",
       "    </tr>\n",
       "    <tr>\n",
       "      <td>2459</td>\n",
       "      <td>Anatomy &amp; Physiology Vocabulary Exam Review App</td>\n",
       "      <td>MEDICAL</td>\n",
       "      <td>5.0</td>\n",
       "      <td>1</td>\n",
       "      <td>4.6M</td>\n",
       "      <td>5</td>\n",
       "      <td>Free</td>\n",
       "      <td>0</td>\n",
       "      <td>Everyone</td>\n",
       "      <td>Medical</td>\n",
       "      <td>August 2, 2018</td>\n",
       "      <td>2.0</td>\n",
       "      <td>4.0 and up</td>\n",
       "      <td>High</td>\n",
       "      <td>4600000.0</td>\n",
       "      <td>1</td>\n",
       "    </tr>\n",
       "    <tr>\n",
       "      <td>6319</td>\n",
       "      <td>BJ Bridge Standard American 2018</td>\n",
       "      <td>GAME</td>\n",
       "      <td>1.0</td>\n",
       "      <td>1</td>\n",
       "      <td>4.9M</td>\n",
       "      <td>1000</td>\n",
       "      <td>Free</td>\n",
       "      <td>0</td>\n",
       "      <td>Everyone</td>\n",
       "      <td>Card</td>\n",
       "      <td>May 21, 2018</td>\n",
       "      <td>6.2-sayc</td>\n",
       "      <td>4.0 and up</td>\n",
       "      <td>Low</td>\n",
       "      <td>4900000.0</td>\n",
       "      <td>6</td>\n",
       "    </tr>\n",
       "    <tr>\n",
       "      <td>...</td>\n",
       "      <td>...</td>\n",
       "      <td>...</td>\n",
       "      <td>...</td>\n",
       "      <td>...</td>\n",
       "      <td>...</td>\n",
       "      <td>...</td>\n",
       "      <td>...</td>\n",
       "      <td>...</td>\n",
       "      <td>...</td>\n",
       "      <td>...</td>\n",
       "      <td>...</td>\n",
       "      <td>...</td>\n",
       "      <td>...</td>\n",
       "      <td>...</td>\n",
       "      <td>...</td>\n",
       "      <td>...</td>\n",
       "    </tr>\n",
       "    <tr>\n",
       "      <td>3079</td>\n",
       "      <td>US Open Tennis Championships 2018</td>\n",
       "      <td>SPORTS</td>\n",
       "      <td>4.0</td>\n",
       "      <td>9971</td>\n",
       "      <td>33M</td>\n",
       "      <td>1000000</td>\n",
       "      <td>Free</td>\n",
       "      <td>0</td>\n",
       "      <td>Everyone</td>\n",
       "      <td>Sports</td>\n",
       "      <td>June 5, 2018</td>\n",
       "      <td>7.1</td>\n",
       "      <td>5.0 and up</td>\n",
       "      <td>High</td>\n",
       "      <td>33000000.0</td>\n",
       "      <td>12</td>\n",
       "    </tr>\n",
       "    <tr>\n",
       "      <td>3229</td>\n",
       "      <td>DreamTrips</td>\n",
       "      <td>TRAVEL_AND_LOCAL</td>\n",
       "      <td>4.7</td>\n",
       "      <td>9971</td>\n",
       "      <td>22M</td>\n",
       "      <td>500000</td>\n",
       "      <td>Free</td>\n",
       "      <td>0</td>\n",
       "      <td>Teen</td>\n",
       "      <td>Travel &amp; Local</td>\n",
       "      <td>August 6, 2018</td>\n",
       "      <td>1.28.1</td>\n",
       "      <td>5.0 and up</td>\n",
       "      <td>High</td>\n",
       "      <td>22000000.0</td>\n",
       "      <td>11</td>\n",
       "    </tr>\n",
       "    <tr>\n",
       "      <td>2723</td>\n",
       "      <td>SnipSnap Coupon App</td>\n",
       "      <td>SHOPPING</td>\n",
       "      <td>4.2</td>\n",
       "      <td>9975</td>\n",
       "      <td>18M</td>\n",
       "      <td>1000000</td>\n",
       "      <td>Free</td>\n",
       "      <td>0</td>\n",
       "      <td>Everyone</td>\n",
       "      <td>Shopping</td>\n",
       "      <td>January 22, 2018</td>\n",
       "      <td>1.4</td>\n",
       "      <td>4.3 and up</td>\n",
       "      <td>High</td>\n",
       "      <td>18000000.0</td>\n",
       "      <td>12</td>\n",
       "    </tr>\n",
       "    <tr>\n",
       "      <td>4970</td>\n",
       "      <td>Ad Block REMOVER - NEED ROOT</td>\n",
       "      <td>TOOLS</td>\n",
       "      <td>3.3</td>\n",
       "      <td>999</td>\n",
       "      <td>91k</td>\n",
       "      <td>100000</td>\n",
       "      <td>Free</td>\n",
       "      <td>0</td>\n",
       "      <td>Everyone</td>\n",
       "      <td>Tools</td>\n",
       "      <td>December 17, 2013</td>\n",
       "      <td>3.2</td>\n",
       "      <td>2.2 and up</td>\n",
       "      <td>Low</td>\n",
       "      <td>91000.0</td>\n",
       "      <td>10</td>\n",
       "    </tr>\n",
       "    <tr>\n",
       "      <td>2989</td>\n",
       "      <td>GollerCepte Live Score</td>\n",
       "      <td>SPORTS</td>\n",
       "      <td>4.2</td>\n",
       "      <td>9992</td>\n",
       "      <td>31M</td>\n",
       "      <td>1000000</td>\n",
       "      <td>Free</td>\n",
       "      <td>0</td>\n",
       "      <td>Everyone</td>\n",
       "      <td>Sports</td>\n",
       "      <td>May 23, 2018</td>\n",
       "      <td>6.5</td>\n",
       "      <td>4.1 and up</td>\n",
       "      <td>High</td>\n",
       "      <td>31000000.0</td>\n",
       "      <td>12</td>\n",
       "    </tr>\n",
       "  </tbody>\n",
       "</table>\n",
       "<p>8189 rows × 16 columns</p>\n",
       "</div>"
      ],
      "text/plain": [
       "                                                  App          Category  \\\n",
       "7139                                      CB Register            FAMILY   \n",
       "8391               DG OFF - 100% Free Coupons & Deals          SHOPPING   \n",
       "5151                                    Clarksburg AH           MEDICAL   \n",
       "2459  Anatomy & Physiology Vocabulary Exam Review App           MEDICAL   \n",
       "6319                 BJ Bridge Standard American 2018              GAME   \n",
       "...                                               ...               ...   \n",
       "3079                US Open Tennis Championships 2018            SPORTS   \n",
       "3229                                       DreamTrips  TRAVEL_AND_LOCAL   \n",
       "2723                              SnipSnap Coupon App          SHOPPING   \n",
       "4970                     Ad Block REMOVER - NEED ROOT             TOOLS   \n",
       "2989                           GollerCepte Live Score            SPORTS   \n",
       "\n",
       "      Rating  Reviews  Size  Installs  Type Price Content Rating  \\\n",
       "7139     5.0        1  5.6M        10  Free     0       Everyone   \n",
       "8391     5.0        1  1.1M        10  Free     0       Everyone   \n",
       "5151     1.0        1   28M        50  Free     0       Everyone   \n",
       "2459     5.0        1  4.6M         5  Free     0       Everyone   \n",
       "6319     1.0        1  4.9M      1000  Free     0       Everyone   \n",
       "...      ...      ...   ...       ...   ...   ...            ...   \n",
       "3079     4.0     9971   33M   1000000  Free     0       Everyone   \n",
       "3229     4.7     9971   22M    500000  Free     0           Teen   \n",
       "2723     4.2     9975   18M   1000000  Free     0       Everyone   \n",
       "4970     3.3      999   91k    100000  Free     0       Everyone   \n",
       "2989     4.2     9992   31M   1000000  Free     0       Everyone   \n",
       "\n",
       "              Genres       Last Updated  Current Ver   Android Ver Rating_cat  \\\n",
       "7139   Entertainment      June 27, 2018          1.0    4.1 and up       High   \n",
       "8391        Shopping      July 11, 2018          1.0    4.0 and up       High   \n",
       "5151         Medical        May 1, 2017  300000.0.81  4.0.3 and up        Low   \n",
       "2459         Medical     August 2, 2018          2.0    4.0 and up       High   \n",
       "6319            Card       May 21, 2018     6.2-sayc    4.0 and up        Low   \n",
       "...              ...                ...          ...           ...        ...   \n",
       "3079          Sports       June 5, 2018          7.1    5.0 and up       High   \n",
       "3229  Travel & Local     August 6, 2018       1.28.1    5.0 and up       High   \n",
       "2723        Shopping   January 22, 2018          1.4    4.3 and up       High   \n",
       "4970           Tools  December 17, 2013          3.2    2.2 and up        Low   \n",
       "2989          Sports       May 23, 2018          6.5    4.1 and up       High   \n",
       "\n",
       "        Size_num  Install_cat  \n",
       "7139   5600000.0            2  \n",
       "8391   1100000.0            2  \n",
       "5151  28000000.0            3  \n",
       "2459   4600000.0            1  \n",
       "6319   4900000.0            6  \n",
       "...          ...          ...  \n",
       "3079  33000000.0           12  \n",
       "3229  22000000.0           11  \n",
       "2723  18000000.0           12  \n",
       "4970     91000.0           10  \n",
       "2989  31000000.0           12  \n",
       "\n",
       "[8189 rows x 16 columns]"
      ]
     },
     "execution_count": 628,
     "metadata": {},
     "output_type": "execute_result"
    }
   ],
   "source": [
    "df"
   ]
  },
  {
   "cell_type": "markdown",
   "metadata": {
    "id": "CES5WjMIwhL5"
   },
   "source": [
    "### 2.7 Type"
   ]
  },
  {
   "cell_type": "markdown",
   "metadata": {
    "id": "Jh4yGYnBJd0f"
   },
   "source": [
    "Get value counts"
   ]
  },
  {
   "cell_type": "code",
   "execution_count": 629,
   "metadata": {
    "id": "Bhc2M6P6V2qT"
   },
   "outputs": [
    {
     "data": {
      "text/plain": [
       "Free    7589\n",
       "Paid     600\n",
       "Name: Type, dtype: int64"
      ]
     },
     "execution_count": 629,
     "metadata": {},
     "output_type": "execute_result"
    }
   ],
   "source": [
    "df['Type'].value_counts()"
   ]
  },
  {
   "cell_type": "markdown",
   "metadata": {
    "id": "6xClfwhsJhOf"
   },
   "source": [
    "Plot pie chart for percentage of free vs paid app in store"
   ]
  },
  {
   "cell_type": "code",
   "execution_count": 630,
   "metadata": {
    "id": "q2i7VuYnVlWJ"
   },
   "outputs": [
    {
     "data": {
      "text/plain": [
       "<matplotlib.axes._subplots.AxesSubplot at 0x1e505cde048>"
      ]
     },
     "execution_count": 630,
     "metadata": {},
     "output_type": "execute_result"
    },
    {
     "data": {
      "image/png": "[encoded data removed]",
      "text/plain": [
       "<Figure size 432x288 with 1 Axes>"
      ]
     },
     "metadata": {},
     "output_type": "display_data"
    }
   ],
   "source": [
    "df['Type'].value_counts().plot(kind='pie', autopct = \"%1.1f%%\")"
   ]
  },
  {
   "cell_type": "markdown",
   "metadata": {
    "id": "EDrUQGi0Jmzc"
   },
   "source": [
    "Check the columns and info"
   ]
  },
  {
   "cell_type": "code",
   "execution_count": 631,
   "metadata": {
    "id": "YfmPoZZqVjag"
   },
   "outputs": [
    {
     "name": "stdout",
     "output_type": "stream",
     "text": [
      "<class 'pandas.core.frame.DataFrame'>\n",
      "Int64Index: 8189 entries, 7139 to 2989\n",
      "Data columns (total 16 columns):\n",
      "App               8189 non-null object\n",
      "Category          8189 non-null object\n",
      "Rating            8189 non-null float64\n",
      "Reviews           8189 non-null int64\n",
      "Size              8189 non-null object\n",
      "Installs          8189 non-null int64\n",
      "Type              8189 non-null object\n",
      "Price             8189 non-null object\n",
      "Content Rating    8189 non-null object\n",
      "Genres            8189 non-null object\n",
      "Last Updated      8189 non-null object\n",
      "Current Ver       8189 non-null object\n",
      "Android Ver       8189 non-null object\n",
      "Rating_cat        8189 non-null object\n",
      "Size_num          8189 non-null float64\n",
      "Install_cat       8189 non-null int64\n",
      "dtypes: float64(2), int64(3), object(11)\n",
      "memory usage: 1.1+ MB\n"
     ]
    }
   ],
   "source": [
    "df.info()"
   ]
  },
  {
   "cell_type": "markdown",
   "metadata": {
    "id": "dDuAJMS8wjXM"
   },
   "source": [
    "### 2.8 Price"
   ]
  },
  {
   "cell_type": "markdown",
   "metadata": {
    "id": "W1y1F12cJp4R"
   },
   "source": [
    "Check value counts"
   ]
  },
  {
   "cell_type": "code",
   "execution_count": 632,
   "metadata": {
    "id": "rRv5cCALVgp0"
   },
   "outputs": [
    {
     "data": {
      "text/plain": [
       "0          7589\n",
       "$2.99       109\n",
       "$0.99       103\n",
       "$4.99        68\n",
       "$1.99        59\n",
       "           ... \n",
       "$1.20         1\n",
       "$37.99        1\n",
       "$2.90         1\n",
       "$3.02         1\n",
       "$389.99       1\n",
       "Name: Price, Length: 73, dtype: int64"
      ]
     },
     "execution_count": 632,
     "metadata": {},
     "output_type": "execute_result"
    }
   ],
   "source": [
    "df.Price.value_counts()"
   ]
  },
  {
   "cell_type": "markdown",
   "metadata": {
    "id": "z9L2a8aVJrhK"
   },
   "source": [
    "Replace $ with space"
   ]
  },
  {
   "cell_type": "code",
   "execution_count": 633,
   "metadata": {
    "id": "UNKK8dlwVeut"
   },
   "outputs": [],
   "source": [
    "df['Price'] = df['Price'].str.replace(\"$\", \"\")"
   ]
  },
  {
   "cell_type": "markdown",
   "metadata": {
    "id": "OvmRvBVzJu-O"
   },
   "source": [
    "convert column to numeric, dropping non numeric values"
   ]
  },
  {
   "cell_type": "code",
   "execution_count": 634,
   "metadata": {
    "id": "LP_PrZrZVd8-"
   },
   "outputs": [],
   "source": [
    "df['Price'] =  pd.to_numeric(df[\"Price\"])"
   ]
  },
  {
   "cell_type": "markdown",
   "metadata": {
    "id": "mEVp8_gmJwpC"
   },
   "source": [
    "Get summary statistics"
   ]
  },
  {
   "cell_type": "code",
   "execution_count": 635,
   "metadata": {
    "id": "8xylD3q-T0wO"
   },
   "outputs": [
    {
     "data": {
      "text/plain": [
       "count    8189.000000\n",
       "mean        1.036029\n",
       "std        16.864428\n",
       "min         0.000000\n",
       "25%         0.000000\n",
       "50%         0.000000\n",
       "75%         0.000000\n",
       "max       400.000000\n",
       "Name: Price, dtype: float64"
      ]
     },
     "execution_count": 635,
     "metadata": {},
     "output_type": "execute_result"
    }
   ],
   "source": [
    "df.Price.describe()\n",
    "# count = 8190, max = 400"
   ]
  },
  {
   "cell_type": "markdown",
   "metadata": {
    "id": "oNR-kf17dTFS"
   },
   "source": [
    "## Data Preparation"
   ]
  },
  {
   "cell_type": "markdown",
   "metadata": {
    "id": "UTvtlJx5J2UY"
   },
   "source": [
    "Check info"
   ]
  },
  {
   "cell_type": "code",
   "execution_count": 636,
   "metadata": {
    "id": "gzydpi6QVElt"
   },
   "outputs": [
    {
     "name": "stdout",
     "output_type": "stream",
     "text": [
      "<class 'pandas.core.frame.DataFrame'>\n",
      "Int64Index: 8189 entries, 7139 to 2989\n",
      "Data columns (total 16 columns):\n",
      "App               8189 non-null object\n",
      "Category          8189 non-null object\n",
      "Rating            8189 non-null float64\n",
      "Reviews           8189 non-null int64\n",
      "Size              8189 non-null object\n",
      "Installs          8189 non-null int64\n",
      "Type              8189 non-null object\n",
      "Price             8189 non-null float64\n",
      "Content Rating    8189 non-null object\n",
      "Genres            8189 non-null object\n",
      "Last Updated      8189 non-null object\n",
      "Current Ver       8189 non-null object\n",
      "Android Ver       8189 non-null object\n",
      "Rating_cat        8189 non-null object\n",
      "Size_num          8189 non-null float64\n",
      "Install_cat       8189 non-null int64\n",
      "dtypes: float64(3), int64(3), object(10)\n",
      "memory usage: 1.1+ MB\n"
     ]
    }
   ],
   "source": [
    "df.info()"
   ]
  },
  {
   "cell_type": "markdown",
   "metadata": {
    "id": "A--0RzNRJ6UX"
   },
   "source": [
    "Drop 'App','Content Rating','Genres','Last Updated', 'Current Ver','Android Ver' columns"
   ]
  },
  {
   "cell_type": "code",
   "execution_count": 678,
   "metadata": {
    "id": "v-2R7GHdVCUQ"
   },
   "outputs": [],
   "source": [
    "df_new = df.drop(['App','Content Rating','Genres','Last Updated', 'Current Ver','Android Ver', 'Rating', 'Size', 'Installs'], axis = 1)"
   ]
  },
  {
   "cell_type": "code",
   "execution_count": 679,
   "metadata": {},
   "outputs": [
    {
     "data": {
      "text/html": [
       "<div>\n",
       "<style scoped>\n",
       "    .dataframe tbody tr th:only-of-type {\n",
       "        vertical-align: middle;\n",
       "    }\n",
       "\n",
       "    .dataframe tbody tr th {\n",
       "        vertical-align: top;\n",
       "    }\n",
       "\n",
       "    .dataframe thead th {\n",
       "        text-align: right;\n",
       "    }\n",
       "</style>\n",
       "<table border=\"1\" class=\"dataframe\">\n",
       "  <thead>\n",
       "    <tr style=\"text-align: right;\">\n",
       "      <th></th>\n",
       "      <th>Category</th>\n",
       "      <th>Reviews</th>\n",
       "      <th>Type</th>\n",
       "      <th>Price</th>\n",
       "      <th>Rating_cat</th>\n",
       "      <th>Size_num</th>\n",
       "      <th>Install_cat</th>\n",
       "    </tr>\n",
       "  </thead>\n",
       "  <tbody>\n",
       "    <tr>\n",
       "      <td>7139</td>\n",
       "      <td>FAMILY</td>\n",
       "      <td>1</td>\n",
       "      <td>Free</td>\n",
       "      <td>0.0</td>\n",
       "      <td>High</td>\n",
       "      <td>5600000.0</td>\n",
       "      <td>2</td>\n",
       "    </tr>\n",
       "    <tr>\n",
       "      <td>8391</td>\n",
       "      <td>SHOPPING</td>\n",
       "      <td>1</td>\n",
       "      <td>Free</td>\n",
       "      <td>0.0</td>\n",
       "      <td>High</td>\n",
       "      <td>1100000.0</td>\n",
       "      <td>2</td>\n",
       "    </tr>\n",
       "    <tr>\n",
       "      <td>5151</td>\n",
       "      <td>MEDICAL</td>\n",
       "      <td>1</td>\n",
       "      <td>Free</td>\n",
       "      <td>0.0</td>\n",
       "      <td>Low</td>\n",
       "      <td>28000000.0</td>\n",
       "      <td>3</td>\n",
       "    </tr>\n",
       "    <tr>\n",
       "      <td>2459</td>\n",
       "      <td>MEDICAL</td>\n",
       "      <td>1</td>\n",
       "      <td>Free</td>\n",
       "      <td>0.0</td>\n",
       "      <td>High</td>\n",
       "      <td>4600000.0</td>\n",
       "      <td>1</td>\n",
       "    </tr>\n",
       "    <tr>\n",
       "      <td>6319</td>\n",
       "      <td>GAME</td>\n",
       "      <td>1</td>\n",
       "      <td>Free</td>\n",
       "      <td>0.0</td>\n",
       "      <td>Low</td>\n",
       "      <td>4900000.0</td>\n",
       "      <td>6</td>\n",
       "    </tr>\n",
       "  </tbody>\n",
       "</table>\n",
       "</div>"
      ],
      "text/plain": [
       "      Category  Reviews  Type  Price Rating_cat    Size_num  Install_cat\n",
       "7139    FAMILY        1  Free    0.0       High   5600000.0            2\n",
       "8391  SHOPPING        1  Free    0.0       High   1100000.0            2\n",
       "5151   MEDICAL        1  Free    0.0        Low  28000000.0            3\n",
       "2459   MEDICAL        1  Free    0.0       High   4600000.0            1\n",
       "6319      GAME        1  Free    0.0        Low   4900000.0            6"
      ]
     },
     "execution_count": 679,
     "metadata": {},
     "output_type": "execute_result"
    }
   ],
   "source": [
    "df_new.head()"
   ]
  },
  {
   "cell_type": "markdown",
   "metadata": {
    "id": "dynpM1JEJ_6p"
   },
   "source": [
    "One hot encode 'Rating_cat','Type','Category' columns"
   ]
  },
  {
   "cell_type": "code",
   "execution_count": 680,
   "metadata": {
    "id": "3jGfB_jTU_I8"
   },
   "outputs": [],
   "source": [
    "from sklearn.preprocessing import OneHotEncoder\n",
    "\n",
    "df_new = pd.get_dummies(df_new, columns = [\"Category\", \"Rating_cat\", \"Type\"], drop_first = True)\n"
   ]
  },
  {
   "cell_type": "code",
   "execution_count": 681,
   "metadata": {
    "id": "ort5tvJ0U_MC"
   },
   "outputs": [
    {
     "data": {
      "text/plain": [
       "(8189, 38)"
      ]
     },
     "execution_count": 681,
     "metadata": {},
     "output_type": "execute_result"
    }
   ],
   "source": [
    "df_new.shape"
   ]
  },
  {
   "cell_type": "markdown",
   "metadata": {
    "id": "bETZ9onkKJfA"
   },
   "source": [
    "Drop 'Rating_cat_Low','Rating' columns for feature and make 'Rating_cat_Low' as target"
   ]
  },
  {
   "cell_type": "code",
   "execution_count": 682,
   "metadata": {
    "id": "gzM7xHRYU7Uj"
   },
   "outputs": [],
   "source": [
    "X = df_new.drop(\"Rating_cat_Low\", axis = 1)\n",
    "Y = df_new[\"Rating_cat_Low\"]"
   ]
  },
  {
   "cell_type": "markdown",
   "metadata": {
    "id": "uqoxa1O2KRRv"
   },
   "source": [
    "Split train and test samples(Split size = 0.3 and random_state = 42)"
   ]
  },
  {
   "cell_type": "code",
   "execution_count": 683,
   "metadata": {
    "id": "szB4HiX2U8_h"
   },
   "outputs": [],
   "source": [
    "from sklearn.model_selection import train_test_split\n",
    "x_train, x_test, y_train, y_test = train_test_split(X,Y, test_size = 0.3, random_state = 42)"
   ]
  },
  {
   "cell_type": "code",
   "execution_count": 684,
   "metadata": {},
   "outputs": [
    {
     "data": {
      "text/plain": [
       "((5732, 37), (5732,))"
      ]
     },
     "execution_count": 684,
     "metadata": {},
     "output_type": "execute_result"
    }
   ],
   "source": [
    "x_train.shape, y_train.shape\n",
    "# 5733, 37,5733"
   ]
  },
  {
   "cell_type": "code",
   "execution_count": 685,
   "metadata": {},
   "outputs": [
    {
     "data": {
      "text/plain": [
       "((2457, 37), (2457,))"
      ]
     },
     "execution_count": 685,
     "metadata": {},
     "output_type": "execute_result"
    }
   ],
   "source": [
    "x_test.shape, y_test.shape\n",
    "# 2457, 37, 5733"
   ]
  },
  {
   "cell_type": "code",
   "execution_count": 686,
   "metadata": {},
   "outputs": [],
   "source": [
    "from sklearn.preprocessing import StandardScaler\n",
    "sc = StandardScaler()\n",
    "\n",
    "x_train_std = sc.fit_transform(x_train)\n",
    "x_test_std = sc.fit_transform(x_test)\n"
   ]
  },
  {
   "cell_type": "markdown",
   "metadata": {
    "id": "2U0HmwqedW1z"
   },
   "source": [
    "## Model Building"
   ]
  },
  {
   "cell_type": "markdown",
   "metadata": {
    "id": "EFcUIJ5NSCEO"
   },
   "source": [
    "### 4.1 Classification"
   ]
  },
  {
   "cell_type": "markdown",
   "metadata": {
    "id": "2qLbJWBqKaEC"
   },
   "source": [
    "Write a function to fit and print the model predictions, input parameters would be model, X_train, X_test, y_train and y_test"
   ]
  },
  {
   "cell_type": "code",
   "execution_count": 687,
   "metadata": {
    "id": "akE3BTkKU4TF"
   },
   "outputs": [],
   "source": [
    "from sklearn.metrics import confusion_matrix, classification_report\n",
    "\n",
    "def fitPrint(model, x_train, y_train, x_test, y_test):\n",
    "    \n",
    "    model.fit(x_train, y_train)\n",
    "    predict = model.predict(x_test)\n",
    "    \n",
    "    print(\"Training Accuracy :\", model.score(x_train, y_train))\n",
    "    print(\"Training Accuracy :\", model.score(x_test, y_test))\n",
    "    \n",
    "    print(\"*\" * 50)\n",
    "    print(confusion_matrix(y_test, predict))\n",
    "    print(classification_report(y_test, predict))"
   ]
  },
  {
   "cell_type": "code",
   "execution_count": 688,
   "metadata": {},
   "outputs": [
    {
     "data": {
      "text/plain": [
       "Reviews                         0\n",
       "Price                           0\n",
       "Size_num                        0\n",
       "Install_cat                     0\n",
       "Category_AUTO_AND_VEHICLES      0\n",
       "Category_BEAUTY                 0\n",
       "Category_BOOKS_AND_REFERENCE    0\n",
       "Category_BUSINESS               0\n",
       "Category_COMICS                 0\n",
       "Category_COMMUNICATION          0\n",
       "Category_DATING                 0\n",
       "Category_EDUCATION              0\n",
       "Category_ENTERTAINMENT          0\n",
       "Category_EVENTS                 0\n",
       "Category_FAMILY                 0\n",
       "Category_FINANCE                0\n",
       "Category_FOOD_AND_DRINK         0\n",
       "Category_GAME                   0\n",
       "Category_HEALTH_AND_FITNESS     0\n",
       "Category_HOUSE_AND_HOME         0\n",
       "Category_LIBRARIES_AND_DEMO     0\n",
       "Category_LIFESTYLE              0\n",
       "Category_MAPS_AND_NAVIGATION    0\n",
       "Category_MEDICAL                0\n",
       "Category_NEWS_AND_MAGAZINES     0\n",
       "Category_PARENTING              0\n",
       "Category_PERSONALIZATION        0\n",
       "Category_PHOTOGRAPHY            0\n",
       "Category_PRODUCTIVITY           0\n",
       "Category_SHOPPING               0\n",
       "Category_SOCIAL                 0\n",
       "Category_SPORTS                 0\n",
       "Category_TOOLS                  0\n",
       "Category_TRAVEL_AND_LOCAL       0\n",
       "Category_VIDEO_PLAYERS          0\n",
       "Category_WEATHER                0\n",
       "Rating_cat_Low                  0\n",
       "Type_Paid                       0\n",
       "dtype: int64"
      ]
     },
     "execution_count": 688,
     "metadata": {},
     "output_type": "execute_result"
    }
   ],
   "source": [
    "df_new.isnull().sum()"
   ]
  },
  {
   "cell_type": "markdown",
   "metadata": {
    "id": "V4-I6LwOiFQp"
   },
   "source": [
    "## Results"
   ]
  },
  {
   "cell_type": "markdown",
   "metadata": {
    "id": "skwwnD6FSbqi"
   },
   "source": [
    "### 5.1 Logistic Regression"
   ]
  },
  {
   "cell_type": "markdown",
   "metadata": {
    "id": "zfaLQMnqKl5Q"
   },
   "source": [
    "Pass logistic regression model into the function "
   ]
  },
  {
   "cell_type": "code",
   "execution_count": 689,
   "metadata": {
    "id": "sfc08OJ5U2H3"
   },
   "outputs": [
    {
     "name": "stdout",
     "output_type": "stream",
     "text": [
      "Training Accuracy : 0.8942777390090719\n",
      "Training Accuracy : 0.8917378917378918\n",
      "**************************************************\n",
      "[[2191    0]\n",
      " [ 266    0]]\n",
      "              precision    recall  f1-score   support\n",
      "\n",
      "           0       0.89      1.00      0.94      2191\n",
      "           1       0.00      0.00      0.00       266\n",
      "\n",
      "    accuracy                           0.89      2457\n",
      "   macro avg       0.45      0.50      0.47      2457\n",
      "weighted avg       0.80      0.89      0.84      2457\n",
      "\n"
     ]
    },
    {
     "name": "stderr",
     "output_type": "stream",
     "text": [
      "C:\\Users\\sreev\\Anaconda3\\lib\\site-packages\\sklearn\\metrics\\_classification.py:1248: UndefinedMetricWarning: Precision and F-score are ill-defined and being set to 0.0 in labels with no predicted samples. Use `zero_division` parameter to control this behavior.\n",
      "  _warn_prf(average, modifier, msg_start, len(result))\n",
      "C:\\Users\\sreev\\Anaconda3\\lib\\site-packages\\sklearn\\metrics\\_classification.py:1248: UndefinedMetricWarning: Precision and F-score are ill-defined and being set to 0.0 in labels with no predicted samples. Use `zero_division` parameter to control this behavior.\n",
      "  _warn_prf(average, modifier, msg_start, len(result))\n",
      "C:\\Users\\sreev\\Anaconda3\\lib\\site-packages\\sklearn\\metrics\\_classification.py:1248: UndefinedMetricWarning: Precision and F-score are ill-defined and being set to 0.0 in labels with no predicted samples. Use `zero_division` parameter to control this behavior.\n",
      "  _warn_prf(average, modifier, msg_start, len(result))\n"
     ]
    }
   ],
   "source": [
    "from sklearn.linear_model import LogisticRegression\n",
    "lr = LogisticRegression()\n",
    "\n",
    "fitPrint(lr,x_train_std,y_train, x_test_std,y_test)"
   ]
  },
  {
   "cell_type": "markdown",
   "metadata": {
    "id": "zKPRMBqIZYAy"
   },
   "source": [
    "### 5.2 KNN\n",
    "Pass KNN classifier into the function\""
   ]
  },
  {
   "cell_type": "code",
   "execution_count": 690,
   "metadata": {
    "id": "u1jTQoHiZfN_"
   },
   "outputs": [
    {
     "name": "stdout",
     "output_type": "stream",
     "text": [
      "3\n",
      "5\n",
      "7\n",
      "Training Accuracy : 0.9005582693649686\n",
      "Training Accuracy : 0.886039886039886\n",
      "**************************************************\n",
      "[[2162   29]\n",
      " [ 251   15]]\n",
      "              precision    recall  f1-score   support\n",
      "\n",
      "           0       0.90      0.99      0.94      2191\n",
      "           1       0.34      0.06      0.10       266\n",
      "\n",
      "    accuracy                           0.89      2457\n",
      "   macro avg       0.62      0.52      0.52      2457\n",
      "weighted avg       0.84      0.89      0.85      2457\n",
      "\n"
     ]
    }
   ],
   "source": [
    "from sklearn.neighbors import KNeighborsClassifier\n",
    "for i in range(3,9,2):\n",
    "    print(i)\n",
    "    knn = KNeighborsClassifier(n_neighbors=i)\n",
    "\n",
    "fitPrint(knn,x_train_std,y_train, x_test_std,y_test)"
   ]
  },
  {
   "cell_type": "markdown",
   "metadata": {
    "id": "vi0nOz50c6tb"
   },
   "source": [
    "### 5.3 Random Forest"
   ]
  },
  {
   "cell_type": "markdown",
   "metadata": {
    "id": "fIEElduqKswW"
   },
   "source": [
    "Pass Random forest model into the function"
   ]
  },
  {
   "cell_type": "code",
   "execution_count": 691,
   "metadata": {
    "id": "-NPO8YuGUyvx"
   },
   "outputs": [
    {
     "name": "stdout",
     "output_type": "stream",
     "text": [
      "Training Accuracy : 1.0\n",
      "Training Accuracy : 0.8787138787138787\n",
      "**************************************************\n",
      "[[2150   41]\n",
      " [ 257    9]]\n",
      "              precision    recall  f1-score   support\n",
      "\n",
      "           0       0.89      0.98      0.94      2191\n",
      "           1       0.18      0.03      0.06       266\n",
      "\n",
      "    accuracy                           0.88      2457\n",
      "   macro avg       0.54      0.51      0.50      2457\n",
      "weighted avg       0.82      0.88      0.84      2457\n",
      "\n"
     ]
    }
   ],
   "source": [
    "from sklearn.ensemble import RandomForestClassifier\n",
    "rfc = RandomForestClassifier(n_estimators=200, class_weight= \"balanced\")\n",
    "\n",
    "fitPrint(rfc,x_train_std,y_train, x_test_std,y_test)"
   ]
  },
  {
   "cell_type": "code",
   "execution_count": 698,
   "metadata": {},
   "outputs": [
    {
     "data": {
      "text/html": [
       "<div>\n",
       "<style scoped>\n",
       "    .dataframe tbody tr th:only-of-type {\n",
       "        vertical-align: middle;\n",
       "    }\n",
       "\n",
       "    .dataframe tbody tr th {\n",
       "        vertical-align: top;\n",
       "    }\n",
       "\n",
       "    .dataframe thead th {\n",
       "        text-align: right;\n",
       "    }\n",
       "</style>\n",
       "<table border=\"1\" class=\"dataframe\">\n",
       "  <thead>\n",
       "    <tr style=\"text-align: right;\">\n",
       "      <th></th>\n",
       "      <th>Features</th>\n",
       "      <th>Importance</th>\n",
       "    </tr>\n",
       "  </thead>\n",
       "  <tbody>\n",
       "    <tr>\n",
       "      <td>0</td>\n",
       "      <td>Reviews</td>\n",
       "      <td>0.387295</td>\n",
       "    </tr>\n",
       "    <tr>\n",
       "      <td>2</td>\n",
       "      <td>Size_num</td>\n",
       "      <td>0.251892</td>\n",
       "    </tr>\n",
       "    <tr>\n",
       "      <td>3</td>\n",
       "      <td>Install_cat</td>\n",
       "      <td>0.146317</td>\n",
       "    </tr>\n",
       "    <tr>\n",
       "      <td>1</td>\n",
       "      <td>Price</td>\n",
       "      <td>0.018076</td>\n",
       "    </tr>\n",
       "    <tr>\n",
       "      <td>14</td>\n",
       "      <td>Category_FAMILY</td>\n",
       "      <td>0.016810</td>\n",
       "    </tr>\n",
       "    <tr>\n",
       "      <td>17</td>\n",
       "      <td>Category_GAME</td>\n",
       "      <td>0.011733</td>\n",
       "    </tr>\n",
       "    <tr>\n",
       "      <td>32</td>\n",
       "      <td>Category_TOOLS</td>\n",
       "      <td>0.011050</td>\n",
       "    </tr>\n",
       "    <tr>\n",
       "      <td>21</td>\n",
       "      <td>Category_LIFESTYLE</td>\n",
       "      <td>0.010162</td>\n",
       "    </tr>\n",
       "    <tr>\n",
       "      <td>26</td>\n",
       "      <td>Category_PERSONALIZATION</td>\n",
       "      <td>0.008773</td>\n",
       "    </tr>\n",
       "    <tr>\n",
       "      <td>23</td>\n",
       "      <td>Category_MEDICAL</td>\n",
       "      <td>0.007338</td>\n",
       "    </tr>\n",
       "    <tr>\n",
       "      <td>15</td>\n",
       "      <td>Category_FINANCE</td>\n",
       "      <td>0.007103</td>\n",
       "    </tr>\n",
       "    <tr>\n",
       "      <td>10</td>\n",
       "      <td>Category_DATING</td>\n",
       "      <td>0.006911</td>\n",
       "    </tr>\n",
       "    <tr>\n",
       "      <td>36</td>\n",
       "      <td>Type_Paid</td>\n",
       "      <td>0.006863</td>\n",
       "    </tr>\n",
       "    <tr>\n",
       "      <td>33</td>\n",
       "      <td>Category_TRAVEL_AND_LOCAL</td>\n",
       "      <td>0.006719</td>\n",
       "    </tr>\n",
       "    <tr>\n",
       "      <td>34</td>\n",
       "      <td>Category_VIDEO_PLAYERS</td>\n",
       "      <td>0.006629</td>\n",
       "    </tr>\n",
       "    <tr>\n",
       "      <td>7</td>\n",
       "      <td>Category_BUSINESS</td>\n",
       "      <td>0.006383</td>\n",
       "    </tr>\n",
       "    <tr>\n",
       "      <td>28</td>\n",
       "      <td>Category_PRODUCTIVITY</td>\n",
       "      <td>0.005971</td>\n",
       "    </tr>\n",
       "    <tr>\n",
       "      <td>18</td>\n",
       "      <td>Category_HEALTH_AND_FITNESS</td>\n",
       "      <td>0.005953</td>\n",
       "    </tr>\n",
       "    <tr>\n",
       "      <td>31</td>\n",
       "      <td>Category_SPORTS</td>\n",
       "      <td>0.005907</td>\n",
       "    </tr>\n",
       "    <tr>\n",
       "      <td>9</td>\n",
       "      <td>Category_COMMUNICATION</td>\n",
       "      <td>0.005770</td>\n",
       "    </tr>\n",
       "    <tr>\n",
       "      <td>16</td>\n",
       "      <td>Category_FOOD_AND_DRINK</td>\n",
       "      <td>0.005342</td>\n",
       "    </tr>\n",
       "    <tr>\n",
       "      <td>27</td>\n",
       "      <td>Category_PHOTOGRAPHY</td>\n",
       "      <td>0.005303</td>\n",
       "    </tr>\n",
       "    <tr>\n",
       "      <td>6</td>\n",
       "      <td>Category_BOOKS_AND_REFERENCE</td>\n",
       "      <td>0.005294</td>\n",
       "    </tr>\n",
       "    <tr>\n",
       "      <td>24</td>\n",
       "      <td>Category_NEWS_AND_MAGAZINES</td>\n",
       "      <td>0.004830</td>\n",
       "    </tr>\n",
       "    <tr>\n",
       "      <td>22</td>\n",
       "      <td>Category_MAPS_AND_NAVIGATION</td>\n",
       "      <td>0.004812</td>\n",
       "    </tr>\n",
       "    <tr>\n",
       "      <td>29</td>\n",
       "      <td>Category_SHOPPING</td>\n",
       "      <td>0.004381</td>\n",
       "    </tr>\n",
       "    <tr>\n",
       "      <td>30</td>\n",
       "      <td>Category_SOCIAL</td>\n",
       "      <td>0.004358</td>\n",
       "    </tr>\n",
       "    <tr>\n",
       "      <td>20</td>\n",
       "      <td>Category_LIBRARIES_AND_DEMO</td>\n",
       "      <td>0.004082</td>\n",
       "    </tr>\n",
       "    <tr>\n",
       "      <td>11</td>\n",
       "      <td>Category_EDUCATION</td>\n",
       "      <td>0.004000</td>\n",
       "    </tr>\n",
       "    <tr>\n",
       "      <td>8</td>\n",
       "      <td>Category_COMICS</td>\n",
       "      <td>0.003664</td>\n",
       "    </tr>\n",
       "    <tr>\n",
       "      <td>4</td>\n",
       "      <td>Category_AUTO_AND_VEHICLES</td>\n",
       "      <td>0.003572</td>\n",
       "    </tr>\n",
       "    <tr>\n",
       "      <td>25</td>\n",
       "      <td>Category_PARENTING</td>\n",
       "      <td>0.003243</td>\n",
       "    </tr>\n",
       "    <tr>\n",
       "      <td>12</td>\n",
       "      <td>Category_ENTERTAINMENT</td>\n",
       "      <td>0.003134</td>\n",
       "    </tr>\n",
       "    <tr>\n",
       "      <td>19</td>\n",
       "      <td>Category_HOUSE_AND_HOME</td>\n",
       "      <td>0.002824</td>\n",
       "    </tr>\n",
       "    <tr>\n",
       "      <td>13</td>\n",
       "      <td>Category_EVENTS</td>\n",
       "      <td>0.002772</td>\n",
       "    </tr>\n",
       "    <tr>\n",
       "      <td>5</td>\n",
       "      <td>Category_BEAUTY</td>\n",
       "      <td>0.002440</td>\n",
       "    </tr>\n",
       "    <tr>\n",
       "      <td>35</td>\n",
       "      <td>Category_WEATHER</td>\n",
       "      <td>0.002293</td>\n",
       "    </tr>\n",
       "  </tbody>\n",
       "</table>\n",
       "</div>"
      ],
      "text/plain": [
       "                        Features  Importance\n",
       "0                        Reviews    0.387295\n",
       "2                       Size_num    0.251892\n",
       "3                    Install_cat    0.146317\n",
       "1                          Price    0.018076\n",
       "14               Category_FAMILY    0.016810\n",
       "17                 Category_GAME    0.011733\n",
       "32                Category_TOOLS    0.011050\n",
       "21            Category_LIFESTYLE    0.010162\n",
       "26      Category_PERSONALIZATION    0.008773\n",
       "23              Category_MEDICAL    0.007338\n",
       "15              Category_FINANCE    0.007103\n",
       "10               Category_DATING    0.006911\n",
       "36                     Type_Paid    0.006863\n",
       "33     Category_TRAVEL_AND_LOCAL    0.006719\n",
       "34        Category_VIDEO_PLAYERS    0.006629\n",
       "7              Category_BUSINESS    0.006383\n",
       "28         Category_PRODUCTIVITY    0.005971\n",
       "18   Category_HEALTH_AND_FITNESS    0.005953\n",
       "31               Category_SPORTS    0.005907\n",
       "9         Category_COMMUNICATION    0.005770\n",
       "16       Category_FOOD_AND_DRINK    0.005342\n",
       "27          Category_PHOTOGRAPHY    0.005303\n",
       "6   Category_BOOKS_AND_REFERENCE    0.005294\n",
       "24   Category_NEWS_AND_MAGAZINES    0.004830\n",
       "22  Category_MAPS_AND_NAVIGATION    0.004812\n",
       "29             Category_SHOPPING    0.004381\n",
       "30               Category_SOCIAL    0.004358\n",
       "20   Category_LIBRARIES_AND_DEMO    0.004082\n",
       "11            Category_EDUCATION    0.004000\n",
       "8                Category_COMICS    0.003664\n",
       "4     Category_AUTO_AND_VEHICLES    0.003572\n",
       "25            Category_PARENTING    0.003243\n",
       "12        Category_ENTERTAINMENT    0.003134\n",
       "19       Category_HOUSE_AND_HOME    0.002824\n",
       "13               Category_EVENTS    0.002772\n",
       "5                Category_BEAUTY    0.002440\n",
       "35              Category_WEATHER    0.002293"
      ]
     },
     "execution_count": 698,
     "metadata": {},
     "output_type": "execute_result"
    }
   ],
   "source": [
    "feat_imp = pd.DataFrame({\"Features\" : x_train.columns, \"Importance\" : rfc.feature_importances_})\n",
    "feat_imp.sort_values(by = \"Importance\", ascending = False)"
   ]
  },
  {
   "cell_type": "markdown",
   "metadata": {
    "id": "djYIRRKqdFkH"
   },
   "source": [
    "### 5.4 Gradient Boosting"
   ]
  },
  {
   "cell_type": "markdown",
   "metadata": {
    "id": "_xrtlkS9Kzdt"
   },
   "source": [
    "Pass Gradient boosting model into the function"
   ]
  },
  {
   "cell_type": "code",
   "execution_count": 699,
   "metadata": {
    "id": "SPu4LHrhK2fm"
   },
   "outputs": [
    {
     "name": "stdout",
     "output_type": "stream",
     "text": [
      "Training Accuracy : 0.9085833914863922\n",
      "Training Accuracy : 0.6471306471306472\n",
      "**************************************************\n",
      "[[1395  796]\n",
      " [  71  195]]\n",
      "              precision    recall  f1-score   support\n",
      "\n",
      "           0       0.95      0.64      0.76      2191\n",
      "           1       0.20      0.73      0.31       266\n",
      "\n",
      "    accuracy                           0.65      2457\n",
      "   macro avg       0.57      0.68      0.54      2457\n",
      "weighted avg       0.87      0.65      0.71      2457\n",
      "\n"
     ]
    }
   ],
   "source": [
    "from sklearn.ensemble import GradientBoostingClassifier\n",
    "gbc = GradientBoostingClassifier(n_estimators=200)\n",
    "\n",
    "fitPrint(gbc,x_train_std,y_train, x_test_std,y_test)"
   ]
  },
  {
   "cell_type": "markdown",
   "metadata": {
    "id": "bwlg0KImK4Es"
   },
   "source": [
    "Check feature importance"
   ]
  },
  {
   "cell_type": "code",
   "execution_count": 700,
   "metadata": {},
   "outputs": [
    {
     "data": {
      "text/html": [
       "<div>\n",
       "<style scoped>\n",
       "    .dataframe tbody tr th:only-of-type {\n",
       "        vertical-align: middle;\n",
       "    }\n",
       "\n",
       "    .dataframe tbody tr th {\n",
       "        vertical-align: top;\n",
       "    }\n",
       "\n",
       "    .dataframe thead th {\n",
       "        text-align: right;\n",
       "    }\n",
       "</style>\n",
       "<table border=\"1\" class=\"dataframe\">\n",
       "  <thead>\n",
       "    <tr style=\"text-align: right;\">\n",
       "      <th></th>\n",
       "      <th>Features</th>\n",
       "      <th>Importance</th>\n",
       "    </tr>\n",
       "  </thead>\n",
       "  <tbody>\n",
       "    <tr>\n",
       "      <td>0</td>\n",
       "      <td>Reviews</td>\n",
       "      <td>0.489797</td>\n",
       "    </tr>\n",
       "    <tr>\n",
       "      <td>2</td>\n",
       "      <td>Size_num</td>\n",
       "      <td>0.217331</td>\n",
       "    </tr>\n",
       "    <tr>\n",
       "      <td>3</td>\n",
       "      <td>Install_cat</td>\n",
       "      <td>0.087869</td>\n",
       "    </tr>\n",
       "    <tr>\n",
       "      <td>1</td>\n",
       "      <td>Price</td>\n",
       "      <td>0.038205</td>\n",
       "    </tr>\n",
       "    <tr>\n",
       "      <td>34</td>\n",
       "      <td>Category_VIDEO_PLAYERS</td>\n",
       "      <td>0.017326</td>\n",
       "    </tr>\n",
       "    <tr>\n",
       "      <td>32</td>\n",
       "      <td>Category_TOOLS</td>\n",
       "      <td>0.015070</td>\n",
       "    </tr>\n",
       "    <tr>\n",
       "      <td>31</td>\n",
       "      <td>Category_SPORTS</td>\n",
       "      <td>0.014607</td>\n",
       "    </tr>\n",
       "    <tr>\n",
       "      <td>18</td>\n",
       "      <td>Category_HEALTH_AND_FITNESS</td>\n",
       "      <td>0.010253</td>\n",
       "    </tr>\n",
       "    <tr>\n",
       "      <td>27</td>\n",
       "      <td>Category_PHOTOGRAPHY</td>\n",
       "      <td>0.009848</td>\n",
       "    </tr>\n",
       "    <tr>\n",
       "      <td>33</td>\n",
       "      <td>Category_TRAVEL_AND_LOCAL</td>\n",
       "      <td>0.009530</td>\n",
       "    </tr>\n",
       "    <tr>\n",
       "      <td>7</td>\n",
       "      <td>Category_BUSINESS</td>\n",
       "      <td>0.009151</td>\n",
       "    </tr>\n",
       "    <tr>\n",
       "      <td>22</td>\n",
       "      <td>Category_MAPS_AND_NAVIGATION</td>\n",
       "      <td>0.008246</td>\n",
       "    </tr>\n",
       "    <tr>\n",
       "      <td>14</td>\n",
       "      <td>Category_FAMILY</td>\n",
       "      <td>0.008093</td>\n",
       "    </tr>\n",
       "    <tr>\n",
       "      <td>10</td>\n",
       "      <td>Category_DATING</td>\n",
       "      <td>0.007828</td>\n",
       "    </tr>\n",
       "    <tr>\n",
       "      <td>26</td>\n",
       "      <td>Category_PERSONALIZATION</td>\n",
       "      <td>0.007381</td>\n",
       "    </tr>\n",
       "    <tr>\n",
       "      <td>21</td>\n",
       "      <td>Category_LIFESTYLE</td>\n",
       "      <td>0.006555</td>\n",
       "    </tr>\n",
       "    <tr>\n",
       "      <td>20</td>\n",
       "      <td>Category_LIBRARIES_AND_DEMO</td>\n",
       "      <td>0.006269</td>\n",
       "    </tr>\n",
       "    <tr>\n",
       "      <td>8</td>\n",
       "      <td>Category_COMICS</td>\n",
       "      <td>0.005032</td>\n",
       "    </tr>\n",
       "    <tr>\n",
       "      <td>23</td>\n",
       "      <td>Category_MEDICAL</td>\n",
       "      <td>0.004369</td>\n",
       "    </tr>\n",
       "    <tr>\n",
       "      <td>36</td>\n",
       "      <td>Type_Paid</td>\n",
       "      <td>0.003142</td>\n",
       "    </tr>\n",
       "    <tr>\n",
       "      <td>5</td>\n",
       "      <td>Category_BEAUTY</td>\n",
       "      <td>0.002864</td>\n",
       "    </tr>\n",
       "    <tr>\n",
       "      <td>30</td>\n",
       "      <td>Category_SOCIAL</td>\n",
       "      <td>0.002478</td>\n",
       "    </tr>\n",
       "    <tr>\n",
       "      <td>24</td>\n",
       "      <td>Category_NEWS_AND_MAGAZINES</td>\n",
       "      <td>0.002399</td>\n",
       "    </tr>\n",
       "    <tr>\n",
       "      <td>11</td>\n",
       "      <td>Category_EDUCATION</td>\n",
       "      <td>0.002038</td>\n",
       "    </tr>\n",
       "    <tr>\n",
       "      <td>16</td>\n",
       "      <td>Category_FOOD_AND_DRINK</td>\n",
       "      <td>0.001932</td>\n",
       "    </tr>\n",
       "    <tr>\n",
       "      <td>6</td>\n",
       "      <td>Category_BOOKS_AND_REFERENCE</td>\n",
       "      <td>0.001896</td>\n",
       "    </tr>\n",
       "    <tr>\n",
       "      <td>13</td>\n",
       "      <td>Category_EVENTS</td>\n",
       "      <td>0.001753</td>\n",
       "    </tr>\n",
       "    <tr>\n",
       "      <td>9</td>\n",
       "      <td>Category_COMMUNICATION</td>\n",
       "      <td>0.001483</td>\n",
       "    </tr>\n",
       "    <tr>\n",
       "      <td>25</td>\n",
       "      <td>Category_PARENTING</td>\n",
       "      <td>0.001483</td>\n",
       "    </tr>\n",
       "    <tr>\n",
       "      <td>4</td>\n",
       "      <td>Category_AUTO_AND_VEHICLES</td>\n",
       "      <td>0.001431</td>\n",
       "    </tr>\n",
       "    <tr>\n",
       "      <td>29</td>\n",
       "      <td>Category_SHOPPING</td>\n",
       "      <td>0.001159</td>\n",
       "    </tr>\n",
       "    <tr>\n",
       "      <td>15</td>\n",
       "      <td>Category_FINANCE</td>\n",
       "      <td>0.001139</td>\n",
       "    </tr>\n",
       "    <tr>\n",
       "      <td>19</td>\n",
       "      <td>Category_HOUSE_AND_HOME</td>\n",
       "      <td>0.000863</td>\n",
       "    </tr>\n",
       "    <tr>\n",
       "      <td>17</td>\n",
       "      <td>Category_GAME</td>\n",
       "      <td>0.000770</td>\n",
       "    </tr>\n",
       "    <tr>\n",
       "      <td>12</td>\n",
       "      <td>Category_ENTERTAINMENT</td>\n",
       "      <td>0.000356</td>\n",
       "    </tr>\n",
       "    <tr>\n",
       "      <td>28</td>\n",
       "      <td>Category_PRODUCTIVITY</td>\n",
       "      <td>0.000051</td>\n",
       "    </tr>\n",
       "    <tr>\n",
       "      <td>35</td>\n",
       "      <td>Category_WEATHER</td>\n",
       "      <td>0.000000</td>\n",
       "    </tr>\n",
       "  </tbody>\n",
       "</table>\n",
       "</div>"
      ],
      "text/plain": [
       "                        Features  Importance\n",
       "0                        Reviews    0.489797\n",
       "2                       Size_num    0.217331\n",
       "3                    Install_cat    0.087869\n",
       "1                          Price    0.038205\n",
       "34        Category_VIDEO_PLAYERS    0.017326\n",
       "32                Category_TOOLS    0.015070\n",
       "31               Category_SPORTS    0.014607\n",
       "18   Category_HEALTH_AND_FITNESS    0.010253\n",
       "27          Category_PHOTOGRAPHY    0.009848\n",
       "33     Category_TRAVEL_AND_LOCAL    0.009530\n",
       "7              Category_BUSINESS    0.009151\n",
       "22  Category_MAPS_AND_NAVIGATION    0.008246\n",
       "14               Category_FAMILY    0.008093\n",
       "10               Category_DATING    0.007828\n",
       "26      Category_PERSONALIZATION    0.007381\n",
       "21            Category_LIFESTYLE    0.006555\n",
       "20   Category_LIBRARIES_AND_DEMO    0.006269\n",
       "8                Category_COMICS    0.005032\n",
       "23              Category_MEDICAL    0.004369\n",
       "36                     Type_Paid    0.003142\n",
       "5                Category_BEAUTY    0.002864\n",
       "30               Category_SOCIAL    0.002478\n",
       "24   Category_NEWS_AND_MAGAZINES    0.002399\n",
       "11            Category_EDUCATION    0.002038\n",
       "16       Category_FOOD_AND_DRINK    0.001932\n",
       "6   Category_BOOKS_AND_REFERENCE    0.001896\n",
       "13               Category_EVENTS    0.001753\n",
       "9         Category_COMMUNICATION    0.001483\n",
       "25            Category_PARENTING    0.001483\n",
       "4     Category_AUTO_AND_VEHICLES    0.001431\n",
       "29             Category_SHOPPING    0.001159\n",
       "15              Category_FINANCE    0.001139\n",
       "19       Category_HOUSE_AND_HOME    0.000863\n",
       "17                 Category_GAME    0.000770\n",
       "12        Category_ENTERTAINMENT    0.000356\n",
       "28         Category_PRODUCTIVITY    0.000051\n",
       "35              Category_WEATHER    0.000000"
      ]
     },
     "execution_count": 700,
     "metadata": {},
     "output_type": "execute_result"
    }
   ],
   "source": [
    "feat_imp = pd.DataFrame({\"Features\" : x_train.columns, \"Importance\" : gbc.feature_importances_})\n",
    "feat_imp.sort_values(by = \"Importance\", ascending = False)"
   ]
  },
  {
   "cell_type": "markdown",
   "metadata": {
    "id": "U6sBq-4zdKAi"
   },
   "source": [
    "### 5.5 AdaBoosting"
   ]
  },
  {
   "cell_type": "markdown",
   "metadata": {
    "id": "VeduDQKmK7o5"
   },
   "source": [
    "Pass AdaBoosting model into the function"
   ]
  },
  {
   "cell_type": "code",
   "execution_count": 702,
   "metadata": {
    "id": "nczNfvM2K-Bk"
   },
   "outputs": [
    {
     "name": "stdout",
     "output_type": "stream",
     "text": [
      "Training Accuracy : 0.89480111653873\n",
      "Training Accuracy : 0.8485958485958486\n",
      "**************************************************\n",
      "[[2019  172]\n",
      " [ 200   66]]\n",
      "              precision    recall  f1-score   support\n",
      "\n",
      "           0       0.91      0.92      0.92      2191\n",
      "           1       0.28      0.25      0.26       266\n",
      "\n",
      "    accuracy                           0.85      2457\n",
      "   macro avg       0.59      0.58      0.59      2457\n",
      "weighted avg       0.84      0.85      0.84      2457\n",
      "\n"
     ]
    }
   ],
   "source": [
    "from sklearn.ensemble import AdaBoostClassifier\n",
    "adc = AdaBoostClassifier()\n",
    "\n",
    "fitPrint(adc,x_train_std,y_train, x_test_std,y_test)"
   ]
  },
  {
   "cell_type": "markdown",
   "metadata": {
    "id": "-rqExXmRc3pv"
   },
   "source": [
    "### 5.6 Stacking"
   ]
  },
  {
   "cell_type": "markdown",
   "metadata": {
    "id": "4cRrAaV0K-jS"
   },
   "source": [
    "Pass stacking model into the function"
   ]
  },
  {
   "cell_type": "code",
   "execution_count": 706,
   "metadata": {
    "id": "0qgcwgfpLA5S"
   },
   "outputs": [
    {
     "name": "stdout",
     "output_type": "stream",
     "text": [
      "Training Accuracy : 0.9007327285415213\n",
      "Training Accuracy : 0.8705738705738706\n",
      "**************************************************\n",
      "[[2122   69]\n",
      " [ 249   17]]\n",
      "              precision    recall  f1-score   support\n",
      "\n",
      "           0       0.89      0.97      0.93      2191\n",
      "           1       0.20      0.06      0.10       266\n",
      "\n",
      "    accuracy                           0.87      2457\n",
      "   macro avg       0.55      0.52      0.51      2457\n",
      "weighted avg       0.82      0.87      0.84      2457\n",
      "\n"
     ]
    }
   ],
   "source": [
    "from sklearn.ensemble import StackingClassifier\n",
    "estimators = [(\"lr\", lr), (\"rfc\", rfc), (\"gbc\", gbc), (\"adc\", adc)]\n",
    "\n",
    "clf = StackingClassifier(estimators = estimators, final_estimator=rfc)\n",
    "fitPrint(clf, x_train_std,y_train, x_test_std,y_test)\n"
   ]
  },
  {
   "cell_type": "code",
   "execution_count": null,
   "metadata": {
    "id": "4EqDS5x3LEZx"
   },
   "outputs": [],
   "source": []
  },
  {
   "cell_type": "markdown",
   "metadata": {
    "id": "rKxi7-qLiJKt"
   },
   "source": [
    "## Conclusion"
   ]
  },
  {
   "cell_type": "markdown",
   "metadata": {
    "id": "O0pMYAkyLF4T"
   },
   "source": [
    "Infer your predictions and write down your observations"
   ]
  },
  {
   "cell_type": "code",
   "execution_count": 708,
   "metadata": {
    "id": "GgP6jyAOEUiZ"
   },
   "outputs": [],
   "source": [
    "# RFC with Balance class weight is having best Score (Accuracy, F1 Score)\n",
    "\n",
    "# Can improve result with Hyperparameter tuning\n",
    "\n",
    "# Test Accuracy = 80%\n",
    "\n",
    "# F1 score = 50%\n",
    "\n",
    "# Review and size are most important features for the classification"
   ]
  }
 ],
 "metadata": {
  "colab": {
   "collapsed_sections": [],
   "name": "R3 Internal Lab Question Notebook.ipynb",
   "provenance": []
  },
  "kernelspec": {
   "display_name": "Python 3",
   "language": "python",
   "name": "python3"
  }
 },
 "nbformat": 4,
 "nbformat_minor": 1
}
