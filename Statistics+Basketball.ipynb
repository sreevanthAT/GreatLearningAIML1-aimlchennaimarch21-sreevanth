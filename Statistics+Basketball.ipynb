{
 "cells": [
  {
   "cell_type": "markdown",
   "metadata": {},
   "source": [
    "Note: For the question with formula I have used online calculator to find formula for the answer"
   ]
  },
  {
   "cell_type": "code",
   "execution_count": null,
   "metadata": {},
   "outputs": [],
   "source": [
    "1. Question: Please refer the table below to answer below questions:\n",
    "        \n",
    "Planned to purchase Product A      Actually placed an order for Product A - Yes      Actually placed an order for Product A - No      Total\n",
    "            Yes                                    400                                                100                                500\n",
    "            No                                     200                                                1300                               1500\n",
    "           Total                                   600                                                1400                               2000\n"
   ]
  },
  {
   "cell_type": "code",
   "execution_count": 72,
   "metadata": {},
   "outputs": [
    {
     "data": {
      "text/plain": [
       "0.2"
      ]
     },
     "execution_count": 72,
     "metadata": {},
     "output_type": "execute_result"
    }
   ],
   "source": [
    "# 1. Refer to the above table and find the joint probability of the people who planned to purchase and actually placed an order.\n",
    "\n",
    "400/2000"
   ]
  },
  {
   "cell_type": "code",
   "execution_count": 73,
   "metadata": {},
   "outputs": [
    {
     "data": {
      "text/plain": [
       "0.8"
      ]
     },
     "execution_count": 73,
     "metadata": {},
     "output_type": "execute_result"
    }
   ],
   "source": [
    "# 2. Refer to the above table and find the joint probability of the people who planned to purchase and actually placed an order, given that people planned to purchase.\n",
    "\n",
    "(400/500) "
   ]
  },
  {
   "cell_type": "code",
   "execution_count": null,
   "metadata": {},
   "outputs": [],
   "source": []
  },
  {
   "cell_type": "markdown",
   "metadata": {},
   "source": [
    "2. Question: An electrical manufacturing company conducts quality checks at specified periods on the\n",
    "products it manufactures. Historically, the failure rate for the manufactured item is 5%. Suppose a random\n",
    "sample of 10 manufactured items is selected. Answer the following questions.\n",
    "\n",
    "    A. Probability that none of the items are defective?\n",
    "\n",
    "    B. Probability that exactly one of the items is defective?\n",
    "\n",
    "    C. Probability that two or fewer of the items are defective?\n",
    "\n",
    "    D. Probability that three or more of the items are defective ?"
   ]
  },
  {
   "cell_type": "code",
   "execution_count": null,
   "metadata": {},
   "outputs": [],
   "source": [
    "P = 0.05\n",
    "n = 10\n",
    "\"\"\"\n",
    "A. \n",
    "\n",
    "X = 0\n",
    "#(10! / (0! * (10-0)!))  * (0.05 ^ 0) * (0.95) ^ 10\n",
    "\n",
    "So answer is 0.598\n",
    "\n",
    "\"\"\""
   ]
  },
  {
   "cell_type": "code",
   "execution_count": null,
   "metadata": {},
   "outputs": [],
   "source": [
    "\"\"\"\n",
    "B. \n",
    "\n",
    "X = 1\n",
    "\n",
    "#(10! / (1! * (10-1)!))  * (0.05 ^ 1) * (0.95) ^ 9\n",
    "\n",
    "So answer is 0.315\n",
    "\n",
    "\"\"\""
   ]
  },
  {
   "cell_type": "code",
   "execution_count": null,
   "metadata": {},
   "outputs": [],
   "source": [
    "\"\"\"\n",
    "C. \n",
    "\n",
    "X = 0,1,2\n",
    "\n",
    "#((10! / (0! * (10-0)!))  * (0.05 ^ 0) * (0.95) ^ 10) + ((10! / (1! * (10-1)!))  * (0.05 ^ 1) * (0.95) ^ 9) + ((10! / (2! * (10-2)!))  * (0.05 ^ 2) * (0.95) ^ 8)\n",
    "\n",
    "= 0.598 + 0.315 + 0.074\n",
    "\n",
    "So answer is 0.988\n",
    "\n",
    "\"\"\""
   ]
  },
  {
   "cell_type": "code",
   "execution_count": null,
   "metadata": {},
   "outputs": [],
   "source": [
    "\"\"\"\n",
    "D. \n",
    "\n",
    "P(X≥3) = summation of n = 10 x = 3(10 3) * ((0.05) ^ x) * ((1 - 0.05) ^ (10-x))\n",
    "\n",
    "So answer is 0.011\n",
    "\n",
    "\"\"\""
   ]
  },
  {
   "cell_type": "code",
   "execution_count": null,
   "metadata": {},
   "outputs": [],
   "source": []
  },
  {
   "cell_type": "markdown",
   "metadata": {},
   "source": [
    "3. Question: A car salesman sells on an average 3 cars per week.\n",
    "\n",
    "    A. Probability that in a given week he will sell some cars.\n",
    "    \n",
    "    B. Probability that in a given week he will sell 2 or more but less than 5 cars.\n",
    "    \n",
    "    C. Plot the poisson distribution function for cumulative probability of cars sold per-week vs number of cars sold perweek."
   ]
  },
  {
   "cell_type": "code",
   "execution_count": null,
   "metadata": {},
   "outputs": [],
   "source": [
    "\"\"\"\n",
    "A.\n",
    "\n",
    "We can work this out by finding 1 minus the \"zero policies\" probability:\n",
    "\n",
    "P(X > 0) = 1 − P(x0)\n",
    "\n",
    "P(X) = (((e ^ -mu) * (mu ^ x)) / x!)\n",
    "\n",
    "Here mu = 3, X = 0\n",
    "\n",
    "So P(X0) = 4.9787×10 ^ -2\n",
    "\n",
    "So 1 - P(X0)\n",
    "\n",
    "= 1 - 4.9787×10 ^ -2\n",
    "\n",
    "= 0.9502\n",
    "\n",
    "\n",
    "\"\"\""
   ]
  },
  {
   "cell_type": "code",
   "execution_count": null,
   "metadata": {},
   "outputs": [],
   "source": [
    "\"\"\"\n",
    "\n",
    "B. \n",
    "\n",
    "P(2≤X<5)\n",
    "\n",
    "= P(X2) + P(X3) + P(X4)\n",
    "\n",
    "= 0.6161\n",
    "\n",
    "\"\"\""
   ]
  },
  {
   "cell_type": "code",
   "execution_count": null,
   "metadata": {},
   "outputs": [],
   "source": []
  },
  {
   "cell_type": "markdown",
   "metadata": {},
   "source": [
    "4. Question: Accuracy in understanding orders for a speech based bot at a restaurant is important for the\n",
    "Company X which has designed, marketed and launched the product for a contactless delivery due to the\n",
    "COVID-19 pandemic. Recognition accuracy that measures the percentage of orders that are taken correctly is\n",
    "86.8%. Suppose that you place order with the bot and two friends of yours independently place orders with\n",
    "the same bot. Answer the following questions.\n",
    "\n",
    "    A. What is the probability that all three orders will be recognised correctly?\n",
    "    \n",
    "    B. What is the probability that none of the three orders will be recognised correctly?\n",
    "    \n",
    "    C. What is the probability that at least two of the three orders will be recognised correctly?"
   ]
  },
  {
   "cell_type": "code",
   "execution_count": null,
   "metadata": {},
   "outputs": [],
   "source": [
    "\"\"\"\n",
    "A.\n",
    "\n",
    "P(x) = nCr * p ^ r * (q) ^ n−r\n",
    "\n",
    "Here \n",
    "\n",
    "q = 1-p = 1-0.868 = 0.132\n",
    "\n",
    "p(X = 3) = p(X = 0) + p(X = 1) + p(X = 2) + p(X = 3)\n",
    "\n",
    "= 0.0022 + 0.0453 + 0.2983 + 0.6539\n",
    "\n",
    "= 0.9998\n",
    "\n",
    "\"\"\""
   ]
  },
  {
   "cell_type": "code",
   "execution_count": null,
   "metadata": {},
   "outputs": [],
   "source": [
    "\"\"\"\n",
    "B.\n",
    "\n",
    "P(x) = nCr * p ^ r * (q) ^ n−r\n",
    "\n",
    "Here \n",
    "\n",
    "= 1 - 0.9998\n",
    "\n",
    "= 0.00019999999999997797\n",
    "\n",
    "\"\"\""
   ]
  },
  {
   "cell_type": "code",
   "execution_count": null,
   "metadata": {},
   "outputs": [],
   "source": [
    "\"\"\"\n",
    "C .\n",
    "\n",
    "P(x) = nCr * p ^ r * (q) ^ n−r\n",
    "\n",
    "Here \n",
    "\n",
    "P(2≤X≤3) = p(X = 2) + p(X = 3)\n",
    "\n",
    "= 0.2983 + 0.6539\n",
    "\n",
    "= 0.9522\n",
    "\n",
    "\"\"\""
   ]
  },
  {
   "cell_type": "code",
   "execution_count": null,
   "metadata": {},
   "outputs": [],
   "source": []
  },
  {
   "cell_type": "markdown",
   "metadata": {},
   "source": [
    "5. Question: A group of 300 professionals sat for a competitive exam. The results show the information of\n",
    "marks obtained by them have a mean of 60 and a standard deviation of 12. The pattern of marks follows a\n",
    "normal distribution. Answer the following questions.\n",
    "\n",
    "    A. What is the percentage of students who score more than 80.\n",
    "\n",
    "    B. What is the percentage of students who score less than 50.\n",
    "\n",
    "    C. What should be the distinction mark if the highest 10% of students are to be awarded distinction?"
   ]
  },
  {
   "cell_type": "code",
   "execution_count": null,
   "metadata": {},
   "outputs": [],
   "source": [
    "\"\"\"\n",
    "\n",
    "A. \n",
    "\n",
    "n = 300\n",
    "std deviation = 12\n",
    "mean = 60\n",
    "\n",
    "X1 = 80\n",
    "\n",
    "For normal distribution, we need to convert X1 to Z1.\n",
    "\n",
    "So = Z1 = (X1 - m) / s\n",
    "\n",
    "= 1.666\n",
    "\n",
    "from the table it is  0.9515\n",
    "\n",
    "= (1 - 0.9515) * 300\n",
    "\n",
    "= 14.54 rounding to 15\n",
    "\n",
    "\n",
    "\"\"\""
   ]
  },
  {
   "cell_type": "code",
   "execution_count": 10,
   "metadata": {},
   "outputs": [
    {
     "data": {
      "text/plain": [
       "14.549999999999997"
      ]
     },
     "execution_count": 10,
     "metadata": {},
     "output_type": "execute_result"
    }
   ],
   "source": [
    "\"\"\"\n",
    "\n",
    "B. \n",
    "\n",
    "n = 300\n",
    "std deviation = 12\n",
    "mean = 60\n",
    "\n",
    "X1 = 50\n",
    "\n",
    "For normal distribution, we need to convert X1 to Z1.\n",
    "\n",
    "So = Z1 = (X1 - m) / s\n",
    "\n",
    "= -0.833\n",
    "\n",
    "from the table it is  0.7967 = (1 - 0.7967) as we got negative value = 0.2033\n",
    "\n",
    "= 0.2033 * 300\n",
    "\n",
    "= 60.99 rounding to 61\n",
    "\n",
    "\n",
    "\"\"\""
   ]
  },
  {
   "cell_type": "code",
   "execution_count": 13,
   "metadata": {},
   "outputs": [
    {
     "data": {
      "text/plain": [
       "60.99"
      ]
     },
     "execution_count": 13,
     "metadata": {},
     "output_type": "execute_result"
    }
   ],
   "source": [
    "\"\"\"\n",
    "\n",
    "we are interested in the area to the right of the mean score of 60 that reflects the top 10% of marks (shaded in red). \n",
    "As a decimal, the top 10% of marks would be those marks above 0.9 (i.e., 100% - 90% = 10% or 1 - 0.9 = 0.1).\n",
    "If we use a z-score calculator, our value of 0.9 corresponds with a z-score of 1.282. In other words, P ( z > 1.282 ) = 0.1.\n",
    "\n",
    "P(Z>1.282) = 0.10\n",
    "(X - 60) / 12 = 1.282\n",
    "X = 75.384 marks out of 100 came in the top 10% \n",
    "\n",
    "\"\"\""
   ]
  },
  {
   "cell_type": "code",
   "execution_count": null,
   "metadata": {},
   "outputs": [],
   "source": []
  },
  {
   "cell_type": "markdown",
   "metadata": {},
   "source": [
    "6. Question: Explain 1 real life industry scenario [other than the ones mentioned above] where you can use the\n",
    "concepts learnt in this module of Applied statistics to get a data driven business solution."
   ]
  },
  {
   "cell_type": "code",
   "execution_count": null,
   "metadata": {},
   "outputs": [],
   "source": [
    "\"\"\"\n",
    "\n",
    "Random sampling techniques are used by production managers and the QC department to determine quality grades of materials.\n",
    "\n",
    "Accountants use these same techniques while auditing accounts receivables for their clients.\n",
    "\n",
    "Regression and Correlation analysis may be used by the finance department to correlate a set of financial ratios with other \n",
    "business variables.\n",
    "\n",
    "Marketing departments may apply statistical Test of Significance for their market research about a suitable target market for \n",
    "their new products or services.\n",
    "\n",
    "Forecasting techniques may be used by the top management to estimate sales volume for the next budget year.\n",
    "\n",
    "Standard deviation methods are used by various profit centers within the organization to cut down the inherent risk in a \n",
    "particular business decision.\n",
    "\n",
    "Suppose in a battery manufacturing industry, a quality inspector wants to compare the performance of batteries manufactured in \n",
    "different shifts. So, He will collect a sample from different shifts and perform Hypothesis Testing. Here he will use the \n",
    "concept of ANOVA (Analysis of Variance).\n",
    "\n",
    "\"\"\""
   ]
  },
  {
   "cell_type": "code",
   "execution_count": 1,
   "metadata": {},
   "outputs": [],
   "source": [
    "import os\n",
    "import pandas as pd\n",
    "import numpy as np\n",
    "import seaborn as sns\n",
    "import matplotlib.pyplot as plt\n",
    "import tabulate\n",
    "from socket import socket\n",
    "import datetime\n",
    "os.chdir(r\"D:\\D\\AI\\Great learning 2021\\Assignment\\Statistical learning course project 1\")"
   ]
  },
  {
   "cell_type": "code",
   "execution_count": 18,
   "metadata": {},
   "outputs": [],
   "source": [
    "data = pd.read_csv(\"DS+-+Part2+-+Basketball.csv\")\n",
    "data.drop(labels=60, axis=0, inplace = True)"
   ]
  },
  {
   "cell_type": "code",
   "execution_count": 3,
   "metadata": {},
   "outputs": [
    {
     "data": {
      "text/plain": [
       "(61, 13)"
      ]
     },
     "execution_count": 3,
     "metadata": {},
     "output_type": "execute_result"
    }
   ],
   "source": [
    "data.shape"
   ]
  },
  {
   "cell_type": "code",
   "execution_count": 4,
   "metadata": {},
   "outputs": [
    {
     "data": {
      "text/html": [
       "<div>\n",
       "<style scoped>\n",
       "    .dataframe tbody tr th:only-of-type {\n",
       "        vertical-align: middle;\n",
       "    }\n",
       "\n",
       "    .dataframe tbody tr th {\n",
       "        vertical-align: top;\n",
       "    }\n",
       "\n",
       "    .dataframe thead th {\n",
       "        text-align: right;\n",
       "    }\n",
       "</style>\n",
       "<table border=\"1\" class=\"dataframe\">\n",
       "  <thead>\n",
       "    <tr style=\"text-align: right;\">\n",
       "      <th></th>\n",
       "      <th>Team</th>\n",
       "      <th>Tournament</th>\n",
       "      <th>Score</th>\n",
       "      <th>PlayedGames</th>\n",
       "      <th>WonGames</th>\n",
       "      <th>DrawnGames</th>\n",
       "      <th>LostGames</th>\n",
       "      <th>BasketScored</th>\n",
       "      <th>BasketGiven</th>\n",
       "      <th>TournamentChampion</th>\n",
       "      <th>Runner-up</th>\n",
       "      <th>TeamLaunch</th>\n",
       "      <th>HighestPositionHeld</th>\n",
       "    </tr>\n",
       "  </thead>\n",
       "  <tbody>\n",
       "    <tr>\n",
       "      <td>0</td>\n",
       "      <td>Team 1</td>\n",
       "      <td>86</td>\n",
       "      <td>4385</td>\n",
       "      <td>2762</td>\n",
       "      <td>1647</td>\n",
       "      <td>552</td>\n",
       "      <td>563</td>\n",
       "      <td>5947</td>\n",
       "      <td>3140</td>\n",
       "      <td>33</td>\n",
       "      <td>23</td>\n",
       "      <td>1929</td>\n",
       "      <td>1</td>\n",
       "    </tr>\n",
       "    <tr>\n",
       "      <td>1</td>\n",
       "      <td>Team 2</td>\n",
       "      <td>86</td>\n",
       "      <td>4262</td>\n",
       "      <td>2762</td>\n",
       "      <td>1581</td>\n",
       "      <td>573</td>\n",
       "      <td>608</td>\n",
       "      <td>5900</td>\n",
       "      <td>3114</td>\n",
       "      <td>25</td>\n",
       "      <td>25</td>\n",
       "      <td>1929</td>\n",
       "      <td>1</td>\n",
       "    </tr>\n",
       "    <tr>\n",
       "      <td>2</td>\n",
       "      <td>Team 3</td>\n",
       "      <td>80</td>\n",
       "      <td>3442</td>\n",
       "      <td>2614</td>\n",
       "      <td>1241</td>\n",
       "      <td>598</td>\n",
       "      <td>775</td>\n",
       "      <td>4534</td>\n",
       "      <td>3309</td>\n",
       "      <td>10</td>\n",
       "      <td>8</td>\n",
       "      <td>1929</td>\n",
       "      <td>1</td>\n",
       "    </tr>\n",
       "    <tr>\n",
       "      <td>3</td>\n",
       "      <td>Team 4</td>\n",
       "      <td>82</td>\n",
       "      <td>3386</td>\n",
       "      <td>2664</td>\n",
       "      <td>1187</td>\n",
       "      <td>616</td>\n",
       "      <td>861</td>\n",
       "      <td>4398</td>\n",
       "      <td>3469</td>\n",
       "      <td>6</td>\n",
       "      <td>6</td>\n",
       "      <td>1931to32</td>\n",
       "      <td>1</td>\n",
       "    </tr>\n",
       "    <tr>\n",
       "      <td>4</td>\n",
       "      <td>Team 5</td>\n",
       "      <td>86</td>\n",
       "      <td>3368</td>\n",
       "      <td>2762</td>\n",
       "      <td>1209</td>\n",
       "      <td>633</td>\n",
       "      <td>920</td>\n",
       "      <td>4631</td>\n",
       "      <td>3700</td>\n",
       "      <td>8</td>\n",
       "      <td>7</td>\n",
       "      <td>1929</td>\n",
       "      <td>1</td>\n",
       "    </tr>\n",
       "  </tbody>\n",
       "</table>\n",
       "</div>"
      ],
      "text/plain": [
       "     Team  Tournament Score PlayedGames WonGames DrawnGames LostGames  \\\n",
       "0  Team 1          86  4385        2762     1647        552       563   \n",
       "1  Team 2          86  4262        2762     1581        573       608   \n",
       "2  Team 3          80  3442        2614     1241        598       775   \n",
       "3  Team 4          82  3386        2664     1187        616       861   \n",
       "4  Team 5          86  3368        2762     1209        633       920   \n",
       "\n",
       "  BasketScored BasketGiven TournamentChampion Runner-up TeamLaunch  \\\n",
       "0         5947        3140                 33        23       1929   \n",
       "1         5900        3114                 25        25       1929   \n",
       "2         4534        3309                 10         8       1929   \n",
       "3         4398        3469                  6         6   1931to32   \n",
       "4         4631        3700                  8         7       1929   \n",
       "\n",
       "   HighestPositionHeld  \n",
       "0                    1  \n",
       "1                    1  \n",
       "2                    1  \n",
       "3                    1  \n",
       "4                    1  "
      ]
     },
     "execution_count": 4,
     "metadata": {},
     "output_type": "execute_result"
    }
   ],
   "source": [
    "data.head()"
   ]
  },
  {
   "cell_type": "code",
   "execution_count": 5,
   "metadata": {},
   "outputs": [
    {
     "data": {
      "text/plain": [
       "Index(['Team', 'Tournament', 'Score', 'PlayedGames', 'WonGames', 'DrawnGames',\n",
       "       'LostGames', 'BasketScored', 'BasketGiven', 'TournamentChampion',\n",
       "       'Runner-up', 'TeamLaunch', 'HighestPositionHeld'],\n",
       "      dtype='object')"
      ]
     },
     "execution_count": 5,
     "metadata": {},
     "output_type": "execute_result"
    }
   ],
   "source": [
    "data.columns"
   ]
  },
  {
   "cell_type": "code",
   "execution_count": 6,
   "metadata": {},
   "outputs": [
    {
     "name": "stdout",
     "output_type": "stream",
     "text": [
      "<class 'pandas.core.frame.DataFrame'>\n",
      "RangeIndex: 61 entries, 0 to 60\n",
      "Data columns (total 13 columns):\n",
      "Team                   61 non-null object\n",
      "Tournament             61 non-null int64\n",
      "Score                  61 non-null object\n",
      "PlayedGames            61 non-null object\n",
      "WonGames               61 non-null object\n",
      "DrawnGames             61 non-null object\n",
      "LostGames              61 non-null object\n",
      "BasketScored           61 non-null object\n",
      "BasketGiven            61 non-null object\n",
      "TournamentChampion     61 non-null object\n",
      "Runner-up              61 non-null object\n",
      "TeamLaunch             61 non-null object\n",
      "HighestPositionHeld    61 non-null int64\n",
      "dtypes: int64(2), object(11)\n",
      "memory usage: 6.3+ KB\n"
     ]
    }
   ],
   "source": [
    "data.info()"
   ]
  },
  {
   "cell_type": "code",
   "execution_count": 7,
   "metadata": {},
   "outputs": [
    {
     "data": {
      "text/plain": [
       "Team                   0\n",
       "Tournament             0\n",
       "Score                  0\n",
       "PlayedGames            0\n",
       "WonGames               0\n",
       "DrawnGames             0\n",
       "LostGames              0\n",
       "BasketScored           0\n",
       "BasketGiven            0\n",
       "TournamentChampion     0\n",
       "Runner-up              0\n",
       "TeamLaunch             0\n",
       "HighestPositionHeld    0\n",
       "dtype: int64"
      ]
     },
     "execution_count": 7,
     "metadata": {},
     "output_type": "execute_result"
    }
   ],
   "source": [
    "data.isnull().sum()"
   ]
  },
  {
   "cell_type": "markdown",
   "metadata": {},
   "source": [
    "# Univariate analysis \n",
    "\n"
   ]
  },
  {
   "cell_type": "code",
   "execution_count": 8,
   "metadata": {
    "collapsed": true
   },
   "outputs": [
    {
     "name": "stdout",
     "output_type": "stream",
     "text": [
      "\n",
      "Number of unique values => 33\n",
      "\n",
      "\n"
     ]
    },
    {
     "data": {
      "image/png": "[encoded data removed]",
      "text/plain": [
       "<Figure size 1080x576 with 1 Axes>"
      ]
     },
     "metadata": {
      "needs_background": "light"
     },
     "output_type": "display_data"
    },
    {
     "name": "stdout",
     "output_type": "stream",
     "text": [
      " The top three values with lowest counts are \n",
      "\n",
      " 21    1\n",
      "45    1\n",
      "44    1\n",
      "Name: Tournament, dtype: int64 \n",
      "\n",
      " The top three values with highest counts are\n",
      "\n",
      " 12    4\n",
      "4     5\n",
      "1     5\n",
      "Name: Tournament, dtype: int64\n"
     ]
    }
   ],
   "source": [
    "\"\"\"A discrete variable is a variable whose value is obtained by counting. So column tournament is a discrete variable\"\"\"\n",
    "\n",
    "\n",
    "def univariate_categorical(x):\n",
    "       \n",
    "    print('\\nNumber of unique values => ' + str(len(data[x].unique())) + '\\n\\n')\n",
    "    data[x] = data[x].replace([\"-\"],'0')\n",
    "    data[x] = pd.to_numeric(data[x])\n",
    "    plt.figure(figsize=(15, 8))\n",
    "    y = \"count\"\n",
    "    sns.countplot(data[x])\n",
    "    plt.show()\n",
    "    X = data[x].value_counts(ascending=True)\n",
    "    print(\" The top three values with lowest counts are \\n\\n\", X.head(3), \"\\n\\n\", \"The top three values with highest counts are\\n\\n\", X.tail(3))\n",
    "\n",
    "\n",
    "univariate_categorical(\"Tournament\")\n",
    "\n",
    "\n"
   ]
  },
  {
   "cell_type": "code",
   "execution_count": 9,
   "metadata": {
    "collapsed": true
   },
   "outputs": [
    {
     "name": "stdout",
     "output_type": "stream",
     "text": [
      "\n",
      "Number of unique values => 60\n",
      "\n",
      "\n"
     ]
    },
    {
     "data": {
      "image/png": "[encoded data removed]",
      "text/plain": [
       "<Figure size 1080x576 with 1 Axes>"
      ]
     },
     "metadata": {
      "needs_background": "light"
     },
     "output_type": "display_data"
    },
    {
     "name": "stdout",
     "output_type": "stream",
     "text": [
      " The top three values with lowest counts are \n",
      "\n",
      " 2819    1\n",
      "1471    1\n",
      "107     1\n",
      "Name: Score, dtype: int64 \n",
      "\n",
      " The top three values with highest counts are\n",
      "\n",
      " 150     1\n",
      "510     1\n",
      "1174    1\n",
      "Name: Score, dtype: int64\n"
     ]
    }
   ],
   "source": [
    "# Score is actually a discrete variable but in real world scenario sometimes it has been taken as continuous so\n",
    "\n",
    "univariate_categorical(\"Score\")"
   ]
  },
  {
   "cell_type": "code",
   "execution_count": 10,
   "metadata": {
    "collapsed": true
   },
   "outputs": [
    {
     "name": "stdout",
     "output_type": "stream",
     "text": [
      "Standard deviation =  1128.8168499953097 , Mean =  916.45\n"
     ]
    },
    {
     "data": {
      "image/png": "[encoded data removed]",
      "text/plain": [
       "<Figure size 432x288 with 1 Axes>"
      ]
     },
     "metadata": {
      "needs_background": "light"
     },
     "output_type": "display_data"
    },
    {
     "data": {
      "image/png": "[encoded data removed]",
      "text/plain": [
       "<Figure size 360x360 with 1 Axes>"
      ]
     },
     "metadata": {
      "needs_background": "light"
     },
     "output_type": "display_data"
    }
   ],
   "source": [
    "def univariate_continuous(x):\n",
    "\n",
    "    data[x] = data[x].replace([\"-\"],'0')\n",
    "    data[x] = pd.to_numeric(data[x])\n",
    "    sns.distplot(data[x],bins=10,kde=True)\n",
    "    print(\"Standard deviation = \", np.std(data[x]), \", Mean = \", np.mean(data[x]))\n",
    "\n",
    "    plt.figure(figsize = (5,5))\n",
    "    plt.boxplot(data[x])\n",
    "\n",
    "univariate_continuous(\"Score\")\n",
    "    \n",
    "# There are some outliers from point above 2800\n",
    "# Score is right skewed with more data at 0 to 500 and less data at 2000 to 2500. \n",
    "# The data values show more variation from the mean."
   ]
  },
  {
   "cell_type": "code",
   "execution_count": 11,
   "metadata": {
    "collapsed": true
   },
   "outputs": [
    {
     "name": "stdout",
     "output_type": "stream",
     "text": [
      "Standard deviation =  870.1224568990273 , Mean =  810.1\n"
     ]
    },
    {
     "data": {
      "image/png": "[encoded data removed]",
      "text/plain": [
       "<Figure size 432x288 with 1 Axes>"
      ]
     },
     "metadata": {
      "needs_background": "light"
     },
     "output_type": "display_data"
    },
    {
     "data": {
      "image/png": "[encoded data removed]",
      "text/plain": [
       "<Figure size 360x360 with 1 Axes>"
      ]
     },
     "metadata": {
      "needs_background": "light"
     },
     "output_type": "display_data"
    }
   ],
   "source": [
    "# PlayedGames is actually a discrete variable\n",
    "univariate_continuous(\"PlayedGames\")\n",
    "\n",
    "# The data is right skewed with no outliers"
   ]
  },
  {
   "cell_type": "code",
   "execution_count": 12,
   "metadata": {
    "collapsed": true
   },
   "outputs": [
    {
     "name": "stdout",
     "output_type": "stream",
     "text": [
      "Standard deviation =  405.06308013553763 , Mean =  309.03333333333336\n"
     ]
    },
    {
     "data": {
      "image/png": "[encoded data removed]",
      "text/plain": [
       "<Figure size 432x288 with 1 Axes>"
      ]
     },
     "metadata": {
      "needs_background": "light"
     },
     "output_type": "display_data"
    },
    {
     "data": {
      "image/png": "[encoded data removed]",
      "text/plain": [
       "<Figure size 360x360 with 1 Axes>"
      ]
     },
     "metadata": {
      "needs_background": "light"
     },
     "output_type": "display_data"
    }
   ],
   "source": [
    "# WonGames is actually a discrete variable\n",
    "univariate_continuous(\"WonGames\")\n",
    "\n",
    "# The data is right skewed with outliers more than 1000"
   ]
  },
  {
   "cell_type": "code",
   "execution_count": 13,
   "metadata": {
    "collapsed": true
   },
   "outputs": [
    {
     "name": "stdout",
     "output_type": "stream",
     "text": [
      "Standard deviation =  200.2952230805539 , Mean =  192.08333333333334\n"
     ]
    },
    {
     "data": {
      "image/png": "[encoded data removed]",
      "text/plain": [
       "<Figure size 432x288 with 1 Axes>"
      ]
     },
     "metadata": {
      "needs_background": "light"
     },
     "output_type": "display_data"
    },
    {
     "data": {
      "image/png": "[encoded data removed]",
      "text/plain": [
       "<Figure size 360x360 with 1 Axes>"
      ]
     },
     "metadata": {
      "needs_background": "light"
     },
     "output_type": "display_data"
    }
   ],
   "source": [
    "# DrawnGames is actually a discrete variable\n",
    "univariate_continuous(\"DrawnGames\")\n",
    "\n",
    "# The data is right skewed with no outliers"
   ]
  },
  {
   "cell_type": "code",
   "execution_count": 14,
   "metadata": {
    "collapsed": true
   },
   "outputs": [
    {
     "name": "stdout",
     "output_type": "stream",
     "text": [
      "Standard deviation =  292.04408866166466 , Mean =  308.81666666666666\n"
     ]
    },
    {
     "data": {
      "image/png": "[encoded data removed]",
      "text/plain": [
       "<Figure size 432x288 with 1 Axes>"
      ]
     },
     "metadata": {
      "needs_background": "light"
     },
     "output_type": "display_data"
    },
    {
     "data": {
      "image/png": "[encoded data removed]",
      "text/plain": [
       "<Figure size 360x360 with 1 Axes>"
      ]
     },
     "metadata": {
      "needs_background": "light"
     },
     "output_type": "display_data"
    }
   ],
   "source": [
    "# LostGames is actually a discrete variable\n",
    "univariate_continuous(\"LostGames\")\n",
    "\n",
    "# The data is right skewed with no outliers"
   ]
  },
  {
   "cell_type": "code",
   "execution_count": 15,
   "metadata": {
    "collapsed": true
   },
   "outputs": [
    {
     "name": "stdout",
     "output_type": "stream",
     "text": [
      "Standard deviation =  1499.4104710963345 , Mean =  1159.35\n"
     ]
    },
    {
     "data": {
      "image/png": "[encoded data removed]",
      "text/plain": [
       "<Figure size 432x288 with 1 Axes>"
      ]
     },
     "metadata": {
      "needs_background": "light"
     },
     "output_type": "display_data"
    },
    {
     "data": {
      "image/png": "[encoded data removed]",
      "text/plain": [
       "<Figure size 360x360 with 1 Axes>"
      ]
     },
     "metadata": {
      "needs_background": "light"
     },
     "output_type": "display_data"
    }
   ],
   "source": [
    "# BasketScored: is actually a discrete variable\n",
    "univariate_continuous(\"BasketScored\")\n",
    "\n",
    "# The data is right skewed with outliers more than 4000"
   ]
  },
  {
   "cell_type": "code",
   "execution_count": 16,
   "metadata": {
    "collapsed": true
   },
   "outputs": [
    {
     "name": "stdout",
     "output_type": "stream",
     "text": [
      "Standard deviation =  1154.206601475182 , Mean =  1159.2333333333333\n"
     ]
    },
    {
     "data": {
      "image/png": "[encoded data removed]",
      "text/plain": [
       "<Figure size 432x288 with 1 Axes>"
      ]
     },
     "metadata": {
      "needs_background": "light"
     },
     "output_type": "display_data"
    },
    {
     "data": {
      "image/png": "[encoded data removed]",
      "text/plain": [
       "<Figure size 360x360 with 1 Axes>"
      ]
     },
     "metadata": {
      "needs_background": "light"
     },
     "output_type": "display_data"
    }
   ],
   "source": [
    "# BasketGiven:: is actually a discrete variable\n",
    "univariate_continuous(\"BasketGiven\")\n",
    "\n",
    "# The data is right skewed with no outliers"
   ]
  },
  {
   "cell_type": "code",
   "execution_count": 29,
   "metadata": {},
   "outputs": [
    {
     "name": "stdout",
     "output_type": "stream",
     "text": [
      "\n",
      "Number of unique values => 8\n",
      "\n",
      "\n"
     ]
    },
    {
     "data": {
      "image/png": "[encoded data removed]",
      "text/plain": [
       "<Figure size 1080x576 with 1 Axes>"
      ]
     },
     "metadata": {
      "needs_background": "light"
     },
     "output_type": "display_data"
    },
    {
     "name": "stdout",
     "output_type": "stream",
     "text": [
      " The top three values with lowest counts are \n",
      "\n",
      " 2    1\n",
      "6    1\n",
      "8    1\n",
      "Name: TournamentChampion, dtype: int64 \n",
      "\n",
      " The top three values with highest counts are\n",
      "\n",
      " 33     1\n",
      "1      3\n",
      "0     52\n",
      "Name: TournamentChampion, dtype: int64\n"
     ]
    }
   ],
   "source": [
    "# TournamentChampion is actually a discrete variable\n",
    "univariate_categorical(\"TournamentChampion\")"
   ]
  },
  {
   "cell_type": "code",
   "execution_count": 56,
   "metadata": {
    "collapsed": true
   },
   "outputs": [
    {
     "name": "stdout",
     "output_type": "stream",
     "text": [
      "\n",
      "Number of unique values => 10\n",
      "\n",
      "\n"
     ]
    },
    {
     "data": {
      "image/png": "[encoded data removed]",
      "text/plain": [
       "<Figure size 1080x576 with 1 Axes>"
      ]
     },
     "metadata": {
      "needs_background": "light"
     },
     "output_type": "display_data"
    },
    {
     "name": "stdout",
     "output_type": "stream",
     "text": [
      " The top three values with lowest counts are \n",
      "\n",
      " 3    1\n",
      "4    1\n",
      "5    1\n",
      "Name: Runner-up, dtype: int64 \n",
      "\n",
      " The top three values with highest counts are\n",
      "\n",
      " 25     1\n",
      "1      5\n",
      "0     48\n",
      "Name: Runner-up, dtype: int64\n"
     ]
    }
   ],
   "source": [
    "# Runner-up is actually a discrete variable\n",
    "univariate_categorical(\"Runner-up\")"
   ]
  },
  {
   "cell_type": "code",
   "execution_count": null,
   "metadata": {},
   "outputs": [],
   "source": [
    "# Runner-up is actually a discrete variable\n",
    "univariate_categorical(\"Runner-up\")"
   ]
  },
  {
   "cell_type": "code",
   "execution_count": 31,
   "metadata": {
    "collapsed": true
   },
   "outputs": [
    {
     "name": "stdout",
     "output_type": "stream",
     "text": [
      "\n",
      "Number of unique values => 18\n",
      "\n",
      "\n"
     ]
    },
    {
     "data": {
      "image/png": "[encoded data removed]",
      "text/plain": [
       "<Figure size 1080x576 with 1 Axes>"
      ]
     },
     "metadata": {
      "needs_background": "light"
     },
     "output_type": "display_data"
    },
    {
     "name": "stdout",
     "output_type": "stream",
     "text": [
      " The top three values with lowest counts are \n",
      "\n",
      " 20    1\n",
      "15    1\n",
      "14    1\n",
      "Name: HighestPositionHeld, dtype: int64 \n",
      "\n",
      " The top three values with highest counts are\n",
      "\n",
      " 7    5\n",
      "4    6\n",
      "1    9\n",
      "Name: HighestPositionHeld, dtype: int64\n"
     ]
    }
   ],
   "source": [
    "# HighestPositionHeld is actually a discrete variable\n",
    "univariate_categorical(\"HighestPositionHeld\")"
   ]
  },
  {
   "cell_type": "code",
   "execution_count": 110,
   "metadata": {},
   "outputs": [],
   "source": [
    "# TeamLaunch converting string to date format\n",
    "\n",
    "data = pd.read_csv(\"DS+-+Part2+-+Basketball.csv\")\n",
    "data.drop(labels=60, axis=0, inplace = True)\n",
    "\n",
    "A = data[\"TeamLaunch\"]\n",
    "A = A.str.replace(\"1929\",'1929-30')\n",
    "A = A.str.replace(\"to\",'-')\n",
    "A = A.str.replace(\"_\",'-')\n",
    "A = A.str.replace(\"~\",'-')\n",
    "\n",
    "for i in range(len(A)):\n",
    "    B = A[i]\n",
    "    B = B[:-3]\n",
    "    A[i] = B \n",
    "    A[i] = datetime.datetime.strptime(A[i], '%Y')\n",
    "\n",
    "\n",
    "data[\"Teamlaunch_Final\"] = A.dt.year\n",
    "data.drop('TeamLaunch',axis=1, inplace=True)\n",
    "\n"
   ]
  },
  {
   "cell_type": "code",
   "execution_count": 111,
   "metadata": {},
   "outputs": [
    {
     "name": "stdout",
     "output_type": "stream",
     "text": [
      "\n",
      "Number of unique values => 44\n",
      "\n",
      "\n"
     ]
    },
    {
     "data": {
      "image/png": "[encoded data removed]",
      "text/plain": [
       "<Figure size 1080x576 with 1 Axes>"
      ]
     },
     "metadata": {
      "needs_background": "light"
     },
     "output_type": "display_data"
    },
    {
     "name": "stdout",
     "output_type": "stream",
     "text": [
      " The top three values with lowest counts are \n",
      "\n",
      " 1987    1\n",
      "1949    1\n",
      "2014    1\n",
      "Name: Teamlaunch_Final, dtype: int64 \n",
      "\n",
      " The top three values with highest counts are\n",
      "\n",
      " 1977     2\n",
      "1941     3\n",
      "1929    10\n",
      "Name: Teamlaunch_Final, dtype: int64\n"
     ]
    }
   ],
   "source": [
    "univariate_categorical(\"Teamlaunch_Final\")"
   ]
  },
  {
   "cell_type": "markdown",
   "metadata": {},
   "source": [
    "Bivariate analysis"
   ]
  },
  {
   "cell_type": "code",
   "execution_count": 112,
   "metadata": {},
   "outputs": [],
   "source": [
    "# The column Team is converted to T\n",
    "B = data[\"Team\"]\n",
    "B = B.str.replace(\"Team\",'T')\n",
    "data[\"Team_Final\"] = B\n",
    "data.drop('Team',axis=1, inplace=True)\n"
   ]
  },
  {
   "cell_type": "code",
   "execution_count": 113,
   "metadata": {},
   "outputs": [
    {
     "data": {
      "text/plain": [
       "'So in this analysis we will be filtering out top 5 to 10 teams and then from that we can give a \\ndetailed report to the company on which team to recruit.'"
      ]
     },
     "execution_count": 113,
     "metadata": {},
     "output_type": "execute_result"
    }
   ],
   "source": [
    "\"\"\"So in this analysis we will be filtering out top 5 to 10 teams and then from that we can give a \n",
    "detailed report to the company on which team to recruit.\"\"\""
   ]
  },
  {
   "cell_type": "code",
   "execution_count": 114,
   "metadata": {},
   "outputs": [
    {
     "data": {
      "text/plain": [
       "<BarContainer object of 60 artists>"
      ]
     },
     "execution_count": 114,
     "metadata": {},
     "output_type": "execute_result"
    },
    {
     "data": {
      "image/png": "[encoded data removed]",
      "text/plain": [
       "<Figure size 2160x1440 with 1 Axes>"
      ]
     },
     "metadata": {
      "needs_background": "light"
     },
     "output_type": "display_data"
    }
   ],
   "source": [
    "plt.figure(figsize=(30,20))\n",
    "plt.bar(data[\"Team_Final\"], data[\"TournamentChampion\"])\n",
    "\n",
    "# From this it can be seen that team 1 to 6,8,10,11  have top championships and team 1 is leading"
   ]
  },
  {
   "cell_type": "code",
   "execution_count": 115,
   "metadata": {},
   "outputs": [
    {
     "data": {
      "image/png": "[encoded data removed]",
      "text/plain": [
       "<Figure size 2160x1440 with 1 Axes>"
      ]
     },
     "metadata": {
      "needs_background": "light"
     },
     "output_type": "display_data"
    }
   ],
   "source": [
    "plt.figure(figsize=(30,20))\n",
    "p1 = plt.bar(data[\"Team_Final\"], data[\"HighestPositionHeld\"])\n",
    "\n",
    "# From this it can be seen that team 1 to 6,8,10,11  have held highest positions and team 1 is leading"
   ]
  },
  {
   "cell_type": "code",
   "execution_count": 116,
   "metadata": {},
   "outputs": [
    {
     "data": {
      "text/plain": [
       "'So from this report the management can approach team 1 to 6,8,10,11 and from this to know more \\nabout the detailed report can be done to get top teams based on their performance'"
      ]
     },
     "execution_count": 116,
     "metadata": {},
     "output_type": "execute_result"
    }
   ],
   "source": [
    "\"\"\"So from this report the management can approach team 1 to 6,8,10,11 and from this to know more \n",
    "about the detailed report can be done to get top teams based on their performance\"\"\""
   ]
  },
  {
   "cell_type": "code",
   "execution_count": 124,
   "metadata": {},
   "outputs": [
    {
     "data": {
      "text/html": [
       "<div>\n",
       "<style scoped>\n",
       "    .dataframe tbody tr th:only-of-type {\n",
       "        vertical-align: middle;\n",
       "    }\n",
       "\n",
       "    .dataframe tbody tr th {\n",
       "        vertical-align: top;\n",
       "    }\n",
       "\n",
       "    .dataframe thead th {\n",
       "        text-align: right;\n",
       "    }\n",
       "</style>\n",
       "<table border=\"1\" class=\"dataframe\">\n",
       "  <thead>\n",
       "    <tr style=\"text-align: right;\">\n",
       "      <th></th>\n",
       "      <th>Tournament</th>\n",
       "      <th>Score</th>\n",
       "      <th>PlayedGames</th>\n",
       "      <th>WonGames</th>\n",
       "      <th>DrawnGames</th>\n",
       "      <th>LostGames</th>\n",
       "      <th>BasketScored</th>\n",
       "      <th>BasketGiven</th>\n",
       "      <th>TournamentChampion</th>\n",
       "      <th>Runner-up</th>\n",
       "      <th>HighestPositionHeld</th>\n",
       "      <th>Teamlaunch_Final</th>\n",
       "      <th>Team_Final</th>\n",
       "    </tr>\n",
       "  </thead>\n",
       "  <tbody>\n",
       "    <tr>\n",
       "      <td>0</td>\n",
       "      <td>86</td>\n",
       "      <td>4385</td>\n",
       "      <td>2762</td>\n",
       "      <td>1647</td>\n",
       "      <td>552</td>\n",
       "      <td>563</td>\n",
       "      <td>5947</td>\n",
       "      <td>3140</td>\n",
       "      <td>33</td>\n",
       "      <td>23</td>\n",
       "      <td>1</td>\n",
       "      <td>1929</td>\n",
       "      <td>T 1</td>\n",
       "    </tr>\n",
       "    <tr>\n",
       "      <td>1</td>\n",
       "      <td>86</td>\n",
       "      <td>4262</td>\n",
       "      <td>2762</td>\n",
       "      <td>1581</td>\n",
       "      <td>573</td>\n",
       "      <td>608</td>\n",
       "      <td>5900</td>\n",
       "      <td>3114</td>\n",
       "      <td>25</td>\n",
       "      <td>25</td>\n",
       "      <td>1</td>\n",
       "      <td>1929</td>\n",
       "      <td>T 2</td>\n",
       "    </tr>\n",
       "    <tr>\n",
       "      <td>2</td>\n",
       "      <td>80</td>\n",
       "      <td>3442</td>\n",
       "      <td>2614</td>\n",
       "      <td>1241</td>\n",
       "      <td>598</td>\n",
       "      <td>775</td>\n",
       "      <td>4534</td>\n",
       "      <td>3309</td>\n",
       "      <td>10</td>\n",
       "      <td>8</td>\n",
       "      <td>1</td>\n",
       "      <td>1929</td>\n",
       "      <td>T 3</td>\n",
       "    </tr>\n",
       "    <tr>\n",
       "      <td>3</td>\n",
       "      <td>82</td>\n",
       "      <td>3386</td>\n",
       "      <td>2664</td>\n",
       "      <td>1187</td>\n",
       "      <td>616</td>\n",
       "      <td>861</td>\n",
       "      <td>4398</td>\n",
       "      <td>3469</td>\n",
       "      <td>6</td>\n",
       "      <td>6</td>\n",
       "      <td>1</td>\n",
       "      <td>1931</td>\n",
       "      <td>T 4</td>\n",
       "    </tr>\n",
       "    <tr>\n",
       "      <td>4</td>\n",
       "      <td>86</td>\n",
       "      <td>3368</td>\n",
       "      <td>2762</td>\n",
       "      <td>1209</td>\n",
       "      <td>633</td>\n",
       "      <td>920</td>\n",
       "      <td>4631</td>\n",
       "      <td>3700</td>\n",
       "      <td>8</td>\n",
       "      <td>7</td>\n",
       "      <td>1</td>\n",
       "      <td>1929</td>\n",
       "      <td>T 5</td>\n",
       "    </tr>\n",
       "  </tbody>\n",
       "</table>\n",
       "</div>"
      ],
      "text/plain": [
       "   Tournament Score PlayedGames WonGames DrawnGames LostGames BasketScored  \\\n",
       "0          86  4385        2762     1647        552       563         5947   \n",
       "1          86  4262        2762     1581        573       608         5900   \n",
       "2          80  3442        2614     1241        598       775         4534   \n",
       "3          82  3386        2664     1187        616       861         4398   \n",
       "4          86  3368        2762     1209        633       920         4631   \n",
       "\n",
       "  BasketGiven TournamentChampion Runner-up  HighestPositionHeld  \\\n",
       "0        3140                 33        23                    1   \n",
       "1        3114                 25        25                    1   \n",
       "2        3309                 10         8                    1   \n",
       "3        3469                  6         6                    1   \n",
       "4        3700                  8         7                    1   \n",
       "\n",
       "   Teamlaunch_Final Team_Final  \n",
       "0              1929        T 1  \n",
       "1              1929        T 2  \n",
       "2              1929        T 3  \n",
       "3              1931        T 4  \n",
       "4              1929        T 5  "
      ]
     },
     "execution_count": 124,
     "metadata": {},
     "output_type": "execute_result"
    }
   ],
   "source": [
    "data.head()"
   ]
  },
  {
   "cell_type": "code",
   "execution_count": 135,
   "metadata": {},
   "outputs": [],
   "source": [
    "data1 = data.sort_values(by = \"HighestPositionHeld\")\n",
    "data1 = data1.head(9)"
   ]
  },
  {
   "cell_type": "code",
   "execution_count": 137,
   "metadata": {},
   "outputs": [
    {
     "data": {
      "text/html": [
       "<div>\n",
       "<style scoped>\n",
       "    .dataframe tbody tr th:only-of-type {\n",
       "        vertical-align: middle;\n",
       "    }\n",
       "\n",
       "    .dataframe tbody tr th {\n",
       "        vertical-align: top;\n",
       "    }\n",
       "\n",
       "    .dataframe thead th {\n",
       "        text-align: right;\n",
       "    }\n",
       "</style>\n",
       "<table border=\"1\" class=\"dataframe\">\n",
       "  <thead>\n",
       "    <tr style=\"text-align: right;\">\n",
       "      <th></th>\n",
       "      <th>Tournament</th>\n",
       "      <th>Score</th>\n",
       "      <th>PlayedGames</th>\n",
       "      <th>WonGames</th>\n",
       "      <th>DrawnGames</th>\n",
       "      <th>LostGames</th>\n",
       "      <th>BasketScored</th>\n",
       "      <th>BasketGiven</th>\n",
       "      <th>TournamentChampion</th>\n",
       "      <th>Runner-up</th>\n",
       "      <th>HighestPositionHeld</th>\n",
       "      <th>Teamlaunch_Final</th>\n",
       "      <th>Team_Final</th>\n",
       "    </tr>\n",
       "  </thead>\n",
       "  <tbody>\n",
       "    <tr>\n",
       "      <td>0</td>\n",
       "      <td>86</td>\n",
       "      <td>4385</td>\n",
       "      <td>2762</td>\n",
       "      <td>1647</td>\n",
       "      <td>552</td>\n",
       "      <td>563</td>\n",
       "      <td>5947</td>\n",
       "      <td>3140</td>\n",
       "      <td>33</td>\n",
       "      <td>23</td>\n",
       "      <td>1</td>\n",
       "      <td>1929</td>\n",
       "      <td>T 1</td>\n",
       "    </tr>\n",
       "    <tr>\n",
       "      <td>1</td>\n",
       "      <td>86</td>\n",
       "      <td>4262</td>\n",
       "      <td>2762</td>\n",
       "      <td>1581</td>\n",
       "      <td>573</td>\n",
       "      <td>608</td>\n",
       "      <td>5900</td>\n",
       "      <td>3114</td>\n",
       "      <td>25</td>\n",
       "      <td>25</td>\n",
       "      <td>1</td>\n",
       "      <td>1929</td>\n",
       "      <td>T 2</td>\n",
       "    </tr>\n",
       "    <tr>\n",
       "      <td>2</td>\n",
       "      <td>80</td>\n",
       "      <td>3442</td>\n",
       "      <td>2614</td>\n",
       "      <td>1241</td>\n",
       "      <td>598</td>\n",
       "      <td>775</td>\n",
       "      <td>4534</td>\n",
       "      <td>3309</td>\n",
       "      <td>10</td>\n",
       "      <td>8</td>\n",
       "      <td>1</td>\n",
       "      <td>1929</td>\n",
       "      <td>T 3</td>\n",
       "    </tr>\n",
       "    <tr>\n",
       "      <td>3</td>\n",
       "      <td>82</td>\n",
       "      <td>3386</td>\n",
       "      <td>2664</td>\n",
       "      <td>1187</td>\n",
       "      <td>616</td>\n",
       "      <td>861</td>\n",
       "      <td>4398</td>\n",
       "      <td>3469</td>\n",
       "      <td>6</td>\n",
       "      <td>6</td>\n",
       "      <td>1</td>\n",
       "      <td>1931</td>\n",
       "      <td>T 4</td>\n",
       "    </tr>\n",
       "    <tr>\n",
       "      <td>4</td>\n",
       "      <td>86</td>\n",
       "      <td>3368</td>\n",
       "      <td>2762</td>\n",
       "      <td>1209</td>\n",
       "      <td>633</td>\n",
       "      <td>920</td>\n",
       "      <td>4631</td>\n",
       "      <td>3700</td>\n",
       "      <td>8</td>\n",
       "      <td>7</td>\n",
       "      <td>1</td>\n",
       "      <td>1929</td>\n",
       "      <td>T 5</td>\n",
       "    </tr>\n",
       "    <tr>\n",
       "      <td>5</td>\n",
       "      <td>73</td>\n",
       "      <td>2819</td>\n",
       "      <td>2408</td>\n",
       "      <td>990</td>\n",
       "      <td>531</td>\n",
       "      <td>887</td>\n",
       "      <td>3680</td>\n",
       "      <td>3373</td>\n",
       "      <td>1</td>\n",
       "      <td>4</td>\n",
       "      <td>1</td>\n",
       "      <td>1934</td>\n",
       "      <td>T 6</td>\n",
       "    </tr>\n",
       "    <tr>\n",
       "      <td>7</td>\n",
       "      <td>70</td>\n",
       "      <td>2573</td>\n",
       "      <td>2302</td>\n",
       "      <td>864</td>\n",
       "      <td>577</td>\n",
       "      <td>861</td>\n",
       "      <td>3228</td>\n",
       "      <td>3230</td>\n",
       "      <td>2</td>\n",
       "      <td>3</td>\n",
       "      <td>1</td>\n",
       "      <td>1929</td>\n",
       "      <td>T 8</td>\n",
       "    </tr>\n",
       "    <tr>\n",
       "      <td>9</td>\n",
       "      <td>51</td>\n",
       "      <td>1884</td>\n",
       "      <td>1728</td>\n",
       "      <td>606</td>\n",
       "      <td>440</td>\n",
       "      <td>682</td>\n",
       "      <td>2159</td>\n",
       "      <td>2492</td>\n",
       "      <td>1</td>\n",
       "      <td>-</td>\n",
       "      <td>1</td>\n",
       "      <td>1932</td>\n",
       "      <td>T 10</td>\n",
       "    </tr>\n",
       "    <tr>\n",
       "      <td>10</td>\n",
       "      <td>45</td>\n",
       "      <td>1814</td>\n",
       "      <td>1530</td>\n",
       "      <td>563</td>\n",
       "      <td>392</td>\n",
       "      <td>575</td>\n",
       "      <td>2052</td>\n",
       "      <td>2188</td>\n",
       "      <td>1</td>\n",
       "      <td>5</td>\n",
       "      <td>1</td>\n",
       "      <td>1941</td>\n",
       "      <td>T 11</td>\n",
       "    </tr>\n",
       "  </tbody>\n",
       "</table>\n",
       "</div>"
      ],
      "text/plain": [
       "    Tournament Score PlayedGames WonGames DrawnGames LostGames BasketScored  \\\n",
       "0           86  4385        2762     1647        552       563         5947   \n",
       "1           86  4262        2762     1581        573       608         5900   \n",
       "2           80  3442        2614     1241        598       775         4534   \n",
       "3           82  3386        2664     1187        616       861         4398   \n",
       "4           86  3368        2762     1209        633       920         4631   \n",
       "5           73  2819        2408      990        531       887         3680   \n",
       "7           70  2573        2302      864        577       861         3228   \n",
       "9           51  1884        1728      606        440       682         2159   \n",
       "10          45  1814        1530      563        392       575         2052   \n",
       "\n",
       "   BasketGiven TournamentChampion Runner-up  HighestPositionHeld  \\\n",
       "0         3140                 33        23                    1   \n",
       "1         3114                 25        25                    1   \n",
       "2         3309                 10         8                    1   \n",
       "3         3469                  6         6                    1   \n",
       "4         3700                  8         7                    1   \n",
       "5         3373                  1         4                    1   \n",
       "7         3230                  2         3                    1   \n",
       "9         2492                  1         -                    1   \n",
       "10        2188                  1         5                    1   \n",
       "\n",
       "    Teamlaunch_Final Team_Final  \n",
       "0               1929        T 1  \n",
       "1               1929        T 2  \n",
       "2               1929        T 3  \n",
       "3               1931        T 4  \n",
       "4               1929        T 5  \n",
       "5               1934        T 6  \n",
       "7               1929        T 8  \n",
       "9               1932       T 10  \n",
       "10              1941       T 11  "
      ]
     },
     "execution_count": 137,
     "metadata": {},
     "output_type": "execute_result"
    }
   ],
   "source": [
    "## So these are the top 9 teams and from this the management can invest and the best three teams will be team1, team 2 and team 3\n",
    "\n",
    "data1"
   ]
  },
  {
   "cell_type": "code",
   "execution_count": null,
   "metadata": {},
   "outputs": [],
   "source": []
  },
  {
   "cell_type": "code",
   "execution_count": null,
   "metadata": {},
   "outputs": [],
   "source": []
  },
  {
   "cell_type": "code",
   "execution_count": null,
   "metadata": {},
   "outputs": [],
   "source": []
  },
  {
   "cell_type": "code",
   "execution_count": null,
   "metadata": {},
   "outputs": [],
   "source": []
  },
  {
   "cell_type": "code",
   "execution_count": null,
   "metadata": {},
   "outputs": [],
   "source": []
  },
  {
   "cell_type": "code",
   "execution_count": null,
   "metadata": {},
   "outputs": [],
   "source": []
  },
  {
   "cell_type": "code",
   "execution_count": null,
   "metadata": {},
   "outputs": [],
   "source": []
  },
  {
   "cell_type": "code",
   "execution_count": null,
   "metadata": {},
   "outputs": [],
   "source": []
  },
  {
   "cell_type": "code",
   "execution_count": null,
   "metadata": {},
   "outputs": [],
   "source": []
  },
  {
   "cell_type": "code",
   "execution_count": null,
   "metadata": {},
   "outputs": [],
   "source": []
  },
  {
   "cell_type": "code",
   "execution_count": null,
   "metadata": {},
   "outputs": [],
   "source": []
  },
  {
   "cell_type": "code",
   "execution_count": null,
   "metadata": {},
   "outputs": [],
   "source": []
  },
  {
   "cell_type": "code",
   "execution_count": null,
   "metadata": {},
   "outputs": [],
   "source": []
  },
  {
   "cell_type": "code",
   "execution_count": null,
   "metadata": {},
   "outputs": [],
   "source": []
  },
  {
   "cell_type": "code",
   "execution_count": null,
   "metadata": {},
   "outputs": [],
   "source": []
  },
  {
   "cell_type": "code",
   "execution_count": null,
   "metadata": {},
   "outputs": [],
   "source": []
  },
  {
   "cell_type": "code",
   "execution_count": null,
   "metadata": {},
   "outputs": [],
   "source": []
  },
  {
   "cell_type": "code",
   "execution_count": null,
   "metadata": {},
   "outputs": [],
   "source": []
  }
 ],
 "metadata": {
  "kernelspec": {
   "display_name": "Python 3",
   "language": "python",
   "name": "python3"
  },
  "language_info": {
   "codemirror_mode": {
    "name": "ipython",
    "version": 3
   },
   "file_extension": ".py",
   "mimetype": "text/x-python",
   "name": "python",
   "nbconvert_exporter": "python",
   "pygments_lexer": "ipython3",
   "version": "3.7.4"
  }
 },
 "nbformat": 4,
 "nbformat_minor": 2
}
