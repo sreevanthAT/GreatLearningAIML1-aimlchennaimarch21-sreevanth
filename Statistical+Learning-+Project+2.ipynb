{
 "cells": [
  {
   "cell_type": "code",
   "execution_count": 1,
   "metadata": {},
   "outputs": [],
   "source": [
    "import numpy as np\n",
    "import pandas as pd\n",
    "%matplotlib inline\n",
    "from matplotlib import pyplot as plt\n",
    "from matplotlib.pyplot import figure\n",
    "import seaborn as sns\n",
    "import scipy.stats as stats\n",
    "import re \n",
    "\n",
    "\n",
    "\n",
    "sns.set() #setting the default seaborn style for our plots"
   ]
  },
  {
   "cell_type": "code",
   "execution_count": 3,
   "metadata": {},
   "outputs": [],
   "source": [
    "df = pd.read_csv(r'D:\\D\\AI\\Great learning 2021\\Assignment\\Statistical learning course project 2\\DS+-+Part3+-+CompanyX_EU.csv')"
   ]
  },
  {
   "cell_type": "code",
   "execution_count": 4,
   "metadata": {},
   "outputs": [
    {
     "data": {
      "text/html": [
       "<div>\n",
       "<style scoped>\n",
       "    .dataframe tbody tr th:only-of-type {\n",
       "        vertical-align: middle;\n",
       "    }\n",
       "\n",
       "    .dataframe tbody tr th {\n",
       "        vertical-align: top;\n",
       "    }\n",
       "\n",
       "    .dataframe thead th {\n",
       "        text-align: right;\n",
       "    }\n",
       "</style>\n",
       "<table border=\"1\" class=\"dataframe\">\n",
       "  <thead>\n",
       "    <tr style=\"text-align: right;\">\n",
       "      <th></th>\n",
       "      <th>Startup</th>\n",
       "      <th>Product</th>\n",
       "      <th>Funding</th>\n",
       "      <th>Event</th>\n",
       "      <th>Result</th>\n",
       "      <th>OperatingState</th>\n",
       "    </tr>\n",
       "  </thead>\n",
       "  <tbody>\n",
       "    <tr>\n",
       "      <td>0</td>\n",
       "      <td>2600Hz</td>\n",
       "      <td>2600hz.com</td>\n",
       "      <td>NaN</td>\n",
       "      <td>Disrupt SF 2013</td>\n",
       "      <td>Contestant</td>\n",
       "      <td>Operating</td>\n",
       "    </tr>\n",
       "    <tr>\n",
       "      <td>1</td>\n",
       "      <td>3DLT</td>\n",
       "      <td>3dlt.com</td>\n",
       "      <td>$630K</td>\n",
       "      <td>Disrupt NYC 2013</td>\n",
       "      <td>Contestant</td>\n",
       "      <td>Closed</td>\n",
       "    </tr>\n",
       "    <tr>\n",
       "      <td>2</td>\n",
       "      <td>3DPrinterOS</td>\n",
       "      <td>3dprinteros.com</td>\n",
       "      <td>NaN</td>\n",
       "      <td>Disrupt SF 2016</td>\n",
       "      <td>Contestant</td>\n",
       "      <td>Operating</td>\n",
       "    </tr>\n",
       "    <tr>\n",
       "      <td>3</td>\n",
       "      <td>3Dprintler</td>\n",
       "      <td>3dprintler.com</td>\n",
       "      <td>$1M</td>\n",
       "      <td>Disrupt NY 2016</td>\n",
       "      <td>Audience choice</td>\n",
       "      <td>Operating</td>\n",
       "    </tr>\n",
       "    <tr>\n",
       "      <td>4</td>\n",
       "      <td>42 Technologies</td>\n",
       "      <td>42technologies.com</td>\n",
       "      <td>NaN</td>\n",
       "      <td>Disrupt NYC 2013</td>\n",
       "      <td>Contestant</td>\n",
       "      <td>Operating</td>\n",
       "    </tr>\n",
       "    <tr>\n",
       "      <td>...</td>\n",
       "      <td>...</td>\n",
       "      <td>...</td>\n",
       "      <td>...</td>\n",
       "      <td>...</td>\n",
       "      <td>...</td>\n",
       "      <td>...</td>\n",
       "    </tr>\n",
       "    <tr>\n",
       "      <td>657</td>\n",
       "      <td>Zivity</td>\n",
       "      <td>zivity.com</td>\n",
       "      <td>$8M</td>\n",
       "      <td>TC40 2007</td>\n",
       "      <td>Contestant</td>\n",
       "      <td>Operating</td>\n",
       "    </tr>\n",
       "    <tr>\n",
       "      <td>658</td>\n",
       "      <td>Zmorph</td>\n",
       "      <td>zmorph3d.com</td>\n",
       "      <td>$1M</td>\n",
       "      <td>-</td>\n",
       "      <td>Audience choice</td>\n",
       "      <td>Operating</td>\n",
       "    </tr>\n",
       "    <tr>\n",
       "      <td>659</td>\n",
       "      <td>Zocdoc</td>\n",
       "      <td>zocdoc.com</td>\n",
       "      <td>$223M</td>\n",
       "      <td>TC40 2007</td>\n",
       "      <td>Contestant</td>\n",
       "      <td>Operating</td>\n",
       "    </tr>\n",
       "    <tr>\n",
       "      <td>660</td>\n",
       "      <td>Zula</td>\n",
       "      <td>zulaapp.com</td>\n",
       "      <td>$3.4M</td>\n",
       "      <td>Disrupt SF 2013</td>\n",
       "      <td>Audience choice</td>\n",
       "      <td>Operating</td>\n",
       "    </tr>\n",
       "    <tr>\n",
       "      <td>661</td>\n",
       "      <td>Zumper</td>\n",
       "      <td>zumper.com</td>\n",
       "      <td>$31.5M</td>\n",
       "      <td>Disrupt SF 2012</td>\n",
       "      <td>Finalist</td>\n",
       "      <td>Operating</td>\n",
       "    </tr>\n",
       "  </tbody>\n",
       "</table>\n",
       "<p>662 rows × 6 columns</p>\n",
       "</div>"
      ],
      "text/plain": [
       "             Startup             Product Funding             Event  \\\n",
       "0             2600Hz          2600hz.com     NaN   Disrupt SF 2013   \n",
       "1               3DLT            3dlt.com   $630K  Disrupt NYC 2013   \n",
       "2        3DPrinterOS     3dprinteros.com     NaN   Disrupt SF 2016   \n",
       "3         3Dprintler      3dprintler.com     $1M   Disrupt NY 2016   \n",
       "4    42 Technologies  42technologies.com     NaN  Disrupt NYC 2013   \n",
       "..               ...                 ...     ...               ...   \n",
       "657           Zivity          zivity.com     $8M         TC40 2007   \n",
       "658           Zmorph        zmorph3d.com     $1M                 -   \n",
       "659           Zocdoc          zocdoc.com   $223M         TC40 2007   \n",
       "660             Zula         zulaapp.com   $3.4M   Disrupt SF 2013   \n",
       "661           Zumper          zumper.com  $31.5M   Disrupt SF 2012   \n",
       "\n",
       "              Result OperatingState  \n",
       "0         Contestant      Operating  \n",
       "1         Contestant         Closed  \n",
       "2         Contestant      Operating  \n",
       "3    Audience choice      Operating  \n",
       "4         Contestant      Operating  \n",
       "..               ...            ...  \n",
       "657       Contestant      Operating  \n",
       "658  Audience choice      Operating  \n",
       "659       Contestant      Operating  \n",
       "660  Audience choice      Operating  \n",
       "661         Finalist      Operating  \n",
       "\n",
       "[662 rows x 6 columns]"
      ]
     },
     "execution_count": 4,
     "metadata": {},
     "output_type": "execute_result"
    }
   ],
   "source": [
    "df"
   ]
  },
  {
   "cell_type": "code",
   "execution_count": 5,
   "metadata": {},
   "outputs": [
    {
     "name": "stdout",
     "output_type": "stream",
     "text": [
      "Startup           object\n",
      "Product           object\n",
      "Funding           object\n",
      "Event             object\n",
      "Result            object\n",
      "OperatingState    object\n",
      "dtype: object\n"
     ]
    }
   ],
   "source": [
    "print(df.dtypes)\n"
   ]
  },
  {
   "cell_type": "code",
   "execution_count": 6,
   "metadata": {},
   "outputs": [
    {
     "data": {
      "text/plain": [
       "(662, 6)"
      ]
     },
     "execution_count": 6,
     "metadata": {},
     "output_type": "execute_result"
    }
   ],
   "source": [
    "df.shape"
   ]
  },
  {
   "cell_type": "code",
   "execution_count": 7,
   "metadata": {},
   "outputs": [
    {
     "data": {
      "text/plain": [
       "Startup             0\n",
       "Product             6\n",
       "Funding           214\n",
       "Event               0\n",
       "Result              0\n",
       "OperatingState      0\n",
       "dtype: int64"
      ]
     },
     "execution_count": 7,
     "metadata": {},
     "output_type": "execute_result"
    }
   ],
   "source": [
    "df.isnull().sum()"
   ]
  },
  {
   "cell_type": "code",
   "execution_count": 8,
   "metadata": {},
   "outputs": [
    {
     "name": "stdout",
     "output_type": "stream",
     "text": [
      "[257, 286, 318, 359, 445, 565]\n",
      "[0, 2, 4, 7, 8, 9, 12, 19, 21, 23, 24, 25, 26, 29, 30, 33, 36, 38, 39, 41, 43, 45, 50, 57, 67, 69, 74, 75, 77, 78, 80, 84, 90, 91, 92, 93, 98, 101, 102, 103, 104, 111, 114, 121, 123, 125, 131, 133, 134, 135, 136, 151, 155, 163, 165, 173, 176, 177, 181, 185, 187, 189, 194, 196, 197, 201, 202, 206, 208, 221, 223, 224, 228, 230, 233, 237, 240, 242, 246, 250, 252, 253, 257, 264, 265, 267, 268, 269, 274, 277, 283, 286, 287, 288, 297, 299, 301, 306, 309, 311, 312, 318, 320, 321, 327, 331, 333, 335, 337, 338, 340, 341, 342, 343, 344, 345, 347, 349, 352, 353, 356, 359, 361, 367, 370, 371, 377, 378, 385, 391, 397, 402, 405, 406, 410, 411, 412, 420, 421, 425, 426, 440, 441, 444, 448, 452, 456, 457, 466, 467, 469, 470, 472, 481, 483, 488, 494, 497, 499, 501, 506, 507, 508, 509, 511, 512, 514, 515, 516, 518, 519, 526, 527, 529, 532, 533, 540, 541, 543, 544, 547, 550, 553, 559, 561, 568, 569, 573, 574, 580, 582, 584, 585, 587, 588, 592, 601, 602, 603, 604, 605, 607, 609, 614, 622, 627, 636, 637, 639, 648, 651, 652, 653, 655]\n"
     ]
    }
   ],
   "source": [
    "x = df[df['Product'].isnull()].index.tolist()\n",
    "print(x)\n",
    "y = df[df['Funding'].isnull()].index.tolist()\n",
    "print(y)"
   ]
  },
  {
   "cell_type": "code",
   "execution_count": 9,
   "metadata": {},
   "outputs": [],
   "source": [
    "# 3.1 Dropping the Null values\n",
    "\n",
    "df.dropna(axis = 0, inplace=True)"
   ]
  },
  {
   "cell_type": "code",
   "execution_count": 10,
   "metadata": {},
   "outputs": [
    {
     "name": "stdout",
     "output_type": "stream",
     "text": [
      "[]\n",
      "[]\n"
     ]
    }
   ],
   "source": [
    "x = df[df['Product'].isnull()].index.tolist()\n",
    "print(x)\n",
    "y = df[df['Funding'].isnull()].index.tolist()\n",
    "print(y)"
   ]
  },
  {
   "cell_type": "code",
   "execution_count": 11,
   "metadata": {},
   "outputs": [
    {
     "data": {
      "text/plain": [
       "(446, 6)"
      ]
     },
     "execution_count": 11,
     "metadata": {},
     "output_type": "execute_result"
    }
   ],
   "source": [
    "df.shape"
   ]
  },
  {
   "cell_type": "code",
   "execution_count": 12,
   "metadata": {},
   "outputs": [
    {
     "data": {
      "text/plain": [
       "Startup           0\n",
       "Product           0\n",
       "Funding           0\n",
       "Event             0\n",
       "Result            0\n",
       "OperatingState    0\n",
       "dtype: int64"
      ]
     },
     "execution_count": 12,
     "metadata": {},
     "output_type": "execute_result"
    }
   ],
   "source": [
    "df.isnull().sum()"
   ]
  },
  {
   "cell_type": "code",
   "execution_count": null,
   "metadata": {},
   "outputs": [],
   "source": []
  },
  {
   "cell_type": "code",
   "execution_count": 13,
   "metadata": {},
   "outputs": [
    {
     "name": "stdout",
     "output_type": "stream",
     "text": [
      "1         630000\n",
      "3        1000000\n",
      "5      193000000\n",
      "6       29000000\n",
      "10      18000000\n",
      "         ...    \n",
      "657      8000000\n",
      "658      1000000\n",
      "659    223000000\n",
      "660     34000000\n",
      "661    315000000\n",
      "Name: Funding, Length: 446, dtype: object\n"
     ]
    }
   ],
   "source": [
    "# Removing $, K, M and B replacing with zero's\n",
    "\n",
    "index = df.index\n",
    "\n",
    "for i in index:\n",
    "    df.Funding[i] = df.Funding[i].replace('$', '')\n",
    "    df.Funding[i] = df.Funding[i].replace('K', '000')\n",
    "    df.Funding[i] = df.Funding[i].replace('M', '000000')\n",
    "    df.Funding[i] = df.Funding[i].replace('.', '')\n",
    "    df.Funding[i] = df.Funding[i].replace('B', '000000000')\n",
    "    df.Funding[i] = pd.to_numeric(df.Funding[i])\n",
    "    \n",
    "    \n",
    "print(df.Funding)"
   ]
  },
  {
   "cell_type": "code",
   "execution_count": 14,
   "metadata": {},
   "outputs": [
    {
     "data": {
      "text/plain": [
       "Text(0, 0.5, 'Fundings in Million')"
      ]
     },
     "execution_count": 14,
     "metadata": {},
     "output_type": "execute_result"
    },
    {
     "data": {
      "image/png": "[encoded data removed]",
      "text/plain": [
       "<Figure size 800x800 with 1 Axes>"
      ]
     },
     "metadata": {
      "needs_background": "light"
     },
     "output_type": "display_data"
    }
   ],
   "source": [
    "# Plot box plot for funds in million.\n",
    "\"\"\"Do this later\"\"\"\n",
    "\n",
    "# Converting values to million \n",
    "Funding = df['Funding'].div(1000000)\n",
    "figure(figsize=(10, 10), dpi=80)\n",
    "plt.boxplot(x = Funding)\n",
    "plt.ylabel(\"Fundings in Million\")\n"
   ]
  },
  {
   "cell_type": "code",
   "execution_count": 15,
   "metadata": {},
   "outputs": [
    {
     "name": "stdout",
     "output_type": "stream",
     "text": [
      "The lower fence is  5000.0\n",
      "The lower inner fence is  -84791250.0\n",
      "The lower outer fence is  -170466000.0\n"
     ]
    },
    {
     "data": {
      "image/png": "[encoded data removed]",
      "text/plain": [
       "<Figure size 432x288 with 1 Axes>"
      ]
     },
     "metadata": {
      "needs_background": "light"
     },
     "output_type": "display_data"
    }
   ],
   "source": [
    "# Get the lower fence from the box plot.\n",
    "\n",
    "\n",
    "B = plt.boxplot(x =df.Funding)\n",
    "a = [item.get_ydata()[1] for item in B['whiskers']]\n",
    "print(\"The lower fence is \", a[0])\n",
    "\n",
    "Q1 = np.percentile(df.Funding, 25, interpolation = 'midpoint')\n",
    "Q3 = np.percentile(df.Funding, 75, interpolation = 'midpoint')\n",
    "IQR = stats.iqr(df.Funding, interpolation = 'midpoint')\n",
    "lower_inner_fence = Q1 - (1.5 * (IQR))\n",
    "lower_outer_fence = Q1 - (3 * (IQR))\n",
    "print(\"The lower inner fence is \", lower_inner_fence)\n",
    "print(\"The lower outer fence is \", lower_outer_fence)"
   ]
  },
  {
   "cell_type": "code",
   "execution_count": 16,
   "metadata": {},
   "outputs": [
    {
     "name": "stdout",
     "output_type": "stream",
     "text": [
      "The Upper inner fence is  143674750.0\n",
      "The Upper outer fence is  229349500.0\n",
      "Number of outliers greater than upper inner fence is 54\n",
      "Number of outliers greater than upper outer fence is 35\n"
     ]
    }
   ],
   "source": [
    "# Check number of outliers greater than upper fence.\n",
    "\n",
    "Upper_inner_fence = Q3 + (1.5 * (IQR))\n",
    "Upper_outer_fence = Q3 + (3 * (IQR))\n",
    "print(\"The Upper inner fence is \", Upper_inner_fence)\n",
    "print(\"The Upper outer fence is \", Upper_outer_fence)\n",
    "\n",
    "# print(\"The Upper fence is \", a[1])\n",
    "\n",
    "count = 0\n",
    "for i in df.Funding :\n",
    "    if i > Upper_inner_fence:\n",
    "        count = count + 1\n",
    "print(\"Number of outliers greater than upper inner fence is\", count)\n",
    "\n",
    "count1 = 0\n",
    "\n",
    "for i in df.Funding :\n",
    "    if i > Upper_outer_fence:\n",
    "        count1 = count1 + 1\n",
    "print(\"Number of outliers greater than upper outer fence is\", count1)"
   ]
  },
  {
   "cell_type": "code",
   "execution_count": 17,
   "metadata": {},
   "outputs": [
    {
     "data": {
      "text/html": [
       "<div>\n",
       "<style scoped>\n",
       "    .dataframe tbody tr th:only-of-type {\n",
       "        vertical-align: middle;\n",
       "    }\n",
       "\n",
       "    .dataframe tbody tr th {\n",
       "        vertical-align: top;\n",
       "    }\n",
       "\n",
       "    .dataframe thead th {\n",
       "        text-align: right;\n",
       "    }\n",
       "</style>\n",
       "<table border=\"1\" class=\"dataframe\">\n",
       "  <thead>\n",
       "    <tr style=\"text-align: right;\">\n",
       "      <th></th>\n",
       "      <th>Startup</th>\n",
       "      <th>Product</th>\n",
       "      <th>Funding</th>\n",
       "      <th>Event</th>\n",
       "      <th>Result</th>\n",
       "      <th>OperatingState</th>\n",
       "    </tr>\n",
       "  </thead>\n",
       "  <tbody>\n",
       "    <tr>\n",
       "      <td>1</td>\n",
       "      <td>3DLT</td>\n",
       "      <td>3dlt.com</td>\n",
       "      <td>630000</td>\n",
       "      <td>Disrupt NYC 2013</td>\n",
       "      <td>Contestant</td>\n",
       "      <td>Closed</td>\n",
       "    </tr>\n",
       "    <tr>\n",
       "      <td>3</td>\n",
       "      <td>3Dprintler</td>\n",
       "      <td>3dprintler.com</td>\n",
       "      <td>1000000</td>\n",
       "      <td>Disrupt NY 2016</td>\n",
       "      <td>Audience choice</td>\n",
       "      <td>Operating</td>\n",
       "    </tr>\n",
       "    <tr>\n",
       "      <td>5</td>\n",
       "      <td>5to1</td>\n",
       "      <td>5to1.com</td>\n",
       "      <td>193000000</td>\n",
       "      <td>TC50 2009</td>\n",
       "      <td>Contestant</td>\n",
       "      <td>Acquired</td>\n",
       "    </tr>\n",
       "    <tr>\n",
       "      <td>6</td>\n",
       "      <td>8 Securities</td>\n",
       "      <td>8securities.com</td>\n",
       "      <td>29000000</td>\n",
       "      <td>Disrupt Beijing 2011</td>\n",
       "      <td>Finalist</td>\n",
       "      <td>Operating</td>\n",
       "    </tr>\n",
       "    <tr>\n",
       "      <td>10</td>\n",
       "      <td>AdhereTech</td>\n",
       "      <td>adheretech.com</td>\n",
       "      <td>18000000</td>\n",
       "      <td>Hardware Battlefield 2014</td>\n",
       "      <td>Contestant</td>\n",
       "      <td>Operating</td>\n",
       "    </tr>\n",
       "    <tr>\n",
       "      <td>...</td>\n",
       "      <td>...</td>\n",
       "      <td>...</td>\n",
       "      <td>...</td>\n",
       "      <td>...</td>\n",
       "      <td>...</td>\n",
       "      <td>...</td>\n",
       "    </tr>\n",
       "    <tr>\n",
       "      <td>657</td>\n",
       "      <td>Zivity</td>\n",
       "      <td>zivity.com</td>\n",
       "      <td>8000000</td>\n",
       "      <td>TC40 2007</td>\n",
       "      <td>Contestant</td>\n",
       "      <td>Operating</td>\n",
       "    </tr>\n",
       "    <tr>\n",
       "      <td>658</td>\n",
       "      <td>Zmorph</td>\n",
       "      <td>zmorph3d.com</td>\n",
       "      <td>1000000</td>\n",
       "      <td>-</td>\n",
       "      <td>Audience choice</td>\n",
       "      <td>Operating</td>\n",
       "    </tr>\n",
       "    <tr>\n",
       "      <td>659</td>\n",
       "      <td>Zocdoc</td>\n",
       "      <td>zocdoc.com</td>\n",
       "      <td>223000000</td>\n",
       "      <td>TC40 2007</td>\n",
       "      <td>Contestant</td>\n",
       "      <td>Operating</td>\n",
       "    </tr>\n",
       "    <tr>\n",
       "      <td>660</td>\n",
       "      <td>Zula</td>\n",
       "      <td>zulaapp.com</td>\n",
       "      <td>34000000</td>\n",
       "      <td>Disrupt SF 2013</td>\n",
       "      <td>Audience choice</td>\n",
       "      <td>Operating</td>\n",
       "    </tr>\n",
       "    <tr>\n",
       "      <td>661</td>\n",
       "      <td>Zumper</td>\n",
       "      <td>zumper.com</td>\n",
       "      <td>315000000</td>\n",
       "      <td>Disrupt SF 2012</td>\n",
       "      <td>Finalist</td>\n",
       "      <td>Operating</td>\n",
       "    </tr>\n",
       "  </tbody>\n",
       "</table>\n",
       "<p>446 rows × 6 columns</p>\n",
       "</div>"
      ],
      "text/plain": [
       "          Startup          Product    Funding                      Event  \\\n",
       "1            3DLT         3dlt.com     630000           Disrupt NYC 2013   \n",
       "3      3Dprintler   3dprintler.com    1000000            Disrupt NY 2016   \n",
       "5            5to1         5to1.com  193000000                  TC50 2009   \n",
       "6    8 Securities  8securities.com   29000000       Disrupt Beijing 2011   \n",
       "10     AdhereTech   adheretech.com   18000000  Hardware Battlefield 2014   \n",
       "..            ...              ...        ...                        ...   \n",
       "657        Zivity       zivity.com    8000000                  TC40 2007   \n",
       "658        Zmorph     zmorph3d.com    1000000                          -   \n",
       "659        Zocdoc       zocdoc.com  223000000                  TC40 2007   \n",
       "660          Zula      zulaapp.com   34000000            Disrupt SF 2013   \n",
       "661        Zumper       zumper.com  315000000            Disrupt SF 2012   \n",
       "\n",
       "              Result OperatingState  \n",
       "1         Contestant         Closed  \n",
       "3    Audience choice      Operating  \n",
       "5         Contestant       Acquired  \n",
       "6           Finalist      Operating  \n",
       "10        Contestant      Operating  \n",
       "..               ...            ...  \n",
       "657       Contestant      Operating  \n",
       "658  Audience choice      Operating  \n",
       "659       Contestant      Operating  \n",
       "660  Audience choice      Operating  \n",
       "661         Finalist      Operating  \n",
       "\n",
       "[446 rows x 6 columns]"
      ]
     },
     "execution_count": 17,
     "metadata": {},
     "output_type": "execute_result"
    }
   ],
   "source": [
    "df"
   ]
  },
  {
   "cell_type": "code",
   "execution_count": 18,
   "metadata": {},
   "outputs": [
    {
     "name": "stdout",
     "output_type": "stream",
     "text": [
      "142000000\n"
     ]
    }
   ],
   "source": [
    "# Drop the values that are greater than upper fence.\n",
    "\n",
    "df1 = df[df['Funding'] < Upper_inner_fence]\n",
    "print(max(df1.Funding))"
   ]
  },
  {
   "cell_type": "code",
   "execution_count": 19,
   "metadata": {},
   "outputs": [
    {
     "data": {
      "image/png": "[encoded data removed]",
      "text/plain": [
       "<Figure size 800x800 with 1 Axes>"
      ]
     },
     "metadata": {
      "needs_background": "light"
     },
     "output_type": "display_data"
    }
   ],
   "source": [
    "# Plot box plot after dropping the values\n",
    "\n",
    "figure(figsize=(10, 10), dpi=80)\n",
    "B = plt.boxplot(x = df1.Funding)"
   ]
  },
  {
   "cell_type": "code",
   "execution_count": 20,
   "metadata": {},
   "outputs": [
    {
     "data": {
      "text/plain": [
       "Index(['Startup', 'Product', 'Funding', 'Event', 'Result', 'OperatingState'], dtype='object')"
      ]
     },
     "execution_count": 20,
     "metadata": {},
     "output_type": "execute_result"
    }
   ],
   "source": [
    "df1.columns"
   ]
  },
  {
   "cell_type": "code",
   "execution_count": 21,
   "metadata": {},
   "outputs": [
    {
     "data": {
      "text/html": [
       "<div>\n",
       "<style scoped>\n",
       "    .dataframe tbody tr th:only-of-type {\n",
       "        vertical-align: middle;\n",
       "    }\n",
       "\n",
       "    .dataframe tbody tr th {\n",
       "        vertical-align: top;\n",
       "    }\n",
       "\n",
       "    .dataframe thead th {\n",
       "        text-align: right;\n",
       "    }\n",
       "</style>\n",
       "<table border=\"1\" class=\"dataframe\">\n",
       "  <thead>\n",
       "    <tr style=\"text-align: right;\">\n",
       "      <th></th>\n",
       "      <th>Startup</th>\n",
       "      <th>Product</th>\n",
       "      <th>Funding</th>\n",
       "      <th>Event</th>\n",
       "      <th>Result</th>\n",
       "      <th>OperatingState</th>\n",
       "    </tr>\n",
       "  </thead>\n",
       "  <tbody>\n",
       "    <tr>\n",
       "      <td>1</td>\n",
       "      <td>3DLT</td>\n",
       "      <td>3dlt.com</td>\n",
       "      <td>630000</td>\n",
       "      <td>Disrupt NYC 2013</td>\n",
       "      <td>Contestant</td>\n",
       "      <td>Closed</td>\n",
       "    </tr>\n",
       "    <tr>\n",
       "      <td>3</td>\n",
       "      <td>3Dprintler</td>\n",
       "      <td>3dprintler.com</td>\n",
       "      <td>1000000</td>\n",
       "      <td>Disrupt NY 2016</td>\n",
       "      <td>Audience choice</td>\n",
       "      <td>Operating</td>\n",
       "    </tr>\n",
       "    <tr>\n",
       "      <td>6</td>\n",
       "      <td>8 Securities</td>\n",
       "      <td>8securities.com</td>\n",
       "      <td>29000000</td>\n",
       "      <td>Disrupt Beijing 2011</td>\n",
       "      <td>Finalist</td>\n",
       "      <td>Operating</td>\n",
       "    </tr>\n",
       "    <tr>\n",
       "      <td>10</td>\n",
       "      <td>AdhereTech</td>\n",
       "      <td>adheretech.com</td>\n",
       "      <td>18000000</td>\n",
       "      <td>Hardware Battlefield 2014</td>\n",
       "      <td>Contestant</td>\n",
       "      <td>Operating</td>\n",
       "    </tr>\n",
       "    <tr>\n",
       "      <td>11</td>\n",
       "      <td>AdRocket</td>\n",
       "      <td>adrocket.com</td>\n",
       "      <td>1000000</td>\n",
       "      <td>TC50 2008</td>\n",
       "      <td>Contestant</td>\n",
       "      <td>Closed</td>\n",
       "    </tr>\n",
       "    <tr>\n",
       "      <td>...</td>\n",
       "      <td>...</td>\n",
       "      <td>...</td>\n",
       "      <td>...</td>\n",
       "      <td>...</td>\n",
       "      <td>...</td>\n",
       "      <td>...</td>\n",
       "    </tr>\n",
       "    <tr>\n",
       "      <td>649</td>\n",
       "      <td>YouNow</td>\n",
       "      <td>younow.com</td>\n",
       "      <td>26000000</td>\n",
       "      <td>Disrupt SF 2011</td>\n",
       "      <td>Contestant</td>\n",
       "      <td>Operating</td>\n",
       "    </tr>\n",
       "    <tr>\n",
       "      <td>650</td>\n",
       "      <td>YourMechanic</td>\n",
       "      <td>yourmechanic.com</td>\n",
       "      <td>28000000</td>\n",
       "      <td>Disrupt SF 2012</td>\n",
       "      <td>Winner</td>\n",
       "      <td>Operating</td>\n",
       "    </tr>\n",
       "    <tr>\n",
       "      <td>657</td>\n",
       "      <td>Zivity</td>\n",
       "      <td>zivity.com</td>\n",
       "      <td>8000000</td>\n",
       "      <td>TC40 2007</td>\n",
       "      <td>Contestant</td>\n",
       "      <td>Operating</td>\n",
       "    </tr>\n",
       "    <tr>\n",
       "      <td>658</td>\n",
       "      <td>Zmorph</td>\n",
       "      <td>zmorph3d.com</td>\n",
       "      <td>1000000</td>\n",
       "      <td>-</td>\n",
       "      <td>Audience choice</td>\n",
       "      <td>Operating</td>\n",
       "    </tr>\n",
       "    <tr>\n",
       "      <td>660</td>\n",
       "      <td>Zula</td>\n",
       "      <td>zulaapp.com</td>\n",
       "      <td>34000000</td>\n",
       "      <td>Disrupt SF 2013</td>\n",
       "      <td>Audience choice</td>\n",
       "      <td>Operating</td>\n",
       "    </tr>\n",
       "  </tbody>\n",
       "</table>\n",
       "<p>392 rows × 6 columns</p>\n",
       "</div>"
      ],
      "text/plain": [
       "          Startup           Product   Funding                      Event  \\\n",
       "1            3DLT          3dlt.com    630000           Disrupt NYC 2013   \n",
       "3      3Dprintler    3dprintler.com   1000000            Disrupt NY 2016   \n",
       "6    8 Securities   8securities.com  29000000       Disrupt Beijing 2011   \n",
       "10     AdhereTech    adheretech.com  18000000  Hardware Battlefield 2014   \n",
       "11       AdRocket      adrocket.com   1000000                  TC50 2008   \n",
       "..            ...               ...       ...                        ...   \n",
       "649        YouNow        younow.com  26000000            Disrupt SF 2011   \n",
       "650  YourMechanic  yourmechanic.com  28000000            Disrupt SF 2012   \n",
       "657        Zivity        zivity.com   8000000                  TC40 2007   \n",
       "658        Zmorph      zmorph3d.com   1000000                          -   \n",
       "660          Zula       zulaapp.com  34000000            Disrupt SF 2013   \n",
       "\n",
       "              Result OperatingState  \n",
       "1         Contestant         Closed  \n",
       "3    Audience choice      Operating  \n",
       "6           Finalist      Operating  \n",
       "10        Contestant      Operating  \n",
       "11        Contestant         Closed  \n",
       "..               ...            ...  \n",
       "649       Contestant      Operating  \n",
       "650           Winner      Operating  \n",
       "657       Contestant      Operating  \n",
       "658  Audience choice      Operating  \n",
       "660  Audience choice      Operating  \n",
       "\n",
       "[392 rows x 6 columns]"
      ]
     },
     "execution_count": 21,
     "metadata": {},
     "output_type": "execute_result"
    }
   ],
   "source": [
    "df1"
   ]
  },
  {
   "cell_type": "code",
   "execution_count": 28,
   "metadata": {},
   "outputs": [
    {
     "data": {
      "text/plain": [
       "Text(0.5, 0, 'Result')"
      ]
     },
     "execution_count": 28,
     "metadata": {},
     "output_type": "execute_result"
    },
    {
     "data": {
      "image/png": "[encoded data removed]",
      "text/plain": [
       "<Figure size 1200x1200 with 1 Axes>"
      ]
     },
     "metadata": {
      "needs_background": "light"
     },
     "output_type": "display_data"
    }
   ],
   "source": [
    "# Check frequency of the status features classes.\n",
    "\n",
    "\"\"\"Do this later\"\"\"\n",
    "\n"
   ]
  },
  {
   "cell_type": "code",
   "execution_count": 27,
   "metadata": {},
   "outputs": [
    {
     "data": {
      "text/plain": [
       "<matplotlib.axes._subplots.AxesSubplot at 0x1e12c049c48>"
      ]
     },
     "execution_count": 27,
     "metadata": {},
     "output_type": "execute_result"
    },
    {
     "data": {
      "text/plain": [
       "<Figure size 1200x1200 with 0 Axes>"
      ]
     },
     "metadata": {},
     "output_type": "display_data"
    },
    {
     "data": {
      "image/png": "[encoded data removed]",
      "text/plain": [
       "<Figure size 800x800 with 1 Axes>"
      ]
     },
     "metadata": {
      "needs_background": "light"
     },
     "output_type": "display_data"
    }
   ],
   "source": [
    "# Plot a distribution plot for Funds in million\n",
    "\n",
    "\"\"\"Do this later\"\"\"\n",
    "Funding1 = df['Funding'].div(1000000)\n",
    "figure(figsize=(10, 10), dpi=80)\n",
    "sns.distplot(Funding1)"
   ]
  },
  {
   "cell_type": "code",
   "execution_count": 31,
   "metadata": {},
   "outputs": [
    {
     "name": "stdout",
     "output_type": "stream",
     "text": [
      "Index(['Startup', 'Product', 'Funding', 'Event', 'Result', 'OperatingState'], dtype='object')\n"
     ]
    },
    {
     "data": {
      "text/plain": [
       "Text(0.5, 0, 'Result')"
      ]
     },
     "execution_count": 31,
     "metadata": {},
     "output_type": "execute_result"
    },
    {
     "data": {
      "image/png": "[encoded data removed]",
      "text/plain": [
       "<Figure size 1200x1200 with 3 Axes>"
      ]
     },
     "metadata": {
      "needs_background": "light"
     },
     "output_type": "display_data"
    }
   ],
   "source": [
    "# Plot distribution plots for companies still operating and companies that closed.\n",
    "\n",
    "\"Do this later\"\n",
    "\n",
    "df2 = df1[df1['OperatingState'] == \"Operating\"]\n",
    "df2 =  df2.append(df1[df1['OperatingState'] == \"Closed\"])\n",
    "print(df2.columns)\n",
    "\n",
    "figure(figsize=(15, 15), dpi=80)\n",
    "plt.subplot(2,2,1)\n",
    "sns.countplot(df2.OperatingState)\n",
    "plt.xlabel(\"OperatingState\")\n",
    "\n",
    "plt.subplot(2,2,2)\n",
    "sns.countplot(df2.Funding)\n",
    "plt.xlabel(\"Funding\")\n",
    "\n",
    "plt.subplot(2,2,4)\n",
    "sns.countplot(df2.Result)\n",
    "plt.xlabel(\"Result\")"
   ]
  },
  {
   "cell_type": "code",
   "execution_count": null,
   "metadata": {},
   "outputs": [],
   "source": []
  },
  {
   "cell_type": "markdown",
   "metadata": {},
   "source": [
    "# 4. Statistical analysis:"
   ]
  },
  {
   "cell_type": "markdown",
   "metadata": {},
   "source": [
    "Is there any significant difference between Funds raised by companies that are still operating vs companies that closed down?\n",
    "Write the null hypothesis and alternative hypothesis.\n",
    "Test for significance and conclusion\n"
   ]
  },
  {
   "cell_type": "markdown",
   "metadata": {},
   "source": [
    "Hypothesis\n",
    "\n",
    "Null Hypothesis: There is no difference between funds raised by companies that are still operating vs companies that are closed.\n",
    "\n",
    "Alternate Hypothesis: There is difference between funds raised by companies that are still operating vs companies that are closed."
   ]
  },
  {
   "cell_type": "markdown",
   "metadata": {},
   "source": [
    "Step 2: Decide the significance level\n",
    "\n",
    "Here we select α = 0.05"
   ]
  },
  {
   "cell_type": "markdown",
   "metadata": {},
   "source": [
    "Step 3: Identify the test statistic  \n",
    "    \n",
    "Here we use T-Test"
   ]
  },
  {
   "cell_type": "code",
   "execution_count": 32,
   "metadata": {},
   "outputs": [],
   "source": [
    "Operating = df2[df2['OperatingState'] == \"Operating\"]\n",
    "Operating = Operating.Funding\n",
    "\n",
    "Closed = df2[df2['OperatingState'] == \"Closed\"]\n",
    "Closed = Closed.Funding"
   ]
  },
  {
   "cell_type": "code",
   "execution_count": 33,
   "metadata": {},
   "outputs": [
    {
     "name": "stdout",
     "output_type": "stream",
     "text": [
      "P Value 0.012553812065845164\n"
     ]
    }
   ],
   "source": [
    "t_statistic, p_value  =  stats.ttest_ind(Operating,Closed)\n",
    "print('P Value', p_value)  "
   ]
  },
  {
   "cell_type": "markdown",
   "metadata": {},
   "source": [
    "Since P value < Alpha. We reject Null hypothesis. So There is difference between funds raised by companies that are still operating vs companies that are closed."
   ]
  },
  {
   "cell_type": "code",
   "execution_count": 34,
   "metadata": {},
   "outputs": [
    {
     "data": {
      "text/html": [
       "<div>\n",
       "<style scoped>\n",
       "    .dataframe tbody tr th:only-of-type {\n",
       "        vertical-align: middle;\n",
       "    }\n",
       "\n",
       "    .dataframe tbody tr th {\n",
       "        vertical-align: top;\n",
       "    }\n",
       "\n",
       "    .dataframe thead th {\n",
       "        text-align: right;\n",
       "    }\n",
       "</style>\n",
       "<table border=\"1\" class=\"dataframe\">\n",
       "  <thead>\n",
       "    <tr style=\"text-align: right;\">\n",
       "      <th></th>\n",
       "      <th>Startup</th>\n",
       "      <th>Product</th>\n",
       "      <th>Funding</th>\n",
       "      <th>Event</th>\n",
       "      <th>Result</th>\n",
       "      <th>OperatingState</th>\n",
       "    </tr>\n",
       "  </thead>\n",
       "  <tbody>\n",
       "    <tr>\n",
       "      <td>1</td>\n",
       "      <td>3DLT</td>\n",
       "      <td>3dlt.com</td>\n",
       "      <td>630000</td>\n",
       "      <td>Disrupt NYC 2013</td>\n",
       "      <td>Contestant</td>\n",
       "      <td>Closed</td>\n",
       "    </tr>\n",
       "    <tr>\n",
       "      <td>3</td>\n",
       "      <td>3Dprintler</td>\n",
       "      <td>3dprintler.com</td>\n",
       "      <td>1000000</td>\n",
       "      <td>Disrupt NY 2016</td>\n",
       "      <td>Audience choice</td>\n",
       "      <td>Operating</td>\n",
       "    </tr>\n",
       "    <tr>\n",
       "      <td>5</td>\n",
       "      <td>5to1</td>\n",
       "      <td>5to1.com</td>\n",
       "      <td>193000000</td>\n",
       "      <td>TC50 2009</td>\n",
       "      <td>Contestant</td>\n",
       "      <td>Acquired</td>\n",
       "    </tr>\n",
       "    <tr>\n",
       "      <td>6</td>\n",
       "      <td>8 Securities</td>\n",
       "      <td>8securities.com</td>\n",
       "      <td>29000000</td>\n",
       "      <td>Disrupt Beijing 2011</td>\n",
       "      <td>Finalist</td>\n",
       "      <td>Operating</td>\n",
       "    </tr>\n",
       "    <tr>\n",
       "      <td>10</td>\n",
       "      <td>AdhereTech</td>\n",
       "      <td>adheretech.com</td>\n",
       "      <td>18000000</td>\n",
       "      <td>Hardware Battlefield 2014</td>\n",
       "      <td>Contestant</td>\n",
       "      <td>Operating</td>\n",
       "    </tr>\n",
       "    <tr>\n",
       "      <td>...</td>\n",
       "      <td>...</td>\n",
       "      <td>...</td>\n",
       "      <td>...</td>\n",
       "      <td>...</td>\n",
       "      <td>...</td>\n",
       "      <td>...</td>\n",
       "    </tr>\n",
       "    <tr>\n",
       "      <td>657</td>\n",
       "      <td>Zivity</td>\n",
       "      <td>zivity.com</td>\n",
       "      <td>8000000</td>\n",
       "      <td>TC40 2007</td>\n",
       "      <td>Contestant</td>\n",
       "      <td>Operating</td>\n",
       "    </tr>\n",
       "    <tr>\n",
       "      <td>658</td>\n",
       "      <td>Zmorph</td>\n",
       "      <td>zmorph3d.com</td>\n",
       "      <td>1000000</td>\n",
       "      <td>-</td>\n",
       "      <td>Audience choice</td>\n",
       "      <td>Operating</td>\n",
       "    </tr>\n",
       "    <tr>\n",
       "      <td>659</td>\n",
       "      <td>Zocdoc</td>\n",
       "      <td>zocdoc.com</td>\n",
       "      <td>223000000</td>\n",
       "      <td>TC40 2007</td>\n",
       "      <td>Contestant</td>\n",
       "      <td>Operating</td>\n",
       "    </tr>\n",
       "    <tr>\n",
       "      <td>660</td>\n",
       "      <td>Zula</td>\n",
       "      <td>zulaapp.com</td>\n",
       "      <td>34000000</td>\n",
       "      <td>Disrupt SF 2013</td>\n",
       "      <td>Audience choice</td>\n",
       "      <td>Operating</td>\n",
       "    </tr>\n",
       "    <tr>\n",
       "      <td>661</td>\n",
       "      <td>Zumper</td>\n",
       "      <td>zumper.com</td>\n",
       "      <td>315000000</td>\n",
       "      <td>Disrupt SF 2012</td>\n",
       "      <td>Finalist</td>\n",
       "      <td>Operating</td>\n",
       "    </tr>\n",
       "  </tbody>\n",
       "</table>\n",
       "<p>446 rows × 6 columns</p>\n",
       "</div>"
      ],
      "text/plain": [
       "          Startup          Product    Funding                      Event  \\\n",
       "1            3DLT         3dlt.com     630000           Disrupt NYC 2013   \n",
       "3      3Dprintler   3dprintler.com    1000000            Disrupt NY 2016   \n",
       "5            5to1         5to1.com  193000000                  TC50 2009   \n",
       "6    8 Securities  8securities.com   29000000       Disrupt Beijing 2011   \n",
       "10     AdhereTech   adheretech.com   18000000  Hardware Battlefield 2014   \n",
       "..            ...              ...        ...                        ...   \n",
       "657        Zivity       zivity.com    8000000                  TC40 2007   \n",
       "658        Zmorph     zmorph3d.com    1000000                          -   \n",
       "659        Zocdoc       zocdoc.com  223000000                  TC40 2007   \n",
       "660          Zula      zulaapp.com   34000000            Disrupt SF 2013   \n",
       "661        Zumper       zumper.com  315000000            Disrupt SF 2012   \n",
       "\n",
       "              Result OperatingState  \n",
       "1         Contestant         Closed  \n",
       "3    Audience choice      Operating  \n",
       "5         Contestant       Acquired  \n",
       "6           Finalist      Operating  \n",
       "10        Contestant      Operating  \n",
       "..               ...            ...  \n",
       "657       Contestant      Operating  \n",
       "658  Audience choice      Operating  \n",
       "659       Contestant      Operating  \n",
       "660  Audience choice      Operating  \n",
       "661         Finalist      Operating  \n",
       "\n",
       "[446 rows x 6 columns]"
      ]
     },
     "execution_count": 34,
     "metadata": {},
     "output_type": "execute_result"
    }
   ],
   "source": [
    "# Make a copy of the original data frame.\n",
    "\n",
    "df3 = df.copy()\n",
    "df3"
   ]
  },
  {
   "cell_type": "code",
   "execution_count": 35,
   "metadata": {},
   "outputs": [
    {
     "data": {
      "text/plain": [
       "Text(0.5, 0, 'Result')"
      ]
     },
     "execution_count": 35,
     "metadata": {},
     "output_type": "execute_result"
    },
    {
     "data": {
      "image/png": "[encoded data removed]",
      "text/plain": [
       "<Figure size 1200x1200 with 1 Axes>"
      ]
     },
     "metadata": {
      "needs_background": "light"
     },
     "output_type": "display_data"
    }
   ],
   "source": [
    "# Check frequency distribution of outcome variable.\n",
    "\"Do this later\"\n",
    "\n",
    "figure(figsize=(15, 15), dpi=80)\n",
    "sns.countplot(df3.Result)\n",
    "plt.xlabel(\"Result\")"
   ]
  },
  {
   "cell_type": "code",
   "execution_count": 36,
   "metadata": {},
   "outputs": [
    {
     "name": "stdout",
     "output_type": "stream",
     "text": [
      "Percentage of winners that are still operating are 4.0358744394618835 %\n",
      "Percentage of Contestants that are still operating are 47.98206278026906 %\n"
     ]
    }
   ],
   "source": [
    "# Calculate percentage of winners that are still operating and percentage of contestants that are still operating\n",
    "\n",
    "total = df3.shape[0]\n",
    "\n",
    "Winners = df3[(df3['OperatingState'] == \"Operating\")]\n",
    "Winners = Winners[Winners[\"Result\"] == \"Winner\"]\n",
    "Winners = Winners.shape[0]\n",
    "\n",
    "Contestant = df3[(df3['OperatingState'] == \"Operating\")]\n",
    "Contestant = Contestant[Contestant[\"Result\"] == \"Contestant\"]\n",
    "Contestant = Contestant.shape[0]\n",
    "\n",
    "print(\"Percentage of winners that are still operating are\", (Winners/total)*100, \"%\")\n",
    "print(\"Percentage of Contestants that are still operating are\", (Contestant/total)*100, \"%\")"
   ]
  },
  {
   "cell_type": "markdown",
   "metadata": {},
   "source": []
  },
  {
   "cell_type": "markdown",
   "metadata": {},
   "source": [
    "Write your hypothesis comparing the proportion of companies that are operating between winners and contestants:\n",
    "\n",
    "Write the null hypothesis and alternative hypothesis.\n",
    "\n",
    "Test for significance and conclusion"
   ]
  },
  {
   "cell_type": "markdown",
   "metadata": {},
   "source": [
    "Hypothesis\n",
    "\n",
    "Null Hypothesis: There is no difference in the proportion of companies that are operating between winners and contestants\n",
    "\n",
    "Alternate Hypothesis: There is difference in the proportion of companies that are operating between winners and contestants.\n",
    "That is the percentage of Winners are lower than the Operating contestants. Pw < Pc\n"
   ]
  },
  {
   "cell_type": "markdown",
   "metadata": {},
   "source": [
    "For this test, we choose a 5% level of significance (α = 0.05)."
   ]
  },
  {
   "cell_type": "code",
   "execution_count": 30,
   "metadata": {},
   "outputs": [
    {
     "name": "stdout",
     "output_type": "stream",
     "text": [
      "Total sample = 319\n",
      "Total winners from Operating state = 18\n",
      "Total contestants from Operating state = 214\n",
      "Calculating difference in the sample proportion = -0.6144200626959248\n"
     ]
    }
   ],
   "source": [
    "Operating = df3[(df3['OperatingState'] == \"Operating\")]\n",
    "print(\"Total sample =\", Operating.shape[0])\n",
    "\n",
    "print(\"Total winners from Operating state =\", Winners)\n",
    "\n",
    "print(\"Total contestants from Operating state =\", Contestant)\n",
    "\n",
    "print(\"Calculating difference in the sample proportion =\", (Winners/Operating.shape[0]) - (Contestant/Operating.shape[0]))"
   ]
  },
  {
   "cell_type": "markdown",
   "metadata": {},
   "source": [
    "Assess the evidence.\n",
    "\n",
    "Determine if a normal model is a good fit for the sampling distribution. Verify that there are at least 10 successes and failures in each sample. Here, a success is an contestant or winners in operating state. People that are contestant are 214 and winners are 18. The failure is 87."
   ]
  },
  {
   "cell_type": "code",
   "execution_count": 30,
   "metadata": {},
   "outputs": [
    {
     "data": {
      "text/plain": [
       "'Do this later'"
      ]
     },
     "execution_count": 30,
     "metadata": {},
     "output_type": "execute_result"
    }
   ],
   "source": [
    "\"\"\"Do this later\"\"\""
   ]
  },
  {
   "cell_type": "code",
   "execution_count": 31,
   "metadata": {},
   "outputs": [
    {
     "data": {
      "text/plain": [
       "Text(0.5, 0, 'Event')"
      ]
     },
     "execution_count": 31,
     "metadata": {},
     "output_type": "execute_result"
    },
    {
     "data": {
      "image/png": "[encoded data removed]",
      "text/plain": [
       "<Figure size 1600x1600 with 1 Axes>"
      ]
     },
     "metadata": {
      "needs_background": "light"
     },
     "output_type": "display_data"
    }
   ],
   "source": [
    "# Check distribution of the Event variable.\n",
    "\n",
    "df3.Event.value_counts()\n",
    "figure(figsize=(20, 20), dpi=80)\n",
    "plt.xticks(rotation=90)\n",
    "sns.countplot(df3.Event)\n",
    "plt.xlabel(\"Event\")"
   ]
  },
  {
   "cell_type": "code",
   "execution_count": 32,
   "metadata": {},
   "outputs": [
    {
     "name": "stderr",
     "output_type": "stream",
     "text": [
      "C:\\Users\\sreev\\Anaconda3\\lib\\site-packages\\ipykernel_launcher.py:6: SettingWithCopyWarning: \n",
      "A value is trying to be set on a copy of a slice from a DataFrame.\n",
      "Try using .loc[row_indexer,col_indexer] = value instead\n",
      "\n",
      "See the caveats in the documentation: http://pandas.pydata.org/pandas-docs/stable/user_guide/indexing.html#returning-a-view-versus-a-copy\n",
      "  \n",
      "C:\\Users\\sreev\\Anaconda3\\lib\\site-packages\\ipykernel_launcher.py:16: SettingWithCopyWarning: \n",
      "A value is trying to be set on a copy of a slice from a DataFrame.\n",
      "Try using .loc[row_indexer,col_indexer] = value instead\n",
      "\n",
      "See the caveats in the documentation: http://pandas.pydata.org/pandas-docs/stable/user_guide/indexing.html#returning-a-view-versus-a-copy\n",
      "  app.launch_new_instance()\n"
     ]
    },
    {
     "data": {
      "text/html": [
       "<div>\n",
       "<style scoped>\n",
       "    .dataframe tbody tr th:only-of-type {\n",
       "        vertical-align: middle;\n",
       "    }\n",
       "\n",
       "    .dataframe tbody tr th {\n",
       "        vertical-align: top;\n",
       "    }\n",
       "\n",
       "    .dataframe thead th {\n",
       "        text-align: right;\n",
       "    }\n",
       "</style>\n",
       "<table border=\"1\" class=\"dataframe\">\n",
       "  <thead>\n",
       "    <tr style=\"text-align: right;\">\n",
       "      <th></th>\n",
       "      <th>Startup</th>\n",
       "      <th>Product</th>\n",
       "      <th>Funding</th>\n",
       "      <th>Event</th>\n",
       "      <th>Result</th>\n",
       "      <th>OperatingState</th>\n",
       "      <th>year</th>\n",
       "    </tr>\n",
       "  </thead>\n",
       "  <tbody>\n",
       "    <tr>\n",
       "      <td>0</td>\n",
       "      <td>3DLT</td>\n",
       "      <td>3dlt.com</td>\n",
       "      <td>630000</td>\n",
       "      <td>Disrupt NYC 2013</td>\n",
       "      <td>Contestant</td>\n",
       "      <td>Closed</td>\n",
       "      <td>2013</td>\n",
       "    </tr>\n",
       "    <tr>\n",
       "      <td>1</td>\n",
       "      <td>3Dprintler</td>\n",
       "      <td>3dprintler.com</td>\n",
       "      <td>1000000</td>\n",
       "      <td>Disrupt NY 2016</td>\n",
       "      <td>Audience choice</td>\n",
       "      <td>Operating</td>\n",
       "      <td>2016</td>\n",
       "    </tr>\n",
       "    <tr>\n",
       "      <td>2</td>\n",
       "      <td>Agrilyst</td>\n",
       "      <td>agrilyst.com</td>\n",
       "      <td>1000000</td>\n",
       "      <td>Disrupt SF 2015</td>\n",
       "      <td>Winner</td>\n",
       "      <td>Operating</td>\n",
       "      <td>2015</td>\n",
       "    </tr>\n",
       "    <tr>\n",
       "      <td>3</td>\n",
       "      <td>Aiden</td>\n",
       "      <td>aiden.ai</td>\n",
       "      <td>750000</td>\n",
       "      <td>Disrupt London 2016</td>\n",
       "      <td>Contestant</td>\n",
       "      <td>Operating</td>\n",
       "      <td>2016</td>\n",
       "    </tr>\n",
       "    <tr>\n",
       "      <td>4</td>\n",
       "      <td>Aircall</td>\n",
       "      <td>aircall.io</td>\n",
       "      <td>116000000</td>\n",
       "      <td>Disrupt SF 2015</td>\n",
       "      <td>Contestant</td>\n",
       "      <td>Operating</td>\n",
       "      <td>2015</td>\n",
       "    </tr>\n",
       "    <tr>\n",
       "      <td>...</td>\n",
       "      <td>...</td>\n",
       "      <td>...</td>\n",
       "      <td>...</td>\n",
       "      <td>...</td>\n",
       "      <td>...</td>\n",
       "      <td>...</td>\n",
       "      <td>...</td>\n",
       "    </tr>\n",
       "    <tr>\n",
       "      <td>188</td>\n",
       "      <td>Workspot</td>\n",
       "      <td>workspot.com</td>\n",
       "      <td>158000000</td>\n",
       "      <td>Disrupt NYC 2013</td>\n",
       "      <td>Contestant</td>\n",
       "      <td>Operating</td>\n",
       "      <td>2013</td>\n",
       "    </tr>\n",
       "    <tr>\n",
       "      <td>189</td>\n",
       "      <td>Xendo</td>\n",
       "      <td>xendo.com</td>\n",
       "      <td>28000</td>\n",
       "      <td>Disrupt SF 2014</td>\n",
       "      <td>Contestant</td>\n",
       "      <td>Acquired</td>\n",
       "      <td>2014</td>\n",
       "    </tr>\n",
       "    <tr>\n",
       "      <td>190</td>\n",
       "      <td>YayPay Inc</td>\n",
       "      <td>yaypay.com</td>\n",
       "      <td>900000</td>\n",
       "      <td>Disrupt London 2015</td>\n",
       "      <td>Contestant</td>\n",
       "      <td>Operating</td>\n",
       "      <td>2015</td>\n",
       "    </tr>\n",
       "    <tr>\n",
       "      <td>191</td>\n",
       "      <td>Zenefits</td>\n",
       "      <td>zenefits.com</td>\n",
       "      <td>5836000000</td>\n",
       "      <td>Disrupt NYC 2013</td>\n",
       "      <td>Finalist</td>\n",
       "      <td>Operating</td>\n",
       "      <td>2013</td>\n",
       "    </tr>\n",
       "    <tr>\n",
       "      <td>192</td>\n",
       "      <td>Zula</td>\n",
       "      <td>zulaapp.com</td>\n",
       "      <td>34000000</td>\n",
       "      <td>Disrupt SF 2013</td>\n",
       "      <td>Audience choice</td>\n",
       "      <td>Operating</td>\n",
       "      <td>2013</td>\n",
       "    </tr>\n",
       "  </tbody>\n",
       "</table>\n",
       "<p>193 rows × 7 columns</p>\n",
       "</div>"
      ],
      "text/plain": [
       "        Startup         Product     Funding                Event  \\\n",
       "0          3DLT        3dlt.com      630000     Disrupt NYC 2013   \n",
       "1    3Dprintler  3dprintler.com     1000000      Disrupt NY 2016   \n",
       "2      Agrilyst    agrilyst.com     1000000      Disrupt SF 2015   \n",
       "3         Aiden        aiden.ai      750000  Disrupt London 2016   \n",
       "4       Aircall      aircall.io   116000000      Disrupt SF 2015   \n",
       "..          ...             ...         ...                  ...   \n",
       "188    Workspot    workspot.com   158000000     Disrupt NYC 2013   \n",
       "189       Xendo       xendo.com       28000      Disrupt SF 2014   \n",
       "190  YayPay Inc      yaypay.com      900000  Disrupt London 2015   \n",
       "191    Zenefits    zenefits.com  5836000000     Disrupt NYC 2013   \n",
       "192        Zula     zulaapp.com    34000000      Disrupt SF 2013   \n",
       "\n",
       "              Result OperatingState  year  \n",
       "0         Contestant         Closed  2013  \n",
       "1    Audience choice      Operating  2016  \n",
       "2             Winner      Operating  2015  \n",
       "3         Contestant      Operating  2016  \n",
       "4         Contestant      Operating  2015  \n",
       "..               ...            ...   ...  \n",
       "188       Contestant      Operating  2013  \n",
       "189       Contestant       Acquired  2014  \n",
       "190       Contestant      Operating  2015  \n",
       "191         Finalist      Operating  2013  \n",
       "192  Audience choice      Operating  2013  \n",
       "\n",
       "[193 rows x 7 columns]"
      ]
     },
     "execution_count": 32,
     "metadata": {},
     "output_type": "execute_result"
    }
   ],
   "source": [
    "# Select only the Event that has disrupt keyword from 2013 onwards.\n",
    "\n",
    "\n",
    "df3.Event.value_counts()\n",
    "Disrupt = df3[((df3.Event.str.contains('Disrupt')))]\n",
    "Disrupt[\"year\"] = Disrupt.Event\n",
    "\n",
    "year = []\n",
    "for i in Disrupt.year:\n",
    "    res = re.sub(\"\\D\", \"\", i)\n",
    "    year.append(res)\n",
    "    \n",
    "for i in range(0, len(year)):\n",
    "    year[i] = int(year[i])\n",
    "    \n",
    "Disrupt[\"year\"] = year\n",
    "Disrupt = Disrupt.reset_index(drop = True)\n",
    "\n",
    "Disrupt1 = pd.DataFrame()\n",
    "Index = []\n",
    "for j in Disrupt.index:\n",
    "    \n",
    "    if Disrupt[\"year\"][j] >= 2013:\n",
    "        Index.append(j)\n",
    "\n",
    "Disrupt1 = Disrupt.iloc[Index]\n",
    "Disrupt1 = Disrupt1.reset_index(drop = True)\n",
    "Disrupt1"
   ]
  },
  {
   "cell_type": "code",
   "execution_count": null,
   "metadata": {},
   "outputs": [],
   "source": []
  },
  {
   "cell_type": "code",
   "execution_count": 36,
   "metadata": {},
   "outputs": [
    {
     "data": {
      "text/plain": [
       "Disrupt SF 2013    22\n",
       "Disrupt NY 2015    21\n",
       "Disrupt SF 2015    19\n",
       "Disrupt SF 2014    19\n",
       "Disrupt SF 2016    17\n",
       "Disrupt NY 2016    16\n",
       "Disrupt EU 2014    10\n",
       "Disrupt EU 2013     9\n",
       "Name: Event, dtype: int64"
      ]
     },
     "execution_count": 36,
     "metadata": {},
     "output_type": "execute_result"
    }
   ],
   "source": [
    "Disrupt2 = pd.DataFrame()\n",
    "Disrupt2 = Disrupt2.append(Disrupt1[((Disrupt1.Event.str.contains(\"NY\")))])\n",
    "Disrupt2 = Disrupt2.append(Disrupt1[((Disrupt1.Event.str.contains(\"SF\")))])\n",
    "Disrupt2 = Disrupt2.append(Disrupt1[((Disrupt1.Event.str.contains(\"EU\")))])\n",
    "Disrupt2 = Disrupt2[~Disrupt2.Event.str.contains(\"NYC\")]\n",
    "Disrupt2.Event.value_counts()"
   ]
  },
  {
   "cell_type": "markdown",
   "metadata": {},
   "source": [
    "Write and perform your hypothesis along with significance test comparing the funds raised by companies across NY, SF and EU events from 2013 onwards."
   ]
  },
  {
   "cell_type": "markdown",
   "metadata": {},
   "source": [
    "### Step 1: State the null and alternative hypothesis:\n",
    "\n",
    "* $H_0$: $\\mu1$ = $\\mu2$ = $\\mu3$ = $\\mu4$ = $\\mu5$ = $\\mu6$ = $\\mu7$ = $\\mu8$\n",
    "* $H_A$: At least one $\\mu$ differs \n",
    "\n",
    "Here $\\mu1$, $\\mu2$, $\\mu3$, $\\mu4$, $\\mu5$, $\\mu6$, $\\mu7$, $\\mu8$ are the mean Funds applied to each event."
   ]
  },
  {
   "cell_type": "markdown",
   "metadata": {},
   "source": [
    "### Step 2: Decide the significance level"
   ]
  },
  {
   "cell_type": "markdown",
   "metadata": {},
   "source": [
    "Here we select α = 0.05"
   ]
  },
  {
   "cell_type": "markdown",
   "metadata": {},
   "source": [
    "### Step 4: Calculate p value using ANOVA table"
   ]
  },
  {
   "cell_type": "code",
   "execution_count": 93,
   "metadata": {},
   "outputs": [
    {
     "name": "stdout",
     "output_type": "stream",
     "text": [
      "pvalue 0.13399255206617414\n",
      "Since pvalue is greater than Alpha we accept null hypothesis so all the Funding means are equal\n"
     ]
    }
   ],
   "source": [
    "SF_2013 = np.array(Disrupt2[\"Funding\"][(Disrupt2['Event'] == \"Disrupt SF 2013\")])\n",
    "SF_2014 = np.array(Disrupt2[\"Funding\"][(Disrupt2['Event'] == \"Disrupt SF 2014\")])\n",
    "SF_2015 = np.array(Disrupt2[\"Funding\"][(Disrupt2['Event'] == \"Disrupt SF 2015\")])\n",
    "SF_2016 = np.array(Disrupt2[\"Funding\"][(Disrupt2['Event'] == \"Disrupt SF 2016\")])\n",
    "\n",
    "NY_2015 = np.array(Disrupt2[\"Funding\"][(Disrupt2['Event'] == \"Disrupt NY 2015\")])\n",
    "NY_2016 = np.array(Disrupt2[\"Funding\"][(Disrupt2['Event'] == \"Disrupt NY 2016\")])\n",
    "\n",
    "EU_2013 = np.array(Disrupt2[\"Funding\"][(Disrupt2['Event'] == \"Disrupt EU 2013\")])\n",
    "EU_2014 = np.array(Disrupt2[\"Funding\"][(Disrupt2['Event'] == \"Disrupt EU 2014\")])\n",
    "\n",
    "fvalue, pvalue = stats.f_oneway(SF_2013, SF_2014, SF_2015, SF_2016, NY_2015, NY_2016, EU_2013, EU_2014)\n",
    "print(\"pvalue\", pvalue)\n",
    "print(\"Since pvalue is greater than Alpha we accept null hypothesis so all the Funding means are equal\")"
   ]
  },
  {
   "cell_type": "code",
   "execution_count": 53,
   "metadata": {},
   "outputs": [],
   "source": [
    "funds_df = pd.DataFrame()\n",
    "\n",
    "df1 = pd.DataFrame({'City': 'SF 2013', 'Funding':Disrupt2[\"Funding\"][(Disrupt2['Event'] == \"Disrupt SF 2013\")]})\n",
    "df2 = pd.DataFrame({'City': 'SF 2014', 'Funding':Disrupt2[\"Funding\"][(Disrupt2['Event'] == \"Disrupt SF 2014\")]})\n",
    "df3 = pd.DataFrame({'City': 'SF 2015', 'Funding':Disrupt2[\"Funding\"][(Disrupt2['Event'] == \"Disrupt SF 2015\")]})\n",
    "df4 = pd.DataFrame({'City': 'SF 2016', 'Funding':Disrupt2[\"Funding\"][(Disrupt2['Event'] == \"Disrupt SF 2016\")]})\n",
    "\n",
    "df5 = pd.DataFrame({'City': 'NY 2015', 'Funding':Disrupt2[\"Funding\"][(Disrupt2['Event'] == \"Disrupt NY 2015\")]})\n",
    "df6 = pd.DataFrame({'City': 'NY 2016', 'Funding':Disrupt2[\"Funding\"][(Disrupt2['Event'] == \"Disrupt NY 2016\")]})\n",
    "\n",
    "df7 = pd.DataFrame({'City': 'EU 2013', 'Funding':Disrupt2[\"Funding\"][(Disrupt2['Event'] == \"Disrupt EU 2013\")]})\n",
    "df8 = pd.DataFrame({'City': 'EU 2014', 'Funding':Disrupt2[\"Funding\"][(Disrupt2['Event'] == \"Disrupt EU 2014\")]})\n",
    "\n",
    "funds_df = funds_df.append(df1) \n",
    "funds_df = funds_df.append(df2) \n",
    "funds_df = funds_df.append(df3) \n",
    "funds_df = funds_df.append(df4) \n",
    "funds_df = funds_df.append(df5) \n",
    "funds_df = funds_df.append(df6) \n",
    "funds_df = funds_df.append(df7) \n",
    "funds_df = funds_df.append(df8) \n",
    "\n",
    "funds_df = funds_df.reset_index(drop = True)"
   ]
  },
  {
   "cell_type": "code",
   "execution_count": null,
   "metadata": {},
   "outputs": [],
   "source": []
  },
  {
   "cell_type": "markdown",
   "metadata": {},
   "source": [
    "Write your observations on improvements or suggestions on quality, quantity, variety, velocity, veracity etc. on the data points collected to perform\n",
    "a better data analysis."
   ]
  },
  {
   "cell_type": "code",
   "execution_count": null,
   "metadata": {},
   "outputs": [],
   "source": []
  },
  {
   "cell_type": "code",
   "execution_count": null,
   "metadata": {},
   "outputs": [],
   "source": []
  },
  {
   "cell_type": "code",
   "execution_count": null,
   "metadata": {},
   "outputs": [],
   "source": []
  },
  {
   "cell_type": "code",
   "execution_count": null,
   "metadata": {},
   "outputs": [],
   "source": []
  }
 ],
 "metadata": {
  "kernelspec": {
   "display_name": "Python 3",
   "language": "python",
   "name": "python3"
  },
  "language_info": {
   "codemirror_mode": {
    "name": "ipython",
    "version": 3
   },
   "file_extension": ".py",
   "mimetype": "text/x-python",
   "name": "python",
   "nbconvert_exporter": "python",
   "pygments_lexer": "ipython3",
   "version": "3.7.4"
  }
 },
 "nbformat": 4,
 "nbformat_minor": 2
}
