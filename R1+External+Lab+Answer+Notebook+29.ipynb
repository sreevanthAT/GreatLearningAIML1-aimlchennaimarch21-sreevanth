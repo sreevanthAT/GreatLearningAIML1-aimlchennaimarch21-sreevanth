{
 "cells": [
  {
   "cell_type": "markdown",
   "metadata": {
    "id": "XpiNDuT1aSmE"
   },
   "source": [
    "<img src=\"http://drive.google.com/uc?export=view&id=1tpOCamr9aWz817atPnyXus8w5gJ3mIts\" width=500px>"
   ]
  },
  {
   "cell_type": "markdown",
   "metadata": {
    "id": "_dozxZY_eSiO"
   },
   "source": [
    "# R1 External Lab\n",
    "## Topics:-\n",
    "- Lists, dictionaries, tuple, and sets in Python\n",
    "- Loops & Functions\n",
    "- Numpy and Pandas\n",
    "- Working with dataframes"
   ]
  },
  {
   "cell_type": "markdown",
   "metadata": {
    "id": "RXPuxkqpoStn"
   },
   "source": [
    "## **PART- I Python Basics - 5 points**"
   ]
  },
  {
   "cell_type": "markdown",
   "metadata": {
    "id": "JOjKK13naEWT"
   },
   "source": [
    "### Question 1\n",
    "​\n",
    "Write a program to sum all the items of a list. given list x=[5,3,8,9,14] expected o/p: 39"
   ]
  },
  {
   "cell_type": "code",
   "execution_count": 107,
   "metadata": {
    "id": "30gsSwgDaEWU"
   },
   "outputs": [
    {
     "name": "stdout",
     "output_type": "stream",
     "text": [
      "39\n"
     ]
    }
   ],
   "source": [
    "x = [5,3,8,9,14]\n",
    "y = sum(x)\n",
    "print(y)"
   ]
  },
  {
   "cell_type": "code",
   "execution_count": null,
   "metadata": {
    "id": "Su9PL_tCaEWV"
   },
   "outputs": [],
   "source": []
  },
  {
   "cell_type": "markdown",
   "metadata": {
    "id": "BxSKTlElaEWW"
   },
   "source": [
    "### Question 2\n",
    "Write a program which will take two list X & Y as input and will return true if they have one common element. X=[1,2,3,4,5] Y=[5,6,7,8,9] output: The similar element is 5."
   ]
  },
  {
   "cell_type": "code",
   "execution_count": 108,
   "metadata": {},
   "outputs": [],
   "source": [
    "def common_member(a, b):\n",
    "    a_set = set(a)\n",
    "    b_set = set(b)\n",
    "  \n",
    "    if (a_set & b_set):\n",
    "        print(a_set & b_set)\n",
    "    else:\n",
    "        print(\"No common elements\") "
   ]
  },
  {
   "cell_type": "code",
   "execution_count": 109,
   "metadata": {
    "id": "HaWw7mk-aEWX"
   },
   "outputs": [
    {
     "name": "stdout",
     "output_type": "stream",
     "text": [
      "{5}\n"
     ]
    }
   ],
   "source": [
    "X=[1,2,3,4,5]\n",
    "Y=[5,6,7,8,9]\n",
    "\n",
    "common_member(X,Y)"
   ]
  },
  {
   "cell_type": "markdown",
   "metadata": {
    "id": "M4PZc-XjaEWY"
   },
   "source": [
    "### Question 3\n",
    "\n",
    "- Append the given sequence of numbers to a list l \n",
    "- Count the occurances of an element in a given list\n",
    "\n",
    "l = [1,2,3,4,5,6,7,8]\n",
    "\n",
    "0,1,3,3,5,5,7,9\n",
    "\n",
    "Count the occurences of 5 in l."
   ]
  },
  {
   "cell_type": "code",
   "execution_count": 110,
   "metadata": {
    "id": "Np1yLppKaEWY"
   },
   "outputs": [
    {
     "name": "stdout",
     "output_type": "stream",
     "text": [
      "3\n"
     ]
    }
   ],
   "source": [
    "l = [1,2,3,4,5,6,7,8]\n",
    "l.extend([0,1,3,3,5,5,7,9])\n",
    "print(l.count(5))"
   ]
  },
  {
   "cell_type": "markdown",
   "metadata": {
    "id": "S0iHLLZFaEWZ"
   },
   "source": [
    "### Question 4\n",
    "Write a program to generate all the permutations of a list without using loops. input: x=[2,5,8] Hint: Use itertools library. output: [(2, 5, 8), (2, 8, 5), (5, 2, 8), (5, 8, 2), (8, 2, 5), (8, 5, 2)]"
   ]
  },
  {
   "cell_type": "code",
   "execution_count": 111,
   "metadata": {
    "id": "i2KotT56aEWa"
   },
   "outputs": [
    {
     "name": "stdout",
     "output_type": "stream",
     "text": [
      "[(2, 5, 8), (2, 8, 5), (5, 2, 8), (5, 8, 2), (8, 2, 5), (8, 5, 2)]\n",
      "\n"
     ]
    }
   ],
   "source": [
    "from itertools import permutations \n",
    "\n",
    "print (list(permutations([2,5,8])))  \n",
    "print() "
   ]
  },
  {
   "cell_type": "markdown",
   "metadata": {
    "id": "M17tGdEEaEWb"
   },
   "source": [
    "<h2>Dictionary </h2>"
   ]
  },
  {
   "cell_type": "markdown",
   "metadata": {
    "id": "e7EN__zRaEWb"
   },
   "source": [
    "### Question 5\n",
    "Write a program to fetch 'loss' from the below dictionary.\n",
    "\n",
    "d={'fruits':{'apple':100,'orange':{'good':1,'bad':{'buy':['loss','profit']}}}}"
   ]
  },
  {
   "cell_type": "code",
   "execution_count": 112,
   "metadata": {
    "id": "T9n-qrsMaEWc"
   },
   "outputs": [
    {
     "name": "stdout",
     "output_type": "stream",
     "text": [
      "loss\n"
     ]
    }
   ],
   "source": [
    "d={'fruits':{'apple':100,'orange':{'good':1,'bad':{'buy':['loss','profit']}}}}\n",
    "print(d[\"fruits\"][\"orange\"][\"bad\"][\"buy\"][0])"
   ]
  },
  {
   "cell_type": "markdown",
   "metadata": {
    "id": "mFlSkvLOaEWd"
   },
   "source": [
    "### Question 6\n",
    "Given a list of dictionary,\n",
    "list_dict=[{'apple':1},{'orange':2},{'pineapple':1},{'guava':3},{'strawberry':5}]\n",
    "Write a program to print all the unique values in the dictionary."
   ]
  },
  {
   "cell_type": "code",
   "execution_count": 120,
   "metadata": {
    "id": "e4vc0oJIaEWe"
   },
   "outputs": [
    {
     "name": "stdout",
     "output_type": "stream",
     "text": [
      "Unique Values:  {1, 2, 3, 5}\n"
     ]
    }
   ],
   "source": [
    "list_dict=[{'apple':1},{'orange':2},{'pineapple':1},{'guava':3},{'strawberry':5}] \n",
    "unique_value = set( val for dic in list_dict for val in dic.values())\n",
    "print(\"Unique Values: \",unique_value)"
   ]
  },
  {
   "cell_type": "markdown",
   "metadata": {
    "id": "0qX22xQIaEWe"
   },
   "source": [
    "<h2>Sets </h2>"
   ]
  },
  {
   "cell_type": "markdown",
   "metadata": {
    "id": "BbTtQn_maEWf"
   },
   "source": [
    "### Question 7\n",
    "Given two sets s1={5,8,3,6} s2={1,5.7,8.9} write a program to check whther the given two sets have any common element in them. Return True if there is no common element."
   ]
  },
  {
   "cell_type": "code",
   "execution_count": 121,
   "metadata": {
    "id": "sjzmMCzXaEWg"
   },
   "outputs": [
    {
     "data": {
      "text/plain": [
       "'True'"
      ]
     },
     "execution_count": 121,
     "metadata": {},
     "output_type": "execute_result"
    }
   ],
   "source": [
    "s1={5,8,3,6} \n",
    "s2={1,5.7,8.9}\n",
    "\n",
    "def commonelem_set(z, x):\n",
    "   \n",
    "    if (z & x):\n",
    "        return (\"There are common elements in both sets:\", z & x)\n",
    "    else:\n",
    "        return (\"True\")\n",
    "    \n",
    "commonelem_set(s1, s2)"
   ]
  },
  {
   "cell_type": "markdown",
   "metadata": {
    "id": "dRAR2TuWaEWg"
   },
   "source": [
    "<h1>Functions </h2>"
   ]
  },
  {
   "cell_type": "markdown",
   "metadata": {
    "id": "EUZ2bw1XaEWh"
   },
   "source": [
    "### Question 8\n",
    "Write a function to check whether a number is a perfect number. a perfect number is defined as the positive number in which sum of all positive divisors excluding the number itself is equal to that number.\n",
    "\n",
    "ex: 6 the divisor of 6 is 1,2,3 and 1+2+3=6 28 the divisors of 28 is 1,2,4,7,14 and 1+2+4+7+14=28"
   ]
  },
  {
   "cell_type": "code",
   "execution_count": 124,
   "metadata": {
    "id": "Q8QGSO1waEWi"
   },
   "outputs": [
    {
     "name": "stdout",
     "output_type": "stream",
     "text": [
      "Enter any number: 8128\n",
      "The number is a Perfect number!\n"
     ]
    }
   ],
   "source": [
    "n = int(input(\"Enter any number: \"))\n",
    "sum1 = 0\n",
    "for i in range(1, n):\n",
    "    if(n % i == 0):\n",
    "        sum1 = sum1 + i\n",
    "if (sum1 == n):\n",
    "    print(\"The number is a Perfect number!\")\n",
    "else:\n",
    "    print(\"The number is not a Perfect number!\")"
   ]
  },
  {
   "cell_type": "markdown",
   "metadata": {
    "id": "XOnEbuOXaEWi"
   },
   "source": [
    "### Question 9 (Optional)\n",
    "Write a program which will take two ranges rg1(i.e.2) and rg2(i.e.50) and it will return list of twin primes [(3, 5), (7, 41), (11, 43), (13, 17), (19, 29), (31,)].\n",
    "\n",
    "NOTE: ORDER SHOULD NOT MATTER."
   ]
  },
  {
   "cell_type": "code",
   "execution_count": 188,
   "metadata": {
    "id": "-2b_gB4taEWj"
   },
   "outputs": [],
   "source": [
    "x = []\n",
    "def is_prime(n):\n",
    "    for i in range(2, n):\n",
    "       \n",
    "        if n % i == 0:\n",
    "            return False\n",
    "    return True\n",
    "\n",
    "def generate_twins(start, end):\n",
    "    for i in range(start, end):\n",
    "        j = i+2\n",
    "        if(is_prime(i) and is_prime(j)):\n",
    "            x.append((i,j))\n",
    "    print(x)"
   ]
  },
  {
   "cell_type": "code",
   "execution_count": 189,
   "metadata": {},
   "outputs": [
    {
     "name": "stdout",
     "output_type": "stream",
     "text": [
      "[(3, 5), (5, 7), (11, 13), (17, 19), (29, 31), (41, 43)]\n"
     ]
    }
   ],
   "source": [
    "generate_twins(2, 50)"
   ]
  },
  {
   "cell_type": "markdown",
   "metadata": {
    "id": "d7eTOFQxaEWk"
   },
   "source": [
    "<h1>Lambda Functions </h1>"
   ]
  },
  {
   "cell_type": "markdown",
   "metadata": {
    "id": "qqhTJ3OLaEWk"
   },
   "source": [
    "Anonymous functions or no name functions, which can be considered when you use a function only once.\n",
    "\n",
    "Example:\n",
    "\n",
    "f = lambda x, y : x + y\n",
    "\n",
    "f(1,1)\n",
    "\n",
    "2"
   ]
  },
  {
   "cell_type": "markdown",
   "metadata": {
    "id": "91B-s2WMaEWl"
   },
   "source": [
    "### Question 10\n",
    " write a lambda function to filter all the odd numbers from a list.\n",
    " \n",
    " n_list=[101,100,103,96,94,89,72,110,99,88,76]"
   ]
  },
  {
   "cell_type": "code",
   "execution_count": 190,
   "metadata": {
    "id": "e4GgPYeOaEWn"
   },
   "outputs": [
    {
     "name": "stdout",
     "output_type": "stream",
     "text": [
      "[101, 103, 89, 99]\n"
     ]
    }
   ],
   "source": [
    "n_list=[101,100,103,96,94,89,72,110,99,88,76]\n",
    "odd_nums = list(filter(lambda x: x%2 != 0, n_list))\n",
    "print(odd_nums)"
   ]
  },
  {
   "cell_type": "markdown",
   "metadata": {
    "id": "TcGQBiIBoGj_"
   },
   "source": [
    "## **PART- II Numpy & Pandas - 5 points**"
   ]
  },
  {
   "cell_type": "markdown",
   "metadata": {
    "id": "LLl2CcyOaEWo"
   },
   "source": [
    "<h2>Numpy </h2>"
   ]
  },
  {
   "cell_type": "markdown",
   "metadata": {
    "id": "zvNnGNXKaEWo"
   },
   "source": [
    "We have seen python basic data structures in our last section. They are great but lack specialized features for data analysis. Like, adding roows, columns, operating on 2d matrices aren't readily available. So, we will use numpy for such functions.\n",
    "\n",
    "\n",
    "Numpy operates on nd arrays. These are similar to lists but contains homogenous elements but easier to store 2-d data."
   ]
  },
  {
   "cell_type": "code",
   "execution_count": 191,
   "metadata": {
    "id": "0JeuWlghaEWp",
    "outputId": "b9e72fdb-a251-4511-f7df-cac86b7d89e5"
   },
   "outputs": [
    {
     "name": "stdout",
     "output_type": "stream",
     "text": [
      "[1 2 3 4]\n",
      "[[1 2 3 4]\n",
      " [5 6 7 8]]\n"
     ]
    }
   ],
   "source": [
    "import numpy as np\n",
    "\n",
    "l1 = [1,2,3,4]\n",
    "nd1 = np.array(l1)\n",
    "print(nd1)\n",
    "\n",
    "l2 = [5,6,7,8]\n",
    "nd2 = np.array([l1,l2])\n",
    "print(nd2)"
   ]
  },
  {
   "cell_type": "code",
   "execution_count": 192,
   "metadata": {
    "id": "b4NdHRhiaEWr",
    "outputId": "9af49c39-6fdb-4036-98a1-227a84391c47"
   },
   "outputs": [
    {
     "name": "stdout",
     "output_type": "stream",
     "text": [
      "(2, 4)\n",
      "8\n",
      "int32\n"
     ]
    }
   ],
   "source": [
    "print(nd2.shape)\n",
    "\n",
    "print(nd2.size)\n",
    "\n",
    "print(nd2.dtype)"
   ]
  },
  {
   "cell_type": "markdown",
   "metadata": {
    "id": "aaGM7Wi1aEWu"
   },
   "source": [
    "### Question 1\n",
    "Generate an array of 2*10 which contains element from 0 to 20. calculate the 50th percentile of all the element of the array along the second axis.  \n",
    "\n",
    "Hint: Use  np.percentile()"
   ]
  },
  {
   "cell_type": "code",
   "execution_count": 193,
   "metadata": {
    "id": "kWhgemaqaEWu"
   },
   "outputs": [
    {
     "name": "stdout",
     "output_type": "stream",
     "text": [
      "[[ 0  1  2  3  4  5  6  7  8  9]\n",
      " [10 11 12 13 14 15 16 17 18 19]]\n",
      "[ 4.5 14.5]\n",
      "[ 5.  6.  7.  8.  9. 10. 11. 12. 13. 14.]\n"
     ]
    }
   ],
   "source": [
    "x = np.arange(20)\n",
    "y = x.reshape(2,10)\n",
    "print(y)\n",
    "print(np.percentile(y,50, axis = 1))\n",
    "print(np.percentile(y,50, axis = 0))"
   ]
  },
  {
   "cell_type": "markdown",
   "metadata": {
    "id": "rWBfbssiaEWv"
   },
   "source": [
    "### Question 2\n",
    "\n",
    "We are provided with two list l1=[5,7,8] ,l2=[8,7,5]\n",
    "convert them into numpy array and calculate the covvariance matrix of the array."
   ]
  },
  {
   "cell_type": "code",
   "execution_count": 194,
   "metadata": {
    "id": "foDfr4OjaEWy"
   },
   "outputs": [
    {
     "data": {
      "text/plain": [
       "array([[ 2.33333333, -2.16666667],\n",
       "       [-2.16666667,  2.33333333]])"
      ]
     },
     "execution_count": 194,
     "metadata": {},
     "output_type": "execute_result"
    }
   ],
   "source": [
    "l1=[5,7,8]\n",
    "l2=[8,7,5]\n",
    "\n",
    "l1 = np.array(l1)\n",
    "l2 = np.array(l2)\n",
    "\n",
    "np.cov(l1,l2)"
   ]
  },
  {
   "cell_type": "markdown",
   "metadata": {
    "id": "Wo6z3yhtaEWz"
   },
   "source": [
    "<h2>Pandas </h2>"
   ]
  },
  {
   "cell_type": "markdown",
   "metadata": {
    "id": "N1FjYJWiaEWz"
   },
   "source": [
    "- We have seen Numpy in the last section. It is good at performing math operation on 2d-arrays of numbers. But the major drawback is, it cannot deal with heterogenous values. So, Pandas dataframes are helpful in that aspect for storing different data types and referring the values like a dict in python instead of just referring each item with index."
   ]
  },
  {
   "cell_type": "markdown",
   "metadata": {
    "id": "lbXyz4XRaEW4"
   },
   "source": [
    "## Using Dataframe on a dataset"
   ]
  },
  {
   "cell_type": "markdown",
   "metadata": {
    "id": "agm2wYqUaEW5"
   },
   "source": [
    "For the below set of questions, we will be using the famous titanic disaster dataset.\n",
    "The dataset contains,\n",
    "- survived    whether the passenger has survived or not 0 = No, 1 = Yes\n",
    "- pclass      Class of the passenger\n",
    "- sex         Gender of the passenger\n",
    "- age         Age of the passenger\n",
    "- sibsp       # of siblings / spouses aboard the Titanic\n",
    "- parch       # of parents / children aboard the Titanic\n",
    "- fare        Passenger fare\n",
    "- embarked    Port of Embarkation like: C = Cherbourg, Q = Queenstown, S =        Southampton\n",
    "- deck        Deck data"
   ]
  },
  {
   "cell_type": "code",
   "execution_count": 195,
   "metadata": {
    "id": "izg9FXGbaEW5"
   },
   "outputs": [],
   "source": [
    "import pandas as pd\n",
    "import os\n",
    "os.chdir(r\"D:\\D\\AI\\Great learning 2021\\Lab external resiedency 1\")\n",
    "df=pd.read_csv('titanic.csv')\n",
    "df1 = pd.read_csv('mtcars.csv')"
   ]
  },
  {
   "cell_type": "code",
   "execution_count": null,
   "metadata": {},
   "outputs": [],
   "source": []
  },
  {
   "cell_type": "markdown",
   "metadata": {
    "id": "Ch1uAbcLaEW6"
   },
   "source": [
    "### Question 3\n",
    "Check the first 5 lines and last 5 lines of the given dataset- mtcars.\n",
    "\n",
    "Hint: use .head() and .tail()\n"
   ]
  },
  {
   "cell_type": "code",
   "execution_count": 196,
   "metadata": {
    "id": "1lq0rGG-aEW6"
   },
   "outputs": [
    {
     "name": "stdout",
     "output_type": "stream",
     "text": [
      "                name   mpg  cyl   disp   hp  drat     wt   qsec  vs  am  gear  \\\n",
      "0          Mazda RX4  21.0    6  160.0  110  3.90  2.620  16.46   0   1     4   \n",
      "1      Mazda RX4 Wag  21.0    6  160.0  110  3.90  2.875  17.02   0   1     4   \n",
      "2         Datsun 710  22.8    4  108.0   93  3.85  2.320  18.61   1   1     4   \n",
      "3     Hornet 4 Drive  21.4    6  258.0  110  3.08  3.215  19.44   1   0     3   \n",
      "4  Hornet Sportabout  18.7    8  360.0  175  3.15  3.440  17.02   0   0     3   \n",
      "\n",
      "   carb  \n",
      "0     4  \n",
      "1     4  \n",
      "2     1  \n",
      "3     1  \n",
      "4     2  \n",
      "\n",
      "\n",
      "\n",
      "\n",
      "\n",
      "              name   mpg  cyl   disp   hp  drat     wt  qsec  vs  am  gear  \\\n",
      "27    Lotus Europa  30.4    4   95.1  113  3.77  1.513  16.9   1   1     5   \n",
      "28  Ford Pantera L  15.8    8  351.0  264  4.22  3.170  14.5   0   1     5   \n",
      "29    Ferrari Dino  19.7    6  145.0  175  3.62  2.770  15.5   0   1     5   \n",
      "30   Maserati Bora  15.0    8  301.0  335  3.54  3.570  14.6   0   1     5   \n",
      "31      Volvo 142E  21.4    4  121.0  109  4.11  2.780  18.6   1   1     4   \n",
      "\n",
      "    carb  \n",
      "27     2  \n",
      "28     4  \n",
      "29     6  \n",
      "30     8  \n",
      "31     2  \n"
     ]
    }
   ],
   "source": [
    "print(df1.head(5))\n",
    "print(\"\\n\\n\\n\\n\")\n",
    "print(df1.tail(5))"
   ]
  },
  {
   "cell_type": "code",
   "execution_count": 197,
   "metadata": {},
   "outputs": [
    {
     "name": "stdout",
     "output_type": "stream",
     "text": [
      "   survived  pclass     sex   age  sibsp  parch     fare embarked deck\n",
      "0         0       3    male  22.0      1      0   7.2500        S  NaN\n",
      "1         1       1  female  38.0      1      0  71.2833        C    C\n",
      "2         1       3  female  26.0      0      0   7.9250        S  NaN\n",
      "3         1       1  female  35.0      1      0  53.1000        S    C\n",
      "4         0       3    male  35.0      0      0   8.0500        S  NaN\n",
      "\n",
      "\n",
      "\n",
      "\n",
      "\n",
      "     survived  pclass     sex   age  sibsp  parch   fare embarked deck\n",
      "886         0       2    male  27.0      0      0  13.00        S  NaN\n",
      "887         1       1  female  19.0      0      0  30.00        S    B\n",
      "888         0       3  female   NaN      1      2  23.45        S  NaN\n",
      "889         1       1    male  26.0      0      0  30.00        C    C\n",
      "890         0       3    male  32.0      0      0   7.75        Q  NaN\n"
     ]
    }
   ],
   "source": [
    "print(df.head(5))\n",
    "print(\"\\n\\n\\n\\n\")\n",
    "print(df.tail(5))"
   ]
  },
  {
   "cell_type": "markdown",
   "metadata": {
    "id": "ZhUj3J3taEW7"
   },
   "source": [
    "### Question 4\n",
    "- Check the basic statistics of the columns\n",
    "- Check missing values"
   ]
  },
  {
   "cell_type": "code",
   "execution_count": 198,
   "metadata": {
    "id": "qoOXd6RlaEW7"
   },
   "outputs": [
    {
     "data": {
      "text/html": [
       "<div>\n",
       "<style scoped>\n",
       "    .dataframe tbody tr th:only-of-type {\n",
       "        vertical-align: middle;\n",
       "    }\n",
       "\n",
       "    .dataframe tbody tr th {\n",
       "        vertical-align: top;\n",
       "    }\n",
       "\n",
       "    .dataframe thead th {\n",
       "        text-align: right;\n",
       "    }\n",
       "</style>\n",
       "<table border=\"1\" class=\"dataframe\">\n",
       "  <thead>\n",
       "    <tr style=\"text-align: right;\">\n",
       "      <th></th>\n",
       "      <th>survived</th>\n",
       "      <th>pclass</th>\n",
       "      <th>sex</th>\n",
       "      <th>age</th>\n",
       "      <th>sibsp</th>\n",
       "      <th>parch</th>\n",
       "      <th>fare</th>\n",
       "      <th>embarked</th>\n",
       "      <th>deck</th>\n",
       "    </tr>\n",
       "  </thead>\n",
       "  <tbody>\n",
       "    <tr>\n",
       "      <td>count</td>\n",
       "      <td>891.000000</td>\n",
       "      <td>891.000000</td>\n",
       "      <td>891</td>\n",
       "      <td>714.000000</td>\n",
       "      <td>891.000000</td>\n",
       "      <td>891.000000</td>\n",
       "      <td>891.000000</td>\n",
       "      <td>889</td>\n",
       "      <td>203</td>\n",
       "    </tr>\n",
       "    <tr>\n",
       "      <td>unique</td>\n",
       "      <td>NaN</td>\n",
       "      <td>NaN</td>\n",
       "      <td>2</td>\n",
       "      <td>NaN</td>\n",
       "      <td>NaN</td>\n",
       "      <td>NaN</td>\n",
       "      <td>NaN</td>\n",
       "      <td>3</td>\n",
       "      <td>7</td>\n",
       "    </tr>\n",
       "    <tr>\n",
       "      <td>top</td>\n",
       "      <td>NaN</td>\n",
       "      <td>NaN</td>\n",
       "      <td>male</td>\n",
       "      <td>NaN</td>\n",
       "      <td>NaN</td>\n",
       "      <td>NaN</td>\n",
       "      <td>NaN</td>\n",
       "      <td>S</td>\n",
       "      <td>C</td>\n",
       "    </tr>\n",
       "    <tr>\n",
       "      <td>freq</td>\n",
       "      <td>NaN</td>\n",
       "      <td>NaN</td>\n",
       "      <td>577</td>\n",
       "      <td>NaN</td>\n",
       "      <td>NaN</td>\n",
       "      <td>NaN</td>\n",
       "      <td>NaN</td>\n",
       "      <td>644</td>\n",
       "      <td>59</td>\n",
       "    </tr>\n",
       "    <tr>\n",
       "      <td>mean</td>\n",
       "      <td>0.383838</td>\n",
       "      <td>2.308642</td>\n",
       "      <td>NaN</td>\n",
       "      <td>29.699118</td>\n",
       "      <td>0.523008</td>\n",
       "      <td>0.381594</td>\n",
       "      <td>32.204208</td>\n",
       "      <td>NaN</td>\n",
       "      <td>NaN</td>\n",
       "    </tr>\n",
       "    <tr>\n",
       "      <td>std</td>\n",
       "      <td>0.486592</td>\n",
       "      <td>0.836071</td>\n",
       "      <td>NaN</td>\n",
       "      <td>14.526497</td>\n",
       "      <td>1.102743</td>\n",
       "      <td>0.806057</td>\n",
       "      <td>49.693429</td>\n",
       "      <td>NaN</td>\n",
       "      <td>NaN</td>\n",
       "    </tr>\n",
       "    <tr>\n",
       "      <td>min</td>\n",
       "      <td>0.000000</td>\n",
       "      <td>1.000000</td>\n",
       "      <td>NaN</td>\n",
       "      <td>0.420000</td>\n",
       "      <td>0.000000</td>\n",
       "      <td>0.000000</td>\n",
       "      <td>0.000000</td>\n",
       "      <td>NaN</td>\n",
       "      <td>NaN</td>\n",
       "    </tr>\n",
       "    <tr>\n",
       "      <td>25%</td>\n",
       "      <td>0.000000</td>\n",
       "      <td>2.000000</td>\n",
       "      <td>NaN</td>\n",
       "      <td>20.125000</td>\n",
       "      <td>0.000000</td>\n",
       "      <td>0.000000</td>\n",
       "      <td>7.910400</td>\n",
       "      <td>NaN</td>\n",
       "      <td>NaN</td>\n",
       "    </tr>\n",
       "    <tr>\n",
       "      <td>50%</td>\n",
       "      <td>0.000000</td>\n",
       "      <td>3.000000</td>\n",
       "      <td>NaN</td>\n",
       "      <td>28.000000</td>\n",
       "      <td>0.000000</td>\n",
       "      <td>0.000000</td>\n",
       "      <td>14.454200</td>\n",
       "      <td>NaN</td>\n",
       "      <td>NaN</td>\n",
       "    </tr>\n",
       "    <tr>\n",
       "      <td>75%</td>\n",
       "      <td>1.000000</td>\n",
       "      <td>3.000000</td>\n",
       "      <td>NaN</td>\n",
       "      <td>38.000000</td>\n",
       "      <td>1.000000</td>\n",
       "      <td>0.000000</td>\n",
       "      <td>31.000000</td>\n",
       "      <td>NaN</td>\n",
       "      <td>NaN</td>\n",
       "    </tr>\n",
       "    <tr>\n",
       "      <td>max</td>\n",
       "      <td>1.000000</td>\n",
       "      <td>3.000000</td>\n",
       "      <td>NaN</td>\n",
       "      <td>80.000000</td>\n",
       "      <td>8.000000</td>\n",
       "      <td>6.000000</td>\n",
       "      <td>512.329200</td>\n",
       "      <td>NaN</td>\n",
       "      <td>NaN</td>\n",
       "    </tr>\n",
       "  </tbody>\n",
       "</table>\n",
       "</div>"
      ],
      "text/plain": [
       "          survived      pclass   sex         age       sibsp       parch  \\\n",
       "count   891.000000  891.000000   891  714.000000  891.000000  891.000000   \n",
       "unique         NaN         NaN     2         NaN         NaN         NaN   \n",
       "top            NaN         NaN  male         NaN         NaN         NaN   \n",
       "freq           NaN         NaN   577         NaN         NaN         NaN   \n",
       "mean      0.383838    2.308642   NaN   29.699118    0.523008    0.381594   \n",
       "std       0.486592    0.836071   NaN   14.526497    1.102743    0.806057   \n",
       "min       0.000000    1.000000   NaN    0.420000    0.000000    0.000000   \n",
       "25%       0.000000    2.000000   NaN   20.125000    0.000000    0.000000   \n",
       "50%       0.000000    3.000000   NaN   28.000000    0.000000    0.000000   \n",
       "75%       1.000000    3.000000   NaN   38.000000    1.000000    0.000000   \n",
       "max       1.000000    3.000000   NaN   80.000000    8.000000    6.000000   \n",
       "\n",
       "              fare embarked deck  \n",
       "count   891.000000      889  203  \n",
       "unique         NaN        3    7  \n",
       "top            NaN        S    C  \n",
       "freq           NaN      644   59  \n",
       "mean     32.204208      NaN  NaN  \n",
       "std      49.693429      NaN  NaN  \n",
       "min       0.000000      NaN  NaN  \n",
       "25%       7.910400      NaN  NaN  \n",
       "50%      14.454200      NaN  NaN  \n",
       "75%      31.000000      NaN  NaN  \n",
       "max     512.329200      NaN  NaN  "
      ]
     },
     "execution_count": 198,
     "metadata": {},
     "output_type": "execute_result"
    }
   ],
   "source": [
    "df.describe(include = \"all\")"
   ]
  },
  {
   "cell_type": "code",
   "execution_count": 207,
   "metadata": {},
   "outputs": [
    {
     "name": "stdout",
     "output_type": "stream",
     "text": [
      "The sum of missing values for each column are \n",
      " survived      0\n",
      "pclass        0\n",
      "sex           0\n",
      "age         177\n",
      "sibsp         0\n",
      "parch         0\n",
      "fare          0\n",
      "embarked      2\n",
      "deck        688\n",
      "dtype: int64\n",
      "\n",
      "\n",
      "\n",
      "\n",
      "<class 'pandas.core.frame.DataFrame'>\n",
      "RangeIndex: 891 entries, 0 to 890\n",
      "Data columns (total 9 columns):\n",
      "survived    891 non-null int64\n",
      "pclass      891 non-null int64\n",
      "sex         891 non-null object\n",
      "age         714 non-null float64\n",
      "sibsp       891 non-null int64\n",
      "parch       891 non-null int64\n",
      "fare        891 non-null float64\n",
      "embarked    889 non-null object\n",
      "deck        203 non-null object\n",
      "dtypes: float64(2), int64(4), object(3)\n",
      "memory usage: 62.8+ KB\n",
      "None\n"
     ]
    }
   ],
   "source": [
    "print(\"The sum of missing values for each column are\",\"\\n\",df.isnull().sum())\n",
    "print(\"\\n\\n\\n\")\n",
    "print(df.info())"
   ]
  },
  {
   "cell_type": "markdown",
   "metadata": {
    "id": "9tcoYcXSaEW7"
   },
   "source": [
    "### Question 5\n",
    "How many males passsenger died in titanic?"
   ]
  },
  {
   "cell_type": "code",
   "execution_count": 208,
   "metadata": {
    "id": "RdKAPd_waEW8"
   },
   "outputs": [
    {
     "name": "stdout",
     "output_type": "stream",
     "text": [
      "Males passsenger died in titanic are around 468\n"
     ]
    }
   ],
   "source": [
    "x = df[(df.sex == \"male\") & (df.survived == 0)].count()\n",
    "print(\"Males passsenger died in titanic are around\", x[\"sex\"])"
   ]
  },
  {
   "cell_type": "markdown",
   "metadata": {
    "id": "k22tKcNNaEW8"
   },
   "source": [
    "### Question 6\n",
    "Grab all the rows where the age is less than 1  and replace them with 1"
   ]
  },
  {
   "cell_type": "code",
   "execution_count": 209,
   "metadata": {
    "id": "sBVl45IraEW9"
   },
   "outputs": [],
   "source": [
    "y = df[df.age < 1].index\n",
    "df.loc[y,'age'] = 1"
   ]
  },
  {
   "cell_type": "markdown",
   "metadata": {
    "id": "3kSNDzDxaEW9"
   },
   "source": [
    "### Question 7\n",
    "Make a sub dataframe which consists of only sex and age column. Print the mean age of male and female using groupby function."
   ]
  },
  {
   "cell_type": "code",
   "execution_count": 211,
   "metadata": {
    "id": "U6LhIoO3aEW9"
   },
   "outputs": [
    {
     "name": "stdout",
     "output_type": "stream",
     "text": [
      "              age\n",
      "sex              \n",
      "female  27.917625\n",
      "male    30.729581\n"
     ]
    }
   ],
   "source": [
    "df7 =  df[['sex', 'age']].copy()\n",
    "print(df7.groupby(\"sex\").agg(\"mean\"))"
   ]
  },
  {
   "cell_type": "markdown",
   "metadata": {
    "id": "L-8nWWzuaEW9"
   },
   "source": [
    "### Question 8\n",
    "print the maximum value of age and fare for male and female separately using groupby.\n",
    "Outcome should have max age of female, max age of male, max fare of feamle, and max fare of male."
   ]
  },
  {
   "cell_type": "code",
   "execution_count": 212,
   "metadata": {
    "id": "SgN0rqC5aEW9"
   },
   "outputs": [
    {
     "data": {
      "text/html": [
       "<div>\n",
       "<style scoped>\n",
       "    .dataframe tbody tr th:only-of-type {\n",
       "        vertical-align: middle;\n",
       "    }\n",
       "\n",
       "    .dataframe tbody tr th {\n",
       "        vertical-align: top;\n",
       "    }\n",
       "\n",
       "    .dataframe thead tr th {\n",
       "        text-align: left;\n",
       "    }\n",
       "\n",
       "    .dataframe thead tr:last-of-type th {\n",
       "        text-align: right;\n",
       "    }\n",
       "</style>\n",
       "<table border=\"1\" class=\"dataframe\">\n",
       "  <thead>\n",
       "    <tr>\n",
       "      <th></th>\n",
       "      <th>age</th>\n",
       "      <th>fare</th>\n",
       "    </tr>\n",
       "    <tr>\n",
       "      <th></th>\n",
       "      <th>max</th>\n",
       "      <th>max</th>\n",
       "    </tr>\n",
       "    <tr>\n",
       "      <th>sex</th>\n",
       "      <th></th>\n",
       "      <th></th>\n",
       "    </tr>\n",
       "  </thead>\n",
       "  <tbody>\n",
       "    <tr>\n",
       "      <td>female</td>\n",
       "      <td>63.0</td>\n",
       "      <td>512.3292</td>\n",
       "    </tr>\n",
       "    <tr>\n",
       "      <td>male</td>\n",
       "      <td>80.0</td>\n",
       "      <td>512.3292</td>\n",
       "    </tr>\n",
       "  </tbody>\n",
       "</table>\n",
       "</div>"
      ],
      "text/plain": [
       "         age      fare\n",
       "         max       max\n",
       "sex                   \n",
       "female  63.0  512.3292\n",
       "male    80.0  512.3292"
      ]
     },
     "execution_count": 212,
     "metadata": {},
     "output_type": "execute_result"
    }
   ],
   "source": [
    "df.groupby(\"sex\")[\"age\",\"fare\"].agg([\"max\"])"
   ]
  },
  {
   "cell_type": "markdown",
   "metadata": {
    "id": "mHc3Dj8ZaEW-"
   },
   "source": [
    "### Question 9\n",
    "Plot a countplot of the survived column and write tell the interpretations."
   ]
  },
  {
   "cell_type": "code",
   "execution_count": 213,
   "metadata": {
    "id": "usa8NSMyaEW-"
   },
   "outputs": [],
   "source": [
    "import matplotlib.pyplot as plt\n",
    "import seaborn as sns"
   ]
  },
  {
   "cell_type": "code",
   "execution_count": 214,
   "metadata": {
    "id": "vIZKnIMxaEW-"
   },
   "outputs": [
    {
     "data": {
      "text/plain": [
       "<matplotlib.axes._subplots.AxesSubplot at 0x19d36937b88>"
      ]
     },
     "execution_count": 214,
     "metadata": {},
     "output_type": "execute_result"
    },
    {
     "data": {
      "image/png": "[encoded data removed]",
      "text/plain": [
       "<Figure size 432x288 with 1 Axes>"
      ]
     },
     "metadata": {
      "needs_background": "light"
     },
     "output_type": "display_data"
    }
   ],
   "source": [
    "sns.countplot(x = \"survived\", data = df)\n",
    "# It is seen that more than 500 passengers has died and around 330 to 340 passengers has survived."
   ]
  },
  {
   "cell_type": "markdown",
   "metadata": {
    "id": "zop_zhuUaEW_"
   },
   "source": [
    "### Question 10\n",
    "What is the approximate count of female in 3rd and 1st class."
   ]
  },
  {
   "cell_type": "code",
   "execution_count": 216,
   "metadata": {
    "id": "ojQsI6x6aEW_"
   },
   "outputs": [
    {
     "name": "stdout",
     "output_type": "stream",
     "text": [
      "pclass\n",
      "1     94\n",
      "3    144\n",
      "Name: female, dtype: int64\n"
     ]
    }
   ],
   "source": [
    "df10 = df[df.pclass != 2]\n",
    "df11 = pd.crosstab(df10['pclass'],df10['sex'])\n",
    "print(df11[\"female\"])\n"
   ]
  },
  {
   "cell_type": "code",
   "execution_count": null,
   "metadata": {},
   "outputs": [],
   "source": []
  }
 ],
 "metadata": {
  "colab": {
   "collapsed_sections": [],
   "name": "R1 External Lab Question Notebook.ipynb",
   "provenance": []
  },
  "kernelspec": {
   "display_name": "Python 3",
   "language": "python",
   "name": "python3"
  },
  "language_info": {
   "codemirror_mode": {
    "name": "ipython",
    "version": 3
   },
   "file_extension": ".py",
   "mimetype": "text/x-python",
   "name": "python",
   "nbconvert_exporter": "python",
   "pygments_lexer": "ipython3",
   "version": "3.7.4"
  }
 },
 "nbformat": 4,
 "nbformat_minor": 1
}
